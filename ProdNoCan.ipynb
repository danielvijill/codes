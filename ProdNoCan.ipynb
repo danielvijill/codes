{
 "cells": [
  {
   "cell_type": "markdown",
   "id": "clear-pressing",
   "metadata": {},
   "source": [
    "## Producto Interno No-Canonico"
   ]
  },
  {
   "cell_type": "code",
   "execution_count": 1,
   "id": "chief-health",
   "metadata": {},
   "outputs": [],
   "source": [
    "import sympy as sp\n",
    "from sympy import *\n",
    "init_printing(use_latex=True)"
   ]
  },
  {
   "cell_type": "code",
   "execution_count": 12,
   "id": "shaped-cooling",
   "metadata": {},
   "outputs": [],
   "source": [
    "x1, x2, y1, y2 = sp.symbols('x1, x2, y1, y2')\n",
    "a, b, c, d = sp.symbols('a, b, c, d')\n",
    "def Prod(x1, x2, y1, y2, a, b, c, d):\n",
    "    a*x1*y1 + b*x1*y2 + c*x2*y1 + d*x2*y2\n",
    "    return"
   ]
  },
  {
   "cell_type": "code",
   "execution_count": 10,
   "id": "saving-piece",
   "metadata": {},
   "outputs": [
    {
     "data": {
      "image/png": "[encoded data removed]",
      "text/latex": [
       "$\\displaystyle 60$"
      ],
      "text/plain": [
       "60"
      ]
     },
     "metadata": {},
     "output_type": "display_data"
    }
   ],
   "source": [
    "display(Prod(2,2,3,3,1,2,3,4))"
   ]
  },
  {
   "cell_type": "code",
   "execution_count": 13,
   "id": "significant-marriage",
   "metadata": {},
   "outputs": [
    {
     "data": {
      "image/png": "[encoded data removed]",
      "text/latex": [
       "$\\displaystyle a x_{1} y_{1} + b x_{1} y_{2} + c x_{2} y_{1} + d x_{2} y_{2}$"
      ],
      "text/plain": [
       "a⋅x₁⋅y₁ + b⋅x₁⋅y₂ + c⋅x₂⋅y₁ + d⋅x₂⋅y₂"
      ]
     },
     "metadata": {},
     "output_type": "display_data"
    }
   ],
   "source": [
    "display(a*x1*y1 + b*x1*y2 + c*x2*y1 + d*x2*y2)"
   ]
  },
  {
   "cell_type": "code",
   "execution_count": null,
   "id": "logical-niagara",
   "metadata": {},
   "outputs": [],
   "source": []
  }
 ],
 "metadata": {
  "kernelspec": {
   "display_name": "Python 3",
   "language": "python",
   "name": "python3"
  },
  "language_info": {
   "codemirror_mode": {
    "name": "ipython",
    "version": 3
   },
   "file_extension": ".py",
   "mimetype": "text/x-python",
   "name": "python",
   "nbconvert_exporter": "python",
   "pygments_lexer": "ipython3",
   "version": "3.9.1"
  }
 },
 "nbformat": 4,
 "nbformat_minor": 5
}

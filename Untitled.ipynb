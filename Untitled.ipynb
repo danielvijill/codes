{
 "cells": [
  {
   "cell_type": "markdown",
   "id": "demographic-sheffield",
   "metadata": {},
   "source": [
    "# División Sintética"
   ]
  },
  {
   "cell_type": "markdown",
   "id": "terminal-daisy",
   "metadata": {},
   "source": [
    "Numeros complejos"
   ]
  },
  {
   "cell_type": "code",
   "execution_count": 5,
   "id": "naughty-charm",
   "metadata": {},
   "outputs": [
    {
     "ename": "SyntaxError",
     "evalue": "invalid syntax (<ipython-input-5-6996f1cae24f>, line 28)",
     "output_type": "error",
     "traceback": [
      "\u001b[1;36m  File \u001b[1;32m\"<ipython-input-5-6996f1cae24f>\"\u001b[1;36m, line \u001b[1;32m28\u001b[0m\n\u001b[1;33m    print ( %s / %s =\" % (N,D), )\u001b[0m\n\u001b[1;37m            ^\u001b[0m\n\u001b[1;31mSyntaxError\u001b[0m\u001b[1;31m:\u001b[0m invalid syntax\n"
     ]
    }
   ],
   "source": [
    "# -*- coding: utf-8 -*-\n",
    " \n",
    "def extended_synthetic_division(dividend, divisor):\n",
    "    '''Fast polynomial division by using Extended Synthetic Division. Also works with non-monic polynomials.'''\n",
    "    # dividend and divisor are both polynomials, which are here simply lists of coefficients. Eg: x^2 + 3x + 5 will be represented as [1, 3, 5]\n",
    " \n",
    "    out = list(dividend) # Copy the dividend\n",
    "    normalizer = divisor[0]\n",
    "    for i in xrange(len(dividend)-(len(divisor)-1)):\n",
    "        out[i] /= normalizer # for general polynomial division (when polynomials are non-monic),\n",
    "                                 # we need to normalize by dividing the coefficient with the divisor's first coefficient\n",
    "        coef = out[i]\n",
    "        if coef != 0: # useless to multiply if coef is 0\n",
    "            for j in xrange(1, len(divisor)): # in synthetic division, we always skip the first coefficient of the divisor,\n",
    "                                              # because it's only used to normalize the dividend coefficients\n",
    "                out[i + j] += -divisor[j] * coef\n",
    " \n",
    "    # The resulting out contains both the quotient and the remainder, the remainder being the size of the divisor (the remainder\n",
    "    # has necessarily the same degree as the divisor since it's what we couldn't divide from the dividend), so we compute the index\n",
    "    # where this separation is, and return the quotient and remainder.\n",
    "    separator = -(len(divisor)-1)\n",
    "    return out[:separator], out[separator:] # return quotient, remainder.\n",
    " \n",
    "if __name__ == '__main__':\n",
    "    print (\"POLYNOMIAL SYNTHETIC DIVISION\")\n",
    "    N = [1, -12, 0, -42]\n",
    "    D = [1, -3]\n",
    "    print ( %s / %s =\" % (N,D), )\n",
    "    print ( %s remainder %s\" % extended_synthetic_division(N, D))"
   ]
  },
  {
   "cell_type": "code",
   "execution_count": null,
   "id": "minimal-hepatitis",
   "metadata": {},
   "outputs": [],
   "source": []
  }
 ],
 "metadata": {
  "kernelspec": {
   "display_name": "Python 3",
   "language": "python",
   "name": "python3"
  },
  "language_info": {
   "codemirror_mode": {
    "name": "ipython",
    "version": 3
   },
   "file_extension": ".py",
   "mimetype": "text/x-python",
   "name": "python",
   "nbconvert_exporter": "python",
   "pygments_lexer": "ipython3",
   "version": "3.9.1"
  }
 },
 "nbformat": 4,
 "nbformat_minor": 5
}

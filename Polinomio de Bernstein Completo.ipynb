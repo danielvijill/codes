{
 "cells": [
  {
   "cell_type": "markdown",
   "metadata": {},
   "source": [
    "# PRACTICA II.3\n",
    "## Aproximación de una función mediante polinomios\n",
    "\n",
    "### 1). Generación de los polinomios de Bernstein "
   ]
  },
  {
   "cell_type": "code",
   "execution_count": 1,
   "metadata": {},
   "outputs": [],
   "source": [
    "from sympy import *\n",
    "import sympy as sp\n",
    "import matplotlib.pyplot as plt\n",
    "from matplotlib import rcParams\n",
    "import numpy as np"
   ]
  },
  {
   "cell_type": "markdown",
   "metadata": {},
   "source": [
    "### 1) $f(x)=1$"
   ]
  },
  {
   "cell_type": "code",
   "execution_count": 2,
   "metadata": {},
   "outputs": [],
   "source": [
    "x = sp.symbols('x')\n",
    "n = sp.symbols('n', integer=True)\n",
    "i = sp.symbols('i', integer=True)\n",
    "a = sp.symbols('a', integer=True)\n",
    "b = sp.symbols('b', integer=True)\n",
    "\n",
    "init_printing(use_unicode=True)"
   ]
  },
  {
   "cell_type": "markdown",
   "metadata": {},
   "source": [
    "El Polinomio de Bernstein aproxima funciones usando una sucesión, entre mayor sea el $n$ de la sucesión, mas excata será la función, sin embargo el polinomio de Bernstein de una constante es la gráfica de esa constante "
   ]
  },
  {
   "cell_type": "code",
   "execution_count": 24,
   "metadata": {},
   "outputs": [
    {
     "data": {
      "image/png": "[encoded data removed]",
      "text/plain": [
       "<Figure size 432x288 with 1 Axes>"
      ]
     },
     "metadata": {
      "needs_background": "light"
     },
     "output_type": "display_data"
    }
   ],
   "source": [
    "from matplotlib import pyplot\n",
    "\n",
    "x = range(-10, 10)\n",
    "\n",
    "pyplot.axhline(0, color=\"red\")\n",
    "pyplot.axvline(0, color=\"red\")\n",
    "pyplot.axvline(1, color=\"blue\")\n",
    "\n",
    "plt.title(\"Gráfico del Polinomio de Bernstein f(x)=1\")\n",
    "\n",
    "pyplot.xlim(-1, 3)\n",
    "pyplot.ylim(-1, 5)\n",
    "plt.grid()\n",
    "pyplot.show()"
   ]
  },
  {
   "cell_type": "markdown",
   "metadata": {},
   "source": [
    "### $ 2).  f(x)=x$"
   ]
  },
  {
   "cell_type": "code",
   "execution_count": 6,
   "metadata": {},
   "outputs": [
    {
     "name": "stdout",
     "output_type": "stream",
     "text": [
      "Introduzca la primera función: f(x)=x \n",
      "x\n",
      "La función es: \n",
      "x\n",
      "Introduzca 6, el grado de aproximación: \n",
      "6\n",
      "Introduce el extremo izqdo. del intervalo: \n",
      "-1\n",
      "Introduce el extremo dcho. del intervalo: \n",
      "1\n"
     ]
    }
   ],
   "source": [
    "pprint(\"Introduzca la primera función: f(x)=x \")\n",
    "fun = eval(input())\n",
    "pprint('La función es: ')\n",
    "pprint(fun)\n",
    "pprint(\"Introduzca 6, el grado de aproximación: \")\n",
    "n = int(input())\n",
    "pprint(\"Introduce el extremo izqdo. del intervalo: \")\n",
    "a = float(input())\n",
    "pprint(\"Introduce el extremo dcho. del intervalo: \")\n",
    "b = float(input())\n",
    "f = lambdify(x, fun, 'numpy')"
   ]
  },
  {
   "cell_type": "code",
   "execution_count": 7,
   "metadata": {},
   "outputs": [
    {
     "name": "stdout",
     "output_type": "stream",
     "text": [
      "El polinomio de Bernstein de grado 6 en el intervalo [-1.0, 1.0] es: \n",
      "                        6                         5                         4 \n",
      "- 1.38777878078145e-17⋅x  + 5.55111512312578e-17⋅x  + 6.93889390390723e-17⋅x  \n",
      "\n",
      "                        2                               \n",
      "- 4.16333634234434e-17⋅x  + 1.0⋅x - 4.16333634234434e-17\n"
     ]
    }
   ],
   "source": [
    "ci = fun.subs(x, i*((b - a) / n) + a)\n",
    "binom = binomial(n, i)\n",
    "Bin = binom * ((x - a) ** i * (b - x)**(n-i)) / (b - a) ** n\n",
    "pprint(\"El polinomio de Bernstein de grado {0} en el intervalo [{1}, {2}] es: \".format(n, a, b))\n",
    "bernstein = expand(summation(ci * Bin, (i,0,n)))\n",
    "pprint(bernstein)\n",
    "g = lambdify(x, bernstein, 'numpy')"
   ]
  },
  {
   "cell_type": "code",
   "execution_count": 8,
   "metadata": {},
   "outputs": [
    {
     "data": {
      "image/png": "[encoded data removed]",
      "text/plain": [
       "<Figure size 432x288 with 1 Axes>"
      ]
     },
     "metadata": {
      "needs_background": "light"
     },
     "output_type": "display_data"
    }
   ],
   "source": [
    "fig, ax = plt.subplots()\n",
    "title = r'$Polinomio ; De ; Bernstein ; ([{0}, {1}] ; n={2})$'.format(a, b, n)\n",
    "ax.set_title(title)\n",
    "t = np.linspace(a, b, 1000)\n",
    "ax.axis([a, b, a, b + 5])\n",
    "\n",
    "ax.set_xlabel('x')\n",
    "ax.set_ylabel('y')\n",
    "\n",
    "ax.grid('on')\n",
    "\n",
    "ax.plot(t, f(t), 'b-', lw=1.5)\n",
    "ax.plot(t, g(t), 'r-', lw=1.5)\n",
    "\n",
    "text1 = r'$f(x)={}$'.format(latex(fun))\n",
    "text2 = r'$Pol.; Bernstein$'\n",
    "\n",
    "plt.legend([text1, text2])\n",
    "\n",
    "plt.show()"
   ]
  },
  {
   "cell_type": "markdown",
   "metadata": {},
   "source": [
    "### 3). $f(x)=x^2$"
   ]
  },
  {
   "cell_type": "code",
   "execution_count": null,
   "metadata": {},
   "outputs": [],
   "source": [
    "pprint(\"Introduzca la primera función: f(x)=x**2 \")\n",
    "fun = eval(input())\n",
    "pprint('La función es: ')\n",
    "pprint(fun)\n",
    "pprint(\"Introduzca 6, el grado de aproximación: \")\n",
    "n = int(input())\n",
    "pprint(\"Introduce el extremo izqdo. del intervalo: \")\n",
    "a = float(input())\n",
    "pprint(\"Introduce el extremo dcho. del intervalo: \")\n",
    "b = float(input())\n",
    "f = lambdify(x, fun, 'numpy')"
   ]
  },
  {
   "cell_type": "code",
   "execution_count": 46,
   "metadata": {},
   "outputs": [
    {
     "name": "stdout",
     "output_type": "stream",
     "text": [
      "El polinomio de Bernstein de grado 6 en el intervalo [-5.0, 5.0] es: \n",
      "                        6                         5                         4 \n",
      "- 1.35525271560688e-20⋅x  - 8.67361737988404e-19⋅x  - 8.67361737988404e-18⋅x  \n",
      "\n",
      "                        3                      2                              \n",
      "- 2.77555756156289e-17⋅x  + 0.833333333333334⋅x  + 1.22124532708767e-15⋅x + 4.\n",
      "\n",
      "              \n",
      "16666666666667\n"
     ]
    }
   ],
   "source": [
    "ci = fun.subs(x, i*((b - a) / n) + a)\n",
    "binom = binomial(n, i)\n",
    "Bin = binom * ((x - a) ** i * (b - x)**(n-i)) / (b - a) ** n\n",
    "pprint(\"El polinomio de Bernstein de grado {0} en el intervalo [{1}, {2}] es: \".format(n, a, b))\n",
    "bernstein = expand(summation(ci * Bin, (i,0,n)))\n",
    "pprint(bernstein)\n",
    "g = lambdify(x, bernstein, 'numpy')"
   ]
  },
  {
   "cell_type": "code",
   "execution_count": 47,
   "metadata": {},
   "outputs": [
    {
     "data": {
      "image/png": "[encoded data removed]",
      "text/plain": [
       "<Figure size 432x288 with 1 Axes>"
      ]
     },
     "metadata": {
      "needs_background": "light"
     },
     "output_type": "display_data"
    }
   ],
   "source": [
    "fig, ax = plt.subplots()\n",
    "title = r'$Polinomio ; De ; Bernstein ; ([{0}, {1}] ; n={2})$'.format(a, b, n)\n",
    "ax.set_title(title)\n",
    "t = np.linspace(a, b, 1000)\n",
    "ax.axis([a, b, a, b + 5])\n",
    "\n",
    "ax.set_xlabel('x')\n",
    "ax.set_ylabel('y')\n",
    "\n",
    "ax.grid('on')\n",
    "\n",
    "ax.plot(t, f(t), 'b-', lw=1.5)\n",
    "ax.plot(t, g(t), 'r-', lw=1.5)\n",
    "\n",
    "text1 = r'$f(x)={}$'.format(latex(fun))\n",
    "text2 = r'$Pol.; Bernstein$'\n",
    "\n",
    "plt.legend([text1, text2])\n",
    "\n",
    "plt.show()"
   ]
  },
  {
   "cell_type": "markdown",
   "metadata": {},
   "source": [
    "### 3). $f(x)=Cos(\\frac{\\pi x}{2})$"
   ]
  },
  {
   "cell_type": "code",
   "execution_count": 12,
   "metadata": {},
   "outputs": [
    {
     "name": "stdout",
     "output_type": "stream",
     "text": [
      "Introduzca la primera función: f(x)=sp.cos(sp.pi*x/2) \n",
      "sp.cos(sp.pi*x/2)\n",
      "La función es: \n",
      "   ⎛π⋅x⎞\n",
      "cos⎜───⎟\n",
      "   ⎝ 2 ⎠\n",
      "Introduzca 6, el grado de aproximación: \n",
      "6\n",
      "Introduce el extremo izqdo. del intervalo: \n",
      "-1\n",
      "Introduce el extremo dcho. del intervalo: \n",
      "1\n"
     ]
    }
   ],
   "source": [
    "pprint(\"Introduzca la primera función: f(x)=sp.cos(sp.pi*x/2) \")\n",
    "fun = eval(input())\n",
    "pprint('La función es: ')\n",
    "pprint(fun)\n",
    "pprint(\"Introduzca 6, el grado de aproximación: \")\n",
    "n = int(input())\n",
    "pprint(\"Introduce el extremo izqdo. del intervalo: \")\n",
    "a = float(input())\n",
    "pprint(\"Introduce el extremo dcho. del intervalo: \")\n",
    "b = float(input())\n",
    "f = lambdify(x, fun, 'numpy')"
   ]
  },
  {
   "cell_type": "code",
   "execution_count": 13,
   "metadata": {},
   "outputs": [
    {
     "name": "stdout",
     "output_type": "stream",
     "text": [
      "El polinomio de Bernstein de grado 6 en el intervalo [-1.0, 1.0] es: \n",
      "          6            6                                     6                \n",
      "- 0.3125⋅x  - 0.09375⋅x ⋅cos(0.333333333333333⋅π) - 0.09375⋅x ⋅cos(0.333333333\n",
      "\n",
      "                      6                                      6                \n",
      "333333⋅π) + 0.234375⋅x ⋅cos(0.166666666666667⋅π) + 0.234375⋅x ⋅cos(0.166666666\n",
      "\n",
      "                     5                                   5                    \n",
      "666667⋅π) - 0.46875⋅x ⋅cos(0.166666666666667⋅π) - 0.375⋅x ⋅cos(0.3333333333333\n",
      "\n",
      "               5                                     5                        \n",
      "33⋅π) + 0.375⋅x ⋅cos(0.333333333333333⋅π) + 0.46875⋅x ⋅cos(0.166666666666667⋅π\n",
      "\n",
      "             4                                     4                          \n",
      ") - 0.46875⋅x ⋅cos(0.333333333333333⋅π) - 0.46875⋅x ⋅cos(0.333333333333333⋅π) \n",
      "\n",
      "            4                                      4                          \n",
      "- 0.234375⋅x ⋅cos(0.166666666666667⋅π) - 0.234375⋅x ⋅cos(0.166666666666667⋅π) \n",
      "\n",
      "          4           3                                    3                  \n",
      "+ 0.9375⋅x  - 0.9375⋅x ⋅cos(0.166666666666667⋅π) + 0.9375⋅x ⋅cos(0.16666666666\n",
      "\n",
      "                  2             2                                      2      \n",
      "6667⋅π) - 0.9375⋅x  - 0.234375⋅x ⋅cos(0.166666666666667⋅π) - 0.234375⋅x ⋅cos(0\n",
      "\n",
      "                               2                                     2        \n",
      ".166666666666667⋅π) + 0.46875⋅x ⋅cos(0.333333333333333⋅π) + 0.46875⋅x ⋅cos(0.3\n",
      "\n",
      "                                                                              \n",
      "33333333333333⋅π) - 0.46875⋅x⋅cos(0.166666666666667⋅π) - 0.375⋅x⋅cos(0.3333333\n",
      "\n",
      "                                                                              \n",
      "33333333⋅π) + 0.375⋅x⋅cos(0.333333333333333⋅π) + 0.46875⋅x⋅cos(0.1666666666666\n",
      "\n",
      "                                                                              \n",
      "67⋅π) + 0.09375⋅cos(0.333333333333333⋅π) + 0.09375⋅cos(0.333333333333333⋅π) + \n",
      "\n",
      "                                                                              \n",
      "0.234375⋅cos(0.166666666666667⋅π) + 0.234375⋅cos(0.166666666666667⋅π) + 0.3125\n"
     ]
    }
   ],
   "source": [
    "ci = fun.subs(x, i*((b - a) / n) + a)\n",
    "binom = binomial(n, i)\n",
    "Bin = binom * ((x - a) ** i * (b - x)**(n-i)) / (b - a) ** n\n",
    "pprint(\"El polinomio de Bernstein de grado {0} en el intervalo [{1}, {2}] es: \".format(n, a, b))\n",
    "bernstein = expand(summation(ci * Bin, (i,0,n)))\n",
    "pprint(bernstein)\n",
    "g = lambdify(x, bernstein, 'numpy')"
   ]
  },
  {
   "cell_type": "code",
   "execution_count": 14,
   "metadata": {},
   "outputs": [
    {
     "data": {
      "image/png": "[encoded data removed]",
      "text/plain": [
       "<Figure size 432x288 with 1 Axes>"
      ]
     },
     "metadata": {
      "needs_background": "light"
     },
     "output_type": "display_data"
    }
   ],
   "source": [
    "fig, ax = plt.subplots()\n",
    "title = r'$Polinomio ; De ; Bernstein ; ([{0}, {1}] ; n={2})$'.format(a, b, n)\n",
    "ax.set_title(title)\n",
    "t = np.linspace(a, b, 1000)\n",
    "ax.axis([a, b, a, b + 5])\n",
    "\n",
    "ax.set_xlabel('x')\n",
    "ax.set_ylabel('y')\n",
    "\n",
    "ax.grid('on')\n",
    "\n",
    "ax.plot(t, f(t), 'b-', lw=1.5)\n",
    "ax.plot(t, g(t), 'r-', lw=1.5)\n",
    "\n",
    "text1 = r'$f(x)={}$'.format(latex(fun))\n",
    "text2 = r'$Pol.; Bernstein$'\n",
    "\n",
    "plt.legend([text1, text2])\n",
    "\n",
    "plt.show()"
   ]
  },
  {
   "cell_type": "markdown",
   "metadata": {},
   "source": [
    "### 5). $f(x)=e^x$"
   ]
  },
  {
   "cell_type": "code",
   "execution_count": 15,
   "metadata": {},
   "outputs": [
    {
     "name": "stdout",
     "output_type": "stream",
     "text": [
      "Introduzca la primera función: f(x)=exp(x) \n",
      "exp(x)\n",
      "La función es: \n",
      " x\n",
      "ℯ \n",
      "Introduzca 6, el grado de aproximación: \n",
      "6\n",
      "Introduce el extremo izqdo. del intervalo: \n",
      "-1\n",
      "Introduce el extremo dcho. del intervalo: \n",
      "1\n"
     ]
    }
   ],
   "source": [
    "pprint(\"Introduzca la primera función: f(x)=exp(x) \")\n",
    "fun = eval(input())\n",
    "pprint('La función es: ')\n",
    "pprint(fun)\n",
    "pprint(\"Introduzca 6, el grado de aproximación: \")\n",
    "n = int(input())\n",
    "pprint(\"Introduce el extremo izqdo. del intervalo: \")\n",
    "a = float(input())\n",
    "pprint(\"Introduce el extremo dcho. del intervalo: \")\n",
    "b = float(input())\n",
    "f = lambdify(x, fun, 'numpy')"
   ]
  },
  {
   "cell_type": "code",
   "execution_count": 16,
   "metadata": {},
   "outputs": [
    {
     "name": "stdout",
     "output_type": "stream",
     "text": [
      "El polinomio de Bernstein de grado 6 en el intervalo [-1.0, 1.0] es: \n",
      "                     6                         5                      4       \n",
      "2.20366250790957e-5⋅x  + 0.000800650477572301⋅x  + 0.012120753233455⋅x  + 0.09\n",
      "\n",
      "                3                      2                                      \n",
      "78622011720943⋅x  + 0.444449965815268⋅x  + 1.07653834199414⋅x + 1.086487879141\n",
      "\n",
      "  \n",
      "44\n"
     ]
    }
   ],
   "source": [
    "ci = fun.subs(x, i*((b - a) / n) + a)\n",
    "binom = binomial(n, i)\n",
    "Bin = binom * ((x - a) ** i * (b - x)**(n-i)) / (b - a) ** n\n",
    "pprint(\"El polinomio de Bernstein de grado {0} en el intervalo [{1}, {2}] es: \".format(n, a, b))\n",
    "bernstein = expand(summation(ci * Bin, (i,0,n)))\n",
    "pprint(bernstein)\n",
    "g = lambdify(x, bernstein, 'numpy')"
   ]
  },
  {
   "cell_type": "code",
   "execution_count": 17,
   "metadata": {},
   "outputs": [
    {
     "data": {
      "image/png": "[encoded data removed]",
      "text/plain": [
       "<Figure size 432x288 with 1 Axes>"
      ]
     },
     "metadata": {
      "needs_background": "light"
     },
     "output_type": "display_data"
    }
   ],
   "source": [
    "fig, ax = plt.subplots()\n",
    "title = r'$Polinomio ; De ; Bernstein ; ([{0}, {1}] ; n={2})$'.format(a, b, n)\n",
    "ax.set_title(title)\n",
    "t = np.linspace(a, b, 1000)\n",
    "ax.axis([a, b, a, b + 5])\n",
    "\n",
    "ax.set_xlabel('x')\n",
    "ax.set_ylabel('y')\n",
    "\n",
    "ax.grid('on')\n",
    "\n",
    "ax.plot(t, f(t), 'b-', lw=1.5)\n",
    "ax.plot(t, g(t), 'r-', lw=1.5)\n",
    "\n",
    "text1 = r'$f(x)={}$'.format(latex(fun))\n",
    "text2 = r'$Pol.; Bernstein$'\n",
    "\n",
    "plt.legend([text1, text2])\n",
    "\n",
    "plt.show()"
   ]
  },
  {
   "cell_type": "markdown",
   "metadata": {},
   "source": [
    "La esencia de esta prueba\n",
    "es la construcci´on de una sucesión de polinomios que, como veremos, convergen\n",
    "uniformemente a una función continua."
   ]
  },
  {
   "cell_type": "code",
   "execution_count": null,
   "metadata": {},
   "outputs": [],
   "source": []
  },
  {
   "cell_type": "code",
   "execution_count": null,
   "metadata": {},
   "outputs": [],
   "source": []
  },
  {
   "cell_type": "code",
   "execution_count": null,
   "metadata": {},
   "outputs": [],
   "source": []
  }
 ],
 "metadata": {
  "kernelspec": {
   "display_name": "Python 3",
   "language": "python",
   "name": "python3"
  },
  "language_info": {
   "codemirror_mode": {
    "name": "ipython",
    "version": 3
   },
   "file_extension": ".py",
   "mimetype": "text/x-python",
   "name": "python",
   "nbconvert_exporter": "python",
   "pygments_lexer": "ipython3",
   "version": "3.8.5"
  }
 },
 "nbformat": 4,
 "nbformat_minor": 4
}

{
 "cells": [
  {
   "cell_type": "code",
   "execution_count": 1,
   "id": "progressive-reality",
   "metadata": {},
   "outputs": [],
   "source": [
    "import numpy as np\n",
    "from numpy import *\n",
    "import sympy as sp\n",
    "from sympy import *\n",
    "init_printing(use_latex=True)"
   ]
  },
  {
   "cell_type": "markdown",
   "id": "herbal-medicine",
   "metadata": {},
   "source": [
    "Define the elements of matrix $A$ below:"
   ]
  },
  {
   "cell_type": "code",
   "execution_count": 25,
   "id": "communist-flavor",
   "metadata": {},
   "outputs": [],
   "source": [
    "a11 = -2*I\n",
    "a12 = sp.sqrt(7)\n",
    "a21 = 0\n",
    "a22 = 3"
   ]
  },
  {
   "cell_type": "code",
   "execution_count": 26,
   "id": "suitable-canyon",
   "metadata": {},
   "outputs": [
    {
     "data": {
      "image/png": "[encoded data removed]",
      "text/latex": [
       "$\\displaystyle \\left[\\begin{matrix}- 2 i & \\sqrt{7}\\\\0 & 3\\end{matrix}\\right]$"
      ],
      "text/plain": [
       "⎡-2⋅ⅈ  √7⎤\n",
       "⎢        ⎥\n",
       "⎣ 0    3 ⎦"
      ]
     },
     "metadata": {},
     "output_type": "display_data"
    }
   ],
   "source": [
    "A = Matrix([[a11,a12],[a21,a22]])\n",
    "display(A)"
   ]
  },
  {
   "cell_type": "code",
   "execution_count": 27,
   "id": "checked-reminder",
   "metadata": {},
   "outputs": [
    {
     "data": {
      "image/png": "[encoded data removed]",
      "text/latex": [
       "$\\displaystyle \\left[\\begin{matrix}4 & 2 \\sqrt{7} i\\\\- 2 \\sqrt{7} i & 16\\end{matrix}\\right]$"
      ],
      "text/plain": [
       "⎡   4     2⋅√7⋅ⅈ⎤\n",
       "⎢               ⎥\n",
       "⎣-2⋅√7⋅ⅈ    16  ⎦"
      ]
     },
     "metadata": {},
     "output_type": "display_data"
    }
   ],
   "source": [
    "Rsq = (A.conjugate()).transpose() * A\n",
    "display(Rsq)"
   ]
  },
  {
   "cell_type": "code",
   "execution_count": 43,
   "id": "close-lotus",
   "metadata": {},
   "outputs": [
    {
     "data": {
      "image/png": "[encoded data removed]",
      "text/latex": [
       "$\\displaystyle \\left( \\left[ \\left( 2, \\  1, \\  \\left[ \\left[\\begin{matrix}- \\sqrt{7} i\\\\1\\end{matrix}\\right]\\right]\\right), \\  \\left( 18, \\  1, \\  \\left[ \\left[\\begin{matrix}\\frac{\\sqrt{7} i}{7}\\\\1\\end{matrix}\\right]\\right]\\right)\\right], \\  \\left\\{ 2 : 1, \\  18 : 1\\right\\}\\right)$"
      ],
      "text/plain": [
       "⎛⎡                   ⎛       ⎡⎡√7⋅ⅈ⎤⎤⎞⎤               ⎞\n",
       "⎜⎢⎛      ⎡⎡-√7⋅ⅈ⎤⎤⎞  ⎜       ⎢⎢────⎥⎥⎟⎥               ⎟\n",
       "⎜⎢⎜2, 1, ⎢⎢     ⎥⎥⎟, ⎜18, 1, ⎢⎢ 7  ⎥⎥⎟⎥, {2: 1, 18: 1}⎟\n",
       "⎜⎢⎝      ⎣⎣  1  ⎦⎦⎠  ⎜       ⎢⎢    ⎥⎥⎟⎥               ⎟\n",
       "⎝⎣                   ⎝       ⎣⎣ 1  ⎦⎦⎠⎦               ⎠"
      ]
     },
     "execution_count": 43,
     "metadata": {},
     "output_type": "execute_result"
    }
   ],
   "source": [
    "Evals = Rsq.eigenvals()\n",
    "Evects = Rsq.eigenvects()\n",
    "Evects, Evals\n",
    "\n",
    "#check eigenvals and storage them manually\n",
    "# eigenvals = Matrix([ev1,ev2])\n",
    "\n",
    "eigenvals = Matrix([2,18])"
   ]
  },
  {
   "cell_type": "code",
   "execution_count": 52,
   "id": "olive-chicago",
   "metadata": {},
   "outputs": [
    {
     "data": {
      "image/png": "[encoded data removed]",
      "text/latex": [
       "$\\displaystyle \\left[\\begin{matrix}- \\sqrt{7} i & \\frac{\\sqrt{7} i}{7}\\\\1 & 1\\end{matrix}\\right]$"
      ],
      "text/plain": [
       "⎡       √7⋅ⅈ⎤\n",
       "⎢-√7⋅ⅈ  ────⎥\n",
       "⎢        7  ⎥\n",
       "⎢           ⎥\n",
       "⎣  1     1  ⎦"
      ]
     },
     "metadata": {},
     "output_type": "display_data"
    },
    {
     "data": {
      "image/png": "[encoded data removed]",
      "text/latex": [
       "$\\displaystyle \\left[\\begin{matrix}- \\frac{\\sqrt{14} i}{4} & \\frac{\\sqrt{2} i}{4}\\\\\\frac{\\sqrt{2}}{4} & \\frac{\\sqrt{14}}{4}\\end{matrix}\\right]$"
      ],
      "text/plain": [
       "⎡-√14⋅ⅈ   √2⋅ⅈ⎤\n",
       "⎢───────  ────⎥\n",
       "⎢   4      4  ⎥\n",
       "⎢             ⎥\n",
       "⎢  √2     √14 ⎥\n",
       "⎢  ──     ─── ⎥\n",
       "⎣  4       4  ⎦"
      ]
     },
     "metadata": {},
     "output_type": "display_data"
    }
   ],
   "source": [
    "ev1 = Matrix([Evects[0][2]])\n",
    "uev1 = ev1/ev1.norm() \n",
    "ev2 = Matrix([Evects[1][2]])\n",
    "uev2 = ev2/ev2.norm()\n",
    "\n",
    "EV = (Matrix([ev1.transpose(),ev2.transpose()])).transpose()\n",
    "UEV = (Matrix([uev1.transpose(),uev2.transpose()])).transpose()\n",
    "\n",
    "display(EV,UEV)"
   ]
  },
  {
   "cell_type": "code",
   "execution_count": 53,
   "id": "radical-transaction",
   "metadata": {},
   "outputs": [
    {
     "data": {
      "image/png": "[encoded data removed]",
      "text/latex": [
       "$\\displaystyle \\left[\\begin{matrix}\\frac{7}{8} & - \\frac{\\sqrt{7} i}{8}\\\\\\frac{\\sqrt{7} i}{8} & \\frac{1}{8}\\end{matrix}\\right]$"
      ],
      "text/plain": [
       "⎡      -√7⋅ⅈ ⎤\n",
       "⎢7/8   ──────⎥\n",
       "⎢        8   ⎥\n",
       "⎢            ⎥\n",
       "⎢√7⋅ⅈ        ⎥\n",
       "⎢────   1/8  ⎥\n",
       "⎣ 8          ⎦"
      ]
     },
     "metadata": {},
     "output_type": "display_data"
    },
    {
     "data": {
      "image/png": "[encoded data removed]",
      "text/latex": [
       "$\\displaystyle \\left[\\begin{matrix}\\frac{1}{8} & \\frac{\\sqrt{7} i}{8}\\\\- \\frac{\\sqrt{7} i}{8} & \\frac{7}{8}\\end{matrix}\\right]$"
      ],
      "text/plain": [
       "⎡        √7⋅ⅈ⎤\n",
       "⎢ 1/8    ────⎥\n",
       "⎢         8  ⎥\n",
       "⎢            ⎥\n",
       "⎢-√7⋅ⅈ       ⎥\n",
       "⎢──────  7/8 ⎥\n",
       "⎣  8         ⎦"
      ]
     },
     "metadata": {},
     "output_type": "display_data"
    }
   ],
   "source": [
    "P1 = uev1*(uev1.conjugate()).transpose()\n",
    "display(P1)\n",
    "P2 = uev2*(uev2.conjugate()).transpose()\n",
    "display(P2)"
   ]
  },
  {
   "cell_type": "code",
   "execution_count": 55,
   "id": "third-rating",
   "metadata": {},
   "outputs": [
    {
     "data": {
      "image/png": "[encoded data removed]",
      "text/latex": [
       "$\\displaystyle \\left[\\begin{matrix}\\frac{5 \\sqrt{2}}{4} & \\frac{\\sqrt{14} i}{4}\\\\- \\frac{\\sqrt{14} i}{4} & \\frac{11 \\sqrt{2}}{4}\\end{matrix}\\right]$"
      ],
      "text/plain": [
       "⎡ 5⋅√2    √14⋅ⅈ⎤\n",
       "⎢ ────    ─────⎥\n",
       "⎢  4        4  ⎥\n",
       "⎢              ⎥\n",
       "⎢-√14⋅ⅈ   11⋅√2⎥\n",
       "⎢───────  ─────⎥\n",
       "⎣   4       4  ⎦"
      ]
     },
     "metadata": {},
     "output_type": "display_data"
    }
   ],
   "source": [
    "R = sp.sqrt(2)*P1 + sp.sqrt(18)*P2\n",
    "display(R)"
   ]
  },
  {
   "cell_type": "code",
   "execution_count": 58,
   "id": "painted-fluid",
   "metadata": {},
   "outputs": [],
   "source": [
    "Rinv = R.inv()\n",
    "U = A*Rinv"
   ]
  },
  {
   "cell_type": "code",
   "execution_count": 59,
   "id": "beginning-telescope",
   "metadata": {},
   "outputs": [
    {
     "data": {
      "image/png": "[encoded data removed]",
      "text/latex": [
       "$\\displaystyle \\left[\\begin{matrix}- \\frac{5 \\sqrt{2} i}{8} & \\frac{\\sqrt{14}}{8}\\\\\\frac{\\sqrt{14} i}{8} & \\frac{5 \\sqrt{2}}{8}\\end{matrix}\\right]$"
      ],
      "text/plain": [
       "⎡-5⋅√2⋅ⅈ   √14 ⎤\n",
       "⎢────────  ─── ⎥\n",
       "⎢   8       8  ⎥\n",
       "⎢              ⎥\n",
       "⎢ √14⋅ⅈ    5⋅√2⎥\n",
       "⎢ ─────    ────⎥\n",
       "⎣   8       8  ⎦"
      ]
     },
     "metadata": {},
     "output_type": "display_data"
    }
   ],
   "source": [
    "display(U)"
   ]
  },
  {
   "cell_type": "markdown",
   "id": "third-maintenance",
   "metadata": {},
   "source": [
    "The Polar decomposition states in the form: $A=UR$"
   ]
  },
  {
   "cell_type": "code",
   "execution_count": null,
   "id": "southeast-advice",
   "metadata": {},
   "outputs": [],
   "source": []
  },
  {
   "cell_type": "code",
   "execution_count": null,
   "id": "coastal-macro",
   "metadata": {},
   "outputs": [],
   "source": []
  }
 ],
 "metadata": {
  "kernelspec": {
   "display_name": "Python 3",
   "language": "python",
   "name": "python3"
  },
  "language_info": {
   "codemirror_mode": {
    "name": "ipython",
    "version": 3
   },
   "file_extension": ".py",
   "mimetype": "text/x-python",
   "name": "python",
   "nbconvert_exporter": "python",
   "pygments_lexer": "ipython3",
   "version": "3.9.2"
  }
 },
 "nbformat": 4,
 "nbformat_minor": 5
}

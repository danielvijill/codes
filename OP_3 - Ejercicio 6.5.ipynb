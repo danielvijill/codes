{
 "cells": [
  {
   "cell_type": "markdown",
   "metadata": {},
   "source": [
    "# Para los vectores $a_1=(1,1,-1), a_2=(-2,1,-2)$:"
   ]
  },
  {
   "cell_type": "markdown",
   "metadata": {},
   "source": [
    "### a) Construya (en la forma de una matriz) los operadores de proyección $P_1$ y $P_2$ que proyectan en las dimensiones de $a_1$ y $a_2$ respectivamente. Verifique si realemnte se tratan de operadores de proyección. "
   ]
  },
  {
   "cell_type": "markdown",
   "metadata": {},
   "source": [
    "Primero debemos encontrar la base, ortonormalizando los vectores $a_1$ y $a_2$ "
   ]
  },
  {
   "cell_type": "code",
   "execution_count": 11,
   "metadata": {},
   "outputs": [],
   "source": [
    "from sympy import init_printing\n",
    "from sympy as sp\n",
    "init_printing(use_latex=True)\n",
    "from sympy.physics.quantum import Dagger\n",
    "from sympy import *\n",
    "import numpy as np"
   ]
  },
  {
   "cell_type": "code",
   "execution_count": 43,
   "metadata": {},
   "outputs": [],
   "source": [
    "from sympy.matrices import Matrix\n",
    "T = [Matrix([1,1,-1]), Matrix([-2,1,-2])]"
   ]
  },
  {
   "cell_type": "code",
   "execution_count": 44,
   "metadata": {},
   "outputs": [
    {
     "data": {
      "image/png": "[encoded data removed]",
      "text/latex": [
       "$\\displaystyle \\left[ \\left[\\begin{matrix}1\\\\1\\\\-1\\end{matrix}\\right], \\  \\left[\\begin{matrix}- \\frac{7}{3}\\\\\\frac{2}{3}\\\\- \\frac{5}{3}\\end{matrix}\\right]\\right]$"
      ],
      "text/plain": [
       "⎡⎡1 ⎤  ⎡-7/3⎤⎤\n",
       "⎢⎢  ⎥  ⎢    ⎥⎥\n",
       "⎢⎢1 ⎥, ⎢2/3 ⎥⎥\n",
       "⎢⎢  ⎥  ⎢    ⎥⎥\n",
       "⎣⎣-1⎦  ⎣-5/3⎦⎦"
      ]
     },
     "execution_count": 44,
     "metadata": {},
     "output_type": "execute_result"
    }
   ],
   "source": [
    "out1 = GramSchmidt(T) #aqui se otogonalizan los vectores\n",
    "out1"
   ]
  },
  {
   "cell_type": "code",
   "execution_count": 45,
   "metadata": {},
   "outputs": [
    {
     "data": {
      "image/png": "[encoded data removed]",
      "text/latex": [
       "$\\displaystyle \\left[ \\left[\\begin{matrix}\\frac{\\sqrt{3}}{3}\\\\\\frac{\\sqrt{3}}{3}\\\\- \\frac{\\sqrt{3}}{3}\\end{matrix}\\right], \\  \\left[\\begin{matrix}- \\frac{7 \\sqrt{78}}{78}\\\\\\frac{\\sqrt{78}}{39}\\\\- \\frac{5 \\sqrt{78}}{78}\\end{matrix}\\right]\\right]$"
      ],
      "text/plain": [
       "⎡⎡ √3 ⎤  ⎡-7⋅√78 ⎤⎤\n",
       "⎢⎢ ── ⎥  ⎢───────⎥⎥\n",
       "⎢⎢ 3  ⎥  ⎢   78  ⎥⎥\n",
       "⎢⎢    ⎥  ⎢       ⎥⎥\n",
       "⎢⎢ √3 ⎥  ⎢  √78  ⎥⎥\n",
       "⎢⎢ ── ⎥, ⎢  ───  ⎥⎥\n",
       "⎢⎢ 3  ⎥  ⎢   39  ⎥⎥\n",
       "⎢⎢    ⎥  ⎢       ⎥⎥\n",
       "⎢⎢-√3 ⎥  ⎢-5⋅√78 ⎥⎥\n",
       "⎢⎢────⎥  ⎢───────⎥⎥\n",
       "⎣⎣ 3  ⎦  ⎣   78  ⎦⎦"
      ]
     },
     "execution_count": 45,
     "metadata": {},
     "output_type": "execute_result"
    }
   ],
   "source": [
    "out2 = GramSchmidt(T, True)# aquí los vectores se normalizan\n",
    "out2"
   ]
  },
  {
   "cell_type": "markdown",
   "metadata": {},
   "source": [
    "Una vez obtenidos los vectores base para los operadores de proyeccíon, construimos dichos operadores de proyección "
   ]
  },
  {
   "cell_type": "code",
   "execution_count": 46,
   "metadata": {},
   "outputs": [],
   "source": [
    "from sympy import Matrix"
   ]
  },
  {
   "cell_type": "code",
   "execution_count": 47,
   "metadata": {},
   "outputs": [
    {
     "data": {
      "image/png": "[encoded data removed]",
      "text/latex": [
       "$\\displaystyle \\left[\\begin{matrix}\\frac{\\sqrt{3}}{3} & \\frac{\\sqrt{3}}{3} & - \\frac{\\sqrt{3}}{3}\\end{matrix}\\right]$"
      ],
      "text/plain": [
       "⎡√3  √3  -√3 ⎤\n",
       "⎢──  ──  ────⎥\n",
       "⎣3   3    3  ⎦"
      ]
     },
     "execution_count": 47,
     "metadata": {},
     "output_type": "execute_result"
    }
   ],
   "source": [
    "v1ad=out2[0].transpose()\n",
    "v1ad"
   ]
  },
  {
   "cell_type": "code",
   "execution_count": 48,
   "metadata": {},
   "outputs": [
    {
     "data": {
      "image/png": "[encoded data removed]",
      "text/latex": [
       "$\\displaystyle \\left[\\begin{matrix}\\frac{1}{3} & \\frac{1}{3} & - \\frac{1}{3}\\\\\\frac{1}{3} & \\frac{1}{3} & - \\frac{1}{3}\\\\- \\frac{1}{3} & - \\frac{1}{3} & \\frac{1}{3}\\end{matrix}\\right]$"
      ],
      "text/plain": [
       "⎡1/3   1/3   -1/3⎤\n",
       "⎢                ⎥\n",
       "⎢1/3   1/3   -1/3⎥\n",
       "⎢                ⎥\n",
       "⎣-1/3  -1/3  1/3 ⎦"
      ]
     },
     "execution_count": 48,
     "metadata": {},
     "output_type": "execute_result"
    }
   ],
   "source": [
    "proyector1= out2[0]*out2[0].transpose()\n",
    "proyector1"
   ]
  },
  {
   "cell_type": "code",
   "execution_count": 49,
   "metadata": {},
   "outputs": [
    {
     "data": {
      "image/png": "[encoded data removed]",
      "text/latex": [
       "$\\displaystyle \\left[\\begin{matrix}- \\frac{7 \\sqrt{78}}{78} & \\frac{\\sqrt{78}}{39} & - \\frac{5 \\sqrt{78}}{78}\\end{matrix}\\right]$"
      ],
      "text/plain": [
       "⎡-7⋅√78   √78  -5⋅√78 ⎤\n",
       "⎢───────  ───  ───────⎥\n",
       "⎣   78     39     78  ⎦"
      ]
     },
     "execution_count": 49,
     "metadata": {},
     "output_type": "execute_result"
    }
   ],
   "source": [
    "v2ad=out2[1].transpose()\n",
    "v2ad"
   ]
  },
  {
   "cell_type": "code",
   "execution_count": 50,
   "metadata": {},
   "outputs": [
    {
     "data": {
      "image/png": "[encoded data removed]",
      "text/latex": [
       "$\\displaystyle \\left[\\begin{matrix}\\frac{49}{78} & - \\frac{7}{39} & \\frac{35}{78}\\\\- \\frac{7}{39} & \\frac{2}{39} & - \\frac{5}{39}\\\\\\frac{35}{78} & - \\frac{5}{39} & \\frac{25}{78}\\end{matrix}\\right]$"
      ],
      "text/plain": [
       "⎡ 49            35  ⎤\n",
       "⎢ ──    -7/39   ──  ⎥\n",
       "⎢ 78            78  ⎥\n",
       "⎢                   ⎥\n",
       "⎢-7/39  2/39   -5/39⎥\n",
       "⎢                   ⎥\n",
       "⎢ 35            25  ⎥\n",
       "⎢ ──    -5/39   ──  ⎥\n",
       "⎣ 78            78  ⎦"
      ]
     },
     "execution_count": 50,
     "metadata": {},
     "output_type": "execute_result"
    }
   ],
   "source": [
    "proyector2= out2[1]*out2[1].transpose()\n",
    "proyector2"
   ]
  },
  {
   "cell_type": "markdown",
   "metadata": {},
   "source": [
    "Verificamos que cada operador sea una proyección "
   ]
  },
  {
   "cell_type": "code",
   "execution_count": 51,
   "metadata": {},
   "outputs": [
    {
     "data": {
      "image/png": "[encoded data removed]",
      "text/latex": [
       "$\\displaystyle \\left[\\begin{matrix}\\frac{1}{3} & \\frac{1}{3} & - \\frac{1}{3}\\\\\\frac{1}{3} & \\frac{1}{3} & - \\frac{1}{3}\\\\- \\frac{1}{3} & - \\frac{1}{3} & \\frac{1}{3}\\end{matrix}\\right]$"
      ],
      "text/plain": [
       "⎡1/3   1/3   -1/3⎤\n",
       "⎢                ⎥\n",
       "⎢1/3   1/3   -1/3⎥\n",
       "⎢                ⎥\n",
       "⎣-1/3  -1/3  1/3 ⎦"
      ]
     },
     "execution_count": 51,
     "metadata": {},
     "output_type": "execute_result"
    }
   ],
   "source": [
    "proyector1@proyector1"
   ]
  },
  {
   "cell_type": "code",
   "execution_count": 52,
   "metadata": {},
   "outputs": [
    {
     "data": {
      "image/png": "[encoded data removed]",
      "text/latex": [
       "$\\displaystyle \\left[\\begin{matrix}\\frac{49}{78} & - \\frac{7}{39} & \\frac{35}{78}\\\\- \\frac{7}{39} & \\frac{2}{39} & - \\frac{5}{39}\\\\\\frac{35}{78} & - \\frac{5}{39} & \\frac{25}{78}\\end{matrix}\\right]$"
      ],
      "text/plain": [
       "⎡ 49            35  ⎤\n",
       "⎢ ──    -7/39   ──  ⎥\n",
       "⎢ 78            78  ⎥\n",
       "⎢                   ⎥\n",
       "⎢-7/39  2/39   -5/39⎥\n",
       "⎢                   ⎥\n",
       "⎢ 35            25  ⎥\n",
       "⎢ ──    -5/39   ──  ⎥\n",
       "⎣ 78            78  ⎦"
      ]
     },
     "execution_count": 52,
     "metadata": {},
     "output_type": "execute_result"
    }
   ],
   "source": [
    "proyector2@proyector2"
   ]
  },
  {
   "cell_type": "markdown",
   "metadata": {},
   "source": [
    "Ambos operadores son proyecciones de sus respectivas bases "
   ]
  },
  {
   "cell_type": "markdown",
   "metadata": {},
   "source": [
    "### b) Construya en forma matricual el operador $P=P_1+P_2$ y verifique direcamente que es un operador de proyección "
   ]
  },
  {
   "cell_type": "code",
   "execution_count": 53,
   "metadata": {},
   "outputs": [
    {
     "data": {
      "image/png": "[encoded data removed]",
      "text/latex": [
       "$\\displaystyle \\left[\\begin{matrix}\\frac{25}{26} & \\frac{2}{13} & \\frac{3}{26}\\\\\\frac{2}{13} & \\frac{5}{13} & - \\frac{6}{13}\\\\\\frac{3}{26} & - \\frac{6}{13} & \\frac{17}{26}\\end{matrix}\\right]$"
      ],
      "text/plain": [
       "⎡ 25               ⎤\n",
       "⎢ ──   2/13   3/26 ⎥\n",
       "⎢ 26               ⎥\n",
       "⎢                  ⎥\n",
       "⎢2/13  5/13   -6/13⎥\n",
       "⎢                  ⎥\n",
       "⎢              17  ⎥\n",
       "⎢3/26  -6/13   ──  ⎥\n",
       "⎣              26  ⎦"
      ]
     },
     "execution_count": 53,
     "metadata": {},
     "output_type": "execute_result"
    }
   ],
   "source": [
    "proyectorS=proyector1+proyector2\n",
    "proyectorS"
   ]
  },
  {
   "cell_type": "code",
   "execution_count": 54,
   "metadata": {},
   "outputs": [
    {
     "data": {
      "image/png": "[encoded data removed]",
      "text/latex": [
       "$\\displaystyle \\left[\\begin{matrix}\\frac{25}{26} & \\frac{2}{13} & \\frac{3}{26}\\\\\\frac{2}{13} & \\frac{5}{13} & - \\frac{6}{13}\\\\\\frac{3}{26} & - \\frac{6}{13} & \\frac{17}{26}\\end{matrix}\\right]$"
      ],
      "text/plain": [
       "⎡ 25               ⎤\n",
       "⎢ ──   2/13   3/26 ⎥\n",
       "⎢ 26               ⎥\n",
       "⎢                  ⎥\n",
       "⎢2/13  5/13   -6/13⎥\n",
       "⎢                  ⎥\n",
       "⎢              17  ⎥\n",
       "⎢3/26  -6/13   ──  ⎥\n",
       "⎣              26  ⎦"
      ]
     },
     "execution_count": 54,
     "metadata": {},
     "output_type": "execute_result"
    }
   ],
   "source": [
    "proyectorS@proyectorS"
   ]
  },
  {
   "cell_type": "markdown",
   "metadata": {},
   "source": [
    "Confirmamos que el Operador $P$ es un operador de proyección"
   ]
  },
  {
   "cell_type": "markdown",
   "metadata": {},
   "source": [
    "### Suponga que $P$ actúa sobre un vector arbitrario $(x,y,z)$, ¿Cual es el producto punto del vector resultante con el vector $a_1 * a_2$?, ¿Es lo que se esperaba?"
   ]
  },
  {
   "cell_type": "code",
   "execution_count": 55,
   "metadata": {},
   "outputs": [
    {
     "data": {
      "image/png": "[encoded data removed]",
      "text/latex": [
       "$\\displaystyle \\left[\\begin{matrix}-2 & 1 & -2\\\\-2 & 1 & -2\\\\2 & -1 & 2\\end{matrix}\\right]$"
      ],
      "text/plain": [
       "⎡-2  1   -2⎤\n",
       "⎢          ⎥\n",
       "⎢-2  1   -2⎥\n",
       "⎢          ⎥\n",
       "⎣2   -1  2 ⎦"
      ]
     },
     "execution_count": 55,
     "metadata": {},
     "output_type": "execute_result"
    }
   ],
   "source": [
    "A = Matrix([1,1,-1])\n",
    "B = Matrix([-2,1,-2])\n",
    "a = A@B.transpose()\n",
    "a"
   ]
  },
  {
   "cell_type": "markdown",
   "metadata": {},
   "source": [
    "Tomando el vector arbitrario $(1,1,1)$ entonces tendriamos el mismo vector $P$"
   ]
  },
  {
   "cell_type": "code",
   "execution_count": 56,
   "metadata": {},
   "outputs": [
    {
     "data": {
      "image/png": "[encoded data removed]",
      "text/latex": [
       "$\\displaystyle \\left[\\begin{matrix}-2 & 1 & -2\\\\-2 & 1 & -2\\\\2 & -1 & 2\\end{matrix}\\right]$"
      ],
      "text/plain": [
       "⎡-2  1   -2⎤\n",
       "⎢          ⎥\n",
       "⎢-2  1   -2⎥\n",
       "⎢          ⎥\n",
       "⎣2   -1  2 ⎦"
      ]
     },
     "execution_count": 56,
     "metadata": {},
     "output_type": "execute_result"
    }
   ],
   "source": [
    "R = proyectorS@a\n",
    "R"
   ]
  },
  {
   "cell_type": "markdown",
   "metadata": {},
   "source": [
    "El resultado de aplicar el operador P en un vector arbitrario, es una especie de vector identidad con el pructo cruz entre $a_1$ y $a_2$."
   ]
  }
 ],
 "metadata": {
  "kernelspec": {
   "display_name": "Python 3",
   "language": "python",
   "name": "python3"
  },
  "language_info": {
   "codemirror_mode": {
    "name": "ipython",
    "version": 3
   },
   "file_extension": ".py",
   "mimetype": "text/x-python",
   "name": "python",
   "nbconvert_exporter": "python",
   "pygments_lexer": "ipython3",
   "version": "3.9.2"
  }
 },
 "nbformat": 4,
 "nbformat_minor": 4
}

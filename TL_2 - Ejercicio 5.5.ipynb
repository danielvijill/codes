{
 "cells": [
  {
   "cell_type": "code",
   "execution_count": 1,
   "metadata": {},
   "outputs": [],
   "source": [
    "import sympy as sp\n",
    "import numpy as np\n",
    "from sympy import init_printing\n",
    "init_printing(use_latex=True)\n",
    "from sympy import *\n",
    "    "
   ]
  },
  {
   "cell_type": "markdown",
   "metadata": {},
   "source": [
    "### 5.5 La transformación lineal T: $\\mathbb{R}^{3}$ $\\longrightarrow \\mathbb{R}^{3} $ se define como:\n",
    "### $$T (x_1, x_2, x_3) = (x_1 + x_2 −x_3, 2x_1 −x_3, x_1 + 2x_2).$$\n",
    "### Encuentre la representación matricial de T en:\n",
    "\n",
    "### a) La base estándar de $\\mathbb{R}^3$\n"
   ]
  },
  {
   "cell_type": "markdown",
   "metadata": {},
   "source": [
    "#### Para realizar este ejercicio es conveniente construir una función que nos retorne la trasformación lineal de un vector cualquiera en $\\mathbb{R}^3$"
   ]
  },
  {
   "cell_type": "code",
   "execution_count": 2,
   "metadata": {},
   "outputs": [],
   "source": [
    "x1, x2, x3,  = sp.symbols('x_1 , x_2, x_3')\n",
    "a1,a2,a3 = sp.symbols('a1,a2,a3')"
   ]
  },
  {
   "cell_type": "code",
   "execution_count": 3,
   "metadata": {},
   "outputs": [],
   "source": [
    "def T(a1, a2, a3):\n",
    "    e1 =a1+a2-a3\n",
    "    \n",
    "    e2 =2*a1-a3\n",
    "    \n",
    "    e3 =a1+2*a2\n",
    "    \n",
    "    return e1, e2, e3"
   ]
  },
  {
   "cell_type": "markdown",
   "metadata": {},
   "source": [
    "#### Para verificar que nuestra función esta bien construida, realizaremos una prueba con el vector $|b\\rangle = (x_1, x_2, x_3)$"
   ]
  },
  {
   "cell_type": "code",
   "execution_count": 4,
   "metadata": {},
   "outputs": [
    {
     "data": {
      "image/png": "[encoded data removed]",
      "text/latex": [
       "$\\displaystyle \\left( x_{1} + x_{2} - x_{3}, \\  2 x_{1} - x_{3}, \\  x_{1} + 2 x_{2}\\right)$"
      ],
      "text/plain": [
       "(x₁ + x₂ - x₃, 2⋅x₁ - x₃, x₁ + 2⋅x₂)"
      ]
     },
     "execution_count": 4,
     "metadata": {},
     "output_type": "execute_result"
    }
   ],
   "source": [
    "T(x1,x2,x3)"
   ]
  },
  {
   "cell_type": "markdown",
   "metadata": {},
   "source": [
    "#### Vamos a encontrar la representación matricial de T, es decir, queremos una matriz C de orden $3\\times3$, tal que $T(x, y,z) = C(x, y,z).$\n",
    "\n",
    "#### i) Primero tomaremos una base de $\\mathbb{R}^3$ y encontraremos las imágenes bajo T de esta base. Para este caso vamos a tomar como base de $\\mathbb{R}^3$ la base canónica {$|e_1\\rangle,|e_2\\rangle,|e_3\\rangle$}\n",
    "\n",
    "#### Como $|e_1\\rangle =(1, 0, 0) , |e_2\\rangle =(0, 1, 0)$ y $|e_3\\rangle = (0, 0, 1)$\n",
    "\n",
    "#### Entonces transformaremos cada uno de estos vectores haciendo uso de la función que construimos.\n"
   ]
  },
  {
   "cell_type": "code",
   "execution_count": 5,
   "metadata": {},
   "outputs": [
    {
     "data": {
      "image/png": "[encoded data removed]",
      "text/latex": [
       "$\\displaystyle \\left( 1, \\  2, \\  1\\right)$"
      ],
      "text/plain": [
       "(1, 2, 1)"
      ]
     },
     "metadata": {},
     "output_type": "display_data"
    },
    {
     "data": {
      "image/png": "[encoded data removed]",
      "text/latex": [
       "$\\displaystyle \\left( 1, \\  0, \\  2\\right)$"
      ],
      "text/plain": [
       "(1, 0, 2)"
      ]
     },
     "metadata": {},
     "output_type": "display_data"
    },
    {
     "data": {
      "image/png": "[encoded data removed]",
      "text/latex": [
       "$\\displaystyle \\left( -1, \\  -1, \\  0\\right)$"
      ],
      "text/plain": [
       "(-1, -1, 0)"
      ]
     },
     "metadata": {},
     "output_type": "display_data"
    }
   ],
   "source": [
    "display(T(1,0,0))\n",
    "display(T(0,1,0))\n",
    "display(T(0,0,1))"
   ]
  },
  {
   "cell_type": "markdown",
   "metadata": {},
   "source": [
    "#### ii) Vamos a construir la matriz C cuyas columnas son estos vectores $T(e_1), T(e_2)$ y $T(e_3)$\n"
   ]
  },
  {
   "cell_type": "code",
   "execution_count": 6,
   "metadata": {},
   "outputs": [],
   "source": [
    "C=Matrix([(1, 1, -1),(2,0,-1),(1,2,0)])"
   ]
  },
  {
   "cell_type": "code",
   "execution_count": 7,
   "metadata": {},
   "outputs": [
    {
     "data": {
      "image/png": "[encoded data removed]",
      "text/latex": [
       "$\\displaystyle \\left[\\begin{matrix}1 & 1 & -1\\\\2 & 0 & -1\\\\1 & 2 & 0\\end{matrix}\\right]$"
      ],
      "text/plain": [
       "⎡1  1  -1⎤\n",
       "⎢        ⎥\n",
       "⎢2  0  -1⎥\n",
       "⎢        ⎥\n",
       "⎣1  2  0 ⎦"
      ]
     },
     "execution_count": 7,
     "metadata": {},
     "output_type": "execute_result"
    }
   ],
   "source": [
    "C"
   ]
  },
  {
   "cell_type": "markdown",
   "metadata": {},
   "source": [
    "#### Entonces, si $|u\\rangle$ = $(x_1, x_2, x_3)$ es cualquier vector de $\\mathbb{R}^3$ \n"
   ]
  },
  {
   "cell_type": "markdown",
   "metadata": {},
   "source": [
    "$$C|u\\rangle =\n",
    "\\left(\n",
    "\\begin{matrix}\n",
    "1 & 1 & -1 \\\\\n",
    "2 & 0 & -1 \\\\\n",
    "1 & 2 & 0\n",
    "\\end{matrix}\n",
    "\\right)\n",
    "\\left(\n",
    "\\begin{matrix}\n",
    "x_1 \\\\\n",
    "x_2 \\\\\n",
    "x_3 \n",
    "\\end{matrix}\n",
    "\\right) = \n",
    "\\left(\n",
    "\\begin{matrix}\n",
    "x_1 +x_2 -x_3  \\\\\n",
    "2x_1-x_3\\\\\n",
    "x_1 +2x_2 \n",
    "\\end{matrix}\n",
    "\\right)=\n",
    "T(x_1,x_2,x_3) \n",
    "$$\n",
    "#### Por lo tanto, A es una representación matricial de T"
   ]
  },
  {
   "cell_type": "markdown",
   "metadata": {},
   "source": [
    "### b) la base consistente en  $|a_1\\rangle= (1, 1, 0), |a_2\\rangle = (1, 0, −1)$ y  $|a_ 3\\rangle=\n",
    "(0, 2, 3).$\n"
   ]
  },
  {
   "cell_type": "markdown",
   "metadata": {},
   "source": [
    "#### Encontraremos la representación matricial de T con respecto a la base B"
   ]
  },
  {
   "cell_type": "markdown",
   "metadata": {},
   "source": [
    "#### Primero tenemos que calcular la trasformada de cada uno de los vectores de la base con la que queremos trabajar"
   ]
  },
  {
   "cell_type": "markdown",
   "metadata": {},
   "source": [
    "$B=\n",
    "\\begin{Bmatrix}\n",
    "\\left(\n",
    "\\begin{matrix}\n",
    "1 \\\\\n",
    "1  \\\\\n",
    "0 \n",
    "\\end{matrix}\n",
    "\\right),\n",
    "\\left(\n",
    "\\begin{matrix}\n",
    "1  \\\\\n",
    "0 \\\\\n",
    "-1 \n",
    "\\end{matrix}\n",
    "\\right),\n",
    "\\left(\n",
    "\\begin{matrix}\n",
    "0  \\\\\n",
    "2  \\\\\n",
    "3 \n",
    "\\end{matrix}\n",
    "\\right)\n",
    "\\end{Bmatrix}\n",
    "$"
   ]
  },
  {
   "cell_type": "markdown",
   "metadata": {},
   "source": [
    "#### Realizamos el llamado a la función de tranformación y insertando los vectores de la nueva base como argumento de la función "
   ]
  },
  {
   "cell_type": "code",
   "execution_count": 8,
   "metadata": {},
   "outputs": [
    {
     "data": {
      "image/png": "[encoded data removed]",
      "text/latex": [
       "$\\displaystyle \\left( 2, \\  2, \\  3\\right)$"
      ],
      "text/plain": [
       "(2, 2, 3)"
      ]
     },
     "metadata": {},
     "output_type": "display_data"
    },
    {
     "data": {
      "image/png": "[encoded data removed]",
      "text/latex": [
       "$\\displaystyle \\left( 2, \\  3, \\  1\\right)$"
      ],
      "text/plain": [
       "(2, 3, 1)"
      ]
     },
     "metadata": {},
     "output_type": "display_data"
    },
    {
     "data": {
      "image/png": "[encoded data removed]",
      "text/latex": [
       "$\\displaystyle \\left( -1, \\  -3, \\  4\\right)$"
      ],
      "text/plain": [
       "(-1, -3, 4)"
      ]
     },
     "metadata": {},
     "output_type": "display_data"
    }
   ],
   "source": [
    "display(T(1,1,0))\n",
    "display(T(1,0,-1))\n",
    "display(T(0,2,3))"
   ]
  },
  {
   "cell_type": "markdown",
   "metadata": {},
   "source": [
    "#### Con el resultado de las tranformaciones plantearemos los sistemas de ecuaciones.\n",
    "\n",
    "$ \\alpha (1,1,0) + \\beta (1,0,-1) + \\gamma (0,2,3) = T_i(B) $"
   ]
  },
  {
   "cell_type": "markdown",
   "metadata": {},
   "source": [
    "\\begin{equation}\n",
    "\\left\\lbrace\n",
    "\\begin{array}{ll}\n",
    "\\alpha+\\beta =2\\\\\n",
    "\\alpha+2\\gamma =2\\\\\n",
    "-\\beta +3\\gamma =3\n",
    "\\end{array}\n",
    "\\right.\n",
    "\\end{equation}"
   ]
  },
  {
   "cell_type": "code",
   "execution_count": 9,
   "metadata": {},
   "outputs": [],
   "source": [
    "a1, a2, a3 =  sp.symbols('a1, a2, a3')\n",
    "\n",
    "R = Matrix([(1, 1, 0, 2), (1, 0, 2, 2), (0, -1, 3, 3)])\n"
   ]
  },
  {
   "cell_type": "code",
   "execution_count": 10,
   "metadata": {},
   "outputs": [
    {
     "data": {
      "image/png": "[encoded data removed]",
      "text/latex": [
       "$\\displaystyle \\left\\{ a_{1} : -4, \\  a_{2} : 6, \\  a_{3} : 3\\right\\}$"
      ],
      "text/plain": [
       "{a₁: -4, a₂: 6, a₃: 3}"
      ]
     },
     "execution_count": 10,
     "metadata": {},
     "output_type": "execute_result"
    }
   ],
   "source": [
    "solve_linear_system(R, a1, a2, a3)"
   ]
  },
  {
   "cell_type": "markdown",
   "metadata": {},
   "source": [
    "\\begin{equation}\n",
    "\\left\\lbrace\n",
    "\\begin{array}{ll}\n",
    "\\alpha+\\beta =2\\\\\n",
    "\\alpha+2\\gamma =3\\\\\n",
    "-\\beta +3\\gamma =1\n",
    "\\end{array}\n",
    "\\right.\n",
    "\\end{equation}"
   ]
  },
  {
   "cell_type": "code",
   "execution_count": 11,
   "metadata": {},
   "outputs": [],
   "source": [
    "b1, b2, b3 =  sp.symbols('b1, b2, b3')\n",
    "Q = Matrix([(1, 1, 0, 2), (1, 0, 2, 3), (0, -1, 3, 1)])\n"
   ]
  },
  {
   "cell_type": "code",
   "execution_count": 12,
   "metadata": {},
   "outputs": [
    {
     "data": {
      "image/png": "[encoded data removed]",
      "text/latex": [
       "$\\displaystyle \\left\\{ b_{1} : 3, \\  b_{2} : -1, \\  b_{3} : 0\\right\\}$"
      ],
      "text/plain": [
       "{b₁: 3, b₂: -1, b₃: 0}"
      ]
     },
     "execution_count": 12,
     "metadata": {},
     "output_type": "execute_result"
    }
   ],
   "source": [
    "solve_linear_system(Q, b1, b2, b3)"
   ]
  },
  {
   "cell_type": "markdown",
   "metadata": {},
   "source": [
    "\\begin{equation}\n",
    "\\left\\lbrace\n",
    "\\begin{array}{ll}\n",
    "\\alpha+2\\beta =-1\\\\\n",
    "\\alpha+2\\gamma =-3\\\\\n",
    "-\\beta +3\\gamma =4\n",
    "\\end{array}\n",
    "\\right.\n",
    "\\end{equation}"
   ]
  },
  {
   "cell_type": "code",
   "execution_count": 27,
   "metadata": {},
   "outputs": [],
   "source": [
    "c1, c2, c3 =  sp.symbols('c1, c2, c3')\n",
    "U = Matrix([(1, 1, 0, -1), (1, 0, 2, -3), (0, -1, 3, 4)])\n"
   ]
  },
  {
   "cell_type": "code",
   "execution_count": 14,
   "metadata": {},
   "outputs": [
    {
     "data": {
      "image/png": "[encoded data removed]",
      "text/latex": [
       "$\\displaystyle \\left\\{ c_{1} : -15, \\  c_{2} : 14, \\  c_{3} : 6\\right\\}$"
      ],
      "text/plain": [
       "{c₁: -15, c₂: 14, c₃: 6}"
      ]
     },
     "execution_count": 14,
     "metadata": {},
     "output_type": "execute_result"
    }
   ],
   "source": [
    "solve_linear_system(U, c1, c2, c3)"
   ]
  },
  {
   "cell_type": "markdown",
   "metadata": {},
   "source": [
    "#### por tanto nuestra matriz resultante es la representación matricial de T respecto a las bases  𝐵 .\n",
    "$$\n",
    "\\left(\n",
    "\\begin{matrix}\n",
    "-4 &  3 & -15 \\\\\n",
    "6  & -1 &  14\\\\\n",
    "3  &  0 &  6\n",
    "\\end{matrix}\n",
    "\\right)$$"
   ]
  },
  {
   "cell_type": "markdown",
   "metadata": {},
   "source": [
    "#### Otra forma de llegar a la representación matricial de T respecto a las bases  𝐵  es la siguiente."
   ]
  },
  {
   "cell_type": "markdown",
   "metadata": {},
   "source": [
    "#### i) Encontraremos la matriz de transición de las nuevas bases a la base canónica."
   ]
  },
  {
   "cell_type": "code",
   "execution_count": 15,
   "metadata": {},
   "outputs": [],
   "source": [
    "A=Matrix([(1,1,0),(1,0,2),(0,-1,3)]) "
   ]
  },
  {
   "cell_type": "markdown",
   "metadata": {},
   "source": [
    "###### Sea A = $\\left(\n",
    "\\begin{matrix}\n",
    "1 & 1 & 0 \\\\\n",
    "1 & 0 & 2 \\\\\n",
    "0 & -1 & 3\n",
    "\\end{matrix}\n",
    "\\right)$la matriz de transición de las nuevas bases a la base canónica.\n",
    "\n",
    "#### Ahora vamos a encontrar la matriz de transición de la base canónica a la base B, es decir, queremos encontrar $A^{-1}$\n"
   ]
  },
  {
   "cell_type": "code",
   "execution_count": 16,
   "metadata": {},
   "outputs": [
    {
     "data": {
      "image/png": "[encoded data removed]",
      "text/latex": [
       "$\\displaystyle \\left[\\begin{matrix}-2 & 3 & -2\\\\3 & -3 & 2\\\\1 & -1 & 1\\end{matrix}\\right]$"
      ],
      "text/plain": [
       "⎡-2  3   -2⎤\n",
       "⎢          ⎥\n",
       "⎢3   -3  2 ⎥\n",
       "⎢          ⎥\n",
       "⎣1   -1  1 ⎦"
      ]
     },
     "execution_count": 16,
     "metadata": {},
     "output_type": "execute_result"
    }
   ],
   "source": [
    "A.inv()#inversa de A"
   ]
  },
  {
   "cell_type": "markdown",
   "metadata": {},
   "source": [
    "#### ii)Utilizaremos la representacion matricial T referente a las bases canonicas que ya habiamos encontrado."
   ]
  },
  {
   "cell_type": "code",
   "execution_count": 17,
   "metadata": {},
   "outputs": [
    {
     "data": {
      "image/png": "[encoded data removed]",
      "text/latex": [
       "$\\displaystyle \\left[\\begin{matrix}1 & 1 & -1\\\\2 & 0 & -1\\\\1 & 2 & 0\\end{matrix}\\right]$"
      ],
      "text/plain": [
       "⎡1  1  -1⎤\n",
       "⎢        ⎥\n",
       "⎢2  0  -1⎥\n",
       "⎢        ⎥\n",
       "⎣1  2  0 ⎦"
      ]
     },
     "execution_count": 17,
     "metadata": {},
     "output_type": "execute_result"
    }
   ],
   "source": [
    "C"
   ]
  },
  {
   "cell_type": "markdown",
   "metadata": {},
   "source": [
    "#### iii) Vamos a usar el teorema 8.2 para encontrar la representación matricial de T con respecto a las bases $B$"
   ]
  },
  {
   "cell_type": "code",
   "execution_count": 18,
   "metadata": {},
   "outputs": [],
   "source": [
    "\n",
    "H=Matrix((A.inv())*C*A)# cambio"
   ]
  },
  {
   "cell_type": "code",
   "execution_count": 19,
   "metadata": {},
   "outputs": [
    {
     "data": {
      "image/png": "[encoded data removed]",
      "text/latex": [
       "$\\displaystyle \\left[\\begin{matrix}-4 & 3 & -15\\\\6 & -1 & 14\\\\3 & 0 & 6\\end{matrix}\\right]$"
      ],
      "text/plain": [
       "⎡-4  3   -15⎤\n",
       "⎢           ⎥\n",
       "⎢6   -1  14 ⎥\n",
       "⎢           ⎥\n",
       "⎣3   0    6 ⎦"
      ]
     },
     "execution_count": 19,
     "metadata": {},
     "output_type": "execute_result"
    }
   ],
   "source": [
    "H"
   ]
  },
  {
   "cell_type": "markdown",
   "metadata": {},
   "source": [
    "\n",
    "Sea $H=A^{-1}CA=$ $\n",
    "\\left(\n",
    "\\begin{matrix}\n",
    "-2 & 3 & -2 \\\\\n",
    "3 & -3 & 2 \\\\\n",
    "1 & -1 & 1\n",
    "\\end{matrix}\n",
    "\\right)\n",
    "$\n",
    "$\n",
    "\\left(\n",
    "\\begin{matrix}\n",
    "1 & 1 & -1 \\\\\n",
    "2 & 0 & -1 \\\\\n",
    "1 & 2 & 0\n",
    "\\end{matrix}\n",
    "\\right)\n",
    "$\n",
    "$\n",
    "\\left(\n",
    "\\begin{matrix}\n",
    "1 & 1 & 0 \\\\\n",
    "1 & 0 & 2 \\\\\n",
    "0 & -1 & 3\n",
    "\\end{matrix}\n",
    "\\right)=\n",
    "$\n",
    "$\n",
    "\\left(\n",
    "\\begin{matrix}\n",
    "-4 & 3 & -15 \\\\\n",
    "6 & -1 & 14 \\\\\n",
    "3 & 0 & 6\n",
    "\\end{matrix}\n",
    "\\right)$"
   ]
  },
  {
   "cell_type": "markdown",
   "metadata": {},
   "source": [
    "#### Realizaremos una comprabación tomado el verctor $(1, 2, 3)$ como ejemplo."
   ]
  },
  {
   "cell_type": "code",
   "execution_count": 20,
   "metadata": {},
   "outputs": [],
   "source": [
    "P=Matrix([(1),(2),(3)])#ejemplo"
   ]
  },
  {
   "cell_type": "code",
   "execution_count": 21,
   "metadata": {},
   "outputs": [
    {
     "data": {
      "image/png": "[encoded data removed]",
      "text/latex": [
       "$\\displaystyle \\left[\\begin{matrix}1\\\\2\\\\3\\end{matrix}\\right]$"
      ],
      "text/plain": [
       "⎡1⎤\n",
       "⎢ ⎥\n",
       "⎢2⎥\n",
       "⎢ ⎥\n",
       "⎣3⎦"
      ]
     },
     "execution_count": 21,
     "metadata": {},
     "output_type": "execute_result"
    }
   ],
   "source": [
    "P"
   ]
  },
  {
   "cell_type": "markdown",
   "metadata": {},
   "source": [
    "#### Posteriormente realizamos el producto de la matriz de transición de la base canónica a la base B con el vector de prueba"
   ]
  },
  {
   "cell_type": "code",
   "execution_count": 22,
   "metadata": {
    "scrolled": true
   },
   "outputs": [
    {
     "data": {
      "image/png": "[encoded data removed]",
      "text/latex": [
       "$\\displaystyle \\left[\\begin{matrix}-2\\\\3\\\\2\\end{matrix}\\right]$"
      ],
      "text/plain": [
       "⎡-2⎤\n",
       "⎢  ⎥\n",
       "⎢3 ⎥\n",
       "⎢  ⎥\n",
       "⎣2 ⎦"
      ]
     },
     "execution_count": 22,
     "metadata": {},
     "output_type": "execute_result"
    }
   ],
   "source": [
    "(A.inv())*P#Recuerde que A es la matriz que contiene los vectores de la base que queremos, colocados en forma de columnas.  "
   ]
  },
  {
   "cell_type": "markdown",
   "metadata": {},
   "source": [
    "\n",
    "\n",
    "\n",
    "\n",
    "\n",
    "#### Tambien necesitaremos la trasformacion del vector de prueba haciendo uso de la función que construimos."
   ]
  },
  {
   "cell_type": "code",
   "execution_count": 23,
   "metadata": {},
   "outputs": [
    {
     "data": {
      "image/png": "[encoded data removed]",
      "text/latex": [
       "$\\displaystyle \\left[\\begin{matrix}0\\\\-1\\\\5\\end{matrix}\\right]$"
      ],
      "text/plain": [
       "⎡0 ⎤\n",
       "⎢  ⎥\n",
       "⎢-1⎥\n",
       "⎢  ⎥\n",
       "⎣5 ⎦"
      ]
     },
     "execution_count": 23,
     "metadata": {},
     "output_type": "execute_result"
    }
   ],
   "source": [
    "Y=Matrix(T(1,2,3))#transformada del vector de prueba y almacenada en la Matriz Y.\n",
    "Y"
   ]
  },
  {
   "cell_type": "markdown",
   "metadata": {},
   "source": [
    " #### Comprobaremos que la matriz A es la representación matricial de T con respecto a las bases $B$ :\n",
    " "
   ]
  },
  {
   "cell_type": "markdown",
   "metadata": {},
   "source": [
    "#### Realizamos el producto de la matriz de transición de la base canónica a la base $B$ por la matriz de la transformada del vector de prueba"
   ]
  },
  {
   "cell_type": "code",
   "execution_count": 24,
   "metadata": {},
   "outputs": [
    {
     "data": {
      "image/png": "[encoded data removed]",
      "text/latex": [
       "$\\displaystyle \\left[\\begin{matrix}-13\\\\13\\\\6\\end{matrix}\\right]$"
      ],
      "text/plain": [
       "⎡-13⎤\n",
       "⎢   ⎥\n",
       "⎢13 ⎥\n",
       "⎢   ⎥\n",
       "⎣ 6 ⎦"
      ]
     },
     "execution_count": 24,
     "metadata": {},
     "output_type": "execute_result"
    }
   ],
   "source": [
    " (A.inv())*Y#con lo que se igula"
   ]
  },
  {
   "cell_type": "markdown",
   "metadata": {},
   "source": [
    "#### Por ultimo realizamos el producto de la representación matricial de T con respecto a la base  $𝐵$ por  la matriz de transición de la base canónica a la base $B$ y por la matriz asociada al   vector de prueba"
   ]
  },
  {
   "cell_type": "code",
   "execution_count": 25,
   "metadata": {},
   "outputs": [
    {
     "data": {
      "image/png": "[encoded data removed]",
      "text/latex": [
       "$\\displaystyle \\left[\\begin{matrix}-13\\\\13\\\\6\\end{matrix}\\right]$"
      ],
      "text/plain": [
       "⎡-13⎤\n",
       "⎢   ⎥\n",
       "⎢13 ⎥\n",
       "⎢   ⎥\n",
       "⎣ 6 ⎦"
      ]
     },
     "execution_count": 25,
     "metadata": {},
     "output_type": "execute_result"
    }
   ],
   "source": [
    "H*(A.inv())*P"
   ]
  },
  {
   "cell_type": "markdown",
   "metadata": {},
   "source": [
    "#### Y notamos que el resultado de estas dos operaciones es igual, por tanto A es la representación matricial de T respecto a las bases $B\n",
    "$."
   ]
  },
  {
   "cell_type": "code",
   "execution_count": 26,
   "metadata": {},
   "outputs": [
    {
     "data": {
      "image/png": "[encoded data removed]",
      "text/latex": [
       "$\\displaystyle \\left[\\begin{matrix}-13\\\\13\\\\6\\end{matrix}\\right]$"
      ],
      "text/plain": [
       "⎡-13⎤\n",
       "⎢   ⎥\n",
       "⎢13 ⎥\n",
       "⎢   ⎥\n",
       "⎣ 6 ⎦"
      ]
     },
     "metadata": {},
     "output_type": "display_data"
    },
    {
     "data": {
      "image/png": "[encoded data removed]",
      "text/latex": [
       "$\\displaystyle \\left[\\begin{matrix}-13\\\\13\\\\6\\end{matrix}\\right]$"
      ],
      "text/plain": [
       "⎡-13⎤\n",
       "⎢   ⎥\n",
       "⎢13 ⎥\n",
       "⎢   ⎥\n",
       "⎣ 6 ⎦"
      ]
     },
     "metadata": {},
     "output_type": "display_data"
    }
   ],
   "source": [
    "display((A.inv())*Y)\n",
    "display(H*(A.inv())*P)"
   ]
  },
  {
   "cell_type": "code",
   "execution_count": null,
   "metadata": {},
   "outputs": [],
   "source": []
  },
  {
   "cell_type": "code",
   "execution_count": null,
   "metadata": {},
   "outputs": [],
   "source": []
  }
 ],
 "metadata": {
  "kernelspec": {
   "display_name": "Python 3",
   "language": "python",
   "name": "python3"
  },
  "language_info": {
   "codemirror_mode": {
    "name": "ipython",
    "version": 3
   },
   "file_extension": ".py",
   "mimetype": "text/x-python",
   "name": "python",
   "nbconvert_exporter": "python",
   "pygments_lexer": "ipython3",
   "version": "3.9.1"
  }
 },
 "nbformat": 4,
 "nbformat_minor": 4
}

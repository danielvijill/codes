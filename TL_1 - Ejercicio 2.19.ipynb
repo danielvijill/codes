{
 "cells": [
  {
   "cell_type": "markdown",
   "metadata": {},
   "source": [
    "# Ejercicio 2.19 \n",
    "Demuestre que $T: R^2 \\rightarrow R^3$, dado por $T(x,y) = (x^2+y^2,x+y,2x-y)$"
   ]
  },
  {
   "cell_type": "code",
   "execution_count": 1,
   "metadata": {},
   "outputs": [],
   "source": [
    "import sympy as sp\n",
    "from sympy import init_printing\n",
    "init_printing(use_latex=True)\n",
    "from sympy import *"
   ]
  },
  {
   "cell_type": "markdown",
   "metadata": {},
   "source": [
    "Primero debemos crear el vector que representa la transfromada lineal"
   ]
  },
  {
   "cell_type": "code",
   "execution_count": 18,
   "metadata": {},
   "outputs": [
    {
     "data": {
      "image/png": "[encoded data removed]",
      "text/latex": [
       "$\\displaystyle \\left[\\begin{matrix}x^{2} + y^{2}\\\\x + y\\\\2 x - y\\end{matrix}\\right]$"
      ],
      "text/plain": [
       "⎡ 2    2⎤\n",
       "⎢x  + y ⎥\n",
       "⎢       ⎥\n",
       "⎢ x + y ⎥\n",
       "⎢       ⎥\n",
       "⎣2⋅x - y⎦"
      ]
     },
     "metadata": {},
     "output_type": "display_data"
    }
   ],
   "source": [
    "x, y, z, t = symbols('x, y, z, t')\n",
    "A = Matrix([[x*x+y*y],[x+y],[2*x-y]])\n",
    "display(A)"
   ]
  },
  {
   "cell_type": "markdown",
   "metadata": {},
   "source": [
    "Ahora comprobamos las 2 propiedades necesarias para demostrar que $T(x,y) = (x^2+y^2,x+y,2x-y)$ es una transformada lineal:\n",
    "\n",
    "$$T(u+v)=T(u)+T(v)$$\n",
    "\n",
    "$$T( a k)=a T(k)$$\n",
    "\n",
    "Siendo $u=(x_1,y_1), v=(x_2,y_2)  , k=(x,y), a \\in \\mathbb{R} $"
   ]
  },
  {
   "cell_type": "markdown",
   "metadata": {},
   "source": [
    "## 1. $T(u+v)=T(u)+T(v)$"
   ]
  },
  {
   "cell_type": "markdown",
   "metadata": {},
   "source": [
    "### $T(u+v)$"
   ]
  },
  {
   "cell_type": "code",
   "execution_count": 24,
   "metadata": {},
   "outputs": [
    {
     "data": {
      "image/png": "[encoded data removed]",
      "text/latex": [
       "$\\displaystyle \\left[\\begin{matrix}\\left(x_{1} + y_{1}\\right)^{2} + \\left(x_{2} + y_{2}\\right)^{2}\\\\x_{1} + x_{2} + y_{1} + y_{2}\\\\2 x_{1} - x_{2} + 2 y_{1} - y_{2}\\end{matrix}\\right]$"
      ],
      "text/plain": [
       "⎡         2            2⎤\n",
       "⎢(x₁ + y₁)  + (x₂ + y₂) ⎥\n",
       "⎢                       ⎥\n",
       "⎢   x₁ + x₂ + y₁ + y₂   ⎥\n",
       "⎢                       ⎥\n",
       "⎣ 2⋅x₁ - x₂ + 2⋅y₁ - y₂ ⎦"
      ]
     },
     "metadata": {},
     "output_type": "display_data"
    }
   ],
   "source": [
    "x_1, y_1, x_2, y_2 = symbols('x_1, y_1, x_2, y_2')\n",
    "A = Matrix([[(x_1+y_1)*(x_1+y_1)+(x_2+y_2)*(x_2+y_2)],[(x_1+y_1)+(x_2+y_2)],[2*(x_1+y_1)-(x_2+y_2)]])\n",
    "display(A)"
   ]
  },
  {
   "cell_type": "markdown",
   "metadata": {},
   "source": [
    "Lo que es igual a:"
   ]
  },
  {
   "cell_type": "code",
   "execution_count": 27,
   "metadata": {},
   "outputs": [
    {
     "data": {
      "image/png": "[encoded data removed]",
      "text/latex": [
       "$\\displaystyle \\left[\\begin{matrix}x_{1}^{2} + 2 x_{1} y_{1} + x_{2}^{2} + 2 x_{2} y_{2} + y_{1}^{2} + y_{2}^{2}\\\\x_{1} + x_{2} + y_{1} + y_{2}\\\\2 x_{1} - x_{2} + 2 y_{1} - y_{2}\\end{matrix}\\right]$"
      ],
      "text/plain": [
       "⎡  2               2               2     2⎤\n",
       "⎢x₁  + 2⋅x₁⋅y₁ + x₂  + 2⋅x₂⋅y₂ + y₁  + y₂ ⎥\n",
       "⎢                                         ⎥\n",
       "⎢            x₁ + x₂ + y₁ + y₂            ⎥\n",
       "⎢                                         ⎥\n",
       "⎣          2⋅x₁ - x₂ + 2⋅y₁ - y₂          ⎦"
      ]
     },
     "metadata": {},
     "output_type": "display_data"
    }
   ],
   "source": [
    "x_1, y_1, x_2, y_2 = symbols('x_1, y_1, x_2, y_2')\n",
    "A = Matrix([[x_1*x_1+2*x_1*y_1+y_1*y_1+x_2*x_2+2*x_2*y_2+y_2*y_2],[(x_1+y_1)+(x_2+y_2)],[2*(x_1+y_1)-(x_2+y_2)]])\n",
    "display(A)"
   ]
  },
  {
   "cell_type": "markdown",
   "metadata": {},
   "source": [
    "### $T(u)+T(v)$"
   ]
  },
  {
   "cell_type": "code",
   "execution_count": 31,
   "metadata": {},
   "outputs": [
    {
     "data": {
      "image/png": "[encoded data removed]",
      "text/latex": [
       "$\\displaystyle \\left[\\begin{matrix}x_{1}^{2} + x_{2}^{2} + y_{1}^{2} + y_{2}^{2}\\\\x_{1} + x_{2} + y_{1} + y_{2}\\\\2 x_{1} + 2 x_{2} - y_{1} - y_{2}\\end{matrix}\\right]$"
      ],
      "text/plain": [
       "⎡  2     2     2     2⎤\n",
       "⎢x₁  + x₂  + y₁  + y₂ ⎥\n",
       "⎢                     ⎥\n",
       "⎢  x₁ + x₂ + y₁ + y₂  ⎥\n",
       "⎢                     ⎥\n",
       "⎣2⋅x₁ + 2⋅x₂ - y₁ - y₂⎦"
      ]
     },
     "metadata": {},
     "output_type": "display_data"
    }
   ],
   "source": [
    "x_1, y_1, x_2, y_2 = symbols('x_1, y_1, x_2, y_2')\n",
    "A = Matrix([[x_1*x_1+y_1*y_1],[x_1+y_1],[2*x_1-y_1]])\n",
    "B = Matrix([[x_2*x_2+y_2*y_2],[x_2+y_2],[2*x_2-y_2]])\n",
    "C = A+B\n",
    "display(C)"
   ]
  },
  {
   "cell_type": "markdown",
   "metadata": {},
   "source": [
    "Analizando las matrices podemos decir que $T(u+v) \\neq T(u)+T(v)\n",
    "\n",
    "Nota: podemos afirmar que $T(u+v)$ no es una transfrmación lineal, pero seguiremos con la segunda propiedad de forma demostrativa."
   ]
  },
  {
   "cell_type": "markdown",
   "metadata": {},
   "source": [
    "## 1. $T( a k)= a T(k)$"
   ]
  },
  {
   "cell_type": "markdown",
   "metadata": {},
   "source": [
    "### $T( a k)$"
   ]
  },
  {
   "cell_type": "code",
   "execution_count": 36,
   "metadata": {},
   "outputs": [
    {
     "data": {
      "image/png": "[encoded data removed]",
      "text/latex": [
       "$\\displaystyle \\left[\\begin{matrix}a^{2} x^{2} + a^{2} y^{2}\\\\a x + a y\\\\2 a x - a y\\end{matrix}\\right]$"
      ],
      "text/plain": [
       "⎡ 2  2    2  2⎤\n",
       "⎢a ⋅x  + a ⋅y ⎥\n",
       "⎢             ⎥\n",
       "⎢  a⋅x + a⋅y  ⎥\n",
       "⎢             ⎥\n",
       "⎣ 2⋅a⋅x - a⋅y ⎦"
      ]
     },
     "metadata": {},
     "output_type": "display_data"
    }
   ],
   "source": [
    "x, y, a = symbols('x, y, a')\n",
    "A = Matrix([[(a*x)*(a*x)+(a*y)*(a*y)],[a*x+a*y],[2*a*x-a*y]])\n",
    "display(A)"
   ]
  },
  {
   "cell_type": "markdown",
   "metadata": {},
   "source": [
    "### $aT(k)$"
   ]
  },
  {
   "cell_type": "code",
   "execution_count": 41,
   "metadata": {},
   "outputs": [
    {
     "data": {
      "image/png": "[encoded data removed]",
      "text/latex": [
       "$\\displaystyle \\left[\\begin{matrix}a \\left(x^{2} + y^{2}\\right)\\\\a \\left(x + y\\right)\\\\a \\left(2 x - y\\right)\\end{matrix}\\right]$"
      ],
      "text/plain": [
       "⎡  ⎛ 2    2⎞⎤\n",
       "⎢a⋅⎝x  + y ⎠⎥\n",
       "⎢           ⎥\n",
       "⎢ a⋅(x + y) ⎥\n",
       "⎢           ⎥\n",
       "⎣a⋅(2⋅x - y)⎦"
      ]
     },
     "metadata": {},
     "output_type": "display_data"
    }
   ],
   "source": [
    "x, y, a = symbols('x, y, a')\n",
    "A = a*Matrix([[x*x+y*y],[x+y],[2*x-y]])\n",
    "display(A)"
   ]
  },
  {
   "cell_type": "code",
   "execution_count": 42,
   "metadata": {},
   "outputs": [
    {
     "data": {
      "image/png": "[encoded data removed]",
      "text/latex": [
       "$\\displaystyle \\left[\\begin{matrix}a x^{2} + a y^{2}\\\\a x + a y\\\\2 a x - a y\\end{matrix}\\right]$"
      ],
      "text/plain": [
       "⎡   2      2⎤\n",
       "⎢a⋅x  + a⋅y ⎥\n",
       "⎢           ⎥\n",
       "⎢ a⋅x + a⋅y ⎥\n",
       "⎢           ⎥\n",
       "⎣2⋅a⋅x - a⋅y⎦"
      ]
     },
     "metadata": {},
     "output_type": "display_data"
    }
   ],
   "source": [
    "x, y, a = symbols('x, y, a')\n",
    "A = Matrix([[a*x*x+a*y*y],[a*x+a*y],[2*a*x-a*y]])\n",
    "display(A)"
   ]
  },
  {
   "cell_type": "markdown",
   "metadata": {},
   "source": [
    "Analizando las matrices podemos decir que $T(ak) \\neq aT(k)$"
   ]
  },
  {
   "cell_type": "markdown",
   "metadata": {},
   "source": [
    "## Conclusión "
   ]
  },
  {
   "cell_type": "markdown",
   "metadata": {},
   "source": [
    "Debido que ninguna de las propiedades se demostró, podemos decir que $T(x,y) = (x^2+y^2,x+y,2x-y)$  no es una transformación lineal. "
   ]
  },
  {
   "cell_type": "code",
   "execution_count": null,
   "metadata": {},
   "outputs": [],
   "source": []
  }
 ],
 "metadata": {
  "kernelspec": {
   "display_name": "Python 3",
   "language": "python",
   "name": "python3"
  },
  "language_info": {
   "codemirror_mode": {
    "name": "ipython",
    "version": 3
   },
   "file_extension": ".py",
   "mimetype": "text/x-python",
   "name": "python",
   "nbconvert_exporter": "python",
   "pygments_lexer": "ipython3",
   "version": "3.9.1"
  }
 },
 "nbformat": 4,
 "nbformat_minor": 4
}

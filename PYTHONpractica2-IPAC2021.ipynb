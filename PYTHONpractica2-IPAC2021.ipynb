{
 "cells": [
  {
   "cell_type": "code",
   "execution_count": 50,
   "metadata": {},
   "outputs": [],
   "source": [
    "import sympy as sp\n",
    "import numpy as np\n",
    "import matplotlib.pyplot as plt\n",
    "from sympy import init_printing\n",
    "init_printing(use_latex=True)\n",
    "from sympy import *"
   ]
  },
  {
   "cell_type": "markdown",
   "metadata": {},
   "source": [
    "### Transformaciones Lineales\n",
    "#### 1. Dado las siguientes transformaciones, para cada una de ellas:\n",
    "\n",
    "* Identifique el dominio, codominio, Kernel, recorrido (realice los cálculos pertinentes si las respuestas no son obvias y si lo son justifique su respuesta), indique además a que campo están referidos los espacios vectoriales.\n",
    "* Utilice un par de vectores del dominio y aplicando la transformación en dichos vectores determine si dicha transformación es o no lineal.\n",
    "* Grafique por lo menos un par de vectores y su transformación (se le sugiere ver el código del ejemplo que le mostraré en la clase sincrónica.\n",
    "* Utilizando la base estándar en el dominio y en el contradominio, encuentre la representación matricial correspondiente para cada transformación. Sugerencia: utilice ya sea las funciones definidas def o lambda, para definir las transformaciones"
   ]
  },
  {
   "cell_type": "markdown",
   "metadata": {},
   "source": [
    "a.  $T\\left(\n",
    "\\begin{matrix}\n",
    "x  \\\\\n",
    "y \\\\\n",
    "\\end{matrix}\n",
    "\\right) =\n",
    "\\left(\n",
    "\\begin{matrix}\n",
    "x+y  \\\\\n",
    "x-y \\\\\n",
    "\\end{matrix}\n",
    "\\right)$"
   ]
  },
  {
   "cell_type": "markdown",
   "metadata": {},
   "source": [
    "El dominio de esta tranformacion lineal es el espacio $\\mathbb{R}^2$ debido a que el dominio es el espacio vectorial v donde se esta aplicando la tranformación, su codominio sera el espacio $\\mathbb{R}^2$, ya que el codominio es el espacio  𝑊  al cual  pertenece el resultado de aplicar la transformación."
   ]
  },
  {
   "cell_type": "markdown",
   "metadata": {},
   "source": [
    "Calculamos el nucleo de la transformación"
   ]
  },
  {
   "cell_type": "code",
   "execution_count": 2,
   "metadata": {},
   "outputs": [
    {
     "data": {
      "image/png": "[encoded data removed]",
      "text/latex": [
       "$\\displaystyle \\left[\\begin{matrix}1 & 1 & 0\\\\1 & -1 & 0\\end{matrix}\\right]$"
      ],
      "text/plain": [
       "⎡1  1   0⎤\n",
       "⎢        ⎥\n",
       "⎣1  -1  0⎦"
      ]
     },
     "execution_count": 2,
     "metadata": {},
     "output_type": "execute_result"
    }
   ],
   "source": [
    "b1, b2,b3 =symbols('b1, b2, b3')\n",
    "\n",
    "B1 = Matrix([(1, 1,0), (1, -1,0)])\n",
    "B1"
   ]
  },
  {
   "cell_type": "code",
   "execution_count": 3,
   "metadata": {},
   "outputs": [
    {
     "data": {
      "image/png": "[encoded data removed]",
      "text/latex": [
       "$\\displaystyle \\left[\\begin{matrix}1 & 1 & 0\\\\0 & -2 & 0\\end{matrix}\\right]$"
      ],
      "text/plain": [
       "⎡1  1   0⎤\n",
       "⎢        ⎥\n",
       "⎣0  -2  0⎦"
      ]
     },
     "execution_count": 3,
     "metadata": {},
     "output_type": "execute_result"
    }
   ],
   "source": [
    "L1,U1, _=B1.LUdecomposition()\n",
    "U1"
   ]
  },
  {
   "cell_type": "markdown",
   "metadata": {},
   "source": [
    "Por lo tanto el $Nu(T)=\n",
    "\\begin{Bmatrix}\n",
    "(x,y)\\in \\mathbb{R}^2/x=0 \\wedge y=0\n",
    "\\end{Bmatrix}$"
   ]
  },
  {
   "cell_type": "markdown",
   "metadata": {},
   "source": [
    "Calculamos el recorrido."
   ]
  },
  {
   "cell_type": "markdown",
   "metadata": {},
   "source": [
    "El recorrido sera la transformacion de la base del dominio.\n",
    "\n",
    " $T\\left(\n",
    "\\begin{matrix}\n",
    "1  \\\\\n",
    "0 \\\\\n",
    "\\end{matrix}\n",
    "\\right) =\n",
    "\\left(\n",
    "\\begin{matrix}\n",
    "1  \\\\\n",
    "0 \\\\\n",
    "\\end{matrix}\n",
    "\\right)$\n",
    "\n",
    " $T\\left(\n",
    "\\begin{matrix}\n",
    "0  \\\\\n",
    "1 \\\\\n",
    "\\end{matrix}\n",
    "\\right) =\n",
    "\\left(\n",
    "\\begin{matrix}\n",
    "1  \\\\\n",
    "-1 \\\\\n",
    "\\end{matrix}\n",
    "\\right)$\n",
    "\n"
   ]
  },
  {
   "cell_type": "markdown",
   "metadata": {},
   "source": [
    "Entonces, el conjunto generador del recorrido es "
   ]
  },
  {
   "cell_type": "markdown",
   "metadata": {},
   "source": [
    " $G=\n",
    "\\begin{Bmatrix}\n",
    "\\left(\n",
    "\\begin{matrix}\n",
    "1 \\\\\n",
    "0  \\\\\n",
    "\\end{matrix}\n",
    "\\right),\n",
    "\\left(\n",
    "\\begin{matrix}\n",
    "1  \\\\\n",
    "-1 \\\\\n",
    "\\end{matrix}\n",
    "\\right)\n",
    "\\end{Bmatrix}$\n"
   ]
  },
  {
   "cell_type": "markdown",
   "metadata": {},
   "source": [
    "Vamos a comprobar si es una transformación lineal."
   ]
  },
  {
   "cell_type": "markdown",
   "metadata": {},
   "source": [
    "\n",
    "$u=\\left(\n",
    "\\begin{matrix}\n",
    "x_1  \\\\\n",
    "y_1 \\\\\n",
    "\\end{matrix}\n",
    "\\right)$\n",
    "$v=\\left(\n",
    "\\begin{matrix}\n",
    "x_2  \\\\\n",
    "y_2 \\\\\n",
    "\\end{matrix}\n",
    "\\right)$\n",
    "\n",
    "$T(u+v)=T(u)+T(v)$\n",
    "\n",
    "$T\\left(\n",
    "\\begin{matrix}\n",
    "x_1+x_2  \\\\\n",
    "y_1+y_2 \\\\\n",
    "\\end{matrix}\n",
    "\\right)=$\n",
    "$\\left(\n",
    "\\begin{matrix}\n",
    "x_1+x_2+y_1+y_2  \\\\\n",
    "x_1+x_2-y_1-y_2 \\\\\n",
    "\\end{matrix}\n",
    "\\right)$\n",
    "\n",
    "\n",
    "$T\\left(\n",
    "\\begin{matrix}\n",
    "x_1  \\\\\n",
    "y_1 \\\\\n",
    "\\end{matrix}\n",
    "\\right)+$\n",
    "$T\\left(\n",
    "\\begin{matrix}\n",
    "x_2\\\\\n",
    "y_2\\\\\n",
    "\\end{matrix}\n",
    "\\right)=$\n",
    "$\\left(\n",
    "\\begin{matrix}\n",
    "x_1+y_1  \\\\\n",
    "x_1-y_1 \\\\\n",
    "\\end{matrix}\n",
    "\\right)+$\n",
    "$\\left(\n",
    "\\begin{matrix}\n",
    "x_2+y_2  \\\\\n",
    "x_2-y_2 \\\\\n",
    "\\end{matrix}\n",
    "\\right)=$\n",
    "$\\left(\n",
    "\\begin{matrix}\n",
    "x_1+x_2+y_1+y_2  \\\\\n",
    "x_1+x_2-y_1-y_2 \\\\\n",
    "\\end{matrix}\n",
    "\\right)$\n"
   ]
  },
  {
   "cell_type": "markdown",
   "metadata": {},
   "source": [
    "$T(\\alpha u)=\\alpha T(u)$\n",
    "\n",
    "$T\\left(\n",
    "\\begin{matrix}\n",
    "\\alpha x_1  \\\\\n",
    "\\alpha y_1 \\\\\n",
    "\\end{matrix}\n",
    "\\right)=$\n",
    "$\\left(\n",
    "\\begin{matrix}\n",
    " \\alpha x_1 + \\alpha y_1 \\\\\n",
    "\\alpha x_1 - \\alpha y_1\n",
    "\\end{matrix}\n",
    "\\right)=$\n",
    "$\\alpha \\left(\n",
    "\\begin{matrix}\n",
    "x_1+y_1  \\\\\n",
    "x_1-y_1 \\\\\n",
    "\\end{matrix}\n",
    "\\right)$\n",
    "\n",
    "Por lo tanto si es una transformacion lineal"
   ]
  },
  {
   "cell_type": "markdown",
   "metadata": {},
   "source": [
    "Ahora encontraremos su representacion matricial con respecto a la base estandar\n",
    "$A=\\left(\n",
    "\\begin{matrix}\n",
    "1 & 1\\\\\n",
    "0 & -1\\\\\n",
    "\\end{matrix}\n",
    "\\right)$\n",
    "$\\left(\n",
    "\\begin{matrix}\n",
    "x  \\\\\n",
    "y \\\\\n",
    "\\end{matrix}\n",
    "\\right)=$\n",
    "$T\\left(\n",
    "\\begin{matrix}\n",
    "x \\\\\n",
    "y \\\\\n",
    "\\end{matrix}\n",
    "\\right)$"
   ]
  },
  {
   "cell_type": "markdown",
   "metadata": {},
   "source": [
    "Ahora graficaremos las transformaciones"
   ]
  },
  {
   "cell_type": "markdown",
   "metadata": {},
   "source": [
    "a) $v_1 = (3,1)$, $v_2 = (-1,2) $$\\\\$\n",
    "$T(v_1) = (4,2)$, $T(v_2)= (1,-3)$"
   ]
  },
  {
   "cell_type": "code",
   "execution_count": 51,
   "metadata": {},
   "outputs": [
    {
     "data": {
      "text/plain": [
       "<matplotlib.patches.FancyArrow at 0x267cac0d5e0>"
      ]
     },
     "execution_count": 51,
     "metadata": {},
     "output_type": "execute_result"
    },
    {
     "data": {
      "image/png": "[encoded data removed]",
      "text/plain": [
       "<Figure size 432x288 with 1 Axes>"
      ]
     },
     "metadata": {
      "needs_background": "light"
     },
     "output_type": "display_data"
    }
   ],
   "source": [
    "plt.arrow(0, 0, 4, 2, head_width=0.05, head_length=0.1, fc='k', ec='k')\n",
    "plt.arrow(0, 0, 1, -3, head_width=0.05, head_length=0.1, fc='k', ec='k')"
   ]
  },
  {
   "cell_type": "code",
   "execution_count": null,
   "metadata": {},
   "outputs": [],
   "source": []
  },
  {
   "cell_type": "markdown",
   "metadata": {},
   "source": [
    "b.  $T\\left(\n",
    "\\begin{matrix}\n",
    "x  \\\\\n",
    "y \\\\\n",
    "\\end{matrix}\n",
    "\\right) =\n",
    "\\left(\n",
    "\\begin{matrix}\n",
    "xCos\\theta-ySin\\theta  \\\\\n",
    "xSin\\theta+yCos\\theta \\\\\n",
    "\\end{matrix}\n",
    "\\right)$"
   ]
  },
  {
   "cell_type": "markdown",
   "metadata": {},
   "source": [
    "El dominio de esta tranformacion lineal es el espacio $\\mathbb{R}^2$ debido a que el dominio es el espacio vectorial v donde se esta aplicando la tranformación, su codominio sera el espacio $\\mathbb{R}^2$, ya que el codominio es el espacio  𝑊  al cual  pertenece el resultado de aplicar la transformación."
   ]
  },
  {
   "cell_type": "markdown",
   "metadata": {},
   "source": [
    "Calculamos el nucleo "
   ]
  },
  {
   "cell_type": "code",
   "execution_count": 4,
   "metadata": {},
   "outputs": [
    {
     "data": {
      "text/latex": [
       "$\\displaystyle \\left[\\begin{matrix}CosΘ & - SinΘ & 0\\\\SinΘ & CosΘ & 0\\end{matrix}\\right]$"
      ],
      "text/plain": [
       "⎡CosΘ  -SinΘ  0⎤\n",
       "⎢              ⎥\n",
       "⎣SinΘ  CosΘ   0⎦"
      ]
     },
     "execution_count": 4,
     "metadata": {},
     "output_type": "execute_result"
    }
   ],
   "source": [
    "b1, b2,b3=symbols('b1, b2, b3')\n",
    "c,s=symbols('CosΘ,SinΘ')\n",
    "\n",
    "B2 = Matrix([(c, -s,0), (s, c,0)])\n",
    "B2"
   ]
  },
  {
   "cell_type": "code",
   "execution_count": 5,
   "metadata": {},
   "outputs": [
    {
     "data": {
      "text/latex": [
       "$\\displaystyle \\left[\\begin{matrix}CosΘ & - SinΘ & 0\\\\0 & CosΘ + \\frac{SinΘ^{2}}{CosΘ} & 0\\end{matrix}\\right]$"
      ],
      "text/plain": [
       "⎡CosΘ     -SinΘ      0⎤\n",
       "⎢                     ⎥\n",
       "⎢                 2   ⎥\n",
       "⎢             SinΘ    ⎥\n",
       "⎢ 0    CosΘ + ─────  0⎥\n",
       "⎣              CosΘ   ⎦"
      ]
     },
     "execution_count": 5,
     "metadata": {},
     "output_type": "execute_result"
    }
   ],
   "source": [
    "L2,U2, _=B2.LUdecomposition()\n",
    "U2"
   ]
  },
  {
   "cell_type": "markdown",
   "metadata": {},
   "source": [
    "Por lo tanto el $Nu(T)=\n",
    "\\begin{Bmatrix}\n",
    "(x,y) \\in \\mathbb{R}^2/x=0 \\wedge y=0\n",
    "\\end{Bmatrix}$"
   ]
  },
  {
   "cell_type": "markdown",
   "metadata": {},
   "source": [
    "Calculamos el recorrido."
   ]
  },
  {
   "cell_type": "markdown",
   "metadata": {},
   "source": [
    "El recorrido sera la transformacion de la base del dominio.\n",
    "\n",
    " $T\\left(\n",
    "\\begin{matrix}\n",
    "1  \\\\\n",
    "0 \\\\\n",
    "\\end{matrix}\n",
    "\\right) =\n",
    "\\left(\n",
    "\\begin{matrix}\n",
    " Cos\\theta\\\\\n",
    " Sin\\theta\\\\\n",
    "\\end{matrix}\n",
    "\\right)$\n",
    "\n",
    " $T\\left(\n",
    "\\begin{matrix}\n",
    "0  \\\\\n",
    "1 \\\\\n",
    "\\end{matrix}\n",
    "\\right) =\n",
    "\\left(\n",
    "\\begin{matrix}\n",
    "-Sin\\theta\\\\\n",
    "Cos\\theta\\\\\n",
    "\\end{matrix}\n",
    "\\right)$\n"
   ]
  },
  {
   "cell_type": "markdown",
   "metadata": {},
   "source": [
    "Entonces, el conjunto generador del recorrido es "
   ]
  },
  {
   "cell_type": "markdown",
   "metadata": {},
   "source": [
    " $G=\n",
    "\\begin{Bmatrix}\n",
    "\\left(\n",
    "\\begin{matrix}\n",
    "Cos\\theta \\\\\n",
    "Sin\\theta  \\\\\n",
    "\\end{matrix}\n",
    "\\right),\n",
    "\\left(\n",
    "\\begin{matrix}\n",
    "-Sin\\theta  \\\\\n",
    "Cos\\theta\n",
    "\\end{matrix}\n",
    "\\right)\n",
    "\\end{Bmatrix}$\n"
   ]
  },
  {
   "cell_type": "markdown",
   "metadata": {},
   "source": [
    "Vamos a comprobar si es una transformación lineal."
   ]
  },
  {
   "cell_type": "markdown",
   "metadata": {},
   "source": [
    "$u=\\left(\n",
    "\\begin{matrix}\n",
    "x_1  \\\\\n",
    "y_1 \\\\\n",
    "\\end{matrix}\n",
    "\\right)$\n",
    "$v=\\left(\n",
    "\\begin{matrix}\n",
    "x_2  \\\\\n",
    "y_2 \\\\\n",
    "\\end{matrix}\n",
    "\\right)$\n",
    "\n",
    "$T(u+v)=T(u)+T(v)$\n",
    "\n",
    "$T\\left(\n",
    "\\begin{matrix}\n",
    "x_1+x_2  \\\\\n",
    "y_1+y_2 \\\\\n",
    "\\end{matrix}\n",
    "\\right)=$\n",
    "$\\left(\n",
    "\\begin{matrix}\n",
    "x_1Cos\\theta+x_2Cos\\theta-y_1Sin\\theta-y_2Sin\\theta  \\\\\n",
    "x_1Sin\\theta+x_2Sin\\theta+y_1Cos\\theta+y_2Cos\\theta \\\\\n",
    "\\end{matrix}\n",
    "\\right)$\n",
    "\n",
    "\n",
    "$T\\left(\n",
    "\\begin{matrix}\n",
    "x_1  \\\\\n",
    "y_1 \\\\\n",
    "\\end{matrix}\n",
    "\\right)+$\n",
    "$T\\left(\n",
    "\\begin{matrix}\n",
    "x_2\\\\\n",
    "y_2\\\\\n",
    "\\end{matrix}\n",
    "\\right)=$\n",
    "$\\left(\n",
    "\\begin{matrix}\n",
    "x_1Cos\\theta-y_1Sin\\theta  \\\\\n",
    "x_1Sin\\theta+y_1Cos\\theta \\\\\n",
    "\\end{matrix}\n",
    "\\right)+$\n",
    "$\\left(\n",
    "\\begin{matrix}\n",
    "x_2Cos\\theta-y_2Sin\\theta  \\\\\n",
    "x_2Sin\\theta+y_2Cos\\theta \\\\\n",
    "\\end{matrix}\n",
    "\\right)=$\n",
    "$\\left(\n",
    "\\begin{matrix}\n",
    "x_1Cos\\theta+x_2Cos\\theta-y_1Sin\\theta-y_2Sin\\theta  \\\\\n",
    "x_1Sin\\theta+x_2Sin\\theta+y_1Cos\\theta+y_2Cos\\theta \\\\\n",
    "\\end{matrix}\n",
    "\\right)$"
   ]
  },
  {
   "cell_type": "markdown",
   "metadata": {},
   "source": [
    "$T(\\alpha u)=\\alpha T(u)$\n",
    "\n",
    "$T\\left(\n",
    "\\begin{matrix}\n",
    "\\alpha x_1  \\\\\n",
    "\\alpha y_1 \\\\\n",
    "\\end{matrix}\n",
    "\\right)=$\n",
    "$\\left(\n",
    "\\begin{matrix}\n",
    " \\alpha x_1Cos\\theta - \\alpha y_1Sin\\theta \\\\\n",
    "\\alpha x_1Sin\\theta + \\alpha y_1Cos\\theta\n",
    "\\end{matrix}\n",
    "\\right)=$\n",
    "$\\alpha \\left(\n",
    "\\begin{matrix}\n",
    "x_1Cos\\theta-y_1Sin\\theta  \\\\\n",
    "x_1Sin\\theta+y_1Cos\\theta \\\\\n",
    "\\end{matrix}\n",
    "\\right)$\n",
    "\n",
    "Por lo tanto si es una transformacion lineal"
   ]
  },
  {
   "cell_type": "markdown",
   "metadata": {},
   "source": [
    "Ahora encontraremos su representacion matricial con respecto a la base estandar\n",
    "$A=\\left(\n",
    "\\begin{matrix}\n",
    "Cos\\theta & -Sin\\theta\\\\\n",
    "Sin\\theta & Cos\\theta\\\\\n",
    "\\end{matrix}\n",
    "\\right)$\n",
    "$\\left(\n",
    "\\begin{matrix}\n",
    "x  \\\\\n",
    "y \\\\\n",
    "\\end{matrix}\n",
    "\\right)=$\n",
    "$T\\left(\n",
    "\\begin{matrix}\n",
    "x \\\\\n",
    "y \\\\\n",
    "\\end{matrix}\n",
    "\\right)$"
   ]
  },
  {
   "cell_type": "markdown",
   "metadata": {},
   "source": [
    "b) $v_1 = (3,1)$, $v_2 = (-1,2) $, $\\theta = \\pi/2$ $\\\\$\n",
    "$T(v_1) = (3cos(\\pi/2)-sin(\\pi/2),3sin(\\pi/2)+cos(\\pi/2))$, $T(v_2)= (-cos(\\pi/2)+2sin(\\pi/2),-sin(\\pi/2)+2cos(\\pi/2))$"
   ]
  },
  {
   "cell_type": "code",
   "execution_count": 52,
   "metadata": {},
   "outputs": [
    {
     "data": {
      "text/plain": [
       "<matplotlib.patches.FancyArrow at 0x267caca4d30>"
      ]
     },
     "execution_count": 52,
     "metadata": {},
     "output_type": "execute_result"
    },
    {
     "data": {
      "image/png": "[encoded data removed]",
      "text/plain": [
       "<Figure size 432x288 with 1 Axes>"
      ]
     },
     "metadata": {
      "needs_background": "light"
     },
     "output_type": "display_data"
    }
   ],
   "source": [
    "plt.arrow(0, 0, 3, 1, head_width=0.05, head_length=0.1, fc='k', ec='k')\n",
    "plt.arrow(0, 0, -1, 2,head_width=0.05, head_length=0.1, fc='k', ec='k')"
   ]
  },
  {
   "cell_type": "code",
   "execution_count": 53,
   "metadata": {},
   "outputs": [
    {
     "data": {
      "text/plain": [
       "<matplotlib.patches.FancyArrow at 0x267caccb520>"
      ]
     },
     "execution_count": 53,
     "metadata": {},
     "output_type": "execute_result"
    },
    {
     "data": {
      "image/png": "[encoded data removed]",
      "text/plain": [
       "<Figure size 432x288 with 1 Axes>"
      ]
     },
     "metadata": {
      "needs_background": "light"
     },
     "output_type": "display_data"
    }
   ],
   "source": [
    "plt.arrow(0, 0, -1, 3, head_width=0.05, head_length=0.1, fc='k', ec='k')\n",
    "plt.arrow(0, 0, 2, -1, head_width=0.05, head_length=0.1, fc='k', ec='k')"
   ]
  },
  {
   "cell_type": "code",
   "execution_count": null,
   "metadata": {},
   "outputs": [],
   "source": []
  },
  {
   "cell_type": "markdown",
   "metadata": {},
   "source": []
  },
  {
   "cell_type": "code",
   "execution_count": null,
   "metadata": {},
   "outputs": [],
   "source": []
  },
  {
   "cell_type": "markdown",
   "metadata": {},
   "source": [
    "c.  $T\\left(\n",
    "\\begin{matrix}\n",
    "x  \\\\\n",
    "y \\\\\n",
    "\\end{matrix}\n",
    "\\right) =\n",
    "\\left(\n",
    "\\begin{matrix}\n",
    "x+iy  \\\\\n",
    "ix+y \\\\\n",
    "\\end{matrix}\n",
    "\\right)$"
   ]
  },
  {
   "cell_type": "markdown",
   "metadata": {},
   "source": [
    "El dominio de esta tranformacion lineal es el espacio $\\mathbb{R}^2$ debido a que el dominio es el espacio vectorial v donde se esta aplicando la tranformación, su codominio sera el espacio $\\mathbb{R}^2$, ya que el codominio es el espacio  𝑊  al cual  pertenece el resultado de aplicar la transformación."
   ]
  },
  {
   "cell_type": "code",
   "execution_count": null,
   "metadata": {},
   "outputs": [],
   "source": []
  },
  {
   "cell_type": "code",
   "execution_count": 6,
   "metadata": {},
   "outputs": [
    {
     "data": {
      "image/png": "[encoded data removed]",
      "text/latex": [
       "$\\displaystyle \\left[\\begin{matrix}1 & i & 0\\\\i & -1 & 0\\end{matrix}\\right]$"
      ],
      "text/plain": [
       "⎡1  ⅈ   0⎤\n",
       "⎢        ⎥\n",
       "⎣ⅈ  -1  0⎦"
      ]
     },
     "execution_count": 6,
     "metadata": {},
     "output_type": "execute_result"
    }
   ],
   "source": [
    "b1, b2,b3 =symbols('b1, b2, b3')\n",
    "\n",
    "B3 = Matrix([(1, I,0), (I, -1,0)])\n",
    "B3"
   ]
  },
  {
   "cell_type": "code",
   "execution_count": 7,
   "metadata": {},
   "outputs": [
    {
     "data": {
      "image/png": "[encoded data removed]",
      "text/latex": [
       "$\\displaystyle \\left[\\begin{matrix}1 & i & 0\\\\0 & 0 & 0\\end{matrix}\\right]$"
      ],
      "text/plain": [
       "⎡1  ⅈ  0⎤\n",
       "⎢       ⎥\n",
       "⎣0  0  0⎦"
      ]
     },
     "execution_count": 7,
     "metadata": {},
     "output_type": "execute_result"
    }
   ],
   "source": [
    "L3,U3, _=B3.LUdecomposition()\n",
    "U3"
   ]
  },
  {
   "cell_type": "markdown",
   "metadata": {},
   "source": [
    "Por lo tanto el $Nu(T)=\n",
    "\\begin{Bmatrix}\n",
    "(x,y) \\in \\mathbb{C}^2/x+iy=0\n",
    "\\end{Bmatrix}$"
   ]
  },
  {
   "cell_type": "markdown",
   "metadata": {},
   "source": [
    "Calculamos el recorrido."
   ]
  },
  {
   "cell_type": "markdown",
   "metadata": {},
   "source": [
    "El recorrido sera la transformacion de la base del dominio.\n",
    "\n",
    " $T\\left(\n",
    "\\begin{matrix}\n",
    "1  \\\\\n",
    "0 \\\\\n",
    "\\end{matrix}\n",
    "\\right) =\n",
    "\\left(\n",
    "\\begin{matrix}\n",
    " 1\\\\\n",
    " i\\\\\n",
    "\\end{matrix}\n",
    "\\right)$\n",
    "\n",
    " $T\\left(\n",
    "\\begin{matrix}\n",
    "0  \\\\\n",
    "1 \\\\\n",
    "\\end{matrix}\n",
    "\\right) =\n",
    "\\left(\n",
    "\\begin{matrix}\n",
    "i\\\\\n",
    "1\\\\\n",
    "\\end{matrix}\n",
    "\\right)$\n"
   ]
  },
  {
   "cell_type": "markdown",
   "metadata": {},
   "source": [
    " Entonces, el conjunto generador del recorrido es \n",
    " \n",
    " $G=\n",
    "\\begin{Bmatrix}\n",
    "\\left(\n",
    "\\begin{matrix}\n",
    "1 \\\\\n",
    "i\\\\\n",
    "\\end{matrix}\n",
    "\\right),\n",
    "\\left(\n",
    "\\begin{matrix}\n",
    "i\\\\\n",
    "1\n",
    "\\end{matrix}\n",
    "\\right)\n",
    "\\end{Bmatrix}$"
   ]
  },
  {
   "cell_type": "markdown",
   "metadata": {},
   "source": [
    "Vamos a comprobar si es una transformación lineal."
   ]
  },
  {
   "cell_type": "markdown",
   "metadata": {},
   "source": [
    "$u=\\left(\n",
    "\\begin{matrix}\n",
    "x_1  \\\\\n",
    "y_1 \\\\\n",
    "\\end{matrix}\n",
    "\\right)$\n",
    "$v=\\left(\n",
    "\\begin{matrix}\n",
    "x_2  \\\\\n",
    "y_2 \\\\\n",
    "\\end{matrix}\n",
    "\\right)$\n",
    "\n",
    "$T(u+v)=T(u)+T(v)$\n",
    "\n",
    "$T\\left(\n",
    "\\begin{matrix}\n",
    "x_1+x_2  \\\\\n",
    "y_1+y_2 \\\\\n",
    "\\end{matrix}\n",
    "\\right)=$\n",
    "$\\left(\n",
    "\\begin{matrix}\n",
    "x_1+x_2-i(y_1+y_2)  \\\\\n",
    "i(x_1+x_2)+y_1+y_2 \\\\\n",
    "\\end{matrix}\n",
    "\\right)$\n",
    "\n",
    "\n",
    "$T\\left(\n",
    "\\begin{matrix}\n",
    "x_1  \\\\\n",
    "y_1 \\\\\n",
    "\\end{matrix}\n",
    "\\right)+$\n",
    "$T\\left(\n",
    "\\begin{matrix}\n",
    "x_2\\\\\n",
    "y_2\\\\\n",
    "\\end{matrix}\n",
    "\\right)=$\n",
    "$\\left(\n",
    "\\begin{matrix}\n",
    "x_1-iy_1  \\\\\n",
    "ix_1+y_1 \\\\\n",
    "\\end{matrix}\n",
    "\\right)+$\n",
    "$\\left(\n",
    "\\begin{matrix}\n",
    "x_2-iy_2  \\\\\n",
    "ix_2+y_2 \\\\\n",
    "\\end{matrix}\n",
    "\\right)=$\n",
    "$\\left(\n",
    "\\begin{matrix}\n",
    "x_1+x_2-iy_1-iy_2  \\\\\n",
    "ix_1+ix_2+y_1+y_2 \\\\\n",
    "\\end{matrix}\n",
    "\\right)$"
   ]
  },
  {
   "cell_type": "markdown",
   "metadata": {},
   "source": [
    "$T(\\alpha u)=\\alpha T(u)$\n",
    "\n",
    "$T\\left(\n",
    "\\begin{matrix}\n",
    "\\alpha x_1  \\\\\n",
    "\\alpha y_1 \\\\\n",
    "\\end{matrix}\n",
    "\\right)=$\n",
    "$\\left(\n",
    "\\begin{matrix}\n",
    " \\alpha x_1 + \\alpha iy_1 \\\\\n",
    "\\alpha ix_1 + \\alpha y_1\n",
    "\\end{matrix}\n",
    "\\right)=$\n",
    "$\\alpha \\left(\n",
    "\\begin{matrix}\n",
    "x_1+iy_1  \\\\\n",
    "ix_1+y_1 \\\\\n",
    "\\end{matrix}\n",
    "\\right)$\n",
    "\n",
    "Por lo tanto si es una transformacion lineal"
   ]
  },
  {
   "cell_type": "markdown",
   "metadata": {},
   "source": [
    "Ahora encontraremos su representacion matricial con respecto a la base estandar\n",
    "$A=\\left(\n",
    "\\begin{matrix}\n",
    "1 & i\\\\\n",
    "i & 1\\\\\n",
    "\\end{matrix}\n",
    "\\right)$\n",
    "$\\left(\n",
    "\\begin{matrix}\n",
    "x  \\\\\n",
    "y \\\\\n",
    "\\end{matrix}\n",
    "\\right)=$\n",
    "$T\\left(\n",
    "\\begin{matrix}\n",
    "x \\\\\n",
    "y \\\\\n",
    "\\end{matrix}\n",
    "\\right)$"
   ]
  },
  {
   "cell_type": "markdown",
   "metadata": {},
   "source": [
    "c) $v_1 = (3,1)$, $v_2 = (-1,2) $$\\\\$\n",
    "$T(v_1) = (3-i,1+3i)$, $T(v_2)= (-1+2i,2-i)$"
   ]
  },
  {
   "cell_type": "code",
   "execution_count": 54,
   "metadata": {},
   "outputs": [
    {
     "data": {
      "text/plain": [
       "<matplotlib.patches.FancyArrow at 0x267cbd4da60>"
      ]
     },
     "execution_count": 54,
     "metadata": {},
     "output_type": "execute_result"
    },
    {
     "data": {
      "image/png": "[encoded data removed]",
      "text/plain": [
       "<Figure size 432x288 with 1 Axes>"
      ]
     },
     "metadata": {
      "needs_background": "light"
     },
     "output_type": "display_data"
    }
   ],
   "source": [
    "plt.arrow(0, 0, 3, 1, head_width=0.05, head_length=0.1, fc='k', ec='k')\n",
    "plt.arrow(0, 0, -1, 2,head_width=0.05, head_length=0.1, fc='k', ec='k')"
   ]
  },
  {
   "cell_type": "code",
   "execution_count": 55,
   "metadata": {},
   "outputs": [
    {
     "data": {
      "text/plain": [
       "<matplotlib.patches.FancyArrow at 0x267cbe23f10>"
      ]
     },
     "execution_count": 55,
     "metadata": {},
     "output_type": "execute_result"
    },
    {
     "data": {
      "image/png": "[encoded data removed]",
      "text/plain": [
       "<Figure size 432x288 with 1 Axes>"
      ]
     },
     "metadata": {
      "needs_background": "light"
     },
     "output_type": "display_data"
    }
   ],
   "source": [
    "plt.arrow(0, 0, 3, -1, head_width=0.05, head_length=0.1, fc='k', ec='k')\n",
    "plt.arrow(0, 0, 1, 3,head_width=0.05, head_length=0.1, fc='k', ec='k')\n",
    "plt.arrow(0, 0, -1, 2, head_width=0.05, head_length=0.1, fc='k', ec='k')\n",
    "plt.arrow(0, 0, 2, -1,head_width=0.05, head_length=0.1, fc='k', ec='k')"
   ]
  },
  {
   "cell_type": "markdown",
   "metadata": {},
   "source": [
    "d.  $T\\left(\n",
    "\\begin{matrix}\n",
    "x  \\\\\n",
    "y \\\\\n",
    "\\end{matrix}\n",
    "\\right) =\n",
    "\\left(\n",
    "\\begin{matrix}\n",
    "i\\frac{x}{\\sqrt{2}}-i\\frac{y}{\\sqrt{2}} \\\\\n",
    " \\frac{x}{\\sqrt{2}}+\\frac{y}{\\sqrt{2}}\\\\\n",
    "\\end{matrix}\n",
    "\\right)$"
   ]
  },
  {
   "cell_type": "code",
   "execution_count": null,
   "metadata": {},
   "outputs": [],
   "source": []
  },
  {
   "cell_type": "code",
   "execution_count": null,
   "metadata": {},
   "outputs": [],
   "source": []
  },
  {
   "cell_type": "code",
   "execution_count": 8,
   "metadata": {},
   "outputs": [
    {
     "data": {
      "image/png": "[encoded data removed]",
      "text/latex": [
       "$\\displaystyle \\left[\\begin{matrix}\\frac{\\sqrt{2} i}{2} & - \\frac{\\sqrt{2} i}{2} & 0\\\\\\frac{\\sqrt{2}}{2} & \\frac{\\sqrt{2}}{2} & 0\\end{matrix}\\right]$"
      ],
      "text/plain": [
       "⎡√2⋅ⅈ  -√2⋅ⅈ    ⎤\n",
       "⎢────  ──────  0⎥\n",
       "⎢ 2      2      ⎥\n",
       "⎢               ⎥\n",
       "⎢ √2     √2     ⎥\n",
       "⎢ ──     ──    0⎥\n",
       "⎣ 2      2      ⎦"
      ]
     },
     "execution_count": 8,
     "metadata": {},
     "output_type": "execute_result"
    }
   ],
   "source": [
    "b1, b2,b3 =symbols('b1, b2, b3')\n",
    "\n",
    "B4 = Matrix([(I*1/sqrt(2),-I*1/sqrt(2) ,0), (1/sqrt(2), 1/sqrt(2),0)])\n",
    "B4"
   ]
  },
  {
   "cell_type": "code",
   "execution_count": 9,
   "metadata": {},
   "outputs": [
    {
     "data": {
      "image/png": "[encoded data removed]",
      "text/latex": [
       "$\\displaystyle \\left[\\begin{matrix}\\frac{\\sqrt{2} i}{2} & - \\frac{\\sqrt{2} i}{2} & 0\\\\0 & \\sqrt{2} & 0\\end{matrix}\\right]$"
      ],
      "text/plain": [
       "⎡√2⋅ⅈ  -√2⋅ⅈ    ⎤\n",
       "⎢────  ──────  0⎥\n",
       "⎢ 2      2      ⎥\n",
       "⎢               ⎥\n",
       "⎣ 0      √2    0⎦"
      ]
     },
     "execution_count": 9,
     "metadata": {},
     "output_type": "execute_result"
    }
   ],
   "source": [
    "L4,U4, _=B4.LUdecomposition()\n",
    "U4"
   ]
  },
  {
   "cell_type": "markdown",
   "metadata": {},
   "source": [
    "Por lo tanto el $Nu(T)=\n",
    "\\begin{Bmatrix}\n",
    "(x,y) \\in \\mathbb{R}^2/x=0 \\wedge y=0\n",
    "\\end{Bmatrix}$"
   ]
  },
  {
   "cell_type": "markdown",
   "metadata": {},
   "source": [
    "Calculamos el recorrido."
   ]
  },
  {
   "cell_type": "markdown",
   "metadata": {},
   "source": [
    "El recorrido sera la transformacion de la base del dominio.\n",
    "\n",
    " $T\\left(\n",
    "\\begin{matrix}\n",
    "1  \\\\\n",
    "0 \\\\\n",
    "\\end{matrix}\n",
    "\\right) =\n",
    "\\left(\n",
    "\\begin{matrix}\n",
    " i\\frac{1}{\\sqrt{2}}\\\\\n",
    " \\frac{1}{\\sqrt{2}}\\\\\n",
    "\\end{matrix}\n",
    "\\right)$\n",
    "\n",
    " $T\\left(\n",
    "\\begin{matrix}\n",
    " 0 \\\\\n",
    " 1\\\\\n",
    "\\end{matrix}\n",
    "\\right) =\n",
    "\\left(\n",
    "\\begin{matrix}\n",
    "-i\\frac{1}{\\sqrt{2}}\\\\\n",
    " \\frac{1}{\\sqrt{2}}\\\\\n",
    "\\end{matrix}\n",
    "\\right)$"
   ]
  },
  {
   "cell_type": "markdown",
   "metadata": {},
   "source": [
    "Entonces, el conjunto generador del recorrido es \n",
    " \n",
    " $G=\n",
    "\\begin{Bmatrix}\n",
    "\\left(\n",
    "\\begin{matrix}\n",
    "i\\frac{1}{\\sqrt{2}}\\\\\n",
    "\\frac{1}{\\sqrt{2}}\\\\\n",
    "\\end{matrix}\n",
    "\\right),\n",
    "\\left(\n",
    "\\begin{matrix}\n",
    "-i\\frac{1}{\\sqrt{2}}\\\\\n",
    " \\frac{1}{\\sqrt{2}}\\\\\n",
    "\\end{matrix}\n",
    "\\right)\n",
    "\\end{Bmatrix}$"
   ]
  },
  {
   "cell_type": "markdown",
   "metadata": {},
   "source": [
    "Vamos a comprobar si es una transformación lineal."
   ]
  },
  {
   "cell_type": "markdown",
   "metadata": {},
   "source": [
    "$u=\\left(\n",
    "\\begin{matrix}\n",
    "x_1  \\\\\n",
    "y_1 \\\\\n",
    "\\end{matrix}\n",
    "\\right)$\n",
    "$v=\\left(\n",
    "\\begin{matrix}\n",
    "x_2  \\\\\n",
    "y_2 \\\\\n",
    "\\end{matrix}\n",
    "\\right)$\n",
    "\n",
    "$T(u+v)=T(u)+T(v)$\n",
    "\n",
    "$T\\left(\n",
    "\\begin{matrix}\n",
    "x_1+x_2  \\\\\n",
    "y_1+y_2 \\\\\n",
    "\\end{matrix}\n",
    "\\right)=$\n",
    "$\\left(\n",
    "\\begin{matrix}\n",
    "i\\frac{x_1+x_2}{\\sqrt{2}}-i\\frac{y_1+y_2}{\\sqrt{2}}\\\\\n",
    "\\frac{x_1+x_2}{\\sqrt{2}}+\\frac{y_1+y_2}{\\sqrt{2}} \\\\\n",
    "\\end{matrix}\n",
    "\\right)$\n",
    "\n",
    "\n",
    "$T\\left(\n",
    "\\begin{matrix}\n",
    "x_1  \\\\\n",
    "y_1 \\\\\n",
    "\\end{matrix}\n",
    "\\right)+$\n",
    "$T\\left(\n",
    "\\begin{matrix}\n",
    "x_2\\\\\n",
    "y_2\\\\\n",
    "\\end{matrix}\n",
    "\\right)=$\n",
    "$\\left(\n",
    "\\begin{matrix}\n",
    "i\\frac{x_1}{\\sqrt{2}}-i\\frac{y_1}{\\sqrt{2}}  \\\\\n",
    "\\frac{x_1}{\\sqrt{2}}+\\frac{y_1}{\\sqrt{2}} \\\\\n",
    "\\end{matrix}\n",
    "\\right)+$\n",
    "$\\left(\n",
    "\\begin{matrix}\n",
    "i\\frac{x_2}{\\sqrt{2}}-i\\frac{y_2}{\\sqrt{2}}\\\\\n",
    "\\frac{x_2}{\\sqrt{2}}+\\frac{y_2}{\\sqrt{2}}\\\\\n",
    "\\end{matrix}\n",
    "\\right)=$\n",
    "$\\left(\n",
    "\\begin{matrix}\n",
    "i\\frac{x_1}{\\sqrt{2}}+i\\frac{x_2}{\\sqrt{2}}-i\\frac{y_1}{\\sqrt{2}}-i\\frac{y_2}{\\sqrt{2}}\\\\\n",
    "\\frac{x_1}{\\sqrt{2}}+\\frac{x_2}{\\sqrt{2}}+\\frac{y_1}{\\sqrt{2}}+\\frac{y_2}{\\sqrt{2}}\\\\\n",
    "\\end{matrix}\n",
    "\\right)$"
   ]
  },
  {
   "cell_type": "markdown",
   "metadata": {},
   "source": [
    "$T(\\alpha u)=\\alpha T(u)$\n",
    "\n",
    "$T\\left(\n",
    "\\begin{matrix}\n",
    "\\alpha x_1  \\\\\n",
    "\\alpha y_1 \\\\\n",
    "\\end{matrix}\n",
    "\\right)=$\n",
    "$\\left(\n",
    "\\begin{matrix}\n",
    "  i\\frac{x_1 \\alpha}{\\sqrt{2}}  -i\\frac{y_1 \\alpha}{\\sqrt{2}} \\\\\n",
    "\\frac{x_1 \\alpha}{\\sqrt{2}}+ \\frac{y_1 \\alpha}{\\sqrt{2}}\n",
    "\\end{matrix}\n",
    "\\right)=$\n",
    "$\\alpha \\left(\n",
    "\\begin{matrix}\n",
    " i\\frac{x_1 }{\\sqrt{2}}  -i\\frac{y_1 }{\\sqrt{2}} \\\\\n",
    "\\frac{x_1 }{\\sqrt{2}}+ \\frac{y_1}{\\sqrt{2}}\n",
    "\\end{matrix}\n",
    "\\right)$\n",
    "\n",
    "Por lo tanto si es una transformacion lineal"
   ]
  },
  {
   "cell_type": "markdown",
   "metadata": {},
   "source": [
    "Ahora encontraremos su representacion matricial con respecto a la base estandar\n",
    "$A=\\left(\n",
    "\\begin{matrix}\n",
    "i\\frac{1}{\\sqrt{2}} & -i\\frac{1}{\\sqrt{2}}\\\\\n",
    "\\frac{1}{\\sqrt{2}} &  \\frac{1}{\\sqrt{2}}\\\\\n",
    "\\end{matrix}\n",
    "\\right)$\n",
    "$\\left(\n",
    "\\begin{matrix}\n",
    "x  \\\\\n",
    "y \\\\\n",
    "\\end{matrix}\n",
    "\\right)=$\n",
    "$T\\left(\n",
    "\\begin{matrix}\n",
    "x \\\\\n",
    "y \\\\\n",
    "\\end{matrix}\n",
    "\\right)$"
   ]
  },
  {
   "cell_type": "markdown",
   "metadata": {},
   "source": [
    "d) $v_1 = (3,1)$, $v_2 = (-1,2) $$\\\\$\n",
    "$T(v_1) = \\left(\\frac{2}{\\sqrt2}i,\\frac{4}{\\sqrt2}\\right)$, $T(v_2)= \\left(\\frac{-3}{\\sqrt2}i,\\frac{1}{\\sqrt2}\\right)$"
   ]
  },
  {
   "cell_type": "code",
   "execution_count": 56,
   "metadata": {},
   "outputs": [
    {
     "data": {
      "text/plain": [
       "<matplotlib.patches.FancyArrow at 0x267cbe4fd00>"
      ]
     },
     "execution_count": 56,
     "metadata": {},
     "output_type": "execute_result"
    },
    {
     "data": {
      "image/png": "[encoded data removed]",
      "text/plain": [
       "<Figure size 432x288 with 1 Axes>"
      ]
     },
     "metadata": {
      "needs_background": "light"
     },
     "output_type": "display_data"
    }
   ],
   "source": [
    "plt.arrow(0, 0, 3, 1, head_width=0.05, head_length=0.1, fc='k', ec='k')\n",
    "plt.arrow(0, 0, -1, 2,head_width=0.05, head_length=0.1, fc='k', ec='k')"
   ]
  },
  {
   "cell_type": "code",
   "execution_count": 57,
   "metadata": {},
   "outputs": [
    {
     "data": {
      "text/plain": [
       "<matplotlib.patches.FancyArrow at 0x267cbea2fd0>"
      ]
     },
     "execution_count": 57,
     "metadata": {},
     "output_type": "execute_result"
    },
    {
     "data": {
      "image/png": "[encoded data removed]",
      "text/plain": [
       "<Figure size 432x288 with 1 Axes>"
      ]
     },
     "metadata": {
      "needs_background": "light"
     },
     "output_type": "display_data"
    }
   ],
   "source": [
    "plt.arrow(0, 0, np.sqrt(2), 2*np.sqrt(2), head_width=0.05, head_length=0.1, fc='k', ec='k')\n",
    "plt.arrow(0, 0, (-3/np.sqrt(2)), np.sqrt(2)/2,head_width=0.05, head_length=0.1, fc='k', ec='k')"
   ]
  },
  {
   "cell_type": "code",
   "execution_count": null,
   "metadata": {},
   "outputs": [],
   "source": []
  },
  {
   "cell_type": "markdown",
   "metadata": {},
   "source": [
    "e.  $T\\left(\n",
    "\\begin{matrix}\n",
    "x  \\\\\n",
    "y \\\\\n",
    "z\n",
    "\\end{matrix}\n",
    "\\right) =\n",
    "\\left(\n",
    "\\begin{matrix}\n",
    "x-y+2z  \\\\\n",
    "3x-z \\\\\n",
    "2y+z\n",
    "\\end{matrix}\n",
    "\\right)$"
   ]
  },
  {
   "cell_type": "code",
   "execution_count": 10,
   "metadata": {},
   "outputs": [
    {
     "data": {
      "image/png": "[encoded data removed]",
      "text/latex": [
       "$\\displaystyle \\left[\\begin{matrix}1 & -1 & 2 & 0\\\\3 & 0 & -1 & 0\\\\0 & 2 & 1 & 0\\end{matrix}\\right]$"
      ],
      "text/plain": [
       "⎡1  -1  2   0⎤\n",
       "⎢            ⎥\n",
       "⎢3  0   -1  0⎥\n",
       "⎢            ⎥\n",
       "⎣0  2   1   0⎦"
      ]
     },
     "execution_count": 10,
     "metadata": {},
     "output_type": "execute_result"
    }
   ],
   "source": [
    "b1, b2,b3 =symbols('b1, b2, b3')\n",
    "\n",
    "B5 = Matrix([(1, -1, 2, 0), (3, 0, -1, 0),(0, 2, 1,0)])\n",
    "B5"
   ]
  },
  {
   "cell_type": "code",
   "execution_count": 11,
   "metadata": {},
   "outputs": [
    {
     "data": {
      "image/png": "[encoded data removed]",
      "text/latex": [
       "$\\displaystyle \\left[\\begin{matrix}1 & -1 & 2 & 0\\\\0 & 3 & -7 & 0\\\\0 & 0 & \\frac{17}{3} & 0\\end{matrix}\\right]$"
      ],
      "text/plain": [
       "⎡1  -1   2    0⎤\n",
       "⎢              ⎥\n",
       "⎢0  3    -7   0⎥\n",
       "⎢              ⎥\n",
       "⎣0  0   17/3  0⎦"
      ]
     },
     "execution_count": 11,
     "metadata": {},
     "output_type": "execute_result"
    }
   ],
   "source": [
    "L5,U5, _=B5.LUdecomposition()\n",
    "U5"
   ]
  },
  {
   "cell_type": "markdown",
   "metadata": {},
   "source": [
    "Por lo tanto el $Nu(T)=\n",
    "\\begin{Bmatrix}\n",
    "(x,y,z) \\in \\mathbb{R}^3/x=0,y=0 \\wedge z=0\n",
    "\\end{Bmatrix}$"
   ]
  },
  {
   "cell_type": "markdown",
   "metadata": {},
   "source": [
    "Calculamos el recorrido."
   ]
  },
  {
   "cell_type": "markdown",
   "metadata": {},
   "source": [
    "El recorrido sera la transformacion de la base del dominio.\n",
    "\n",
    " $T\\left(\n",
    "\\begin{matrix}\n",
    "1  \\\\\n",
    "0\\\\\n",
    "0\n",
    "\\end{matrix}\n",
    "\\right) =\n",
    "\\left(\n",
    "\\begin{matrix}\n",
    " 1\\\\\n",
    " 3\\\\\n",
    " 0\n",
    "\\end{matrix}\n",
    "\\right)$\n",
    "\n",
    " $T\\left(\n",
    "\\begin{matrix}\n",
    " 0 \\\\\n",
    " 1\\\\\n",
    " 0\n",
    "\\end{matrix}\n",
    "\\right) =\n",
    "\\left(\n",
    "\\begin{matrix}\n",
    "-1\\\\\n",
    "0\\\\\n",
    "2\n",
    "\\end{matrix}\n",
    "\\right)$\n",
    "\n",
    " $T\\left(\n",
    "\\begin{matrix}\n",
    " 0 \\\\\n",
    " 0\\\\\n",
    " 1\n",
    "\\end{matrix}\n",
    "\\right) =\n",
    "\\left(\n",
    "\\begin{matrix}\n",
    "2\\\\\n",
    "-1\\\\\n",
    "1\n",
    "\\end{matrix}\n",
    "\\right)$"
   ]
  },
  {
   "cell_type": "markdown",
   "metadata": {},
   "source": [
    "Entonces, el conjunto generador del recorrido es \n",
    "\n",
    "$G=\n",
    "\\begin{Bmatrix}\n",
    "\\left(\n",
    "\\begin{matrix}\n",
    "1\\\\\n",
    "3\\\\\n",
    "0\n",
    "\\end{matrix}\n",
    "\\right),\n",
    "\\left(\n",
    "\\begin{matrix}\n",
    "-1\\\\\n",
    "0\\\\\n",
    "2\n",
    "\\end{matrix}\n",
    "\\right)\n",
    "\\left(\n",
    "\\begin{matrix}\n",
    "2\\\\\n",
    "-1\\\\\n",
    "1\n",
    "\\end{matrix}\n",
    "\\right)\n",
    "\\end{Bmatrix}$"
   ]
  },
  {
   "cell_type": "markdown",
   "metadata": {},
   "source": [
    "Vamos a comprobar si es una transformación lineal."
   ]
  },
  {
   "cell_type": "markdown",
   "metadata": {},
   "source": [
    "$u=\\left(\n",
    "\\begin{matrix}\n",
    "x_1 \\\\\n",
    "y_1 \\\\\n",
    "z_1\n",
    "\\end{matrix}\n",
    "\\right)$\n",
    "$v=\\left(\n",
    "\\begin{matrix}\n",
    "x_2  \\\\\n",
    "y_2 \\\\\n",
    "z_2\n",
    "\\end{matrix}\n",
    "\\right)$\n",
    "\n",
    "$T(u+v)=T(u)+T(v)$\n",
    "\n",
    "$T\\left(\n",
    "\\begin{matrix}\n",
    "x_1+x_2 \\\\\n",
    "y_1+y_2\\\\\n",
    "z1_1+z_2\n",
    "\\end{matrix}\n",
    "\\right)=$\n",
    "$\\left(\n",
    "\\begin{matrix}\n",
    "x_1+x_2-(y_1+y_2)+2(z_1+z_2) \\\\\n",
    "3(x_1+x_2)-(z_1+z_2) \\\\\n",
    "2(y_1+y_2)+z_1+z_2\n",
    "\\end{matrix}\n",
    "\\right)$\n",
    "\n",
    "\n",
    "$T\\left(\n",
    "\\begin{matrix}\n",
    "x_1  \\\\\n",
    "y_1 \\\\\n",
    "z_1\n",
    "\\end{matrix}\n",
    "\\right)+$\n",
    "$T\\left(\n",
    "\\begin{matrix}\n",
    "x_2\\\\\n",
    "y_2\\\\\n",
    "z_2\n",
    "\\end{matrix}\n",
    "\\right)=$\n",
    "$\\left(\n",
    "\\begin{matrix}\n",
    "x_1-y_1+2z_1  \\\\\n",
    "3x_1-z_1 \\\\\n",
    "2y_1+z_1\n",
    "\\end{matrix}\n",
    "\\right)+$\n",
    "$\\left(\n",
    "\\begin{matrix}\n",
    "x_2-y_2+2z_2  \\\\\n",
    "3x_2-z_2 \\\\\n",
    "2y_2+z_2\n",
    "\\end{matrix}\n",
    "\\right)=$\n",
    "$\\left(\n",
    "\\begin{matrix}\n",
    "x_1-y_1+2z_1+x_2-y_2+2z_2\\\\\n",
    "3x_1-z_1+3x_2-z_2\\\\\n",
    "2y_1+z_1+2y_2+z_2\n",
    "\\end{matrix}\n",
    "\\right)$\n"
   ]
  },
  {
   "cell_type": "markdown",
   "metadata": {},
   "source": [
    "$T(\\alpha u)=\\alpha T(u)$\n",
    "\n",
    "$T\\left(\n",
    "\\begin{matrix}\n",
    "\\alpha x_1 \\\\\n",
    "\\alpha y_1 \\\\\n",
    "\\alpha z_1\n",
    "\\end{matrix}\n",
    "\\right)=$\n",
    "$\\left(\n",
    "\\begin{matrix}\n",
    "\\alpha x_1 - \\alpha y_1+2\\alpha z_1 \\\\\n",
    "3\\alpha x_1 - \\alpha z_1\\\\\n",
    "2\\alpha y_1 + \\alpha z_1\n",
    "\\end{matrix}\n",
    "\\right)=$\n",
    "$\\alpha \\left(\n",
    "\\begin{matrix}\n",
    "x_1-y_1+2z_1 \\\\\n",
    "3x_1-z_1\\\\\n",
    "2y_1+z_1\n",
    "\\end{matrix}\n",
    "\\right)$\n",
    "\n",
    "Por lo tanto si es una transformacion lineal"
   ]
  },
  {
   "cell_type": "markdown",
   "metadata": {},
   "source": [
    "Ahora encontraremos su representacion matricial con respecto a la base estandar\n",
    "$A=\\left(\n",
    "\\begin{matrix}\n",
    "1 & -1 & 2\\\\\n",
    "3 & 0 & -1\\\\\n",
    "0 & 2 & 1\n",
    "\\end{matrix}\n",
    "\\right)$\n",
    "$\\left(\n",
    "\\begin{matrix}\n",
    "x  \\\\\n",
    "y \\\\\n",
    "z\n",
    "\\end{matrix}\n",
    "\\right)=$\n",
    "$T\\left(\n",
    "\\begin{matrix}\n",
    "x \\\\\n",
    "y \\\\\n",
    "z\n",
    "\\end{matrix}\n",
    "\\right)$"
   ]
  },
  {
   "cell_type": "markdown",
   "metadata": {},
   "source": [
    "e) $v_1 = (3,1)$, $v_2 = (-1,2) $$\\\\$\n",
    "$T(v_1) = (4,2)$, $T(v_2)= (1,-3)$"
   ]
  },
  {
   "cell_type": "code",
   "execution_count": 58,
   "metadata": {},
   "outputs": [
    {
     "data": {
      "text/plain": [
       "<matplotlib.patches.FancyArrow at 0x267cbeecdc0>"
      ]
     },
     "execution_count": 58,
     "metadata": {},
     "output_type": "execute_result"
    },
    {
     "data": {
      "image/png": "[encoded data removed]",
      "text/plain": [
       "<Figure size 432x288 with 1 Axes>"
      ]
     },
     "metadata": {
      "needs_background": "light"
     },
     "output_type": "display_data"
    }
   ],
   "source": [
    "plt.arrow(0, 0, 3, 1, head_width=0.05, head_length=0.1, fc='k', ec='k')\n",
    "plt.arrow(0, 0, -1, 2,head_width=0.05, head_length=0.1, fc='k', ec='k')"
   ]
  },
  {
   "cell_type": "code",
   "execution_count": 59,
   "metadata": {},
   "outputs": [
    {
     "data": {
      "text/plain": [
       "<matplotlib.patches.FancyArrow at 0x267cbf05130>"
      ]
     },
     "execution_count": 59,
     "metadata": {},
     "output_type": "execute_result"
    },
    {
     "data": {
      "image/png": "[encoded data removed]",
      "text/plain": [
       "<Figure size 432x288 with 1 Axes>"
      ]
     },
     "metadata": {
      "needs_background": "light"
     },
     "output_type": "display_data"
    }
   ],
   "source": [
    "plt.arrow(0, 0, 4, 2, head_width=0.05, head_length=0.1, fc='k', ec='k')\n",
    "plt.arrow(0, 0, 1, -3, head_width=0.05, head_length=0.1, fc='k', ec='k')"
   ]
  },
  {
   "cell_type": "code",
   "execution_count": 12,
   "metadata": {},
   "outputs": [],
   "source": [
    "x, y, z,  = sp.symbols('x , y, z')\n",
    "a1,a2,a3 = sp.symbols('a1,a2,a3')\n",
    "def Te(a1,a2,a3):\n",
    "    e1= a1-a2+2*a3\n",
    "    \n",
    "    e2=3*a1-a3\n",
    "    \n",
    "    e3=2*a2+a3\n",
    "    \n",
    "    return e1, e2, e3"
   ]
  },
  {
   "cell_type": "code",
   "execution_count": 13,
   "metadata": {},
   "outputs": [
    {
     "data": {
      "image/png": "[encoded data removed]",
      "text/latex": [
       "$\\displaystyle \\left( x - y + 2 z, \\  3 x - z, \\  2 y + z\\right)$"
      ],
      "text/plain": [
       "(x - y + 2⋅z, 3⋅x - z, 2⋅y + z)"
      ]
     },
     "execution_count": 13,
     "metadata": {},
     "output_type": "execute_result"
    }
   ],
   "source": [
    "Te(x,y,z)"
   ]
  },
  {
   "cell_type": "markdown",
   "metadata": {},
   "source": []
  },
  {
   "cell_type": "markdown",
   "metadata": {},
   "source": [
    "f.  $T\\left(\n",
    "\\begin{matrix}\n",
    "x  \\\\\n",
    "y \\\\\n",
    "z\n",
    "\\end{matrix}\n",
    "\\right) =\n",
    "\\left(\n",
    "\\begin{matrix}\n",
    "x+iy-2iz  \\\\\n",
    "-2ix+y+iz \\\\\n",
    "ix-2iy+z\n",
    "\\end{matrix}\n",
    "\\right)$"
   ]
  },
  {
   "cell_type": "code",
   "execution_count": 14,
   "metadata": {},
   "outputs": [
    {
     "data": {
      "image/png": "[encoded data removed]",
      "text/latex": [
       "$\\displaystyle \\left[\\begin{matrix}1 & - i & - 2 i & 0\\\\- 2 i & 1 & - i & 0\\\\i & - 2 i & 1 & 0\\end{matrix}\\right]$"
      ],
      "text/plain": [
       "⎡ 1     -ⅈ   -2⋅ⅈ  0⎤\n",
       "⎢                   ⎥\n",
       "⎢-2⋅ⅈ   1     -ⅈ   0⎥\n",
       "⎢                   ⎥\n",
       "⎣ ⅈ    -2⋅ⅈ   1    0⎦"
      ]
     },
     "execution_count": 14,
     "metadata": {},
     "output_type": "execute_result"
    }
   ],
   "source": [
    "b1, b2,b3 =symbols('b1, b2, b3')\n",
    "\n",
    "B6 = Matrix([(1, -I, -2*I, 0), (-2*I, 1, -I, 0),(I, -2*I, 1,0)])\n",
    "B6"
   ]
  },
  {
   "cell_type": "code",
   "execution_count": 15,
   "metadata": {},
   "outputs": [
    {
     "data": {
      "image/png": "[encoded data removed]",
      "text/latex": [
       "$\\displaystyle \\left[\\begin{matrix}1 & - i & - 2 i & 0\\\\0 & 3 & 4 - i & 0\\\\0 & 0 & -1 - \\left(- \\frac{1}{3} - \\frac{2 i}{3}\\right) \\left(4 - i\\right) & 0\\end{matrix}\\right]$"
      ],
      "text/plain": [
       "⎡1  -ⅈ            -2⋅ⅈ            0⎤\n",
       "⎢                                  ⎥\n",
       "⎢0  3            4 - ⅈ            0⎥\n",
       "⎢                                  ⎥\n",
       "⎢            ⎛  1   2⋅ⅈ⎞           ⎥\n",
       "⎢0  0   -1 - ⎜- ─ - ───⎟⋅(4 - ⅈ)  0⎥\n",
       "⎣            ⎝  3    3 ⎠           ⎦"
      ]
     },
     "execution_count": 15,
     "metadata": {},
     "output_type": "execute_result"
    }
   ],
   "source": [
    "L6,U6, _=B6.LUdecomposition()\n",
    "U6"
   ]
  },
  {
   "cell_type": "markdown",
   "metadata": {},
   "source": [
    "Por lo tanto el $Nu(T)=\n",
    "\\begin{Bmatrix}\n",
    "(x,y,z) \\in \\mathbb{C}^3/x=0,y=0 \\wedge z=0\n",
    "\\end{Bmatrix}$"
   ]
  },
  {
   "cell_type": "markdown",
   "metadata": {},
   "source": [
    "Calculamos el recorrido."
   ]
  },
  {
   "cell_type": "markdown",
   "metadata": {},
   "source": [
    "El recorrido sera la transformacion de la base del dominio.\n",
    "\n",
    " $T\\left(\n",
    "\\begin{matrix}\n",
    "1  \\\\\n",
    "0\\\\\n",
    "0\n",
    "\\end{matrix}\n",
    "\\right) =\n",
    "\\left(\n",
    "\\begin{matrix}\n",
    " 1\\\\\n",
    " -2i\\\\\n",
    " i\n",
    "\\end{matrix}\n",
    "\\right)$\n",
    "\n",
    " $T\\left(\n",
    "\\begin{matrix}\n",
    " 0 \\\\\n",
    " 1\\\\\n",
    " 0\n",
    "\\end{matrix}\n",
    "\\right) =\n",
    "\\left(\n",
    "\\begin{matrix}\n",
    "i\\\\\n",
    "1\\\\\n",
    "-2i\n",
    "\\end{matrix}\n",
    "\\right)$\n",
    "\n",
    " $T\\left(\n",
    "\\begin{matrix}\n",
    " 0 \\\\\n",
    " 0\\\\\n",
    " 1\n",
    "\\end{matrix}\n",
    "\\right) =\n",
    "\\left(\n",
    "\\begin{matrix}\n",
    "-2i\\\\\n",
    "i\\\\\n",
    "1\n",
    "\\end{matrix}\n",
    "\\right)$"
   ]
  },
  {
   "cell_type": "markdown",
   "metadata": {},
   "source": [
    "Entonces, el conjunto generador del recorrido es \n",
    "\n",
    "$G=\n",
    "\\begin{Bmatrix}\n",
    "\\left(\n",
    "\\begin{matrix}\n",
    "1\\\\\n",
    "-2i\\\\\n",
    "i\n",
    "\\end{matrix}\n",
    "\\right),\n",
    "\\left(\n",
    "\\begin{matrix}\n",
    "i\\\\\n",
    "1\\\\\n",
    "-2i\n",
    "\\end{matrix}\n",
    "\\right)\n",
    "\\left(\n",
    "\\begin{matrix}\n",
    "-2i\\\\\n",
    "i\\\\\n",
    "1\n",
    "\\end{matrix}\n",
    "\\right)\n",
    "\\end{Bmatrix}$"
   ]
  },
  {
   "cell_type": "markdown",
   "metadata": {},
   "source": [
    "Vamos a comprobar si es una transformación lineal."
   ]
  },
  {
   "cell_type": "markdown",
   "metadata": {},
   "source": [
    "$u=\\left(\n",
    "\\begin{matrix}\n",
    "x_1 \\\\\n",
    "y_1 \\\\\n",
    "z_1\n",
    "\\end{matrix}\n",
    "\\right)$\n",
    "$v=\\left(\n",
    "\\begin{matrix}\n",
    "x_2  \\\\\n",
    "y_2 \\\\\n",
    "z_2\n",
    "\\end{matrix}\n",
    "\\right)$\n",
    "\n",
    "$T(u+v)=T(u)+T(v)$\n",
    "\n",
    "$T\\left(\n",
    "\\begin{matrix}\n",
    "x_1+x_2 \\\\\n",
    "y_1+y_2\\\\\n",
    "z1_1+z_2\n",
    "\\end{matrix}\n",
    "\\right)=$\n",
    "$\\left(\n",
    "\\begin{matrix}\n",
    "x_1+x_2+i(y_1+y_2)-2(z_1+z_2) \\\\\n",
    "-2i(x_1+x_2)+y_1+y_2+i(z_1+z_2) \\\\\n",
    "i(x_1+x_2)-2i(y_1+y_2)+z_1+z_2\n",
    "\\end{matrix}\n",
    "\\right)$\n",
    "\n",
    "\n",
    "$T\\left(\n",
    "\\begin{matrix}\n",
    "x_1  \\\\\n",
    "y_1 \\\\\n",
    "z_1\n",
    "\\end{matrix}\n",
    "\\right)+$\n",
    "$T\\left(\n",
    "\\begin{matrix}\n",
    "x_2\\\\\n",
    "y_2\\\\\n",
    "z_2\n",
    "\\end{matrix}\n",
    "\\right)=$\n",
    "$\\left(\n",
    "\\begin{matrix}\n",
    "x_1+iy_1-2iz_1  \\\\\n",
    "-2ix_1+y_1+iz_1 \\\\\n",
    "ix_1-2iy_1+z_1\n",
    "\\end{matrix}\n",
    "\\right)+$\n",
    "$\\left(\n",
    "\\begin{matrix}\n",
    "x_2+iy_2-2iz_2  \\\\\n",
    "-2ix_2+y_2+iz_2 \\\\\n",
    "ix_2-2iy_2+z_2\n",
    "\\end{matrix}\n",
    "\\right)=$\n",
    "$\\left(\n",
    "\\begin{matrix}\n",
    "x_1+iy_1-2iz_1+x_2+iy_2-2iz_2  \\\\\n",
    "-2ix_1+y_1+iz_1-2ix_2+y_2+iz_2 \\\\\n",
    "ix_1-2iy_1+z_1+ix_2-2iy_2+z_2\n",
    "\\end{matrix}\n",
    "\\right)$"
   ]
  },
  {
   "cell_type": "markdown",
   "metadata": {},
   "source": [
    "$T(\\alpha u)=\\alpha T(u)$\n",
    "\n",
    "$T\\left(\n",
    "\\begin{matrix}\n",
    "\\alpha x_1 \\\\\n",
    "\\alpha y_1 \\\\\n",
    "\\alpha z_1\n",
    "\\end{matrix}\n",
    "\\right)=$\n",
    "$\\left(\n",
    "\\begin{matrix}\n",
    "\\alpha x_1 + i\\alpha y_1-2i\\alpha z_1 \\\\\n",
    "-2i\\alpha x_1+\\alpha y_1 +i\\alpha z_1\\\\\n",
    "i\\alpha x_1-2i\\alpha y_1 + \\alpha z_1\n",
    "\\end{matrix}\n",
    "\\right)=$\n",
    "$\\alpha \\left(\n",
    "\\begin{matrix}\n",
    "x_1+iy_1-2iz_1  \\\\\n",
    "-2ix_1+y_1+iz_1 \\\\\n",
    "ix_1-2iy_1+z_1\n",
    "\\end{matrix}\n",
    "\\right)$\n",
    "\n",
    "Por lo tanto si es una transformacion lineal"
   ]
  },
  {
   "cell_type": "markdown",
   "metadata": {},
   "source": [
    "Ahora encontraremos su representacion matricial con respecto a la base estandar\n",
    "$A=\\left(\n",
    "\\begin{matrix}\n",
    "1 & i & -2i\\\\\n",
    "-2i & 1 & i\\\\\n",
    "i & -2i & 1\n",
    "\\end{matrix}\n",
    "\\right)$\n",
    "$\\left(\n",
    "\\begin{matrix}\n",
    "x  \\\\\n",
    "y \\\\\n",
    "z\n",
    "\\end{matrix}\n",
    "\\right)=$\n",
    "$T\\left(\n",
    "\\begin{matrix}\n",
    "x \\\\\n",
    "y \\\\\n",
    "z\n",
    "\\end{matrix}\n",
    "\\right)$"
   ]
  },
  {
   "cell_type": "markdown",
   "metadata": {},
   "source": [
    "f) $v_1 = (3,1)$, $v_2 = (-1,2) $, $\\theta = \\pi/2$ $\\\\$\n",
    "$T(v_1) = (3cos(\\pi/2)-sin(\\pi/2),3sin(\\pi/2)+cos(\\pi/2))$, $T(v_2)= (-cos(\\pi/2)+2sin(\\pi/2),-sin(\\pi/2)+2cos(\\pi/2))$"
   ]
  },
  {
   "cell_type": "code",
   "execution_count": 60,
   "metadata": {},
   "outputs": [
    {
     "data": {
      "text/plain": [
       "<matplotlib.patches.FancyArrow at 0x267cbfb4ac0>"
      ]
     },
     "execution_count": 60,
     "metadata": {},
     "output_type": "execute_result"
    },
    {
     "data": {
      "image/png": "[encoded data removed]",
      "text/plain": [
       "<Figure size 432x288 with 1 Axes>"
      ]
     },
     "metadata": {
      "needs_background": "light"
     },
     "output_type": "display_data"
    }
   ],
   "source": [
    "plt.arrow(0, 0, 3, 1, head_width=0.05, head_length=0.1, fc='k', ec='k')\n",
    "plt.arrow(0, 0, -1, 2,head_width=0.05, head_length=0.1, fc='k', ec='k')"
   ]
  },
  {
   "cell_type": "code",
   "execution_count": 61,
   "metadata": {},
   "outputs": [
    {
     "data": {
      "text/plain": [
       "<matplotlib.patches.FancyArrow at 0x267cbe05760>"
      ]
     },
     "execution_count": 61,
     "metadata": {},
     "output_type": "execute_result"
    },
    {
     "data": {
      "image/png": "[encoded data removed]",
      "text/plain": [
       "<Figure size 432x288 with 1 Axes>"
      ]
     },
     "metadata": {
      "needs_background": "light"
     },
     "output_type": "display_data"
    }
   ],
   "source": [
    "plt.arrow(0, 0, -1, 3, head_width=0.05, head_length=0.1, fc='k', ec='k')\n",
    "plt.arrow(0, 0, 2, -1, head_width=0.05, head_length=0.1, fc='k', ec='k')"
   ]
  },
  {
   "cell_type": "code",
   "execution_count": 16,
   "metadata": {},
   "outputs": [],
   "source": [
    "def Tf(a1,a2,a3):\n",
    "    e1= a1+I*a2-2*I*a3\n",
    "    \n",
    "    e2=-2*I*a1+a2+I*a3\n",
    "    \n",
    "    e3=I*a1-2*I*a2+a3\n",
    "    \n",
    "    return e1, e2, e3"
   ]
  },
  {
   "cell_type": "code",
   "execution_count": 17,
   "metadata": {},
   "outputs": [
    {
     "data": {
      "image/png": "[encoded data removed]",
      "text/latex": [
       "$\\displaystyle \\left( x + i y - 2 i z, \\  - 2 i x + y + i z, \\  i x - 2 i y + z\\right)$"
      ],
      "text/plain": [
       "(x + ⅈ⋅y - 2⋅ⅈ⋅z, -2⋅ⅈ⋅x + y + ⅈ⋅z, ⅈ⋅x - 2⋅ⅈ⋅y + z)"
      ]
     },
     "execution_count": 17,
     "metadata": {},
     "output_type": "execute_result"
    }
   ],
   "source": [
    "Tf(x,y,z)"
   ]
  },
  {
   "cell_type": "code",
   "execution_count": null,
   "metadata": {},
   "outputs": [],
   "source": []
  },
  {
   "cell_type": "code",
   "execution_count": null,
   "metadata": {},
   "outputs": [],
   "source": []
  },
  {
   "cell_type": "markdown",
   "metadata": {},
   "source": [
    "g.  $T\\left(\n",
    "\\begin{matrix}\n",
    "x  \\\\\n",
    "y \\\\\n",
    "z\n",
    "\\end{matrix}\n",
    "\\right) =\n",
    "\\left(\n",
    "\\begin{matrix}\n",
    "x+2y-z  \\\\\n",
    "3x-y+2z \\\\\n",
    "-x+2y+3z\n",
    "\\end{matrix}\n",
    "\\right)$"
   ]
  },
  {
   "cell_type": "code",
   "execution_count": 18,
   "metadata": {},
   "outputs": [
    {
     "data": {
      "image/png": "[encoded data removed]",
      "text/latex": [
       "$\\displaystyle \\left[\\begin{matrix}1 & 2 & -1 & 0\\\\3 & -1 & 2 & 0\\\\-1 & 2 & 3 & 0\\end{matrix}\\right]$"
      ],
      "text/plain": [
       "⎡1   2   -1  0⎤\n",
       "⎢             ⎥\n",
       "⎢3   -1  2   0⎥\n",
       "⎢             ⎥\n",
       "⎣-1  2   3   0⎦"
      ]
     },
     "execution_count": 18,
     "metadata": {},
     "output_type": "execute_result"
    }
   ],
   "source": [
    "b1, b2,b3 =symbols('b1, b2, b3')\n",
    "\n",
    "B7 = Matrix([(1, 2, -1, 0), (3, -1, 2, 0),(-1, 2, 3,0)])\n",
    "B7"
   ]
  },
  {
   "cell_type": "code",
   "execution_count": 19,
   "metadata": {},
   "outputs": [
    {
     "data": {
      "image/png": "[encoded data removed]",
      "text/latex": [
       "$\\displaystyle \\left[\\begin{matrix}1 & 2 & -1 & 0\\\\0 & -7 & 5 & 0\\\\0 & 0 & \\frac{34}{7} & 0\\end{matrix}\\right]$"
      ],
      "text/plain": [
       "⎡1  2    -1   0⎤\n",
       "⎢              ⎥\n",
       "⎢0  -7   5    0⎥\n",
       "⎢              ⎥\n",
       "⎣0  0   34/7  0⎦"
      ]
     },
     "execution_count": 19,
     "metadata": {},
     "output_type": "execute_result"
    }
   ],
   "source": [
    "L7,U7, _=B7.LUdecomposition()\n",
    "U7"
   ]
  },
  {
   "cell_type": "markdown",
   "metadata": {},
   "source": [
    "Por lo tanto el $Nu(T)=\n",
    "\\begin{Bmatrix}\n",
    "(x,y,z) \\in \\mathbb{R}^3/x=0,y=0 \\wedge z=0\n",
    "\\end{Bmatrix}$"
   ]
  },
  {
   "cell_type": "markdown",
   "metadata": {},
   "source": [
    "Calculamos el recorrido."
   ]
  },
  {
   "cell_type": "markdown",
   "metadata": {},
   "source": [
    "El recorrido sera la transformacion de la base del dominio.\n",
    "\n",
    " $T\\left(\n",
    "\\begin{matrix}\n",
    "1 \\\\\n",
    "0\\\\\n",
    "0\n",
    "\\end{matrix}\n",
    "\\right) =\n",
    "\\left(\n",
    "\\begin{matrix}\n",
    " 1\\\\\n",
    " 3\\\\\n",
    " -1\n",
    "\\end{matrix}\n",
    "\\right)$\n",
    "\n",
    " $T\\left(\n",
    "\\begin{matrix}\n",
    " 0 \\\\\n",
    " 1\\\\\n",
    " 0\n",
    "\\end{matrix}\n",
    "\\right) =\n",
    "\\left(\n",
    "\\begin{matrix}\n",
    "2\\\\\n",
    "-1\\\\\n",
    "2\n",
    "\\end{matrix}\n",
    "\\right)$\n",
    "\n",
    " $T\\left(\n",
    "\\begin{matrix}\n",
    " 0 \\\\\n",
    " 0\\\\\n",
    " 1\n",
    "\\end{matrix}\n",
    "\\right) =\n",
    "\\left(\n",
    "\\begin{matrix}\n",
    "-1\\\\\n",
    "2\\\\\n",
    "3\n",
    "\\end{matrix}\n",
    "\\right)$"
   ]
  },
  {
   "cell_type": "markdown",
   "metadata": {},
   "source": [
    "Entonces, el conjunto generador del recorrido es \n",
    "\n",
    "$G=\n",
    "\\begin{Bmatrix}\n",
    "\\left(\n",
    "\\begin{matrix}\n",
    "1\\\\\n",
    "3\\\\\n",
    "-1\n",
    "\\end{matrix}\n",
    "\\right),\n",
    "\\left(\n",
    "\\begin{matrix}\n",
    "2\\\\\n",
    "-1\\\\\n",
    "2\n",
    "\\end{matrix}\n",
    "\\right)\n",
    "\\left(\n",
    "\\begin{matrix}\n",
    "-1\\\\\n",
    "2\\\\\n",
    "3\n",
    "\\end{matrix}\n",
    "\\right)\n",
    "\\end{Bmatrix}$"
   ]
  },
  {
   "cell_type": "markdown",
   "metadata": {},
   "source": [
    "Vamos a comprobar si es una transformación lineal."
   ]
  },
  {
   "cell_type": "markdown",
   "metadata": {},
   "source": [
    "$u=\\left(\n",
    "\\begin{matrix}\n",
    "x_1 \\\\\n",
    "y_1 \\\\\n",
    "z_1\n",
    "\\end{matrix}\n",
    "\\right)$\n",
    "$v=\\left(\n",
    "\\begin{matrix}\n",
    "x_2  \\\\\n",
    "y_2 \\\\\n",
    "z_2\n",
    "\\end{matrix}\n",
    "\\right)$\n",
    "\n",
    "$T(u+v)=T(u)+T(v)$\n",
    "\n",
    "$T\\left(\n",
    "\\begin{matrix}\n",
    "x_1+x_2 \\\\\n",
    "y_1+y_2\\\\\n",
    "z1_1+z_2\n",
    "\\end{matrix}\n",
    "\\right)=$\n",
    "$\\left(\n",
    "\\begin{matrix}\n",
    "x_1+x_2+2(y_1+y_2)-(z_1+z_2) \\\\\n",
    "3(x_1+x_2)-(y_1+y_2)+z_1+z_2 \\\\\n",
    "-(x_1+x_2)+2(y_1+y_2)+3(z_1+z_2)\n",
    "\\end{matrix}\n",
    "\\right)$\n",
    "\n",
    "\n",
    "$T\\left(\n",
    "\\begin{matrix}\n",
    "x_1  \\\\\n",
    "y_1 \\\\\n",
    "z_1\n",
    "\\end{matrix}\n",
    "\\right)+$\n",
    "$T\\left(\n",
    "\\begin{matrix}\n",
    "x_2\\\\\n",
    "y_2\\\\\n",
    "z_2\n",
    "\\end{matrix}\n",
    "\\right)=$\n",
    "$\\left(\n",
    "\\begin{matrix}\n",
    "x_1+2y_1-z_1  \\\\\n",
    "3x_1-y_1+2z_1 \\\\\n",
    "-x_1+2y_1+3z_1\n",
    "\\end{matrix}\n",
    "\\right)+$\n",
    "$\\left(\n",
    "\\begin{matrix}\n",
    "x_2+2y_2-z_2  \\\\\n",
    "3x_2-y_2+2z_2 \\\\\n",
    "-x_2+2y_2+3z_2\n",
    "\\end{matrix}\n",
    "\\right)=$\n",
    "$\\left(\n",
    "\\begin{matrix}\n",
    "x_1+2y_1-z_1+x_2+2y_2-z_2  \\\\ \n",
    "3x_1-y_1+2z_1+3x_2-y_2+2z_2 \\\\\n",
    "-x_1+2y_1+3z_1-x_2+2y_2+3z_2\n",
    "ix_1-2iy_1+z_1+ix_2-2iy_2+z_2\n",
    "\\end{matrix}\n",
    "\\right)$"
   ]
  },
  {
   "cell_type": "markdown",
   "metadata": {},
   "source": [
    "$T(\\alpha u)=\\alpha T(u)$\n",
    "\n",
    "$T\\left(\n",
    "\\begin{matrix}\n",
    "\\alpha x_1 \\\\\n",
    "\\alpha y_1 \\\\\n",
    "\\alpha z_1\n",
    "\\end{matrix}\n",
    "\\right)=$\n",
    "$\\left(\n",
    "\\begin{matrix}\n",
    "\\alpha x_1 -\\alpha y_1+2\\alpha z_1 \\\\\n",
    "3\\alpha x_1-\\alpha y_1 +2\\alpha z_1\\\\\n",
    "-\\alpha x_1+2\\alpha y_1 + 3\\alpha z_1\n",
    "\\end{matrix}\n",
    "\\right)=$\n",
    "$\\alpha \\left(\n",
    "\\begin{matrix}\n",
    "x_1+2y_1-z_1  \\\\\n",
    "3x_1-y_1+2z_1 \\\\\n",
    "-x_1+2y_1+3z_1\n",
    "\\end{matrix}\n",
    "\\right)$\n",
    "\n",
    "Por lo tanto si es una transformacion lineal"
   ]
  },
  {
   "cell_type": "markdown",
   "metadata": {},
   "source": [
    "Ahora encontraremos su representacion matricial con respecto a la base estandar\n",
    "$A=\\left(\n",
    "\\begin{matrix}\n",
    "1 & 2 & -1\\\\\n",
    "3 & -1 & 2\\\\\n",
    "-1 & 2 & 3\n",
    "\\end{matrix}\n",
    "\\right)$\n",
    "$\\left(\n",
    "\\begin{matrix}\n",
    "x  \\\\\n",
    "y \\\\\n",
    "z\n",
    "\\end{matrix}\n",
    "\\right)=$\n",
    "$T\\left(\n",
    "\\begin{matrix}\n",
    "x \\\\\n",
    "y \\\\\n",
    "z\n",
    "\\end{matrix}\n",
    "\\right)$"
   ]
  },
  {
   "cell_type": "markdown",
   "metadata": {},
   "source": [
    "g) $v_1 = (3,1)$, $v_2 = (-1,2) $$\\\\$\n",
    "$T(v_1) = (3-i,1+3i)$, $T(v_2)= (-1+2i,2-i)$"
   ]
  },
  {
   "cell_type": "code",
   "execution_count": 63,
   "metadata": {},
   "outputs": [
    {
     "data": {
      "text/plain": [
       "<matplotlib.patches.FancyArrow at 0x267cc08f6d0>"
      ]
     },
     "execution_count": 63,
     "metadata": {},
     "output_type": "execute_result"
    },
    {
     "data": {
      "image/png": "[encoded data removed]",
      "text/plain": [
       "<Figure size 432x288 with 1 Axes>"
      ]
     },
     "metadata": {
      "needs_background": "light"
     },
     "output_type": "display_data"
    }
   ],
   "source": [
    "plt.arrow(0, 0, 3, 1, head_width=0.05, head_length=0.1, fc='k', ec='k')\n",
    "plt.arrow(0, 0, -1, 2,head_width=0.05, head_length=0.1, fc='k', ec='k')"
   ]
  },
  {
   "cell_type": "code",
   "execution_count": 62,
   "metadata": {},
   "outputs": [
    {
     "data": {
      "text/plain": [
       "<matplotlib.patches.FancyArrow at 0x267cbfe56a0>"
      ]
     },
     "execution_count": 62,
     "metadata": {},
     "output_type": "execute_result"
    },
    {
     "data": {
      "image/png": "[encoded data removed]",
      "text/plain": [
       "<Figure size 432x288 with 1 Axes>"
      ]
     },
     "metadata": {
      "needs_background": "light"
     },
     "output_type": "display_data"
    }
   ],
   "source": [
    "plt.arrow(0, 0, 3, -1, head_width=0.05, head_length=0.1, fc='k', ec='k')\n",
    "plt.arrow(0, 0, 1, 3,head_width=0.05, head_length=0.1, fc='k', ec='k')\n",
    "plt.arrow(0, 0, -1, 2, head_width=0.05, head_length=0.1, fc='k', ec='k')\n",
    "plt.arrow(0, 0, 2, -1,head_width=0.05, head_length=0.1, fc='k', ec='k')"
   ]
  },
  {
   "cell_type": "code",
   "execution_count": 20,
   "metadata": {},
   "outputs": [],
   "source": [
    "def Tg(a1,a2,a3):\n",
    "    e1=a1+2*a2-a3 \n",
    "    \n",
    "    e2=3*a1-a2+2*a3\n",
    "    \n",
    "    e3=-a1+2*a2+3*a3\n",
    "    \n",
    "    return e1, e2, e3"
   ]
  },
  {
   "cell_type": "code",
   "execution_count": 21,
   "metadata": {},
   "outputs": [
    {
     "data": {
      "image/png": "[encoded data removed]",
      "text/latex": [
       "$\\displaystyle \\left( x + 2 y - z, \\  3 x - y + 2 z, \\  - x + 2 y + 3 z\\right)$"
      ],
      "text/plain": [
       "(x + 2⋅y - z, 3⋅x - y + 2⋅z, -x + 2⋅y + 3⋅z)"
      ]
     },
     "execution_count": 21,
     "metadata": {},
     "output_type": "execute_result"
    }
   ],
   "source": [
    "Tg(x,y,z)"
   ]
  },
  {
   "cell_type": "code",
   "execution_count": null,
   "metadata": {},
   "outputs": [],
   "source": []
  },
  {
   "cell_type": "code",
   "execution_count": null,
   "metadata": {},
   "outputs": [],
   "source": []
  },
  {
   "cell_type": "markdown",
   "metadata": {},
   "source": [
    "h.  $T\\left(\n",
    "\\begin{matrix}\n",
    "x  \\\\\n",
    "y \\\\\n",
    "z\n",
    "\\end{matrix}\n",
    "\\right) =\n",
    "\\left(\n",
    "\\begin{matrix}\n",
    "x+y-z  \\\\\n",
    "2x-z \\\\\n",
    "x+2y\n",
    "\\end{matrix}\n",
    "\\right)$"
   ]
  },
  {
   "cell_type": "code",
   "execution_count": 22,
   "metadata": {},
   "outputs": [
    {
     "data": {
      "image/png": "[encoded data removed]",
      "text/latex": [
       "$\\displaystyle \\left[\\begin{matrix}1 & 1 & -1 & 0\\\\2 & 0 & -1 & 0\\\\1 & 2 & 0 & 0\\end{matrix}\\right]$"
      ],
      "text/plain": [
       "⎡1  1  -1  0⎤\n",
       "⎢           ⎥\n",
       "⎢2  0  -1  0⎥\n",
       "⎢           ⎥\n",
       "⎣1  2  0   0⎦"
      ]
     },
     "execution_count": 22,
     "metadata": {},
     "output_type": "execute_result"
    }
   ],
   "source": [
    "b1, b2,b3 =symbols('b1, b2, b3')\n",
    "\n",
    "B8= Matrix([(1, 1, -1, 0), (2, 0, -1, 0),(1, 2, 0,0)])\n",
    "B8"
   ]
  },
  {
   "cell_type": "code",
   "execution_count": 23,
   "metadata": {},
   "outputs": [
    {
     "data": {
      "image/png": "[encoded data removed]",
      "text/latex": [
       "$\\displaystyle \\left[\\begin{matrix}1 & 1 & -1 & 0\\\\0 & -2 & 1 & 0\\\\0 & 0 & \\frac{3}{2} & 0\\end{matrix}\\right]$"
      ],
      "text/plain": [
       "⎡1  1   -1   0⎤\n",
       "⎢             ⎥\n",
       "⎢0  -2   1   0⎥\n",
       "⎢             ⎥\n",
       "⎣0  0   3/2  0⎦"
      ]
     },
     "execution_count": 23,
     "metadata": {},
     "output_type": "execute_result"
    }
   ],
   "source": [
    "L8,U8, _=B8.LUdecomposition()\n",
    "U8"
   ]
  },
  {
   "cell_type": "markdown",
   "metadata": {},
   "source": [
    "Por lo tanto el $Nu(T)=\n",
    "\\begin{Bmatrix}\n",
    "(x,y,z) \\in \\mathbb{R}^3/x=0,y=0 \\wedge z=0\n",
    "\\end{Bmatrix}$"
   ]
  },
  {
   "cell_type": "markdown",
   "metadata": {},
   "source": [
    "Calculamos el recorrido."
   ]
  },
  {
   "cell_type": "markdown",
   "metadata": {},
   "source": [
    "El recorrido sera la transformacion de la base del dominio.\n",
    "\n",
    " $T\\left(\n",
    "\\begin{matrix}\n",
    "1 \\\\\n",
    "0\\\\\n",
    "0\n",
    "\\end{matrix}\n",
    "\\right) =\n",
    "\\left(\n",
    "\\begin{matrix}\n",
    " 1\\\\\n",
    " 2\\\\\n",
    " 1\n",
    "\\end{matrix}\n",
    "\\right)$\n",
    "\n",
    " $T\\left(\n",
    "\\begin{matrix}\n",
    " 0 \\\\\n",
    " 1\\\\\n",
    " 0\n",
    "\\end{matrix}\n",
    "\\right) =\n",
    "\\left(\n",
    "\\begin{matrix}\n",
    "1\\\\\n",
    "0\\\\\n",
    "2\n",
    "\\end{matrix}\n",
    "\\right)$\n",
    "\n",
    " $T\\left(\n",
    "\\begin{matrix}\n",
    " 0 \\\\\n",
    " 0\\\\\n",
    " 1\n",
    "\\end{matrix}\n",
    "\\right) =\n",
    "\\left(\n",
    "\\begin{matrix}\n",
    "-1\\\\\n",
    "-1\\\\\n",
    "0\n",
    "\\end{matrix}\n",
    "\\right)$"
   ]
  },
  {
   "cell_type": "markdown",
   "metadata": {},
   "source": [
    "Entonces, el conjunto generador del recorrido es \n",
    "\n",
    "$G=\n",
    "\\begin{Bmatrix}\n",
    "\\left(\n",
    "\\begin{matrix}\n",
    "1\\\\\n",
    "2\\\\\n",
    "1\n",
    "\\end{matrix}\n",
    "\\right),\n",
    "\\left(\n",
    "\\begin{matrix}\n",
    "1\\\\\n",
    "0\\\\\n",
    "2\n",
    "\\end{matrix}\n",
    "\\right)\n",
    "\\left(\n",
    "\\begin{matrix}\n",
    "-1\\\\\n",
    "-1\\\\\n",
    "0\n",
    "\\end{matrix}\n",
    "\\right)\n",
    "\\end{Bmatrix}$"
   ]
  },
  {
   "cell_type": "markdown",
   "metadata": {},
   "source": [
    "Vamos a comprobar si es una transformación lineal."
   ]
  },
  {
   "cell_type": "markdown",
   "metadata": {},
   "source": [
    "$u=\\left(\n",
    "\\begin{matrix}\n",
    "x_1 \\\\\n",
    "y_1 \\\\\n",
    "z_1\n",
    "\\end{matrix}\n",
    "\\right)$\n",
    "$v=\\left(\n",
    "\\begin{matrix}\n",
    "x_2  \\\\\n",
    "y_2 \\\\\n",
    "z_2\n",
    "\\end{matrix}\n",
    "\\right)$\n",
    "\n",
    "$T(u+v)=T(u)+T(v)$\n",
    "\n",
    "$T\\left(\n",
    "\\begin{matrix}\n",
    "x_1+x_2 \\\\\n",
    "y_1+y_2\\\\\n",
    "z1_1+z_2\n",
    "\\end{matrix}\n",
    "\\right)=$\n",
    "$\\left(\n",
    "\\begin{matrix}\n",
    "x_1+x_2+y_1+y_2-(z_1+z_2) \\\\\n",
    "2(x_1+x_2)-(z_1+z_2) \\\\\n",
    "x_1+x_2+2(y_1+y_2)\n",
    "\\end{matrix}\n",
    "\\right)$\n",
    "\n",
    "\n",
    "$T\\left(\n",
    "\\begin{matrix}\n",
    "x_1  \\\\\n",
    "y_1 \\\\\n",
    "z_1\n",
    "\\end{matrix}\n",
    "\\right)+$\n",
    "$T\\left(\n",
    "\\begin{matrix}\n",
    "x_2\\\\\n",
    "y_2\\\\\n",
    "z_2\n",
    "\\end{matrix}\n",
    "\\right)=$\n",
    "$\\left(\n",
    "\\begin{matrix}\n",
    "x_1+y_1-z_1  \\\\\n",
    "2x_1-z_1 \\\\\n",
    "x_1+2y_1\n",
    "\\end{matrix}\n",
    "\\right)+$\n",
    "$\\left(\n",
    "\\begin{matrix}\n",
    "x_2+y_2-z_2  \\\\\n",
    "2x_2-z_2 \\\\\n",
    "x_2+2y_2\n",
    "\\end{matrix}\n",
    "\\right)=$\n",
    "$\\left(\n",
    "\\begin{matrix}\n",
    "x_1+y_1-z_1+x_2+y_2-z_2  \\\\\n",
    "2x_1-z_1 +2x_2-z_2 \\\\\n",
    "x_1+2y_1+x_2+2y_2\n",
    "\\end{matrix}\n",
    "\\right)$"
   ]
  },
  {
   "cell_type": "markdown",
   "metadata": {},
   "source": [
    "$T(\\alpha u)=\\alpha T(u)$\n",
    "\n",
    "$T\\left(\n",
    "\\begin{matrix}\n",
    "\\alpha x_1 \\\\\n",
    "\\alpha y_1 \\\\\n",
    "\\alpha z_1\n",
    "\\end{matrix}\n",
    "\\right)=$\n",
    "$\\left(\n",
    "\\begin{matrix}\n",
    "\\alpha x_1 +\\alpha y_1-\\alpha z_1 \\\\\n",
    "2\\alpha x_1-\\alpha z_1\\\\\n",
    "\\alpha x_1+2\\alpha y_1\n",
    "\\end{matrix}\n",
    "\\right)=$\n",
    "$\\alpha \\left(\n",
    "\\begin{matrix}\n",
    "x_1+y_1-z_1  \\\\\n",
    "2x_1-z_1 \\\\\n",
    "x_1+2y_1\n",
    "\\end{matrix}\n",
    "\\right)$\n",
    "\n",
    "Por lo tanto si es una transformacion lineal"
   ]
  },
  {
   "cell_type": "markdown",
   "metadata": {},
   "source": [
    "Ahora encontraremos su representacion matricial con respecto a la base estandar\n",
    "$A=\\left(\n",
    "\\begin{matrix}\n",
    "1 & 1 & -1\\\\\n",
    "2 & 0 & -1\\\\\n",
    "1 & 2 & 0\n",
    "\\end{matrix}\n",
    "\\right)$\n",
    "$\\left(\n",
    "\\begin{matrix}\n",
    "x  \\\\\n",
    "y \\\\\n",
    "z\n",
    "\\end{matrix}\n",
    "\\right)=$\n",
    "$T\\left(\n",
    "\\begin{matrix}\n",
    "x \\\\\n",
    "y \\\\\n",
    "z\n",
    "\\end{matrix}\n",
    "\\right)$"
   ]
  },
  {
   "cell_type": "markdown",
   "metadata": {},
   "source": [
    "h) $v_1 = (3,1,2)$, $v_2 = (-1,2,4) $$\\\\$\n",
    "$T(v_1) = (6,7,4)$, $T(v_2)= (5,-7,8)$"
   ]
  },
  {
   "cell_type": "code",
   "execution_count": null,
   "metadata": {},
   "outputs": [],
   "source": [
    "from mpl_toolkits.mplot3d import Axes3D"
   ]
  },
  {
   "cell_type": "code",
   "execution_count": 64,
   "metadata": {},
   "outputs": [
    {
     "data": {
      "image/png": "[encoded data removed]",
      "text/plain": [
       "<Figure size 432x288 with 1 Axes>"
      ]
     },
     "metadata": {
      "needs_background": "light"
     },
     "output_type": "display_data"
    }
   ],
   "source": [
    "soa = np.array([[0, 0, 0, 3, 1, 2], [0, 0, 0, -1, 2, 4]])\n",
    "\n",
    "X, Y, Z, U, V, W = zip(*soa)\n",
    "fig = plt.figure()\n",
    "ax = fig.add_subplot(111, projection='3d')\n",
    "ax.quiver(X, Y, Z, U, V, W)\n",
    "ax.set_xlim([-1, 4])\n",
    "ax.set_ylim([-1, 3])\n",
    "ax.set_zlim([-1, 5])\n",
    "plt.show()"
   ]
  },
  {
   "cell_type": "code",
   "execution_count": 65,
   "metadata": {},
   "outputs": [
    {
     "data": {
      "image/png": "[encoded data removed]",
      "text/plain": [
       "<Figure size 432x288 with 1 Axes>"
      ]
     },
     "metadata": {
      "needs_background": "light"
     },
     "output_type": "display_data"
    }
   ],
   "source": [
    "soa = np.array([[0, 0, 0, 6, 7, 4], [0, 0, 0, 5, -7, 8]])\n",
    "\n",
    "X, Y, Z, U, V, W = zip(*soa)\n",
    "fig = plt.figure()\n",
    "ax = fig.add_subplot(111, projection='3d')\n",
    "ax.quiver(X, Y, Z, U, V, W)\n",
    "ax.set_xlim([-0.5, 7])\n",
    "ax.set_ylim([-8, 8])\n",
    "ax.set_zlim([-1, 8])\n",
    "plt.show()"
   ]
  },
  {
   "cell_type": "code",
   "execution_count": 24,
   "metadata": {},
   "outputs": [],
   "source": [
    "def Th(a1,a2,a3):\n",
    "    e1=a1+a2-a3 \n",
    "    \n",
    "    e2=2*a1-a3\n",
    "    \n",
    "    e3=a1+2*a2\n",
    "    \n",
    "    return e1, e2, e3"
   ]
  },
  {
   "cell_type": "code",
   "execution_count": 25,
   "metadata": {},
   "outputs": [
    {
     "data": {
      "image/png": "[encoded data removed]",
      "text/latex": [
       "$\\displaystyle \\left( x + y - z, \\  2 x - z, \\  x + 2 y\\right)$"
      ],
      "text/plain": [
       "(x + y - z, 2⋅x - z, x + 2⋅y)"
      ]
     },
     "execution_count": 25,
     "metadata": {},
     "output_type": "execute_result"
    }
   ],
   "source": [
    "Th(x,y,z)"
   ]
  },
  {
   "cell_type": "code",
   "execution_count": null,
   "metadata": {},
   "outputs": [],
   "source": []
  },
  {
   "cell_type": "markdown",
   "metadata": {},
   "source": [
    "#### 2. Para los incisos h-k del problema anterior encuentre la representación matricial de la transformación referida ahora a:"
   ]
  },
  {
   "cell_type": "markdown",
   "metadata": {},
   "source": [
    "a. $B=\n",
    "\\begin{Bmatrix}\n",
    "\\left(\n",
    "\\begin{matrix}\n",
    "1 \\\\\n",
    "1  \\\\\n",
    "0 \n",
    "\\end{matrix}\n",
    "\\right),\n",
    "\\left(\n",
    "\\begin{matrix}\n",
    "1  \\\\\n",
    "0 \\\\\n",
    "1 \n",
    "\\end{matrix}\n",
    "\\right),\n",
    "\\left(\n",
    "\\begin{matrix}\n",
    "0  \\\\\n",
    "1  \\\\\n",
    "1 \n",
    "\\end{matrix}\n",
    "\\right)\n",
    "\\end{Bmatrix}\n",
    "$\n",
    "\n"
   ]
  },
  {
   "cell_type": "markdown",
   "metadata": {},
   "source": [
    "Para  $T\\left(\n",
    "\\begin{matrix}\n",
    "x  \\\\\n",
    "y \\\\\n",
    "z\n",
    "\\end{matrix}\n",
    "\\right) =\n",
    "\\left(\n",
    "\\begin{matrix}\n",
    "x-y+2z  \\\\\n",
    "3x-z \\\\\n",
    "2y+z\n",
    "\\end{matrix}\n",
    "\\right)$"
   ]
  },
  {
   "cell_type": "code",
   "execution_count": 26,
   "metadata": {},
   "outputs": [
    {
     "data": {
      "image/png": "[encoded data removed]",
      "text/latex": [
       "$\\displaystyle \\left( 0, \\  3, \\  2\\right)$"
      ],
      "text/plain": [
       "(0, 3, 2)"
      ]
     },
     "metadata": {},
     "output_type": "display_data"
    },
    {
     "data": {
      "image/png": "[encoded data removed]",
      "text/latex": [
       "$\\displaystyle \\left( 3, \\  2, \\  1\\right)$"
      ],
      "text/plain": [
       "(3, 2, 1)"
      ]
     },
     "metadata": {},
     "output_type": "display_data"
    },
    {
     "data": {
      "image/png": "[encoded data removed]",
      "text/latex": [
       "$\\displaystyle \\left( 1, \\  -1, \\  3\\right)$"
      ],
      "text/plain": [
       "(1, -1, 3)"
      ]
     },
     "metadata": {},
     "output_type": "display_data"
    }
   ],
   "source": [
    "display(Te(1,1,0))\n",
    "display(Te(1,0,1))\n",
    "display(Te(0,1,1))"
   ]
  },
  {
   "cell_type": "code",
   "execution_count": 27,
   "metadata": {},
   "outputs": [],
   "source": [
    "a1, a2, a3 =  sp.symbols('a1, a2, a3')\n",
    "\n",
    "Re1 = Matrix([(1, 1, 0, 0), (1, 0, 1, 3), (0, 1, 1, 2)])\n",
    "Re2 =Matrix([(1, 1, 0, 3), (1, 0, 1, 2), (0, 1, 1, 1)])\n",
    "Re3 =Matrix([(1, 1, 0, 1), (1, 0, 1, -1), (0, 1, 1, 3)])"
   ]
  },
  {
   "cell_type": "code",
   "execution_count": 28,
   "metadata": {},
   "outputs": [
    {
     "data": {
      "image/png": "[encoded data removed]",
      "text/latex": [
       "$\\displaystyle \\left\\{ a_{1} : \\frac{1}{2}, \\  a_{2} : - \\frac{1}{2}, \\  a_{3} : \\frac{5}{2}\\right\\}$"
      ],
      "text/plain": [
       "{a₁: 1/2, a₂: -1/2, a₃: 5/2}"
      ]
     },
     "metadata": {},
     "output_type": "display_data"
    },
    {
     "data": {
      "image/png": "[encoded data removed]",
      "text/latex": [
       "$\\displaystyle \\left\\{ a_{1} : 2, \\  a_{2} : 1, \\  a_{3} : 0\\right\\}$"
      ],
      "text/plain": [
       "{a₁: 2, a₂: 1, a₃: 0}"
      ]
     },
     "metadata": {},
     "output_type": "display_data"
    },
    {
     "data": {
      "image/png": "[encoded data removed]",
      "text/latex": [
       "$\\displaystyle \\left\\{ a_{1} : - \\frac{3}{2}, \\  a_{2} : \\frac{5}{2}, \\  a_{3} : \\frac{1}{2}\\right\\}$"
      ],
      "text/plain": [
       "{a₁: -3/2, a₂: 5/2, a₃: 1/2}"
      ]
     },
     "metadata": {},
     "output_type": "display_data"
    }
   ],
   "source": [
    "display(solve_linear_system(Re1, a1, a2, a3))\n",
    "display(solve_linear_system(Re2, a1, a2, a3))\n",
    "display(solve_linear_system(Re3, a1, a2, a3))"
   ]
  },
  {
   "cell_type": "markdown",
   "metadata": {},
   "source": [
    "$A=\\left(\n",
    "\\begin{matrix}\n",
    "1/2 & 2 & -3/2\\\\\n",
    "-1/2 & 1 & 5/2\\\\\n",
    "5/2 & 0 & 1/2\n",
    "\\end{matrix}\n",
    "\\right)$"
   ]
  },
  {
   "cell_type": "code",
   "execution_count": null,
   "metadata": {},
   "outputs": [],
   "source": []
  },
  {
   "cell_type": "code",
   "execution_count": null,
   "metadata": {},
   "outputs": [],
   "source": []
  },
  {
   "cell_type": "markdown",
   "metadata": {},
   "source": [
    "Para  $T\\left(\n",
    "\\begin{matrix}\n",
    "x  \\\\\n",
    "y \\\\\n",
    "z\n",
    "\\end{matrix}\n",
    "\\right) =\n",
    "\\left(\n",
    "\\begin{matrix}\n",
    "x+iy-2iz  \\\\\n",
    "-2ix+y+iz \\\\\n",
    "ix-2iy+z\n",
    "\\end{matrix}\n",
    "\\right)$"
   ]
  },
  {
   "cell_type": "code",
   "execution_count": 29,
   "metadata": {},
   "outputs": [
    {
     "data": {
      "image/png": "[encoded data removed]",
      "text/latex": [
       "$\\displaystyle \\left( 1 + i, \\  1 - 2 i, \\  - i\\right)$"
      ],
      "text/plain": [
       "(1 + ⅈ, 1 - 2⋅ⅈ, -ⅈ)"
      ]
     },
     "metadata": {},
     "output_type": "display_data"
    },
    {
     "data": {
      "image/png": "[encoded data removed]",
      "text/latex": [
       "$\\displaystyle \\left( 1 - 2 i, \\  - i, \\  1 + i\\right)$"
      ],
      "text/plain": [
       "(1 - 2⋅ⅈ, -ⅈ, 1 + ⅈ)"
      ]
     },
     "metadata": {},
     "output_type": "display_data"
    },
    {
     "data": {
      "image/png": "[encoded data removed]",
      "text/latex": [
       "$\\displaystyle \\left( - i, \\  1 + i, \\  1 - 2 i\\right)$"
      ],
      "text/plain": [
       "(-ⅈ, 1 + ⅈ, 1 - 2⋅ⅈ)"
      ]
     },
     "metadata": {},
     "output_type": "display_data"
    }
   ],
   "source": [
    "display(Tf(1,1,0))\n",
    "display(Tf(1,0,1))\n",
    "display(Tf(0,1,1))"
   ]
  },
  {
   "cell_type": "code",
   "execution_count": 30,
   "metadata": {},
   "outputs": [],
   "source": [
    "a1, a2, a3 =  sp.symbols('a1, a2, a3')\n",
    "\n",
    "Rf1 = Matrix([(1, 1, 0, 1+I), (1, 0, 1, 1-2*I), (0, 1, 1, -I)])\n",
    "Rf2 =Matrix([(1, 1, 0, 1-2*I), (1, 0, 1, -I), (0, 1, 1, 1+I)])\n",
    "Rf3 =Matrix([(1, 1, 0, -I), (1, 0, 1, 1+I), (0, 1, 1, 1-2*I)])"
   ]
  },
  {
   "cell_type": "code",
   "execution_count": 31,
   "metadata": {},
   "outputs": [
    {
     "data": {
      "image/png": "[encoded data removed]",
      "text/latex": [
       "$\\displaystyle \\left\\{ a_{1} : 1, \\  a_{2} : i, \\  a_{3} : - 2 i\\right\\}$"
      ],
      "text/plain": [
       "{a₁: 1, a₂: ⅈ, a₃: -2⋅ⅈ}"
      ]
     },
     "metadata": {},
     "output_type": "display_data"
    },
    {
     "data": {
      "image/png": "[encoded data removed]",
      "text/latex": [
       "$\\displaystyle \\left\\{ a_{1} : - 2 i, \\  a_{2} : 1, \\  a_{3} : i\\right\\}$"
      ],
      "text/plain": [
       "{a₁: -2⋅ⅈ, a₂: 1, a₃: ⅈ}"
      ]
     },
     "metadata": {},
     "output_type": "display_data"
    },
    {
     "data": {
      "image/png": "[encoded data removed]",
      "text/latex": [
       "$\\displaystyle \\left\\{ a_{1} : i, \\  a_{2} : - 2 i, \\  a_{3} : 1\\right\\}$"
      ],
      "text/plain": [
       "{a₁: ⅈ, a₂: -2⋅ⅈ, a₃: 1}"
      ]
     },
     "metadata": {},
     "output_type": "display_data"
    }
   ],
   "source": [
    "display(solve_linear_system(Rf1, a1, a2, a3))\n",
    "display(solve_linear_system(Rf2, a1, a2, a3))\n",
    "display(solve_linear_system(Rf3, a1, a2, a3))"
   ]
  },
  {
   "cell_type": "markdown",
   "metadata": {},
   "source": [
    "$A=\\left(\n",
    "\\begin{matrix}\n",
    "1 & -2i & i\\\\\n",
    "i & 1 & -2i\\\\\n",
    "-2i & i & 1\n",
    "\\end{matrix}\n",
    "\\right)$"
   ]
  },
  {
   "cell_type": "code",
   "execution_count": null,
   "metadata": {},
   "outputs": [],
   "source": []
  },
  {
   "cell_type": "code",
   "execution_count": null,
   "metadata": {},
   "outputs": [],
   "source": []
  },
  {
   "cell_type": "code",
   "execution_count": null,
   "metadata": {},
   "outputs": [],
   "source": []
  },
  {
   "cell_type": "markdown",
   "metadata": {},
   "source": [
    "Para $T\\left(\n",
    "\\begin{matrix}\n",
    "x  \\\\\n",
    "y \\\\\n",
    "z\n",
    "\\end{matrix}\n",
    "\\right) =\n",
    "\\left(\n",
    "\\begin{matrix}\n",
    "x+2y-z  \\\\\n",
    "3x-y+2z \\\\\n",
    "-x+2y+3z\n",
    "\\end{matrix}\n",
    "\\right)$"
   ]
  },
  {
   "cell_type": "code",
   "execution_count": 32,
   "metadata": {},
   "outputs": [
    {
     "data": {
      "image/png": "[encoded data removed]",
      "text/latex": [
       "$\\displaystyle \\left( 3, \\  2, \\  1\\right)$"
      ],
      "text/plain": [
       "(3, 2, 1)"
      ]
     },
     "metadata": {},
     "output_type": "display_data"
    },
    {
     "data": {
      "image/png": "[encoded data removed]",
      "text/latex": [
       "$\\displaystyle \\left( 0, \\  5, \\  2\\right)$"
      ],
      "text/plain": [
       "(0, 5, 2)"
      ]
     },
     "metadata": {},
     "output_type": "display_data"
    },
    {
     "data": {
      "image/png": "[encoded data removed]",
      "text/latex": [
       "$\\displaystyle \\left( 1, \\  1, \\  5\\right)$"
      ],
      "text/plain": [
       "(1, 1, 5)"
      ]
     },
     "metadata": {},
     "output_type": "display_data"
    }
   ],
   "source": [
    "display(Tg(1,1,0))\n",
    "display(Tg(1,0,1))\n",
    "display(Tg(0,1,1))"
   ]
  },
  {
   "cell_type": "code",
   "execution_count": 33,
   "metadata": {},
   "outputs": [],
   "source": [
    "a1, a2, a3 =  sp.symbols('a1, a2, a3')\n",
    "\n",
    "Rg1 = Matrix([(1, 1, 0, 3), (1, 0, 1, 2), (0, 1, 1, 1)])\n",
    "Rg2 =Matrix([(1, 1, 0, 0), (1, 0, 1, 5), (0, 1, 1, 2)])\n",
    "Rg3 =Matrix([(1, 1, 0, 1), (1, 0, 1, 1), (0, 1, 1, 5)])"
   ]
  },
  {
   "cell_type": "code",
   "execution_count": 34,
   "metadata": {},
   "outputs": [
    {
     "data": {
      "image/png": "[encoded data removed]",
      "text/latex": [
       "$\\displaystyle \\left\\{ a_{1} : 2, \\  a_{2} : 1, \\  a_{3} : 0\\right\\}$"
      ],
      "text/plain": [
       "{a₁: 2, a₂: 1, a₃: 0}"
      ]
     },
     "metadata": {},
     "output_type": "display_data"
    },
    {
     "data": {
      "image/png": "[encoded data removed]",
      "text/latex": [
       "$\\displaystyle \\left\\{ a_{1} : \\frac{3}{2}, \\  a_{2} : - \\frac{3}{2}, \\  a_{3} : \\frac{7}{2}\\right\\}$"
      ],
      "text/plain": [
       "{a₁: 3/2, a₂: -3/2, a₃: 7/2}"
      ]
     },
     "metadata": {},
     "output_type": "display_data"
    },
    {
     "data": {
      "image/png": "[encoded data removed]",
      "text/latex": [
       "$\\displaystyle \\left\\{ a_{1} : - \\frac{3}{2}, \\  a_{2} : \\frac{5}{2}, \\  a_{3} : \\frac{5}{2}\\right\\}$"
      ],
      "text/plain": [
       "{a₁: -3/2, a₂: 5/2, a₃: 5/2}"
      ]
     },
     "metadata": {},
     "output_type": "display_data"
    }
   ],
   "source": [
    "display(solve_linear_system(Rg1, a1, a2, a3))\n",
    "display(solve_linear_system(Rg2, a1, a2, a3))\n",
    "display(solve_linear_system(Rg3, a1, a2, a3))"
   ]
  },
  {
   "cell_type": "markdown",
   "metadata": {},
   "source": [
    "$A=\\left(\n",
    "\\begin{matrix}\n",
    "2 & 3/2 & -3/2\\\\\n",
    "1 & -3/2 & 5/2\\\\\n",
    "0 & 7/2 & 5/2\n",
    "\\end{matrix}\n",
    "\\right)$"
   ]
  },
  {
   "cell_type": "code",
   "execution_count": null,
   "metadata": {},
   "outputs": [],
   "source": []
  },
  {
   "cell_type": "code",
   "execution_count": null,
   "metadata": {},
   "outputs": [],
   "source": []
  },
  {
   "cell_type": "markdown",
   "metadata": {},
   "source": [
    "Para $T\\left(\n",
    "\\begin{matrix}\n",
    "x  \\\\\n",
    "y \\\\\n",
    "z\n",
    "\\end{matrix}\n",
    "\\right) =\n",
    "\\left(\n",
    "\\begin{matrix}\n",
    "x+y-z  \\\\\n",
    "2x-z \\\\\n",
    "x+2y\n",
    "\\end{matrix}\n",
    "\\right)$"
   ]
  },
  {
   "cell_type": "code",
   "execution_count": 35,
   "metadata": {},
   "outputs": [
    {
     "data": {
      "image/png": "[encoded data removed]",
      "text/latex": [
       "$\\displaystyle \\left( 2, \\  2, \\  3\\right)$"
      ],
      "text/plain": [
       "(2, 2, 3)"
      ]
     },
     "metadata": {},
     "output_type": "display_data"
    },
    {
     "data": {
      "image/png": "[encoded data removed]",
      "text/latex": [
       "$\\displaystyle \\left( 0, \\  1, \\  1\\right)$"
      ],
      "text/plain": [
       "(0, 1, 1)"
      ]
     },
     "metadata": {},
     "output_type": "display_data"
    },
    {
     "data": {
      "image/png": "[encoded data removed]",
      "text/latex": [
       "$\\displaystyle \\left( 0, \\  -1, \\  2\\right)$"
      ],
      "text/plain": [
       "(0, -1, 2)"
      ]
     },
     "metadata": {},
     "output_type": "display_data"
    }
   ],
   "source": [
    "display(Th(1,1,0))\n",
    "display(Th(1,0,1))\n",
    "display(Th(0,1,1))"
   ]
  },
  {
   "cell_type": "code",
   "execution_count": 36,
   "metadata": {},
   "outputs": [],
   "source": [
    "a1, a2, a3 =  sp.symbols('a1, a2, a3')\n",
    "\n",
    "Rh1 = Matrix([(1, 1, 0, 2), (1, 0, 1, 2), (0, 1, 1, 3)])\n",
    "Rh2 =Matrix([(1, 1, 0, 0), (1, 0, 1, 1), (0, 1, 1, 1)])\n",
    "Rh3 =Matrix([(1, 1, 0, 0), (1, 0, 1, -1), (0, 1, 1, 2)])"
   ]
  },
  {
   "cell_type": "code",
   "execution_count": 37,
   "metadata": {},
   "outputs": [
    {
     "data": {
      "image/png": "[encoded data removed]",
      "text/latex": [
       "$\\displaystyle \\left\\{ a_{1} : \\frac{1}{2}, \\  a_{2} : \\frac{3}{2}, \\  a_{3} : \\frac{3}{2}\\right\\}$"
      ],
      "text/plain": [
       "{a₁: 1/2, a₂: 3/2, a₃: 3/2}"
      ]
     },
     "metadata": {},
     "output_type": "display_data"
    },
    {
     "data": {
      "image/png": "[encoded data removed]",
      "text/latex": [
       "$\\displaystyle \\left\\{ a_{1} : 0, \\  a_{2} : 0, \\  a_{3} : 1\\right\\}$"
      ],
      "text/plain": [
       "{a₁: 0, a₂: 0, a₃: 1}"
      ]
     },
     "metadata": {},
     "output_type": "display_data"
    },
    {
     "data": {
      "image/png": "[encoded data removed]",
      "text/latex": [
       "$\\displaystyle \\left\\{ a_{1} : - \\frac{3}{2}, \\  a_{2} : \\frac{3}{2}, \\  a_{3} : \\frac{1}{2}\\right\\}$"
      ],
      "text/plain": [
       "{a₁: -3/2, a₂: 3/2, a₃: 1/2}"
      ]
     },
     "metadata": {},
     "output_type": "display_data"
    }
   ],
   "source": [
    "display(solve_linear_system(Rh1, a1, a2, a3))\n",
    "display(solve_linear_system(Rh2, a1, a2, a3))\n",
    "display(solve_linear_system(Rh3, a1, a2, a3))"
   ]
  },
  {
   "cell_type": "markdown",
   "metadata": {},
   "source": [
    "$A=\\left(\n",
    "\\begin{matrix}\n",
    "1/2 & 0 & -3/2\\\\\n",
    "3/2 & 0 & 3/2\\\\\n",
    "3/2 & 1 & 1/2\n",
    "\\end{matrix}\n",
    "\\right)$"
   ]
  },
  {
   "cell_type": "code",
   "execution_count": null,
   "metadata": {},
   "outputs": [],
   "source": []
  },
  {
   "cell_type": "markdown",
   "metadata": {},
   "source": [
    "$b.B=\n",
    "\\begin{Bmatrix}\n",
    "\\left(\n",
    "\\begin{matrix}\n",
    "1 \\\\\n",
    "1  \\\\\n",
    "0 \n",
    "\\end{matrix}\n",
    "\\right),\n",
    "\\left(\n",
    "\\begin{matrix}\n",
    "1  \\\\\n",
    "0 \\\\\n",
    "-1 \n",
    "\\end{matrix}\n",
    "\\right),\n",
    "\\left(\n",
    "\\begin{matrix}\n",
    "0  \\\\\n",
    "2  \\\\\n",
    "3 \n",
    "\\end{matrix}\n",
    "\\right)\n",
    "\\end{Bmatrix}\n",
    "$"
   ]
  },
  {
   "cell_type": "markdown",
   "metadata": {},
   "source": [
    "Para  $T\\left(\n",
    "\\begin{matrix}\n",
    "x  \\\\\n",
    "y \\\\\n",
    "z\n",
    "\\end{matrix}\n",
    "\\right) =\n",
    "\\left(\n",
    "\\begin{matrix}\n",
    "x-y+2z  \\\\\n",
    "3x-z \\\\\n",
    "2y+z\n",
    "\\end{matrix}\n",
    "\\right)$"
   ]
  },
  {
   "cell_type": "code",
   "execution_count": 38,
   "metadata": {},
   "outputs": [
    {
     "data": {
      "image/png": "[encoded data removed]",
      "text/latex": [
       "$\\displaystyle \\left( 0, \\  3, \\  2\\right)$"
      ],
      "text/plain": [
       "(0, 3, 2)"
      ]
     },
     "metadata": {},
     "output_type": "display_data"
    },
    {
     "data": {
      "image/png": "[encoded data removed]",
      "text/latex": [
       "$\\displaystyle \\left( -1, \\  4, \\  -1\\right)$"
      ],
      "text/plain": [
       "(-1, 4, -1)"
      ]
     },
     "metadata": {},
     "output_type": "display_data"
    },
    {
     "data": {
      "image/png": "[encoded data removed]",
      "text/latex": [
       "$\\displaystyle \\left( 4, \\  -3, \\  7\\right)$"
      ],
      "text/plain": [
       "(4, -3, 7)"
      ]
     },
     "metadata": {},
     "output_type": "display_data"
    }
   ],
   "source": [
    "display(Te(1,1,0))\n",
    "display(Te(1,0,-1))\n",
    "display(Te(0,2,3))"
   ]
  },
  {
   "cell_type": "code",
   "execution_count": 39,
   "metadata": {},
   "outputs": [],
   "source": [
    "a1, a2, a3 =  sp.symbols('a1, a2, a3')\n",
    "\n",
    "Re1 = Matrix([(1, 1, 0, 0), (1, 0, 1, 3), (0, 1, 1, 2)])\n",
    "Re2 =Matrix([(1, 1, 0, -1), (1, 0, 1, 4), (0, 1, 1, -1)])\n",
    "Re3 =Matrix([(1, 1, 0, 4), (1, 0, 1, -3), (0, 1, 1, 7)])"
   ]
  },
  {
   "cell_type": "code",
   "execution_count": 40,
   "metadata": {},
   "outputs": [
    {
     "data": {
      "image/png": "[encoded data removed]",
      "text/latex": [
       "$\\displaystyle \\left\\{ a_{1} : \\frac{1}{2}, \\  a_{2} : - \\frac{1}{2}, \\  a_{3} : \\frac{5}{2}\\right\\}$"
      ],
      "text/plain": [
       "{a₁: 1/2, a₂: -1/2, a₃: 5/2}"
      ]
     },
     "metadata": {},
     "output_type": "display_data"
    },
    {
     "data": {
      "image/png": "[encoded data removed]",
      "text/latex": [
       "$\\displaystyle \\left\\{ a_{1} : 2, \\  a_{2} : -3, \\  a_{3} : 2\\right\\}$"
      ],
      "text/plain": [
       "{a₁: 2, a₂: -3, a₃: 2}"
      ]
     },
     "metadata": {},
     "output_type": "display_data"
    },
    {
     "data": {
      "image/png": "[encoded data removed]",
      "text/latex": [
       "$\\displaystyle \\left\\{ a_{1} : -3, \\  a_{2} : 7, \\  a_{3} : 0\\right\\}$"
      ],
      "text/plain": [
       "{a₁: -3, a₂: 7, a₃: 0}"
      ]
     },
     "metadata": {},
     "output_type": "display_data"
    }
   ],
   "source": [
    "display(solve_linear_system(Re1, a1, a2, a3))\n",
    "display(solve_linear_system(Re2, a1, a2, a3))\n",
    "display(solve_linear_system(Re3, a1, a2, a3))"
   ]
  },
  {
   "cell_type": "markdown",
   "metadata": {},
   "source": [
    "$A=\\left(\n",
    "\\begin{matrix}\n",
    "1/2 & 2 & -3\\\\\n",
    "-1/2 & -3 & 7\\\\\n",
    "5/2 & 2 & 0\n",
    "\\end{matrix}\n",
    "\\right)$"
   ]
  },
  {
   "cell_type": "code",
   "execution_count": null,
   "metadata": {},
   "outputs": [],
   "source": []
  },
  {
   "cell_type": "code",
   "execution_count": null,
   "metadata": {},
   "outputs": [],
   "source": []
  },
  {
   "cell_type": "markdown",
   "metadata": {},
   "source": [
    "Para  $T\\left(\n",
    "\\begin{matrix}\n",
    "x  \\\\\n",
    "y \\\\\n",
    "z\n",
    "\\end{matrix}\n",
    "\\right) =\n",
    "\\left(\n",
    "\\begin{matrix}\n",
    "x+iy-2iz  \\\\\n",
    "-2ix+y+iz \\\\\n",
    "ix-2iy+z\n",
    "\\end{matrix}\n",
    "\\right)$"
   ]
  },
  {
   "cell_type": "code",
   "execution_count": 41,
   "metadata": {},
   "outputs": [
    {
     "data": {
      "image/png": "[encoded data removed]",
      "text/latex": [
       "$\\displaystyle \\left( 1 + i, \\  1 - 2 i, \\  - i\\right)$"
      ],
      "text/plain": [
       "(1 + ⅈ, 1 - 2⋅ⅈ, -ⅈ)"
      ]
     },
     "metadata": {},
     "output_type": "display_data"
    },
    {
     "data": {
      "image/png": "[encoded data removed]",
      "text/latex": [
       "$\\displaystyle \\left( 1 + 2 i, \\  - 3 i, \\  -1 + i\\right)$"
      ],
      "text/plain": [
       "(1 + 2⋅ⅈ, -3⋅ⅈ, -1 + ⅈ)"
      ]
     },
     "metadata": {},
     "output_type": "display_data"
    },
    {
     "data": {
      "image/png": "[encoded data removed]",
      "text/latex": [
       "$\\displaystyle \\left( - 4 i, \\  2 + 3 i, \\  3 - 4 i\\right)$"
      ],
      "text/plain": [
       "(-4⋅ⅈ, 2 + 3⋅ⅈ, 3 - 4⋅ⅈ)"
      ]
     },
     "metadata": {},
     "output_type": "display_data"
    }
   ],
   "source": [
    "display(Tf(1,1,0))\n",
    "display(Tf(1,0,-1))\n",
    "display(Tf(0,2,3))"
   ]
  },
  {
   "cell_type": "code",
   "execution_count": 42,
   "metadata": {},
   "outputs": [],
   "source": [
    "a1, a2, a3 =  sp.symbols('a1, a2, a3')\n",
    "\n",
    "Rf1 = Matrix([(1, 1, 0, 1+I), (1, 0, 1, 1-2*I), (0, 1, 1, -I)])\n",
    "Rf2 =Matrix([(1, 1, 0, 1+2*I), (1, 0, 1, -3*I), (0, 1, 1, -1+I)])\n",
    "Rf3 =Matrix([(1, 1, 0, -4*I), (1, 0, 1, 2+3*I), (0, 1, 1, 3-4*I)])"
   ]
  },
  {
   "cell_type": "code",
   "execution_count": 43,
   "metadata": {},
   "outputs": [
    {
     "data": {
      "image/png": "[encoded data removed]",
      "text/latex": [
       "$\\displaystyle \\left\\{ a_{1} : 1, \\  a_{2} : i, \\  a_{3} : - 2 i\\right\\}$"
      ],
      "text/plain": [
       "{a₁: 1, a₂: ⅈ, a₃: -2⋅ⅈ}"
      ]
     },
     "metadata": {},
     "output_type": "display_data"
    },
    {
     "data": {
      "image/png": "[encoded data removed]",
      "text/latex": [
       "$\\displaystyle \\left\\{ a_{1} : 1 - i, \\  a_{2} : 3 i, \\  a_{3} : -1 - 2 i\\right\\}$"
      ],
      "text/plain": [
       "{a₁: 1 - ⅈ, a₂: 3⋅ⅈ, a₃: -1 - 2⋅ⅈ}"
      ]
     },
     "metadata": {},
     "output_type": "display_data"
    },
    {
     "data": {
      "image/png": "[encoded data removed]",
      "text/latex": [
       "$\\displaystyle \\left\\{ a_{1} : - \\frac{1}{2} + \\frac{3 i}{2}, \\  a_{2} : \\frac{1}{2} - \\frac{11 i}{2}, \\  a_{3} : \\frac{5}{2} + \\frac{3 i}{2}\\right\\}$"
      ],
      "text/plain": [
       "⎧      1   3⋅ⅈ      1   11⋅ⅈ      5   3⋅ⅈ⎫\n",
       "⎨a₁: - ─ + ───, a₂: ─ - ────, a₃: ─ + ───⎬\n",
       "⎩      2    2       2    2        2    2 ⎭"
      ]
     },
     "metadata": {},
     "output_type": "display_data"
    }
   ],
   "source": [
    "display(solve_linear_system(Rf1, a1, a2, a3))\n",
    "display(solve_linear_system(Rf2, a1, a2, a3))\n",
    "display(solve_linear_system(Rf3, a1, a2, a3))"
   ]
  },
  {
   "cell_type": "markdown",
   "metadata": {},
   "source": [
    "$A=\\left(\n",
    "\\begin{matrix}\n",
    "1 & 1-i & -1/2+3i/2\\\\\n",
    "i & 3i & 1/2-11i/2\\\\\n",
    "-2i & -1-2i & 5/2+3i/2\n",
    "\\end{matrix}\n",
    "\\right)$"
   ]
  },
  {
   "cell_type": "code",
   "execution_count": null,
   "metadata": {},
   "outputs": [],
   "source": []
  },
  {
   "cell_type": "markdown",
   "metadata": {},
   "source": [
    "Para $T\\left(\n",
    "\\begin{matrix}\n",
    "x  \\\\\n",
    "y \\\\\n",
    "z\n",
    "\\end{matrix}\n",
    "\\right) =\n",
    "\\left(\n",
    "\\begin{matrix}\n",
    "x+2y-z  \\\\\n",
    "3x-y+2z \\\\\n",
    "-x+2y+3z\n",
    "\\end{matrix}\n",
    "\\right)$"
   ]
  },
  {
   "cell_type": "code",
   "execution_count": 44,
   "metadata": {},
   "outputs": [
    {
     "data": {
      "image/png": "[encoded data removed]",
      "text/latex": [
       "$\\displaystyle \\left( 3, \\  2, \\  1\\right)$"
      ],
      "text/plain": [
       "(3, 2, 1)"
      ]
     },
     "metadata": {},
     "output_type": "display_data"
    },
    {
     "data": {
      "image/png": "[encoded data removed]",
      "text/latex": [
       "$\\displaystyle \\left( 2, \\  1, \\  -4\\right)$"
      ],
      "text/plain": [
       "(2, 1, -4)"
      ]
     },
     "metadata": {},
     "output_type": "display_data"
    },
    {
     "data": {
      "image/png": "[encoded data removed]",
      "text/latex": [
       "$\\displaystyle \\left( 1, \\  4, \\  13\\right)$"
      ],
      "text/plain": [
       "(1, 4, 13)"
      ]
     },
     "metadata": {},
     "output_type": "display_data"
    }
   ],
   "source": [
    "display(Tg(1,1,0))\n",
    "display(Tg(1,0,-1))\n",
    "display(Tg(0,2,3))"
   ]
  },
  {
   "cell_type": "code",
   "execution_count": 45,
   "metadata": {},
   "outputs": [],
   "source": [
    "a1, a2, a3 =  sp.symbols('a1, a2, a3')\n",
    "\n",
    "Rg1 = Matrix([(1, 1, 0, 3), (1, 0, 1, 2), (0, 1, 1, 1)])\n",
    "Rg2 =Matrix([(1, 1, 0, 2), (1, 0, 1, 1), (0, 1, 1, -4)])\n",
    "Rg3 =Matrix([(1, 1, 0, 1), (1, 0, 1, 4), (0, 1, 1, 13)])"
   ]
  },
  {
   "cell_type": "code",
   "execution_count": 46,
   "metadata": {},
   "outputs": [
    {
     "data": {
      "image/png": "[encoded data removed]",
      "text/latex": [
       "$\\displaystyle \\left\\{ a_{1} : 2, \\  a_{2} : 1, \\  a_{3} : 0\\right\\}$"
      ],
      "text/plain": [
       "{a₁: 2, a₂: 1, a₃: 0}"
      ]
     },
     "metadata": {},
     "output_type": "display_data"
    },
    {
     "data": {
      "image/png": "[encoded data removed]",
      "text/latex": [
       "$\\displaystyle \\left\\{ a_{1} : \\frac{7}{2}, \\  a_{2} : - \\frac{3}{2}, \\  a_{3} : - \\frac{5}{2}\\right\\}$"
      ],
      "text/plain": [
       "{a₁: 7/2, a₂: -3/2, a₃: -5/2}"
      ]
     },
     "metadata": {},
     "output_type": "display_data"
    },
    {
     "data": {
      "image/png": "[encoded data removed]",
      "text/latex": [
       "$\\displaystyle \\left\\{ a_{1} : -4, \\  a_{2} : 5, \\  a_{3} : 8\\right\\}$"
      ],
      "text/plain": [
       "{a₁: -4, a₂: 5, a₃: 8}"
      ]
     },
     "metadata": {},
     "output_type": "display_data"
    }
   ],
   "source": [
    "display(solve_linear_system(Rg1, a1, a2, a3))\n",
    "display(solve_linear_system(Rg2, a1, a2, a3))\n",
    "display(solve_linear_system(Rg3, a1, a2, a3))"
   ]
  },
  {
   "cell_type": "markdown",
   "metadata": {},
   "source": [
    "$A=\\left(\n",
    "\\begin{matrix}\n",
    "2 & 7/2-i & -4\\\\\n",
    "1 & -3/2 & 5\\\\\n",
    "0 & -5/2 & 8\n",
    "\\end{matrix}\n",
    "\\right)$"
   ]
  },
  {
   "cell_type": "code",
   "execution_count": null,
   "metadata": {},
   "outputs": [],
   "source": []
  },
  {
   "cell_type": "code",
   "execution_count": null,
   "metadata": {},
   "outputs": [],
   "source": []
  },
  {
   "cell_type": "markdown",
   "metadata": {},
   "source": [
    "Para $T\\left(\n",
    "\\begin{matrix}\n",
    "x  \\\\\n",
    "y \\\\\n",
    "z\n",
    "\\end{matrix}\n",
    "\\right) =\n",
    "\\left(\n",
    "\\begin{matrix}\n",
    "x+y-z  \\\\\n",
    "2x-z \\\\\n",
    "x+2y\n",
    "\\end{matrix}\n",
    "\\right)$"
   ]
  },
  {
   "cell_type": "code",
   "execution_count": 47,
   "metadata": {},
   "outputs": [
    {
     "data": {
      "image/png": "[encoded data removed]",
      "text/latex": [
       "$\\displaystyle \\left( 2, \\  2, \\  3\\right)$"
      ],
      "text/plain": [
       "(2, 2, 3)"
      ]
     },
     "metadata": {},
     "output_type": "display_data"
    },
    {
     "data": {
      "image/png": "[encoded data removed]",
      "text/latex": [
       "$\\displaystyle \\left( 2, \\  3, \\  1\\right)$"
      ],
      "text/plain": [
       "(2, 3, 1)"
      ]
     },
     "metadata": {},
     "output_type": "display_data"
    },
    {
     "data": {
      "image/png": "[encoded data removed]",
      "text/latex": [
       "$\\displaystyle \\left( -1, \\  -3, \\  4\\right)$"
      ],
      "text/plain": [
       "(-1, -3, 4)"
      ]
     },
     "metadata": {},
     "output_type": "display_data"
    }
   ],
   "source": [
    "display(Th(1,1,0))\n",
    "display(Th(1,0,-1))\n",
    "display(Th(0,2,3))"
   ]
  },
  {
   "cell_type": "code",
   "execution_count": 48,
   "metadata": {},
   "outputs": [],
   "source": [
    "a1, a2, a3 =  sp.symbols('a1, a2, a3')\n",
    "\n",
    "Rh1 = Matrix([(1, 1, 0, 2), (1, 0, 1, 2), (0, 1, 1,3)])\n",
    "Rh2 =Matrix([(1, 1, 0, 2), (1, 0, 1, 3), (0, 1, 1, 1)])\n",
    "Rh3 =Matrix([(1, 1, 0, -1), (1, 0, 1, -3), (0, 1, 1, 4)])"
   ]
  },
  {
   "cell_type": "code",
   "execution_count": 49,
   "metadata": {},
   "outputs": [
    {
     "data": {
      "image/png": "[encoded data removed]",
      "text/latex": [
       "$\\displaystyle \\left\\{ a_{1} : \\frac{1}{2}, \\  a_{2} : \\frac{3}{2}, \\  a_{3} : \\frac{3}{2}\\right\\}$"
      ],
      "text/plain": [
       "{a₁: 1/2, a₂: 3/2, a₃: 3/2}"
      ]
     },
     "metadata": {},
     "output_type": "display_data"
    },
    {
     "data": {
      "image/png": "[encoded data removed]",
      "text/latex": [
       "$\\displaystyle \\left\\{ a_{1} : 2, \\  a_{2} : 0, \\  a_{3} : 1\\right\\}$"
      ],
      "text/plain": [
       "{a₁: 2, a₂: 0, a₃: 1}"
      ]
     },
     "metadata": {},
     "output_type": "display_data"
    },
    {
     "data": {
      "image/png": "[encoded data removed]",
      "text/latex": [
       "$\\displaystyle \\left\\{ a_{1} : -4, \\  a_{2} : 3, \\  a_{3} : 1\\right\\}$"
      ],
      "text/plain": [
       "{a₁: -4, a₂: 3, a₃: 1}"
      ]
     },
     "metadata": {},
     "output_type": "display_data"
    }
   ],
   "source": [
    "display(solve_linear_system(Rh1, a1, a2, a3))\n",
    "display(solve_linear_system(Rh2, a1, a2, a3))\n",
    "display(solve_linear_system(Rh3, a1, a2, a3))"
   ]
  },
  {
   "cell_type": "markdown",
   "metadata": {},
   "source": [
    "$A=\\left(\n",
    "\\begin{matrix}\n",
    "1/2 & 2 & -4\\\\\n",
    "3/2 & 0 & 3\\\\\n",
    "3/2& 1 & 1\n",
    "\\end{matrix}\n",
    "\\right)$"
   ]
  },
  {
   "cell_type": "code",
   "execution_count": null,
   "metadata": {},
   "outputs": [],
   "source": []
  }
 ],
 "metadata": {
  "kernelspec": {
   "display_name": "Python 3",
   "language": "python",
   "name": "python3"
  },
  "language_info": {
   "codemirror_mode": {
    "name": "ipython",
    "version": 3
   },
   "file_extension": ".py",
   "mimetype": "text/x-python",
   "name": "python",
   "nbconvert_exporter": "python",
   "pygments_lexer": "ipython3",
   "version": "3.9.2"
  }
 },
 "nbformat": 4,
 "nbformat_minor": 4
}

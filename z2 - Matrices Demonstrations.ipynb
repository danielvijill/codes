{
 "cells": [
  {
   "cell_type": "markdown",
   "metadata": {},
   "source": [
    "### 1) Mostrar que si $A$ y $B$ son hermíticos, entonces $i[A,B]$ es Hermítico\n",
    "\n",
    "Por propiedades de los operadores hermíticos sabemos que $[A,B]$ es anti-hermítica, por lo tanto:\n",
    "\n",
    "$$[A,B]=-[A,B]^{\\dagger}\\rightarrow -[A,B]=[A,B]^{\\dagger}$$\n",
    "\n",
    "Tomamos $i[A,B]$\n",
    "$$(i[A,B])^{\\dagger}=([A,B]^{\\dagger})(-i)$$\n",
    "\n",
    "$$=(-[A,B])(-i)$$\n",
    "\n",
    "$$=[A,B]i=i[A,B]$$\n"
   ]
  },
  {
   "cell_type": "markdown",
   "metadata": {},
   "source": [
    "### 2). Muestre que si $A$ y $B$ conmutan , y $f$ y $g$ son funciones arbitrarias , entonces $f(A)$ y $g(B)$ también conmutan.\n",
    "\n",
    "Sea $A=x$ y $B=y$ entonces:\n",
    "\n",
    "$AB=BA \\rightarrow xy=yx;$  \n",
    "\n",
    "Ahora, si $f(A)=A$ y $g(B)=B$, entonces\n",
    "\n",
    "$f(A)g(B)=AB$ y $g(B)f(A)=BA$\n",
    "\n",
    "$f(A)g(B)=g(B)f(A) \\rightarrow AB=BA \\rightarrow xy=yx$\n",
    "\n",
    "Por Propiedad Conmutativa entre producto de funciones.  \n"
   ]
  },
  {
   "cell_type": "markdown",
   "metadata": {},
   "source": [
    "### 3) Muestre que si $P$ es un operador de proyección hermítico, también solo son:\n",
    "### $I-P \\\\$\n",
    "$U^{\\dagger}PU \\ \\ \\$ siendo $U$ un operador unitario  \n",
    "\n",
    "a) Sabemos que $I$ es un operador de proyección y tambien es hermítico:\n",
    "$$I^2=I$$\n",
    "$$I^{\\dagger}=I$$\n",
    "\n",
    "Si $I$ y $P$ son hermíticas, por propiedad de los operadores hermíticos entonces:\n",
    "$$(I-P)^{T}=I^{T}-P^{T}$$\n",
    "\n",
    "$$\\overline{I^{T}}-\\overline{P^{T}}=I-P$$\n",
    "\n",
    "$I-P$ es hermítico \n",
    "\n",
    "Del mismo modo:\n",
    "$$(I-P)(I-P)=I-P-P+P^2=I-P-P+P=I-P$$\n",
    "\n",
    "$I-P$ es un operador de proyección \n",
    "\n",
    "b) Los Operadores Unitarios se conmutan entre si $ \\ U^*U=I \\ \\   _\\land \\ \\ UU^*=I$. Por lo que podemos asegurar que si son multiplicables por una matriz, tambien son conmutables por esa matriz.\n",
    "\n",
    "$$U^*PU=U^*UP=IP=P$$\n",
    "\n",
    "Y $P$ es un operador de proyeccón hermítico, por lo que $U^*PU$ también es un operador de proyección hermítico\n"
   ]
  },
  {
   "cell_type": "markdown",
   "metadata": {},
   "source": [
    "### 4) Mostrar que matrices similares tienen el mismo polinomio característico  "
   ]
  },
  {
   "cell_type": "markdown",
   "metadata": {},
   "source": [
    "Si una matriz es semejante a otra podemos asegurar lo siguiente:\n",
    "$$B=P^{-1}AP$$\n",
    "\n",
    "Eso significa que el polinomio característico de $B$ podemos escribirlo de la siguiente forma:\n",
    "$$ |B-\\lambda I| = |P^{-1}AP-\\lambda I|$$\n",
    "\n",
    "Debido a que $\\lambda$ es un escalar, y que $I$ es conmutable con cualquier matriz cuadrada, podemos hacer lo siguiente\n",
    "$$ |B-\\lambda I| = |P^{-1}AP-P^{-1}\\lambda IP| $$\n",
    "Trabajando con algebra de matrices\n",
    "$$ =|P^{-1}(A-\\lambda I)P|$$\n",
    "\n",
    "Utilizamos la propiedades de los determinantes:\n",
    "$$ =|P^{-1}| \\ |A-\\lambda I| \\ |P|$$ \n",
    "\n",
    "$$ =|P^{-1}| \\ |P| \\ |A-\\lambda I|$$\n",
    "\n",
    "$$ =|P^{-1}P| \\ |A-\\lambda I|$$\n",
    "\n",
    "$$ =|I| \\ |A-\\lambda I|$$\n",
    "\n",
    "El determinante de $I$ es $1$ y terminamos la demostración\n",
    "\n",
    "$$ |B-\\lambda I|=|A-\\lambda I|$$"
   ]
  },
  {
   "cell_type": "markdown",
   "metadata": {},
   "source": [
    "### 5). Mostrar que si se tienen dos matrices similares, estas tienen los mismos valores propios.\n",
    "\n",
    "Supongamos que $A$ y $B$ son dos matrices similares y P es un operador de proyección. Tendremos que si\n",
    "$$A = P^{-1}BP$$ Existe una matriz $Q$ tal que $$B=A^*QA$$\n",
    "Por lo que $A$ y $B$ estan relacionadas de forma unitaria, por lo que se cumple:\n",
    "\n",
    "$$AA^*-BB^*=0$$\n",
    "$$A^2-B^2=0$$\n",
    "Por tanto los valores propios deben ser iguales.\n",
    "\n",
    "\n"
   ]
  },
  {
   "cell_type": "markdown",
   "metadata": {},
   "source": [
    "### 6). Mostrar que si $A$ tiene inversa, entonces los valores propios de $A^{-1}$ son los inversos de los valores propios de $A$ $(\\frac{1}{\\lambda})$.\n",
    "\n",
    "Tenemos que, los valores propios de una matriz se relacionan con ella por medio de la ecuación: $$A \\overrightarrow{x}=\\lambda \\overrightarrow{x}$$\n",
    "\n",
    "Multiplicamos ambos lados de la igualdad por la matriz inversa de $A$: $$A^{-1}A \\overrightarrow{x}=A^{-1}\\lambda \\overrightarrow{x}$$\n",
    "\n",
    "$$\\overrightarrow{x}=A^{-1}\\lambda \\overrightarrow{x}$$\n",
    "\n",
    "$$\\frac{\\overrightarrow{x}}{\\lambda}=A^{-1} \\overrightarrow{x}$$\n",
    "\n",
    "$$A^{-1} \\overrightarrow{x}=\\frac{\\overrightarrow{x}}{\\lambda}$$\n",
    "\n",
    "Y por tanto, queda demostrado que los valores propios de $A^{-1}$ son inversos a los valores propios de $A$.\n",
    "\n"
   ]
  },
  {
   "cell_type": "markdown",
   "metadata": {},
   "source": [
    "### 7) Mostrar que los valores propios de un operador Hermítico son reales"
   ]
  },
  {
   "cell_type": "markdown",
   "metadata": {},
   "source": [
    "Sabemos que un operador hermítico se caracteriza por la siguiente propiedad $(1)$:\n",
    "$$ M = M^{\\dagger}$$ "
   ]
  },
  {
   "cell_type": "markdown",
   "metadata": {},
   "source": [
    "Un operador hermítico $L$ tiene autovalores $\\lambda$ y autovectores $|\\lambda \\rangle$. Usando propiedades de los operadores podemos asegurar:\n",
    "$$L \\ |\\lambda \\rangle = \\lambda \\ |\\lambda \\rangle \\ \\ \\ \\ \\ \\ \\ (2)$$\n",
    "\n",
    "Debido a $(1)$\n",
    "$$ \\langle \\lambda | L^{\\dagger}= \\langle \\lambda | \\lambda^* \\rightarrow \\langle \\lambda | L= \\langle \\lambda | \\lambda ^* \\ \\ \\ \\ \\ \\ \\ (3)$$\n",
    "\n",
    "Haciendo el producto interno en $(2)$ con $\\langle \\lambda |$ y en $(3)$ con $|\\lambda \\rangle$ obtenemos respectivamente:\n",
    "\n",
    "$$\\langle \\lambda | L | \\lambda \\rangle = \\lambda \\langle \\lambda | \\lambda \\rangle \\ \\ \\ \\ \\ \\ \\ (4)$$\n",
    "\n",
    "$$\\langle \\lambda | L | \\lambda \\rangle = \\lambda^* \\langle \\lambda | \\lambda \\rangle \\ \\ \\ \\ \\ \\ \\ (5)$$\n",
    "\n",
    "Igualamos la parte derecha tanto de $(4)$ como de $(5)$\n",
    "\n",
    "$$\\lambda \\langle \\lambda | \\lambda \\rangle = \\lambda^* \\langle \\lambda | \\lambda \\rangle \\ \\ \\ \\ \\ \\ \\  \\therefore  \\ \\ \\ \\ \\ \\ \\  \\lambda = \\lambda^*$$\n",
    "\n",
    "Podemos concluir, que la única forma que el conjugado de un número sea el mismo número, es que este este pertenezca a los reales. \n",
    "$$\\lambda \\in \\mathbb{R}$$"
   ]
  },
  {
   "cell_type": "markdown",
   "metadata": {},
   "source": [
    "### 8). Mostrar que los valores propios de un operador positivo son positivos.\n",
    "Consideremos la ecuación: $$A |x \\rangle = \\lambda | x \\rangle$$\n",
    "Por definición, un operador positivo es un operador autoadjunto. Y por definición de adjunto $T^{\\dagger}$ de un operador $T$:\n",
    "\n",
    "$$\\langle a|T |b \\rangle^* = \\langle b| T^{\\dagger}| a \\rangle$$\n",
    "\n",
    "Por de definición un operador hermitiano: $T^* = T$\n",
    "\n",
    "Por definición de operador positivo: $$ \\langle a|T|a \\rangle \\geq 0$$\n",
    "\n",
    "Por lo que tenemos que: $$\\langle a|T |b \\rangle = \\langle b|T^{\\dagger} |a \\rangle \\geq 0$$\n",
    "\n",
    " Volviendo a: $$A |x \\rangle = \\lambda |x \\rangle$$ \n",
    " $$T |a \\rangle = \\lambda |a \\rangle$$\n",
    " \n",
    "Multiplicando ambos lados de la ecuación por: $ \\langle a|$ :\n",
    "\n",
    "$$\\langle a |T| a \\rangle = \\langle a| \\lambda | a \\rangle$$\n",
    "\n",
    "$$\\langle a |T| a \\rangle = \\lambda \\langle a| a \\rangle \\geq 0$$\n",
    "\n",
    "$$\\langle a |T| a \\rangle = \\langle a| \\lambda | a \\rangle^*$$\n",
    "\n",
    "$$\\langle a |T| a \\rangle = (\\lambda \\langle a | a \\rangle)^* \\geq 0$$\n",
    "\n",
    "$$\\lambda \\langle a | a \\rangle = (\\lambda \\langle a | a \\rangle)^* \\geq 0$$\n",
    "\n",
    "Finalmente, tenemos que:\n",
    "$$\\langle a | a \\rangle = \\langle a | a \\rangle^* \\geq 0$$\n",
    "Lo cual se cumple si y solamente si $\\langle a | a \\rangle \\in \\Re$, por lo que, si: \n",
    "\n",
    "$$\\lambda \\langle a | a \\rangle = \\lambda^* \\langle a | a \\rangle \\geq 0$$\n",
    "\n",
    "$$\\lambda= \\lambda^* \\geq 0$$\n",
    "\n",
    "Y por tanto, queda demostrado que los valores propios de un operador positivo son positivos.\n",
    "\n",
    "\n",
    "\n",
    "\n",
    "\n",
    "\n",
    "\n"
   ]
  },
  {
   "cell_type": "markdown",
   "metadata": {},
   "source": [
    "### 9) Mostrar que los valores propios de un operador unitario tienen magnitud igual a la unidad"
   ]
  },
  {
   "cell_type": "markdown",
   "metadata": {},
   "source": [
    "Suponga que $v \\neq 0$ es un vector propio de $\\phi$ con un valor propio $\\lambda$. Tenemos: \n",
    "\n",
    "$$\\langle \\phi v, \\phi v \\rangle = \\langle \\lambda v, \\lambda v \\rangle = \\lambda \\bar \\lambda \\langle v, v \\rangle = |\\lambda|^2 \\|v\\|^2$$\n",
    "\n",
    "También: \n",
    "\n",
    "$$\\langle \\phi v, \\phi v \\rangle = \\langle \\phi^* \\phi v, v \\rangle = \\langle v, v \\rangle = \\|v\\|^2$$\n",
    "\n",
    "\n",
    "Sustrayendo las ecuaciones tenemos: \n",
    "$0 = |\\lambda|^2 \\|v\\|^2 - \\|v\\|^2 = \\left( |\\lambda|^2 -1 \\right) \\|v\\|^2$. Ya que $v \\neq 0$, $\\|v\\|^2 \\neq 0$, dividimos por $\\|v\\|^2$. Obtenemos lo siguiente: \n",
    "\n",
    "$$|\\lambda|^2 - 1=0$$\n",
    "\n",
    "Despejando esta ecuación final obtenemos la demostración: \n",
    "$$\\lambda = 1$$\n"
   ]
  },
  {
   "cell_type": "markdown",
   "metadata": {},
   "source": [
    "### 10). Observar las características que tienen los vectores fila y los vectores columna de un operador ortogonal expresado en forma matricial.\n",
    "\n",
    "Un operador ortogonal en forma matricial tiene la característica de ser una matriz cuadrada en donde las columnas de la matriz forman un conjunto ortogonal y unitario y las filas de dicha matriz también forman un conjunto ortogonal y unitario, es decir conjuntos ortonormales.\n",
    "\n",
    "Ilustraremos esto con el ejemplo de la siguiente matriz ortogonal: \n",
    "$$ A=\n",
    "\\left(\\begin{array}{cc} \n",
    "-1 & 0\\\\\n",
    "0 & 1 \n",
    "\\end{array}\\right)$$\n",
    "\n",
    "Es fácil comprobar que sus vectores filas y vectores columna son un conjunto ortogonal ya que su producto interno es cero. Es trivial notar que la magnitud de cada uno de los vectores es igual a la unidad. Tenemos conjuntos ortonormales.\n"
   ]
  },
  {
   "cell_type": "code",
   "execution_count": null,
   "metadata": {},
   "outputs": [],
   "source": []
  }
 ],
 "metadata": {
  "kernelspec": {
   "display_name": "Python 3",
   "language": "python",
   "name": "python3"
  },
  "language_info": {
   "codemirror_mode": {
    "name": "ipython",
    "version": 3
   },
   "file_extension": ".py",
   "mimetype": "text/x-python",
   "name": "python",
   "nbconvert_exporter": "python",
   "pygments_lexer": "ipython3",
   "version": "3.8.5"
  }
 },
 "nbformat": 4,
 "nbformat_minor": 4
}

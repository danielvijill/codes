{
 "cells": [
  {
   "cell_type": "markdown",
   "metadata": {},
   "source": [
    "# Ejercicio 5.27\n",
    "\n",
    "#### Encontrar la matriz que transforma la base estándar  de  $C^3$  en los vectores \n",
    "\n",
    "$ |a_1>=\n",
    "\\left(\\begin{array}{cc} \n",
    "\\frac{1}{\\sqrt{2}}\\\\\n",
    "\\frac{1}{\\sqrt{6}}\\\\\n",
    "\\frac{1+i}{\\sqrt{6}}\n",
    "\\end{array}\\right)\n",
    "$\n",
    "\n",
    "$ |a_2>=\n",
    "\\left(\\begin{array}{cc} \n",
    "\\frac{-i}{\\sqrt{2}}\\\\\n",
    "\\frac{i}{\\sqrt{6}}\\\\\n",
    " \\frac{-1+i}{\\sqrt{6}}\n",
    "\\end{array}\\right)\n",
    "$\n",
    "$ |a_3>=\n",
    "\\left(\\begin{array}{cc} \n",
    "0\\\\\n",
    "\\frac{-2}{\\sqrt{6}}\\\\\n",
    "\\frac{1+i}{\\sqrt{6}}\n",
    "\\end{array}\\right)\n",
    "$\n",
    "#### Mostrar que esta matriz es unitaria.\n",
    "\n",
    "Tenemos las bases canónicas:\n",
    "\n",
    "$|e_1>=\n",
    "\\left(\\begin{array}{cc} \n",
    "1\\\\\n",
    "0\\\\\n",
    "0\n",
    "\\end{array}\\right)$\n",
    "$|e_2>=\n",
    "\\left(\\begin{array}{cc} \n",
    "0\\\\\n",
    "1\\\\\n",
    "0\n",
    "\\end{array}\\right)$\n",
    "$|e_3>=\n",
    "\\left(\\begin{array}{cc} \n",
    "0\\\\\n",
    "0\\\\\n",
    "1\n",
    "\\end{array}\\right)$\n",
    "\n",
    "\n",
    "Escribiremos una combinación lineal de estos vectores\n",
    "\n",
    "$$a_1\n",
    "\\left(\\begin{array}{cc} \n",
    "1\\\\\n",
    "0\\\\\n",
    "0\n",
    "\\end{array}\\right)\n",
    "+a_2\\left(\\begin{array}{cc} \n",
    "0\\\\\n",
    "1\\\\\n",
    "0\n",
    "\\end{array}\\right)\n",
    "+a_3\\left(\\begin{array}{cc} \n",
    "0\\\\\n",
    "0\\\\\n",
    "1\n",
    "\\end{array}\\right)=|a_1>$$\n",
    "\n",
    "Con el cual obtenemos un sistema de ecuaciones\n",
    "\n",
    "$$\n",
    "\\left(\\begin{array}{cc} \n",
    "1 & 0 & 0\\\\\n",
    "0 & 1 & 0\\\\\n",
    "0 & 0 & 1\n",
    "\\end{array}\\right)\n",
    "\\left(\\begin{array}{cc} \n",
    "a_1\\\\ \n",
    "a_2\\\\\n",
    "a_3\n",
    "\\end{array}\\right) =|a_1>\n",
    "$$\n",
    "\n",
    "Lo mismo tendremos para cada vector \n",
    "\n",
    "$$a_1(1,0,0)+a_2(0,1,0)+a_3(0,0,1)=|a_1>$$\n",
    "$$b_1(1,0,0)+b_2(0,1,0)+b_3(0,0,1)=|a_2>$$\n",
    "$$c_1(1,0,0)+c_2(0,1,0)+c_3(0,0,1)=|a_3>$$\n",
    "\n",
    "Para resolver el sistema, utilizando el método de Gauss-Jordan, necesitamos tener una matriz escalonada reducida. Dado que tenemos las bases canónicas, la matriz ya tiene su forma escalonada reducida.\n",
    "\n",
    "$$\n",
    "\\left(\\begin{array}{cc} \n",
    "1 & 0 & 0\\\\\n",
    "0 & 1 & 0\\\\\n",
    "0 & 0 & 1\n",
    "\\end{array}\\right)\n",
    "\\left(\\begin{array}{cc} \n",
    "a_1\\\\ \n",
    "a_2\\\\\n",
    "a_3\n",
    "\\end{array}\\right) =\n",
    "\\left(\\begin{array}{cc} \n",
    "\\frac{1}{\\sqrt{2}}\\\\ \n",
    "\\frac{1}{\\sqrt{6}}\\\\\n",
    "\\frac{1+i}{\\sqrt{6}}\n",
    "\\end{array}\\right) \n",
    "$$\n",
    "\n",
    "A partir de aqui, es notorio que la matriz de transformación tendra por columnas, los tres vectores columna dados:$|a_1>$,$|a_2>$,$|a_3>$.\n",
    "\n",
    "Por lo tanto, la matriz de transformación resulta ser:\n",
    "\n",
    "$$ A=\n",
    "\\left(\\begin{array}{cc} \n",
    "\\frac{1}{\\sqrt{2}} & \\frac{-i}{\\sqrt{2}} & 0\\\\\n",
    "\\frac{1}{\\sqrt{6}} &  \\frac{i}{\\sqrt{6}} & \\frac{-2}{\\sqrt{6}}\\\\\n",
    "\\frac{1+i}{\\sqrt{6}} & \\frac{-1+i}{\\sqrt{6}} & \\frac{1+i}{\\sqrt{6}}\n",
    "\\end{array}\\right)\n",
    "$$\n",
    "\n",
    "Para comprobar que la matriz es es unitaria, el producto de su transpuesta conjugada con ella misma debe ser igual a la matriz identidad."
   ]
  },
  {
   "cell_type": "code",
   "execution_count": 8,
   "metadata": {},
   "outputs": [],
   "source": [
    "import sympy as sp\n",
    "from sympy import *\n",
    "from sympy.physics.quantum.dagger import Dagger\n",
    "init_printing(use_unicode=True)"
   ]
  },
  {
   "cell_type": "code",
   "execution_count": 9,
   "metadata": {},
   "outputs": [
    {
     "data": {
      "image/png": "[encoded data removed]",
      "text/latex": [
       "$\\displaystyle \\left[\\begin{matrix}\\frac{\\sqrt{2}}{2} & - \\frac{\\sqrt{2} i}{2} & 0\\\\\\frac{\\sqrt{6}}{6} & \\frac{\\sqrt{6} i}{6} & - \\frac{\\sqrt{6}}{3}\\\\\\frac{\\sqrt{6} \\left(1 + i\\right)}{6} & \\frac{\\sqrt{6} \\left(-1 + i\\right)}{6} & \\frac{\\sqrt{6} \\left(1 + i\\right)}{6}\\end{matrix}\\right]$"
      ],
      "text/plain": [
       "⎡    √2        -√2⋅ⅈ                ⎤\n",
       "⎢    ──        ──────         0     ⎥\n",
       "⎢    2           2                  ⎥\n",
       "⎢                                   ⎥\n",
       "⎢    √6         √6⋅ⅈ         -√6    ⎥\n",
       "⎢    ──         ────         ────   ⎥\n",
       "⎢    6           6            3     ⎥\n",
       "⎢                                   ⎥\n",
       "⎢√6⋅(1 + ⅈ)  √6⋅(-1 + ⅈ)  √6⋅(1 + ⅈ)⎥\n",
       "⎢──────────  ───────────  ──────────⎥\n",
       "⎣    6            6           6     ⎦"
      ]
     },
     "metadata": {},
     "output_type": "display_data"
    }
   ],
   "source": [
    "A = Matrix([[1/sqrt(2),-I/sqrt(2),0],[1/sqrt(6),I/sqrt(6),-2/sqrt(6)],[(1+I)/sqrt(6),(-1+I)/sqrt(6),(1+I)/sqrt(6)]])\n",
    "display(A)"
   ]
  },
  {
   "cell_type": "code",
   "execution_count": 10,
   "metadata": {},
   "outputs": [
    {
     "data": {
      "image/png": "[encoded data removed]",
      "text/latex": [
       "$\\displaystyle \\left[\\begin{matrix}\\frac{\\sqrt{2}}{2} & \\frac{\\sqrt{6}}{6} & \\frac{\\sqrt{6} \\left(1 - i\\right)}{6}\\\\\\frac{\\sqrt{2} i}{2} & - \\frac{\\sqrt{6} i}{6} & \\frac{\\sqrt{6} \\left(-1 - i\\right)}{6}\\\\0 & - \\frac{\\sqrt{6}}{3} & \\frac{\\sqrt{6} \\left(1 - i\\right)}{6}\\end{matrix}\\right]$"
      ],
      "text/plain": [
       "⎡ √2     √6    √6⋅(1 - ⅈ) ⎤\n",
       "⎢ ──     ──    ────────── ⎥\n",
       "⎢ 2      6         6      ⎥\n",
       "⎢                         ⎥\n",
       "⎢√2⋅ⅈ  -√6⋅ⅈ   √6⋅(-1 - ⅈ)⎥\n",
       "⎢────  ──────  ───────────⎥\n",
       "⎢ 2      6          6     ⎥\n",
       "⎢                         ⎥\n",
       "⎢       -√6    √6⋅(1 - ⅈ) ⎥\n",
       "⎢ 0     ────   ────────── ⎥\n",
       "⎣        3         6      ⎦"
      ]
     },
     "metadata": {},
     "output_type": "display_data"
    }
   ],
   "source": [
    "B = Dagger(A)\n",
    "display(B)\n",
    "    "
   ]
  },
  {
   "cell_type": "code",
   "execution_count": 11,
   "metadata": {},
   "outputs": [
    {
     "data": {
      "image/png": "[encoded data removed]",
      "text/latex": [
       "$\\displaystyle \\left[\\begin{matrix}1 & 0 & \\frac{\\sqrt{3} \\left(1 - i\\right)}{6} - \\frac{\\sqrt{3} i \\left(-1 - i\\right)}{6}\\\\0 & 1 & - \\frac{1}{6} + \\frac{i \\left(-1 - i\\right)}{6} + \\frac{i}{6}\\\\\\frac{\\sqrt{3} i \\left(-1 + i\\right)}{6} + \\frac{\\sqrt{3} \\left(1 + i\\right)}{6} & - \\frac{1}{6} - \\frac{i}{6} - \\frac{i \\left(-1 + i\\right)}{6} & \\frac{\\left(-1 - i\\right) \\left(-1 + i\\right)}{6} + \\frac{\\left(1 - i\\right) \\left(1 + i\\right)}{3}\\end{matrix}\\right]$"
      ],
      "text/plain": [
       "⎡                                                      √3⋅(1 - ⅈ)   √3⋅ⅈ⋅(-1 -\n",
       "⎢            1                        0                ────────── - ──────────\n",
       "⎢                                                          6              6   \n",
       "⎢                                                                             \n",
       "⎢                                                           1   ⅈ⋅(-1 - ⅈ)   ⅈ\n",
       "⎢            0                        1                   - ─ + ────────── + ─\n",
       "⎢                                                           6       6        6\n",
       "⎢                                                                             \n",
       "⎢√3⋅ⅈ⋅(-1 + ⅈ)   √3⋅(1 + ⅈ)    1   ⅈ   ⅈ⋅(-1 + ⅈ)  (-1 - ⅈ)⋅(-1 + ⅈ)   (1 - ⅈ)\n",
       "⎢───────────── + ──────────  - ─ - ─ - ──────────  ───────────────── + ───────\n",
       "⎣      6             6         6   6       6               6                  \n",
       "\n",
       " ⅈ)     ⎤\n",
       "───     ⎥\n",
       "        ⎥\n",
       "        ⎥\n",
       "        ⎥\n",
       "        ⎥\n",
       "        ⎥\n",
       "        ⎥\n",
       "⋅(1 + ⅈ)⎥\n",
       "────────⎥\n",
       "3       ⎦"
      ]
     },
     "metadata": {},
     "output_type": "display_data"
    }
   ],
   "source": [
    "C = A*B\n",
    "display(C)"
   ]
  },
  {
   "cell_type": "markdown",
   "metadata": {},
   "source": [
    "Este resultado, a simple vista no muestra la matriz identidad, pero aplicando la propiedad: $i^2=-1$ obtenemos las entradas respectivas para la matriz identidad. Por lo tanto, la matriz de transformación es unitaria."
   ]
  },
  {
   "cell_type": "code",
   "execution_count": null,
   "metadata": {},
   "outputs": [],
   "source": []
  }
 ],
 "metadata": {
  "kernelspec": {
   "display_name": "Python 3",
   "language": "python",
   "name": "python3"
  },
  "language_info": {
   "codemirror_mode": {
    "name": "ipython",
    "version": 3
   },
   "file_extension": ".py",
   "mimetype": "text/x-python",
   "name": "python",
   "nbconvert_exporter": "python",
   "pygments_lexer": "ipython3",
   "version": "3.9.1"
  }
 },
 "nbformat": 4,
 "nbformat_minor": 4
}

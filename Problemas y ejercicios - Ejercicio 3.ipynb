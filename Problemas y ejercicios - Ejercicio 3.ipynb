{
 "cells": [
  {
   "cell_type": "code",
   "execution_count": 18,
   "metadata": {},
   "outputs": [],
   "source": [
    "import sympy as sym\n",
    "import numpy as np \n",
    "import matplotlib.pyplot as plt"
   ]
  },
  {
   "cell_type": "markdown",
   "metadata": {},
   "source": [
    "### 3- *Encontrar una base y la dimensión del subespacio vectorial*"
   ]
  },
  {
   "cell_type": "markdown",
   "metadata": {},
   "source": [
    " $S$=$\\langle$$(1, 2, −1, 3),(2, 1, 0, −2),(0, 1, 2, 1),(3, 4, 1, 2)$$\\rangle$\n",
    "\n",
    "\n",
    "**Solución**. Un sistema genereador de $S$ es $A = {(1, 2, −1, 3),(2, 1, 0, −2),(0, 1, 2, 1),(3, 4, 1, 2)}$. Pero $A$\n",
    "no es libre ya que:\n",
    "    \n",
    "$(0, 0, 0, 0) =$ $\\alpha_{1}$$(1, 2, −1, 3)$ + $\\alpha_{2}$$(2, 1, 0, −2)$+ $\\alpha_{3}$$(0, 1, 2, 1)$ + $\\alpha_{4}$$(3, 4, 1, 2)$ $\\Longrightarrow$\n",
    "\n",
    "\\begin{equation}\n",
    "\\left\\lbrace\n",
    "\\begin{array}{ll}\n",
    "\\alpha_{1}+2\\alpha_{2}+3\\alpha_{4} =0\\\\\n",
    "2\\alpha_{1}+\\alpha_{2}+\\alpha_{3}+4\\alpha_{4} =0\\\\\n",
    "-\\alpha_{1}+2\\alpha_{3}+\\alpha_{4} =0\\\\\n",
    "3\\alpha_{1}-2\\alpha_{2}+\\alpha_{3}+2\\alpha_{4} =0\n",
    "\\end{array}\n",
    "\\right.\n",
    "\\end{equation}\n",
    "\n",
    "\n"
   ]
  },
  {
   "cell_type": "code",
   "execution_count": 19,
   "metadata": {},
   "outputs": [
    {
     "data": {
      "text/latex": [
       "$\\displaystyle \\left[\\begin{matrix}1 & 2 & 0 & 3 & 0\\\\2 & 1 & 1 & 4 & 0\\\\-1 & 0 & 2 & 1 & 0\\\\3 & -2 & 1 & 2 & 0\\end{matrix}\\right]$"
      ],
      "text/plain": [
       "Matrix([\n",
       "[ 1,  2, 0, 3, 0],\n",
       "[ 2,  1, 1, 4, 0],\n",
       "[-1,  0, 2, 1, 0],\n",
       "[ 3, -2, 1, 2, 0]])"
      ]
     },
     "execution_count": 19,
     "metadata": {},
     "output_type": "execute_result"
    }
   ],
   "source": [
    "a1, a2, a3, a4 =  symbols('a1, a2, a3, a4')\n",
    "\n",
    "A = Matrix([(1, 2, 0, 3, 0), (2, 1, 1, 4, 0), (-1, 0, 2, 1, 0), (3, -2, 1, 2, 0) ])\n",
    "A"
   ]
  },
  {
   "cell_type": "code",
   "execution_count": 20,
   "metadata": {},
   "outputs": [
    {
     "data": {
      "text/plain": [
       "{a3: -a4, a2: -a4, a1: -a4}"
      ]
     },
     "execution_count": 20,
     "metadata": {},
     "output_type": "execute_result"
    }
   ],
   "source": [
    "solve_linear_system(A, a1, a2, a3, a4)\n"
   ]
  },
  {
   "cell_type": "markdown",
   "metadata": {},
   "source": [
    "Resolviendo el sistema nos damos cuenta que $A$ no es libre ya que si obervamos el vector $(3,4,1,2)$ es una combinación lineal de los restantes, por tanto excluimos dicho vector y con los vectores restantes verificamos si conforman una base.\n"
   ]
  },
  {
   "cell_type": "markdown",
   "metadata": {},
   "source": [
    "$(0, 0, 0, 0) = \\beta_{1}(1, 2, −1, 3) + \\beta_{2}(2, 1, 0, −2) + \\beta_{3}(0, 1, 2, 1)$\n",
    "\n",
    "\n",
    "\\begin{equation}\n",
    "\\left\\lbrace\n",
    "\\begin{array}{ll}\n",
    "\\beta_{1}+2\\beta_{2} =0\\\\\n",
    "2\\beta_{1}+\\beta_{2}+\\beta_{3} =0\\\\\n",
    "-\\beta_{1}+2\\beta_{3} =0\\\\\n",
    "3\\beta_{1}-2\\beta_{2}+\\beta_{3} =0\n",
    "\\end{array}\n",
    "\\right.\n",
    "\\end{equation}\n",
    "\n",
    "\n",
    "\n",
    "\n",
    "\n"
   ]
  },
  {
   "cell_type": "code",
   "execution_count": 21,
   "metadata": {},
   "outputs": [
    {
     "data": {
      "text/latex": [
       "$\\displaystyle \\left[\\begin{matrix}1 & 2 & 0 & 0\\\\2 & 1 & 1 & 0\\\\-1 & 0 & 2 & 0\\\\3 & -2 & 1 & 0\\end{matrix}\\right]$"
      ],
      "text/plain": [
       "Matrix([\n",
       "[ 1,  2, 0, 0],\n",
       "[ 2,  1, 1, 0],\n",
       "[-1,  0, 2, 0],\n",
       "[ 3, -2, 1, 0]])"
      ]
     },
     "execution_count": 21,
     "metadata": {},
     "output_type": "execute_result"
    }
   ],
   "source": [
    "b1, b2, b3 =symbols('b1, b2, b3')\n",
    "\n",
    "B = Matrix([(1, 2, 0, 0), (2, 1, 1, 0), (-1, 0, 2, 0),(3, -2, 1, 0)])\n",
    "B"
   ]
  },
  {
   "cell_type": "code",
   "execution_count": 22,
   "metadata": {},
   "outputs": [
    {
     "data": {
      "text/plain": [
       "{b3: 0, b2: 0, b1: 0}"
      ]
     },
     "execution_count": 22,
     "metadata": {},
     "output_type": "execute_result"
    }
   ],
   "source": [
    "solve_linear_system(B, b1, b2, b3)\n"
   ]
  },
  {
   "cell_type": "markdown",
   "metadata": {},
   "source": [
    " y el sistema anterior sólo tiene por solución a $\\beta_{1}= \\beta_{2} = \\beta_{3} = 0$, es decir, $\\{(1, 2, −1, 3),(2, 1, 0, −2),(0, 1, 2, 1)\\}$\n",
    "es libre. Por consiguiente una base de $S$ es $\\{(1, 2, −1, 3),(2, 1, 0, −2),(0, 1, 2, 1)\\}$ y la dimensión de $S$ es 3"
   ]
  },
  {
   "cell_type": "code",
   "execution_count": null,
   "metadata": {},
   "outputs": [],
   "source": []
  }
 ],
 "metadata": {
  "kernelspec": {
   "display_name": "Python 3",
   "language": "python",
   "name": "python3"
  },
  "language_info": {
   "codemirror_mode": {
    "name": "ipython",
    "version": 3
   },
   "file_extension": ".py",
   "mimetype": "text/x-python",
   "name": "python",
   "nbconvert_exporter": "python",
   "pygments_lexer": "ipython3",
   "version": "3.8.5"
  }
 },
 "nbformat": 4,
 "nbformat_minor": 4
}

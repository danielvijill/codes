{
 "cells": [
  {
   "cell_type": "code",
   "execution_count": 1,
   "metadata": {},
   "outputs": [],
   "source": [
    "import sympy as sp\n",
    "import numpy as np\n",
    "from sympy.physics.quantum import Dagger\n",
    "from sympy import init_printing\n",
    "init_printing(use_latex=True)\n",
    "from sympy import *\n",
    "from numpy import linalg as linalg"
   ]
  },
  {
   "cell_type": "markdown",
   "metadata": {},
   "source": [
    "## Ejercicios para Identificación"
   ]
  },
  {
   "cell_type": "markdown",
   "metadata": {},
   "source": [
    "#### A continuación se le presenta una serie de matrices, para cada una de ellas:"
   ]
  },
  {
   "cell_type": "markdown",
   "metadata": {},
   "source": [
    "* Identifique el tipo de matriz (hermítica, unitaria, etc)\n",
    "\n",
    "* Encuentre los eigenvalores y eigenvectores.\n",
    "\n",
    "* Determine si es diagonalizable o no, en caso de que lo sea encuentre matriz diagonal y compruebe que en efecto es una matriz similar a la original, mediante la comparación de parámetros escalares.\n",
    "\n",
    "* Observe el comportamiento de los eigenvalore e idientifique el patrón seguido para cada tipo de matriz."
   ]
  },
  {
   "cell_type": "markdown",
   "metadata": {},
   "source": [
    "### (1) A = $\n",
    "\\left(\n",
    "\\begin{matrix}\n",
    "2 &  2+3i & 4-5i \\\\\n",
    "2-3i  & 5 &  6+2i\\\\\n",
    "4+5i  &  6-2i & -7\n",
    "\\end{matrix}\n",
    "\\right)$"
   ]
  },
  {
   "cell_type": "markdown",
   "metadata": {},
   "source": [
    "### Es unitaria si $\\bar{A}^T$= $A^{-1}$"
   ]
  },
  {
   "cell_type": "code",
   "execution_count": 2,
   "metadata": {},
   "outputs": [
    {
     "data": {
      "image/png": "[encoded data removed]",
      "text/latex": [
       "$\\displaystyle \\left[\\begin{matrix}2 & 2 + 3 i & 4 - 5 i\\\\2 - 3 i & 5 & 6 + 2 i\\\\4 + 5 i & 6 - 2 i & -7\\end{matrix}\\right]$"
      ],
      "text/plain": [
       "⎡   2     2 + 3⋅ⅈ  4 - 5⋅ⅈ⎤\n",
       "⎢                         ⎥\n",
       "⎢2 - 3⋅ⅈ     5     6 + 2⋅ⅈ⎥\n",
       "⎢                         ⎥\n",
       "⎣4 + 5⋅ⅈ  6 - 2⋅ⅈ    -7   ⎦"
      ]
     },
     "execution_count": 2,
     "metadata": {},
     "output_type": "execute_result"
    }
   ],
   "source": [
    "A1=Matrix([(2,2+3*I,4-5*I),(2-3*I,5,6+2*I),(4+5*I,6-2*I,-7)])\n",
    "A1"
   ]
  },
  {
   "cell_type": "code",
   "execution_count": 3,
   "metadata": {},
   "outputs": [
    {
     "data": {
      "image/png": "[encoded data removed]",
      "text/latex": [
       "$\\displaystyle \\left[\\begin{matrix}2 & 2 + 3 i & 4 - 5 i\\\\2 - 3 i & 5 & 6 + 2 i\\\\4 + 5 i & 6 - 2 i & -7\\end{matrix}\\right]$"
      ],
      "text/plain": [
       "⎡   2     2 + 3⋅ⅈ  4 - 5⋅ⅈ⎤\n",
       "⎢                         ⎥\n",
       "⎢2 - 3⋅ⅈ     5     6 + 2⋅ⅈ⎥\n",
       "⎢                         ⎥\n",
       "⎣4 + 5⋅ⅈ  6 - 2⋅ⅈ    -7   ⎦"
      ]
     },
     "metadata": {},
     "output_type": "display_data"
    },
    {
     "data": {
      "image/png": "[encoded data removed]",
      "text/latex": [
       "$\\displaystyle \\left[\\begin{matrix}\\frac{75}{436} & - \\frac{7}{109} + \\frac{17 i}{436} & \\frac{7}{218} - \\frac{47 i}{436}\\\\- \\frac{7}{109} - \\frac{17 i}{436} & \\frac{55}{436} & \\frac{19}{436} + \\frac{13 i}{218}\\\\\\frac{7}{218} + \\frac{47 i}{436} & \\frac{19}{436} - \\frac{13 i}{218} & \\frac{3}{436}\\end{matrix}\\right]$"
      ],
      "text/plain": [
       "⎡     75          7    17⋅ⅈ   7    47⋅ⅈ⎤\n",
       "⎢    ───       - ─── + ────  ─── - ────⎥\n",
       "⎢    436         109   436   218   436 ⎥\n",
       "⎢                                      ⎥\n",
       "⎢   7    17⋅ⅈ       55        19   13⋅ⅈ⎥\n",
       "⎢- ─── - ────      ───       ─── + ────⎥\n",
       "⎢  109   436       436       436   218 ⎥\n",
       "⎢                                      ⎥\n",
       "⎢  7    47⋅ⅈ     19   13⋅ⅈ             ⎥\n",
       "⎢ ─── + ────    ─── - ────     3/436   ⎥\n",
       "⎣ 218   436     436   218              ⎦"
      ]
     },
     "metadata": {},
     "output_type": "display_data"
    }
   ],
   "source": [
    "display((conjugate(A1)).T) # Matriz Traspuesta conjugada\n",
    "display(A1.inv()) # Matriz inversa"
   ]
  },
  {
   "cell_type": "markdown",
   "metadata": {},
   "source": [
    "#### Como $\\bar{A}^T\\neq A^{-1}$  podemos afirmar que A no es unitaria."
   ]
  },
  {
   "cell_type": "code",
   "execution_count": null,
   "metadata": {},
   "outputs": [],
   "source": []
  },
  {
   "cell_type": "markdown",
   "metadata": {},
   "source": [
    "### Es hermitiana si $\\bar{A}^T$= A "
   ]
  },
  {
   "cell_type": "code",
   "execution_count": 4,
   "metadata": {},
   "outputs": [
    {
     "data": {
      "image/png": "[encoded data removed]",
      "text/latex": [
       "$\\displaystyle \\left[\\begin{matrix}2 & 2 + 3 i & 4 - 5 i\\\\2 - 3 i & 5 & 6 + 2 i\\\\4 + 5 i & 6 - 2 i & -7\\end{matrix}\\right]$"
      ],
      "text/plain": [
       "⎡   2     2 + 3⋅ⅈ  4 - 5⋅ⅈ⎤\n",
       "⎢                         ⎥\n",
       "⎢2 - 3⋅ⅈ     5     6 + 2⋅ⅈ⎥\n",
       "⎢                         ⎥\n",
       "⎣4 + 5⋅ⅈ  6 - 2⋅ⅈ    -7   ⎦"
      ]
     },
     "metadata": {},
     "output_type": "display_data"
    },
    {
     "data": {
      "image/png": "[encoded data removed]",
      "text/latex": [
       "$\\displaystyle \\left[\\begin{matrix}2 & 2 + 3 i & 4 - 5 i\\\\2 - 3 i & 5 & 6 + 2 i\\\\4 + 5 i & 6 - 2 i & -7\\end{matrix}\\right]$"
      ],
      "text/plain": [
       "⎡   2     2 + 3⋅ⅈ  4 - 5⋅ⅈ⎤\n",
       "⎢                         ⎥\n",
       "⎢2 - 3⋅ⅈ     5     6 + 2⋅ⅈ⎥\n",
       "⎢                         ⎥\n",
       "⎣4 + 5⋅ⅈ  6 - 2⋅ⅈ    -7   ⎦"
      ]
     },
     "metadata": {},
     "output_type": "display_data"
    }
   ],
   "source": [
    "display(A1)\n",
    "display((conjugate(A1)).T) # Matriz Traspuesta conjugada"
   ]
  },
  {
   "cell_type": "markdown",
   "metadata": {},
   "source": [
    "#### Como $\\bar{A}^T$=$A$  podemos afirmar que A  es hermitiana."
   ]
  },
  {
   "cell_type": "code",
   "execution_count": null,
   "metadata": {},
   "outputs": [],
   "source": []
  },
  {
   "cell_type": "markdown",
   "metadata": {},
   "source": [
    "### Es normal si $A\\bar{A}^T$=$\\bar{A}^T A$"
   ]
  },
  {
   "cell_type": "code",
   "execution_count": 5,
   "metadata": {
    "scrolled": true
   },
   "outputs": [
    {
     "data": {
      "image/png": "[encoded data removed]",
      "text/latex": [
       "$\\displaystyle \\left[\\begin{matrix}4 + \\left(2 - 3 i\\right) \\left(2 + 3 i\\right) + \\left(4 - 5 i\\right) \\left(4 + 5 i\\right) & 14 + \\left(4 - 5 i\\right) \\left(6 - 2 i\\right) + 21 i & -20 + \\left(2 + 3 i\\right) \\left(6 + 2 i\\right) + 25 i\\\\14 - 21 i + \\left(4 + 5 i\\right) \\left(6 + 2 i\\right) & \\left(2 - 3 i\\right) \\left(2 + 3 i\\right) + 25 + \\left(6 - 2 i\\right) \\left(6 + 2 i\\right) & -12 + \\left(2 - 3 i\\right) \\left(4 - 5 i\\right) - 4 i\\\\-20 - 25 i + \\left(2 - 3 i\\right) \\left(6 - 2 i\\right) & -12 + 4 i + \\left(2 + 3 i\\right) \\left(4 + 5 i\\right) & \\left(6 - 2 i\\right) \\left(6 + 2 i\\right) + \\left(4 - 5 i\\right) \\left(4 + 5 i\\right) + 49\\end{matrix}\\right]$"
      ],
      "text/plain": [
       "⎡4 + (2 - 3⋅ⅈ)⋅(2 + 3⋅ⅈ) + (4 - 5⋅ⅈ)⋅(4 + 5⋅ⅈ)         14 + (4 - 5⋅ⅈ)⋅(6 - 2⋅ⅈ\n",
       "⎢                                                                             \n",
       "⎢       14 - 21⋅ⅈ + (4 + 5⋅ⅈ)⋅(6 + 2⋅ⅈ)         (2 - 3⋅ⅈ)⋅(2 + 3⋅ⅈ) + 25 + (6 \n",
       "⎢                                                                             \n",
       "⎣      -20 - 25⋅ⅈ + (2 - 3⋅ⅈ)⋅(6 - 2⋅ⅈ)                -12 + 4⋅ⅈ + (2 + 3⋅ⅈ)⋅(\n",
       "\n",
       ") + 21⋅ⅈ                 -20 + (2 + 3⋅ⅈ)⋅(6 + 2⋅ⅈ) + 25⋅ⅈ       ⎤\n",
       "                                                                ⎥\n",
       "- 2⋅ⅈ)⋅(6 + 2⋅ⅈ)         -12 + (2 - 3⋅ⅈ)⋅(4 - 5⋅ⅈ) - 4⋅ⅈ        ⎥\n",
       "                                                                ⎥\n",
       "4 + 5⋅ⅈ)          (6 - 2⋅ⅈ)⋅(6 + 2⋅ⅈ) + (4 - 5⋅ⅈ)⋅(4 + 5⋅ⅈ) + 49⎦"
      ]
     },
     "metadata": {},
     "output_type": "display_data"
    },
    {
     "data": {
      "image/png": "[encoded data removed]",
      "text/latex": [
       "$\\displaystyle \\left[\\begin{matrix}4 + \\left(2 - 3 i\\right) \\left(2 + 3 i\\right) + \\left(4 - 5 i\\right) \\left(4 + 5 i\\right) & 14 + \\left(4 - 5 i\\right) \\left(6 - 2 i\\right) + 21 i & -20 + \\left(2 + 3 i\\right) \\left(6 + 2 i\\right) + 25 i\\\\14 - 21 i + \\left(4 + 5 i\\right) \\left(6 + 2 i\\right) & \\left(2 - 3 i\\right) \\left(2 + 3 i\\right) + 25 + \\left(6 - 2 i\\right) \\left(6 + 2 i\\right) & -12 + \\left(2 - 3 i\\right) \\left(4 - 5 i\\right) - 4 i\\\\-20 - 25 i + \\left(2 - 3 i\\right) \\left(6 - 2 i\\right) & -12 + 4 i + \\left(2 + 3 i\\right) \\left(4 + 5 i\\right) & \\left(6 - 2 i\\right) \\left(6 + 2 i\\right) + \\left(4 - 5 i\\right) \\left(4 + 5 i\\right) + 49\\end{matrix}\\right]$"
      ],
      "text/plain": [
       "⎡4 + (2 - 3⋅ⅈ)⋅(2 + 3⋅ⅈ) + (4 - 5⋅ⅈ)⋅(4 + 5⋅ⅈ)         14 + (4 - 5⋅ⅈ)⋅(6 - 2⋅ⅈ\n",
       "⎢                                                                             \n",
       "⎢       14 - 21⋅ⅈ + (4 + 5⋅ⅈ)⋅(6 + 2⋅ⅈ)         (2 - 3⋅ⅈ)⋅(2 + 3⋅ⅈ) + 25 + (6 \n",
       "⎢                                                                             \n",
       "⎣      -20 - 25⋅ⅈ + (2 - 3⋅ⅈ)⋅(6 - 2⋅ⅈ)                -12 + 4⋅ⅈ + (2 + 3⋅ⅈ)⋅(\n",
       "\n",
       ") + 21⋅ⅈ                 -20 + (2 + 3⋅ⅈ)⋅(6 + 2⋅ⅈ) + 25⋅ⅈ       ⎤\n",
       "                                                                ⎥\n",
       "- 2⋅ⅈ)⋅(6 + 2⋅ⅈ)         -12 + (2 - 3⋅ⅈ)⋅(4 - 5⋅ⅈ) - 4⋅ⅈ        ⎥\n",
       "                                                                ⎥\n",
       "4 + 5⋅ⅈ)          (6 - 2⋅ⅈ)⋅(6 + 2⋅ⅈ) + (4 - 5⋅ⅈ)⋅(4 + 5⋅ⅈ) + 49⎦"
      ]
     },
     "metadata": {},
     "output_type": "display_data"
    }
   ],
   "source": [
    "display(A1*((conjugate(A1)).T))\n",
    "display(((conjugate(A1)).T)*A1)"
   ]
  },
  {
   "cell_type": "markdown",
   "metadata": {},
   "source": [
    "#### Como algunas expresiones no las simplifica la libreria sympy podemos usar una funció tipo bool,que nos regrese si la igualdad se cumple. "
   ]
  },
  {
   "cell_type": "code",
   "execution_count": 6,
   "metadata": {},
   "outputs": [
    {
     "data": {
      "text/plain": [
       "True"
      ]
     },
     "execution_count": 6,
     "metadata": {},
     "output_type": "execute_result"
    }
   ],
   "source": [
    "bool(A1*((conjugate(A1)).T) == ((conjugate(A1)).T)*A1)"
   ]
  },
  {
   "cell_type": "markdown",
   "metadata": {},
   "source": [
    "#### Como  $A\\bar{A}^T$=$\\bar{A}^T A$ se cumple podemos podemos afirmar que A es normal"
   ]
  },
  {
   "cell_type": "code",
   "execution_count": null,
   "metadata": {},
   "outputs": [],
   "source": []
  },
  {
   "cell_type": "markdown",
   "metadata": {},
   "source": [
    "### Autovalores y Autovectores."
   ]
  },
  {
   "cell_type": "markdown",
   "metadata": {},
   "source": [
    "#### Los valores característicos se obtienen del siguiente determinante, resolviendo la ecuación que surge. \n",
    "$$|A-\\lambda I|=0$$"
   ]
  },
  {
   "cell_type": "code",
   "execution_count": 145,
   "metadata": {},
   "outputs": [],
   "source": [
    "A1=np.array([[2.+0.j,2.+3.j,4.-5.j],[2.0-3.j,5+0.j,6.+2.j],[4.+5.j,6.-2.J,-7.+0.j]])"
   ]
  },
  {
   "cell_type": "code",
   "execution_count": 146,
   "metadata": {},
   "outputs": [
    {
     "data": {
      "text/plain": [
       "(array([-12.91366293+9.24614487e-17j,   3.64116415-4.11903420e-16j,\n",
       "          9.27249877-5.68736448e-16j]),\n",
       " array([[-0.21488689+0.36516176j,  0.76430942+0.j        ,\n",
       "          0.47349928+0.1100457j ],\n",
       "        [-0.31578436-0.16963022j, -0.4951674 -0.08528032j,\n",
       "          0.78679244+0.j        ],\n",
       "        [ 0.83185717+0.j        , -0.00792463+0.40410992j,\n",
       "          0.37268544+0.07583926j]]))"
      ]
     },
     "execution_count": 146,
     "metadata": {},
     "output_type": "execute_result"
    }
   ],
   "source": [
    "import numpy.linalg as linalg\n",
    "eigenValues, eigenVectors1 = linalg.eig(A1)\n",
    "eigenValues, eigenVectors1"
   ]
  },
  {
   "cell_type": "code",
   "execution_count": 147,
   "metadata": {},
   "outputs": [
    {
     "data": {
      "text/plain": [
       "(array([-12.9+0.j,   3.6-0.j,   9.3-0.j]),\n",
       " array([[-0.2+0.4j,  0.8+0.j ,  0.5+0.1j],\n",
       "        [-0.3-0.2j, -0.5-0.1j,  0.8+0.j ],\n",
       "        [ 0.8+0.j , -0. +0.4j,  0.4+0.1j]]))"
      ]
     },
     "execution_count": 147,
     "metadata": {},
     "output_type": "execute_result"
    }
   ],
   "source": [
    "np.round(eigenValues,1), np.round(eigenVectors1,1)"
   ]
  },
  {
   "cell_type": "markdown",
   "metadata": {},
   "source": [
    "### Es diagonalizable si existe una matriz invertible $P$"
   ]
  },
  {
   "cell_type": "markdown",
   "metadata": {},
   "source": [
    "Formamos la matriz $P$ con los eigenvectores como columnas y esta matriz es no-singular."
   ]
  },
  {
   "cell_type": "code",
   "execution_count": 148,
   "metadata": {},
   "outputs": [
    {
     "data": {
      "text/plain": [
       "array([[-0.21488689+0.36516176j, -0.31578436-0.16963022j,\n",
       "         0.83185717+0.j        ],\n",
       "       [ 0.76430942+0.j        , -0.4951674 -0.08528032j,\n",
       "        -0.00792463+0.40410992j],\n",
       "       [ 0.47349928+0.1100457j ,  0.78679244+0.j        ,\n",
       "         0.37268544+0.07583926j]])"
      ]
     },
     "metadata": {},
     "output_type": "display_data"
    },
    {
     "data": {
      "text/plain": [
       "(0.9934753002765253+0.11404748020218498j)"
      ]
     },
     "metadata": {},
     "output_type": "display_data"
    }
   ],
   "source": [
    "P1 = eigenVectors1.transpose()\n",
    "display(P1)\n",
    "display(np.linalg.det(P1))"
   ]
  },
  {
   "cell_type": "markdown",
   "metadata": {},
   "source": [
    "A1 es diagonalizable"
   ]
  },
  {
   "cell_type": "code",
   "execution_count": 149,
   "metadata": {},
   "outputs": [
    {
     "data": {
      "text/plain": [
       "array([[-3.9-0.j ,  1. +8.1j,  0.6+1.3j],\n",
       "       [ 1. -8.1j, -4.9+0.j , -1.2+1.9j],\n",
       "       [ 0.6-1.3j, -1.2-1.9j,  8.8-0.j ]])"
      ]
     },
     "metadata": {},
     "output_type": "display_data"
    }
   ],
   "source": [
    "P1_inv = np.linalg.inv(P1)\n",
    "D1 = np.round(np.matmul(np.matmul(P1,A1),P1_inv),1)\n",
    "display(D1)"
   ]
  },
  {
   "cell_type": "markdown",
   "metadata": {},
   "source": [
    "La matriz resultante no es diagonal por insuficiencia de operaciones con numeros complejos."
   ]
  },
  {
   "cell_type": "code",
   "execution_count": null,
   "metadata": {},
   "outputs": [],
   "source": []
  },
  {
   "cell_type": "markdown",
   "metadata": {},
   "source": [
    "### (2) A = $\n",
    "\\left(\n",
    "\\begin{matrix}\n",
    "3 &  2-i & 4+i \\\\\n",
    "2-i  & 6 &  i\\\\\n",
    "4+i  &  i & 3\n",
    "\\end{matrix}\n",
    "\\right)$"
   ]
  },
  {
   "cell_type": "code",
   "execution_count": 11,
   "metadata": {},
   "outputs": [],
   "source": [
    "A2=Matrix([(3, 2-I, 4+I),(2-I, 6, I),(4+I, I, 3)])"
   ]
  },
  {
   "cell_type": "markdown",
   "metadata": {},
   "source": [
    "### Es unitaria si $\\bar{A}^T$= $A^{-1}$"
   ]
  },
  {
   "cell_type": "code",
   "execution_count": 12,
   "metadata": {},
   "outputs": [
    {
     "data": {
      "image/png": "[encoded data removed]",
      "text/latex": [
       "$\\displaystyle \\left[\\begin{matrix}3 & 2 + i & 4 - i\\\\2 + i & 6 & - i\\\\4 - i & - i & 3\\end{matrix}\\right]$"
      ],
      "text/plain": [
       "⎡  3    2 + ⅈ  4 - ⅈ⎤\n",
       "⎢                   ⎥\n",
       "⎢2 + ⅈ    6     -ⅈ  ⎥\n",
       "⎢                   ⎥\n",
       "⎣4 - ⅈ   -ⅈ      3  ⎦"
      ]
     },
     "metadata": {},
     "output_type": "display_data"
    },
    {
     "data": {
      "image/png": "[encoded data removed]",
      "text/latex": [
       "$\\displaystyle \\left[\\begin{matrix}- \\frac{361}{884} + \\frac{171 i}{884} & \\frac{35}{442} - \\frac{49 i}{221} & \\frac{473}{884} - \\frac{131 i}{884}\\\\\\frac{35}{442} - \\frac{49 i}{221} & \\frac{93}{442} + \\frac{49 i}{442} & - \\frac{63}{442} + \\frac{44 i}{221}\\\\\\frac{473}{884} - \\frac{131 i}{884} & - \\frac{63}{442} + \\frac{44 i}{221} & - \\frac{321}{884} + \\frac{59 i}{884}\\end{matrix}\\right]$"
      ],
      "text/plain": [
       "⎡  361   171⋅ⅈ    35   49⋅ⅈ   473   131⋅ⅈ ⎤\n",
       "⎢- ─── + ─────   ─── - ────   ─── - ───── ⎥\n",
       "⎢  884    884    442   221    884    884  ⎥\n",
       "⎢                                         ⎥\n",
       "⎢  35   49⋅ⅈ      93   49⋅ⅈ      63   44⋅ⅈ⎥\n",
       "⎢ ─── - ────     ─── + ────   - ─── + ────⎥\n",
       "⎢ 442   221      442   442      442   221 ⎥\n",
       "⎢                                         ⎥\n",
       "⎢ 473   131⋅ⅈ      63   44⋅ⅈ    321   59⋅ⅈ⎥\n",
       "⎢ ─── - ─────   - ─── + ────  - ─── + ────⎥\n",
       "⎣ 884    884      442   221     884   884 ⎦"
      ]
     },
     "metadata": {},
     "output_type": "display_data"
    }
   ],
   "source": [
    "display((conjugate(A2)).T) # Matriz Traspuesta conjugada\n",
    "display(A2.inv()) # Matriz inversa"
   ]
  },
  {
   "cell_type": "markdown",
   "metadata": {},
   "source": [
    "#### Como $\\bar{A}^T\\neq A^{-1}$  podemos afirmar que A no es unitaria."
   ]
  },
  {
   "cell_type": "code",
   "execution_count": null,
   "metadata": {},
   "outputs": [],
   "source": []
  },
  {
   "cell_type": "markdown",
   "metadata": {},
   "source": [
    "### Es hermitiana si $\\bar{A}^T$= A "
   ]
  },
  {
   "cell_type": "code",
   "execution_count": null,
   "metadata": {},
   "outputs": [],
   "source": []
  },
  {
   "cell_type": "code",
   "execution_count": 13,
   "metadata": {},
   "outputs": [
    {
     "data": {
      "image/png": "[encoded data removed]",
      "text/latex": [
       "$\\displaystyle \\left[\\begin{matrix}3 & 2 - i & 4 + i\\\\2 - i & 6 & i\\\\4 + i & i & 3\\end{matrix}\\right]$"
      ],
      "text/plain": [
       "⎡  3    2 - ⅈ  4 + ⅈ⎤\n",
       "⎢                   ⎥\n",
       "⎢2 - ⅈ    6      ⅈ  ⎥\n",
       "⎢                   ⎥\n",
       "⎣4 + ⅈ    ⅈ      3  ⎦"
      ]
     },
     "metadata": {},
     "output_type": "display_data"
    },
    {
     "data": {
      "image/png": "[encoded data removed]",
      "text/latex": [
       "$\\displaystyle \\left[\\begin{matrix}3 & 2 + i & 4 - i\\\\2 + i & 6 & - i\\\\4 - i & - i & 3\\end{matrix}\\right]$"
      ],
      "text/plain": [
       "⎡  3    2 + ⅈ  4 - ⅈ⎤\n",
       "⎢                   ⎥\n",
       "⎢2 + ⅈ    6     -ⅈ  ⎥\n",
       "⎢                   ⎥\n",
       "⎣4 - ⅈ   -ⅈ      3  ⎦"
      ]
     },
     "metadata": {},
     "output_type": "display_data"
    }
   ],
   "source": [
    "display(A2)\n",
    "display((conjugate(A2)).T) # Matriz Traspuesta conjugada"
   ]
  },
  {
   "cell_type": "markdown",
   "metadata": {},
   "source": [
    "#### Como $\\bar{A}^T\\neq A$  podemos afirmar que A no  es hermitiana.\n",
    "#### Y podemos notar que $\\bar{A}^T\\neq-A$ por lo tanto no es anti-hermitiana."
   ]
  },
  {
   "cell_type": "code",
   "execution_count": null,
   "metadata": {},
   "outputs": [],
   "source": []
  },
  {
   "cell_type": "markdown",
   "metadata": {},
   "source": [
    "### Es normal si $A\\bar{A}^T$=$\\bar{A}^TA$"
   ]
  },
  {
   "cell_type": "code",
   "execution_count": 14,
   "metadata": {},
   "outputs": [
    {
     "data": {
      "image/png": "[encoded data removed]",
      "text/latex": [
       "$\\displaystyle \\left[\\begin{matrix}\\left(2 - i\\right) \\left(2 + i\\right) + 9 + \\left(4 - i\\right) \\left(4 + i\\right) & 18 - i \\left(4 + i\\right) - 3 i & 24 - i \\left(2 - i\\right)\\\\18 + 3 i + i \\left(4 - i\\right) & \\left(2 - i\\right) \\left(2 + i\\right) + 37 & \\left(2 - i\\right) \\left(4 - i\\right) - 3 i\\\\24 + i \\left(2 + i\\right) & 3 i + \\left(2 + i\\right) \\left(4 + i\\right) & 10 + \\left(4 - i\\right) \\left(4 + i\\right)\\end{matrix}\\right]$"
      ],
      "text/plain": [
       "⎡(2 - ⅈ)⋅(2 + ⅈ) + 9 + (4 - ⅈ)⋅(4 + ⅈ)  18 - ⅈ⋅(4 + ⅈ) - 3⋅ⅈ      24 - ⅈ⋅(2 - \n",
       "⎢                                                                             \n",
       "⎢        18 + 3⋅ⅈ + ⅈ⋅(4 - ⅈ)           (2 - ⅈ)⋅(2 + ⅈ) + 37   (2 - ⅈ)⋅(4 - ⅈ)\n",
       "⎢                                                                             \n",
       "⎣           24 + ⅈ⋅(2 + ⅈ)              3⋅ⅈ + (2 + ⅈ)⋅(4 + ⅈ)  10 + (4 - ⅈ)⋅(4\n",
       "\n",
       "ⅈ)    ⎤\n",
       "      ⎥\n",
       " - 3⋅ⅈ⎥\n",
       "      ⎥\n",
       " + ⅈ) ⎦"
      ]
     },
     "metadata": {},
     "output_type": "display_data"
    },
    {
     "data": {
      "image/png": "[encoded data removed]",
      "text/latex": [
       "$\\displaystyle \\left[\\begin{matrix}\\left(2 - i\\right) \\left(2 + i\\right) + 9 + \\left(4 - i\\right) \\left(4 + i\\right) & 18 + 3 i + i \\left(4 - i\\right) & 24 + i \\left(2 + i\\right)\\\\18 - i \\left(4 + i\\right) - 3 i & \\left(2 - i\\right) \\left(2 + i\\right) + 37 & 3 i + \\left(2 + i\\right) \\left(4 + i\\right)\\\\24 - i \\left(2 - i\\right) & \\left(2 - i\\right) \\left(4 - i\\right) - 3 i & 10 + \\left(4 - i\\right) \\left(4 + i\\right)\\end{matrix}\\right]$"
      ],
      "text/plain": [
       "⎡(2 - ⅈ)⋅(2 + ⅈ) + 9 + (4 - ⅈ)⋅(4 + ⅈ)  18 + 3⋅ⅈ + ⅈ⋅(4 - ⅈ)      24 + ⅈ⋅(2 + \n",
       "⎢                                                                             \n",
       "⎢        18 - ⅈ⋅(4 + ⅈ) - 3⋅ⅈ           (2 - ⅈ)⋅(2 + ⅈ) + 37   3⋅ⅈ + (2 + ⅈ)⋅(\n",
       "⎢                                                                             \n",
       "⎣           24 - ⅈ⋅(2 - ⅈ)              (2 - ⅈ)⋅(4 - ⅈ) - 3⋅ⅈ  10 + (4 - ⅈ)⋅(4\n",
       "\n",
       "ⅈ)    ⎤\n",
       "      ⎥\n",
       "4 + ⅈ)⎥\n",
       "      ⎥\n",
       " + ⅈ) ⎦"
      ]
     },
     "metadata": {},
     "output_type": "display_data"
    }
   ],
   "source": [
    "display(A2*((conjugate(A2)).T))\n",
    "display(((conjugate(A2)).T)*A2)"
   ]
  },
  {
   "cell_type": "code",
   "execution_count": 15,
   "metadata": {},
   "outputs": [
    {
     "data": {
      "text/plain": [
       "False"
      ]
     },
     "execution_count": 15,
     "metadata": {},
     "output_type": "execute_result"
    }
   ],
   "source": [
    "bool(A2*((conjugate(A2)).T) == ((conjugate(A2)).T)*A2)"
   ]
  },
  {
   "cell_type": "markdown",
   "metadata": {},
   "source": [
    "#### Como  $A\\bar{A}^T\\neq\\bar{A}^T A$ por lo tanto podemos afirmar que A no es normal."
   ]
  },
  {
   "cell_type": "code",
   "execution_count": null,
   "metadata": {},
   "outputs": [],
   "source": []
  },
  {
   "cell_type": "markdown",
   "metadata": {},
   "source": [
    "### Autovalores y Autovectores.\n",
    "#### Los valores característicos se obtienen del siguiente determinante, resolviendo la ecuacion que surge. \n",
    "$$|A-\\lambda I|=0$$"
   ]
  },
  {
   "cell_type": "code",
   "execution_count": 150,
   "metadata": {},
   "outputs": [],
   "source": [
    "A2=np.array([[3.+0.j,2.-1.j,4.+ 1.j],[2.-1.j,6.+0.j,0.+ 1.j],[4.+1.j,0.+1.J,3.+0.j]])"
   ]
  },
  {
   "cell_type": "code",
   "execution_count": 151,
   "metadata": {},
   "outputs": [
    {
     "data": {
      "text/plain": [
       "array([[3.+0.j, 2.-1.j, 4.+1.j],\n",
       "       [2.-1.j, 6.+0.j, 0.+1.j],\n",
       "       [4.+1.j, 0.+1.j, 3.+0.j]])"
      ]
     },
     "metadata": {},
     "output_type": "display_data"
    }
   ],
   "source": [
    "display(A2)"
   ]
  },
  {
   "cell_type": "code",
   "execution_count": 152,
   "metadata": {},
   "outputs": [
    {
     "data": {
      "text/plain": [
       "(array([-0.96026162-0.40712648j,  7.82249021+0.56517253j,\n",
       "         5.13777142-0.15804605j]),\n",
       " array([[ 0.69583307+0.j        ,  0.60303218+0.j        ,\n",
       "         -0.20217038+0.04781851j],\n",
       "        [-0.1963245 +0.20582962j,  0.51352018-0.18405467j,\n",
       "          0.81107837+0.j        ],\n",
       "        [-0.65686601-0.05860245j,  0.55782184+0.16615623j,\n",
       "         -0.42599514+0.3428127j ]]))"
      ]
     },
     "execution_count": 152,
     "metadata": {},
     "output_type": "execute_result"
    }
   ],
   "source": [
    "import numpy.linalg as linalg\n",
    "eigenValues, eigenVectors2 = linalg.eig(A2)\n",
    "eigenValues, eigenVectors2"
   ]
  },
  {
   "cell_type": "code",
   "execution_count": 153,
   "metadata": {},
   "outputs": [
    {
     "data": {
      "text/plain": [
       "(array([-1. -0.4j,  7.8+0.6j,  5.1-0.2j]),\n",
       " array([[ 0.7+0.j ,  0.6+0.j , -0.2+0.j ],\n",
       "        [-0.2+0.2j,  0.5-0.2j,  0.8+0.j ],\n",
       "        [-0.7-0.1j,  0.6+0.2j, -0.4+0.3j]]))"
      ]
     },
     "execution_count": 153,
     "metadata": {},
     "output_type": "execute_result"
    }
   ],
   "source": [
    "np.round(eigenValues,1), np.round(eigenVectors2,1)"
   ]
  },
  {
   "cell_type": "markdown",
   "metadata": {},
   "source": [
    "### Es diagonalizable si existe una matriz invertible $P$"
   ]
  },
  {
   "cell_type": "markdown",
   "metadata": {},
   "source": [
    "Formamos la matriz $P$ con los eigenvectores como columnas y esta matriz es no-singular."
   ]
  },
  {
   "cell_type": "code",
   "execution_count": 154,
   "metadata": {},
   "outputs": [
    {
     "data": {
      "text/plain": [
       "(-0.7932041596118203+0.15959083978681163j)"
      ]
     },
     "metadata": {},
     "output_type": "display_data"
    }
   ],
   "source": [
    "P2 = eigenVectors2.transpose()\n",
    "display(np.linalg.det(P2))\n"
   ]
  },
  {
   "cell_type": "markdown",
   "metadata": {},
   "source": [
    "A2 es diagonalizable"
   ]
  },
  {
   "cell_type": "code",
   "execution_count": 155,
   "metadata": {},
   "outputs": [
    {
     "data": {
      "text/plain": [
       "array([[-1. -0.4j, -0. -0.j , -0. -0.j ],\n",
       "       [-0. +0.j ,  7.8+0.6j,  0. +0.j ],\n",
       "       [ 0. -0.j , -0. +0.j ,  5.1-0.2j]])"
      ]
     },
     "metadata": {},
     "output_type": "display_data"
    }
   ],
   "source": [
    "P2_inv = np.linalg.inv(P2)\n",
    "\n",
    "D2 = np.round(np.matmul(np.matmul(P2,A2),P2_inv),1)\n",
    "display(D2)"
   ]
  },
  {
   "cell_type": "markdown",
   "metadata": {},
   "source": [
    "La matriz diagonal resultante posee los eigenvalores relacionados a la matriz $A2$ como elementos de la diagonal principal."
   ]
  },
  {
   "cell_type": "code",
   "execution_count": null,
   "metadata": {},
   "outputs": [],
   "source": []
  },
  {
   "cell_type": "markdown",
   "metadata": {},
   "source": [
    "### (3) A = $\n",
    "\\left(\n",
    "\\begin{matrix}\n",
    "4 &  -3 & 5 \\\\\n",
    "-3  & 2 &  1\\\\\n",
    "5  &  1 & -6\n",
    "\\end{matrix}\n",
    "\\right)$"
   ]
  },
  {
   "cell_type": "code",
   "execution_count": 21,
   "metadata": {},
   "outputs": [],
   "source": [
    "A3=Matrix([(4, -3, 5),(-3, 2, 1),(5, 1, -6)])"
   ]
  },
  {
   "cell_type": "markdown",
   "metadata": {},
   "source": [
    "### Es ortogonal si $A^T$=$A^{-1}$"
   ]
  },
  {
   "cell_type": "code",
   "execution_count": 22,
   "metadata": {},
   "outputs": [
    {
     "data": {
      "image/png": "[encoded data removed]",
      "text/latex": [
       "$\\displaystyle \\left[\\begin{matrix}4 & -3 & 5\\\\-3 & 2 & 1\\\\5 & 1 & -6\\end{matrix}\\right]$"
      ],
      "text/plain": [
       "⎡4   -3  5 ⎤\n",
       "⎢          ⎥\n",
       "⎢-3  2   1 ⎥\n",
       "⎢          ⎥\n",
       "⎣5   1   -6⎦"
      ]
     },
     "metadata": {},
     "output_type": "display_data"
    },
    {
     "data": {
      "image/png": "[encoded data removed]",
      "text/latex": [
       "$\\displaystyle \\left[\\begin{matrix}\\frac{1}{6} & \\frac{1}{6} & \\frac{1}{6}\\\\\\frac{1}{6} & \\frac{49}{78} & \\frac{19}{78}\\\\\\frac{1}{6} & \\frac{19}{78} & \\frac{1}{78}\\end{matrix}\\right]$"
      ],
      "text/plain": [
       "⎡1/6  1/6  1/6 ⎤\n",
       "⎢              ⎥\n",
       "⎢     49    19 ⎥\n",
       "⎢1/6  ──    ── ⎥\n",
       "⎢     78    78 ⎥\n",
       "⎢              ⎥\n",
       "⎢     19       ⎥\n",
       "⎢1/6  ──   1/78⎥\n",
       "⎣     78       ⎦"
      ]
     },
     "metadata": {},
     "output_type": "display_data"
    }
   ],
   "source": [
    "display(A3.T) # Matriz Traspuesta\n",
    "display(A3.inv()) # Matriz inversa"
   ]
  },
  {
   "cell_type": "markdown",
   "metadata": {},
   "source": [
    "#### Como  $A^T \\neq A^{-1}$ podemos afirmar que A no es ortogonal"
   ]
  },
  {
   "cell_type": "code",
   "execution_count": null,
   "metadata": {},
   "outputs": [],
   "source": []
  },
  {
   "cell_type": "markdown",
   "metadata": {},
   "source": [
    "### Es real simétrica si $A^T$=$A$"
   ]
  },
  {
   "cell_type": "code",
   "execution_count": 23,
   "metadata": {},
   "outputs": [
    {
     "data": {
      "image/png": "[encoded data removed]",
      "text/latex": [
       "$\\displaystyle \\left[\\begin{matrix}4 & -3 & 5\\\\-3 & 2 & 1\\\\5 & 1 & -6\\end{matrix}\\right]$"
      ],
      "text/plain": [
       "⎡4   -3  5 ⎤\n",
       "⎢          ⎥\n",
       "⎢-3  2   1 ⎥\n",
       "⎢          ⎥\n",
       "⎣5   1   -6⎦"
      ]
     },
     "metadata": {},
     "output_type": "display_data"
    },
    {
     "data": {
      "image/png": "[encoded data removed]",
      "text/latex": [
       "$\\displaystyle \\left[\\begin{matrix}4 & -3 & 5\\\\-3 & 2 & 1\\\\5 & 1 & -6\\end{matrix}\\right]$"
      ],
      "text/plain": [
       "⎡4   -3  5 ⎤\n",
       "⎢          ⎥\n",
       "⎢-3  2   1 ⎥\n",
       "⎢          ⎥\n",
       "⎣5   1   -6⎦"
      ]
     },
     "metadata": {},
     "output_type": "display_data"
    }
   ],
   "source": [
    "display(A3)\n",
    "display(A3.T)"
   ]
  },
  {
   "cell_type": "markdown",
   "metadata": {},
   "source": [
    "#### Como $A^T$=$A$ podemos afirmar que A es real simétrica "
   ]
  },
  {
   "cell_type": "markdown",
   "metadata": {},
   "source": [
    "### Autovalores y Autovectores."
   ]
  },
  {
   "cell_type": "code",
   "execution_count": 156,
   "metadata": {},
   "outputs": [],
   "source": [
    "A3=np.array([[4,-3,5],[-3, 2 , 1],[5, 1, -6]])"
   ]
  },
  {
   "cell_type": "code",
   "execution_count": 157,
   "metadata": {},
   "outputs": [
    {
     "data": {
      "text/plain": [
       "(array([-8.49593222,  7.22527225,  1.27065997]),\n",
       " array([[ 0.40509898,  0.85294674,  0.32920613],\n",
       "        [ 0.2007686 , -0.43427565,  0.87812108],\n",
       "        [-0.89195672,  0.2896317 ,  0.34716955]]))"
      ]
     },
     "execution_count": 157,
     "metadata": {},
     "output_type": "execute_result"
    }
   ],
   "source": [
    "eigenValues, eigenVectors3 = linalg.eig(A3)\n",
    "eigenValues, eigenVectors3"
   ]
  },
  {
   "cell_type": "code",
   "execution_count": 158,
   "metadata": {},
   "outputs": [
    {
     "data": {
      "text/plain": [
       "(array([-8.5,  7.2,  1.3]),\n",
       " array([[ 0.4,  0.9,  0.3],\n",
       "        [ 0.2, -0.4,  0.9],\n",
       "        [-0.9,  0.3,  0.3]]))"
      ]
     },
     "execution_count": 158,
     "metadata": {},
     "output_type": "execute_result"
    }
   ],
   "source": [
    "np.round(eigenValues,1), np.round(eigenVectors3,1)"
   ]
  },
  {
   "cell_type": "markdown",
   "metadata": {},
   "source": [
    "### Es diagonalizable si existe una matriz invertible $P$"
   ]
  },
  {
   "cell_type": "markdown",
   "metadata": {},
   "source": [
    "Formamos la matriz $P$ con los eigenvectores como columnas y esta matriz es no-singular."
   ]
  },
  {
   "cell_type": "code",
   "execution_count": 159,
   "metadata": {},
   "outputs": [
    {
     "data": {
      "image/png": "[encoded data removed]",
      "text/latex": [
       "$\\displaystyle -1.0$"
      ],
      "text/plain": [
       "-1.0000000000000002"
      ]
     },
     "metadata": {},
     "output_type": "display_data"
    }
   ],
   "source": [
    "P3 = eigenVectors3.transpose()\n",
    "display(np.linalg.det(P3))"
   ]
  },
  {
   "cell_type": "code",
   "execution_count": 160,
   "metadata": {},
   "outputs": [
    {
     "data": {
      "text/plain": [
       "array([[-8.5, -0. , -0. ],\n",
       "       [ 0. ,  7.2,  0. ],\n",
       "       [-0. , -0. ,  1.3]])"
      ]
     },
     "metadata": {},
     "output_type": "display_data"
    }
   ],
   "source": [
    "P3_inv = np.linalg.inv(P3)\n",
    "\n",
    "D3 = np.round(np.matmul(np.matmul(P3,A3),P3_inv),1)\n",
    "display(D3)"
   ]
  },
  {
   "cell_type": "code",
   "execution_count": null,
   "metadata": {},
   "outputs": [],
   "source": []
  },
  {
   "cell_type": "markdown",
   "metadata": {},
   "source": [
    "### (4) A = $\n",
    "\\left(\n",
    "\\begin{matrix}\n",
    "1 &  1+i & 2i \\\\\n",
    "1-i  & 4 &  2-3i\\\\\n",
    "-2i  &  2+3i & 7\n",
    "\\end{matrix}\n",
    "\\right)$"
   ]
  },
  {
   "cell_type": "code",
   "execution_count": 161,
   "metadata": {},
   "outputs": [
    {
     "data": {
      "image/png": "[encoded data removed]",
      "text/latex": [
       "$\\displaystyle \\left[\\begin{matrix}1 & 1 + i & 2 i\\\\1 - i & 4 & 2 - 3 i\\\\- 2 i & 2 + 3 i & 7\\end{matrix}\\right]$"
      ],
      "text/plain": [
       "⎡  1     1 + ⅈ     2⋅ⅈ  ⎤\n",
       "⎢                       ⎥\n",
       "⎢1 - ⅈ     4     2 - 3⋅ⅈ⎥\n",
       "⎢                       ⎥\n",
       "⎣-2⋅ⅈ   2 + 3⋅ⅈ     7   ⎦"
      ]
     },
     "execution_count": 161,
     "metadata": {},
     "output_type": "execute_result"
    }
   ],
   "source": [
    "A4=Matrix([(1,1+I, 2*I),(1-I,4,2-3*I),(-2*I,2+3*I, 7)])\n",
    "A4"
   ]
  },
  {
   "cell_type": "markdown",
   "metadata": {},
   "source": [
    "### Es unitaria si $\\bar{A}^T$= $A^{-1}$"
   ]
  },
  {
   "cell_type": "code",
   "execution_count": 29,
   "metadata": {},
   "outputs": [
    {
     "data": {
      "image/png": "[encoded data removed]",
      "text/latex": [
       "$\\displaystyle \\left[\\begin{matrix}1 & 1 + i & 2 i\\\\1 - i & 4 & 2 - 3 i\\\\- 2 i & 2 + 3 i & 7\\end{matrix}\\right]$"
      ],
      "text/plain": [
       "⎡  1     1 + ⅈ     2⋅ⅈ  ⎤\n",
       "⎢                       ⎥\n",
       "⎢1 - ⅈ     4     2 - 3⋅ⅈ⎥\n",
       "⎢                       ⎥\n",
       "⎣-2⋅ⅈ   2 + 3⋅ⅈ     7   ⎦"
      ]
     },
     "metadata": {},
     "output_type": "display_data"
    },
    {
     "data": {
      "image/png": "[encoded data removed]",
      "text/latex": [
       "$\\displaystyle \\left[\\begin{matrix}- \\frac{15}{19} & \\frac{13}{19} + \\frac{3 i}{19} & - \\frac{5}{19} + \\frac{9 i}{19}\\\\\\frac{13}{19} - \\frac{3 i}{19} & - \\frac{3}{19} & - \\frac{5 i}{19}\\\\- \\frac{5}{19} - \\frac{9 i}{19} & \\frac{5 i}{19} & - \\frac{2}{19}\\end{matrix}\\right]$"
      ],
      "text/plain": [
       "⎡   -15      13   3⋅ⅈ    5    9⋅ⅈ⎤\n",
       "⎢   ────     ── + ───  - ── + ───⎥\n",
       "⎢    19      19    19    19    19⎥\n",
       "⎢                                ⎥\n",
       "⎢ 13   3⋅ⅈ               -5⋅ⅈ    ⎥\n",
       "⎢ ── - ───    -3/19      ─────   ⎥\n",
       "⎢ 19    19                 19    ⎥\n",
       "⎢                                ⎥\n",
       "⎢  5    9⋅ⅈ    5⋅ⅈ               ⎥\n",
       "⎢- ── - ───    ───       -2/19   ⎥\n",
       "⎣  19    19     19               ⎦"
      ]
     },
     "metadata": {},
     "output_type": "display_data"
    }
   ],
   "source": [
    "display((conjugate(A4)).T) # Matriz Traspuesta conjugada\n",
    "display(A4.inv()) # Matriz inversa"
   ]
  },
  {
   "cell_type": "markdown",
   "metadata": {},
   "source": [
    "#### Como $\\bar{A}^T\\neq A^{-1}$  podemos afirmar que A no es unitaria."
   ]
  },
  {
   "cell_type": "code",
   "execution_count": null,
   "metadata": {},
   "outputs": [],
   "source": []
  },
  {
   "cell_type": "markdown",
   "metadata": {},
   "source": [
    "### Es hermitiana si $\\bar{A}^T$= A "
   ]
  },
  {
   "cell_type": "code",
   "execution_count": 30,
   "metadata": {},
   "outputs": [
    {
     "data": {
      "image/png": "[encoded data removed]",
      "text/latex": [
       "$\\displaystyle \\left[\\begin{matrix}1 & 1 + i & 2 i\\\\1 - i & 4 & 2 - 3 i\\\\- 2 i & 2 + 3 i & 7\\end{matrix}\\right]$"
      ],
      "text/plain": [
       "⎡  1     1 + ⅈ     2⋅ⅈ  ⎤\n",
       "⎢                       ⎥\n",
       "⎢1 - ⅈ     4     2 - 3⋅ⅈ⎥\n",
       "⎢                       ⎥\n",
       "⎣-2⋅ⅈ   2 + 3⋅ⅈ     7   ⎦"
      ]
     },
     "metadata": {},
     "output_type": "display_data"
    },
    {
     "data": {
      "image/png": "[encoded data removed]",
      "text/latex": [
       "$\\displaystyle \\left[\\begin{matrix}1 & 1 + i & 2 i\\\\1 - i & 4 & 2 - 3 i\\\\- 2 i & 2 + 3 i & 7\\end{matrix}\\right]$"
      ],
      "text/plain": [
       "⎡  1     1 + ⅈ     2⋅ⅈ  ⎤\n",
       "⎢                       ⎥\n",
       "⎢1 - ⅈ     4     2 - 3⋅ⅈ⎥\n",
       "⎢                       ⎥\n",
       "⎣-2⋅ⅈ   2 + 3⋅ⅈ     7   ⎦"
      ]
     },
     "metadata": {},
     "output_type": "display_data"
    }
   ],
   "source": [
    "display(A4)\n",
    "display((conjugate(A4)).T) # Matriz Traspuesta conjugada"
   ]
  },
  {
   "cell_type": "markdown",
   "metadata": {},
   "source": [
    "#### Como $\\bar{A}^T$=$A$  podemos afirmar que A  es hermitiana."
   ]
  },
  {
   "cell_type": "code",
   "execution_count": null,
   "metadata": {},
   "outputs": [],
   "source": []
  },
  {
   "cell_type": "markdown",
   "metadata": {},
   "source": [
    "### Es normal si $A\\bar{A}^T$=$\\bar{A}^T A$"
   ]
  },
  {
   "cell_type": "code",
   "execution_count": 31,
   "metadata": {},
   "outputs": [
    {
     "data": {
      "image/png": "[encoded data removed]",
      "text/latex": [
       "$\\displaystyle \\left[\\begin{matrix}\\left(1 - i\\right) \\left(1 + i\\right) + 5 & 5 + 2 i \\left(2 + 3 i\\right) + 5 i & \\left(1 + i\\right) \\left(2 - 3 i\\right) + 16 i\\\\5 - 5 i - 2 i \\left(2 - 3 i\\right) & \\left(1 - i\\right) \\left(1 + i\\right) + \\left(2 - 3 i\\right) \\left(2 + 3 i\\right) + 16 & 22 - 33 i + 2 i \\left(1 - i\\right)\\\\- 16 i + \\left(1 - i\\right) \\left(2 + 3 i\\right) & 22 - 2 i \\left(1 + i\\right) + 33 i & \\left(2 - 3 i\\right) \\left(2 + 3 i\\right) + 53\\end{matrix}\\right]$"
      ],
      "text/plain": [
       "⎡   (1 - ⅈ)⋅(1 + ⅈ) + 5              5 + 2⋅ⅈ⋅(2 + 3⋅ⅈ) + 5⋅ⅈ            (1 + ⅈ\n",
       "⎢                                                                             \n",
       "⎢ 5 - 5⋅ⅈ - 2⋅ⅈ⋅(2 - 3⋅ⅈ)   (1 - ⅈ)⋅(1 + ⅈ) + (2 - 3⋅ⅈ)⋅(2 + 3⋅ⅈ) + 16  22 - 3\n",
       "⎢                                                                             \n",
       "⎣-16⋅ⅈ + (1 - ⅈ)⋅(2 + 3⋅ⅈ)           22 - 2⋅ⅈ⋅(1 + ⅈ) + 33⋅ⅈ            (2 - 3\n",
       "\n",
       ")⋅(2 - 3⋅ⅈ) + 16⋅ⅈ⎤\n",
       "                  ⎥\n",
       "3⋅ⅈ + 2⋅ⅈ⋅(1 - ⅈ) ⎥\n",
       "                  ⎥\n",
       "⋅ⅈ)⋅(2 + 3⋅ⅈ) + 53⎦"
      ]
     },
     "metadata": {},
     "output_type": "display_data"
    },
    {
     "data": {
      "image/png": "[encoded data removed]",
      "text/latex": [
       "$\\displaystyle \\left[\\begin{matrix}\\left(1 - i\\right) \\left(1 + i\\right) + 5 & 5 + 2 i \\left(2 + 3 i\\right) + 5 i & \\left(1 + i\\right) \\left(2 - 3 i\\right) + 16 i\\\\5 - 5 i - 2 i \\left(2 - 3 i\\right) & \\left(1 - i\\right) \\left(1 + i\\right) + \\left(2 - 3 i\\right) \\left(2 + 3 i\\right) + 16 & 22 - 33 i + 2 i \\left(1 - i\\right)\\\\- 16 i + \\left(1 - i\\right) \\left(2 + 3 i\\right) & 22 - 2 i \\left(1 + i\\right) + 33 i & \\left(2 - 3 i\\right) \\left(2 + 3 i\\right) + 53\\end{matrix}\\right]$"
      ],
      "text/plain": [
       "⎡   (1 - ⅈ)⋅(1 + ⅈ) + 5              5 + 2⋅ⅈ⋅(2 + 3⋅ⅈ) + 5⋅ⅈ            (1 + ⅈ\n",
       "⎢                                                                             \n",
       "⎢ 5 - 5⋅ⅈ - 2⋅ⅈ⋅(2 - 3⋅ⅈ)   (1 - ⅈ)⋅(1 + ⅈ) + (2 - 3⋅ⅈ)⋅(2 + 3⋅ⅈ) + 16  22 - 3\n",
       "⎢                                                                             \n",
       "⎣-16⋅ⅈ + (1 - ⅈ)⋅(2 + 3⋅ⅈ)           22 - 2⋅ⅈ⋅(1 + ⅈ) + 33⋅ⅈ            (2 - 3\n",
       "\n",
       ")⋅(2 - 3⋅ⅈ) + 16⋅ⅈ⎤\n",
       "                  ⎥\n",
       "3⋅ⅈ + 2⋅ⅈ⋅(1 - ⅈ) ⎥\n",
       "                  ⎥\n",
       "⋅ⅈ)⋅(2 + 3⋅ⅈ) + 53⎦"
      ]
     },
     "metadata": {},
     "output_type": "display_data"
    }
   ],
   "source": [
    "display(A4*((conjugate(A4)).T))\n",
    "display(((conjugate(A4)).T)*A4)"
   ]
  },
  {
   "cell_type": "code",
   "execution_count": 32,
   "metadata": {},
   "outputs": [
    {
     "data": {
      "text/plain": [
       "True"
      ]
     },
     "execution_count": 32,
     "metadata": {},
     "output_type": "execute_result"
    }
   ],
   "source": [
    "bool(A4*((conjugate(A4)).T) == ((conjugate(A4)).T)*A4)"
   ]
  },
  {
   "cell_type": "markdown",
   "metadata": {},
   "source": [
    "#### Como  $A\\bar{A}^T$=$\\bar{A}^T A$ se cumple podemos podemos afirmar que A es normal"
   ]
  },
  {
   "cell_type": "markdown",
   "metadata": {},
   "source": [
    "### Autovalores y Autovectores."
   ]
  },
  {
   "cell_type": "code",
   "execution_count": 162,
   "metadata": {},
   "outputs": [],
   "source": [
    "A4 = np.array([[1.+0.j,1.+1.j,0.+ 2.j],[1.-1.j,4.+0.j,2.-3.j],[0.-2.j,2.+3.J,7.+0.j]])"
   ]
  },
  {
   "cell_type": "code",
   "execution_count": 163,
   "metadata": {},
   "outputs": [
    {
     "data": {
      "text/plain": [
       "(array([-0.66765836+2.62878923e-16j,  2.91919537+3.93573677e-16j,\n",
       "         9.74846299-2.12363390e-16j]),\n",
       " array([[ 0.78102045+0.j        ,  0.5921405 +0.00474642j,\n",
       "          0.08531008+0.17909872j],\n",
       "        [-0.46839474+0.12569175j,  0.69499653+0.j        ,\n",
       "          0.33265686-0.41367522j],\n",
       "        [ 0.1713515 +0.3541944j , -0.34294362-0.22071838j,\n",
       "          0.82392844+0.j        ]]))"
      ]
     },
     "execution_count": 163,
     "metadata": {},
     "output_type": "execute_result"
    }
   ],
   "source": [
    "eigenValues, eigenVectors4 = linalg.eig(A4)\n",
    "eigenValues, eigenVectors4"
   ]
  },
  {
   "cell_type": "code",
   "execution_count": 164,
   "metadata": {},
   "outputs": [
    {
     "data": {
      "text/plain": [
       "(array([-0.7+0.j,  2.9+0.j,  9.7-0.j]),\n",
       " array([[ 0.8+0.j ,  0.6+0.j ,  0.1+0.2j],\n",
       "        [-0.5+0.1j,  0.7+0.j ,  0.3-0.4j],\n",
       "        [ 0.2+0.4j, -0.3-0.2j,  0.8+0.j ]]))"
      ]
     },
     "execution_count": 164,
     "metadata": {},
     "output_type": "execute_result"
    }
   ],
   "source": [
    "np.round(eigenValues,1), np.round(eigenVectors4,1)"
   ]
  },
  {
   "cell_type": "markdown",
   "metadata": {},
   "source": [
    "### Es diagonalizable si existe una matriz invertible $P$"
   ]
  },
  {
   "cell_type": "markdown",
   "metadata": {},
   "source": [
    "Formamos la matriz $P$ con los eigenvectores como columnas y esta matriz es no-singular."
   ]
  },
  {
   "cell_type": "code",
   "execution_count": 165,
   "metadata": {},
   "outputs": [
    {
     "data": {
      "text/plain": [
       "(0.9961527580462192-0.08763379848500365j)"
      ]
     },
     "metadata": {},
     "output_type": "display_data"
    }
   ],
   "source": [
    "P4 = eigenVectors4.transpose()\n",
    "display(np.linalg.det(P4))"
   ]
  },
  {
   "cell_type": "markdown",
   "metadata": {},
   "source": [
    "A4 es invertible"
   ]
  },
  {
   "cell_type": "code",
   "execution_count": 166,
   "metadata": {},
   "outputs": [
    {
     "data": {
      "text/plain": [
       "array([[ 4.2-0.j , -2.1+0.1j, -1. +4.6j],\n",
       "       [-2.1-0.1j,  3.7-0.j ,  0.7-1.1j],\n",
       "       [-1. -4.6j,  0.7+1.1j,  4.1+0.j ]])"
      ]
     },
     "metadata": {},
     "output_type": "display_data"
    }
   ],
   "source": [
    "P4_inv = np.linalg.inv(P4)\n",
    "\n",
    "D4 = np.round(np.matmul(np.matmul(P4,A4),P4_inv),1)\n",
    "display(D4)"
   ]
  },
  {
   "cell_type": "markdown",
   "metadata": {},
   "source": [
    "La matriz resultante no es diagonal por insuficiencia de operaciones con numeros complejos."
   ]
  },
  {
   "cell_type": "code",
   "execution_count": null,
   "metadata": {},
   "outputs": [],
   "source": []
  },
  {
   "cell_type": "markdown",
   "metadata": {},
   "source": [
    " ### (5) A = $\n",
    "\\left(\n",
    "\\begin{matrix}\n",
    "1 &  i & 2+i \\\\\n",
    "-i  & 2 &  1-i\\\\\n",
    "2-i  &  1+i & 2\n",
    "\\end{matrix}\n",
    "\\right)$"
   ]
  },
  {
   "cell_type": "code",
   "execution_count": 37,
   "metadata": {},
   "outputs": [
    {
     "data": {
      "image/png": "[encoded data removed]",
      "text/latex": [
       "$\\displaystyle \\left[\\begin{matrix}1 & i & 2 + i\\\\- i & 2 & 1 - i\\\\2 - i & 1 + i & 2\\end{matrix}\\right]$"
      ],
      "text/plain": [
       "⎡  1      ⅈ    2 + ⅈ⎤\n",
       "⎢                   ⎥\n",
       "⎢ -ⅈ      2    1 - ⅈ⎥\n",
       "⎢                   ⎥\n",
       "⎣2 - ⅈ  1 + ⅈ    2  ⎦"
      ]
     },
     "execution_count": 37,
     "metadata": {},
     "output_type": "execute_result"
    }
   ],
   "source": [
    "A5=Matrix([(1, I, 2+I),(-I, 2, 1-I),(2-I, 1+I, 2)])\n",
    "A5"
   ]
  },
  {
   "cell_type": "markdown",
   "metadata": {},
   "source": [
    "### Es unitaria si $\\bar{A}^T$= $A^{-1}$"
   ]
  },
  {
   "cell_type": "code",
   "execution_count": 38,
   "metadata": {},
   "outputs": [
    {
     "data": {
      "image/png": "[encoded data removed]",
      "text/latex": [
       "$\\displaystyle \\left[\\begin{matrix}1 & i & 2 + i\\\\- i & 2 & 1 - i\\\\2 - i & 1 + i & 2\\end{matrix}\\right]$"
      ],
      "text/plain": [
       "⎡  1      ⅈ    2 + ⅈ⎤\n",
       "⎢                   ⎥\n",
       "⎢ -ⅈ      2    1 - ⅈ⎥\n",
       "⎢                   ⎥\n",
       "⎣2 - ⅈ  1 + ⅈ    2  ⎦"
      ]
     },
     "metadata": {},
     "output_type": "display_data"
    },
    {
     "data": {
      "image/png": "[encoded data removed]",
      "text/latex": [
       "$\\displaystyle \\left[\\begin{matrix}- \\frac{1}{2} & - \\frac{1}{4} - \\frac{i}{4} & \\frac{3}{4} + \\frac{i}{4}\\\\- \\frac{1}{4} + \\frac{i}{4} & \\frac{3}{4} & \\frac{i}{4}\\\\\\frac{3}{4} - \\frac{i}{4} & - \\frac{i}{4} & - \\frac{1}{4}\\end{matrix}\\right]$"
      ],
      "text/plain": [
       "⎡           1   ⅈ  3   ⅈ⎤\n",
       "⎢ -1/2    - ─ - ─  ─ + ─⎥\n",
       "⎢           4   4  4   4⎥\n",
       "⎢                       ⎥\n",
       "⎢  1   ⅈ             ⅈ  ⎥\n",
       "⎢- ─ + ─    3/4      ─  ⎥\n",
       "⎢  4   4             4  ⎥\n",
       "⎢                       ⎥\n",
       "⎢ 3   ⅈ     -ⅈ          ⎥\n",
       "⎢ ─ - ─     ───    -1/4 ⎥\n",
       "⎣ 4   4      4          ⎦"
      ]
     },
     "metadata": {},
     "output_type": "display_data"
    }
   ],
   "source": [
    "display((conjugate(A5)).T) # Matriz Traspuesta conjugada\n",
    "display(A5.inv()) # Matriz inversa"
   ]
  },
  {
   "cell_type": "markdown",
   "metadata": {},
   "source": [
    "#### Como $\\bar{A}^T\\neq A^{-1}$  podemos afirmar que A no es unitaria."
   ]
  },
  {
   "cell_type": "code",
   "execution_count": null,
   "metadata": {},
   "outputs": [],
   "source": []
  },
  {
   "cell_type": "markdown",
   "metadata": {},
   "source": [
    "### Es hermitiana si $\\bar{A}^T$= A "
   ]
  },
  {
   "cell_type": "code",
   "execution_count": 39,
   "metadata": {},
   "outputs": [
    {
     "data": {
      "image/png": "[encoded data removed]",
      "text/latex": [
       "$\\displaystyle \\left[\\begin{matrix}1 & i & 2 + i\\\\- i & 2 & 1 - i\\\\2 - i & 1 + i & 2\\end{matrix}\\right]$"
      ],
      "text/plain": [
       "⎡  1      ⅈ    2 + ⅈ⎤\n",
       "⎢                   ⎥\n",
       "⎢ -ⅈ      2    1 - ⅈ⎥\n",
       "⎢                   ⎥\n",
       "⎣2 - ⅈ  1 + ⅈ    2  ⎦"
      ]
     },
     "metadata": {},
     "output_type": "display_data"
    },
    {
     "data": {
      "image/png": "[encoded data removed]",
      "text/latex": [
       "$\\displaystyle \\left[\\begin{matrix}1 & i & 2 + i\\\\- i & 2 & 1 - i\\\\2 - i & 1 + i & 2\\end{matrix}\\right]$"
      ],
      "text/plain": [
       "⎡  1      ⅈ    2 + ⅈ⎤\n",
       "⎢                   ⎥\n",
       "⎢ -ⅈ      2    1 - ⅈ⎥\n",
       "⎢                   ⎥\n",
       "⎣2 - ⅈ  1 + ⅈ    2  ⎦"
      ]
     },
     "metadata": {},
     "output_type": "display_data"
    }
   ],
   "source": [
    "display(A5)\n",
    "display((conjugate(A5)).T) # Matriz Traspuesta conjugada"
   ]
  },
  {
   "cell_type": "markdown",
   "metadata": {},
   "source": [
    "#### Como $\\bar{A}^T$=$A$  podemos afirmar que A  es hermitiana."
   ]
  },
  {
   "cell_type": "code",
   "execution_count": null,
   "metadata": {},
   "outputs": [],
   "source": []
  },
  {
   "cell_type": "markdown",
   "metadata": {},
   "source": [
    "### Es normal si $A\\bar{A}^T$=$\\bar{A}^T A$"
   ]
  },
  {
   "cell_type": "code",
   "execution_count": 40,
   "metadata": {},
   "outputs": [
    {
     "data": {
      "image/png": "[encoded data removed]",
      "text/latex": [
       "$\\displaystyle \\left[\\begin{matrix}2 + \\left(2 - i\\right) \\left(2 + i\\right) & 3 i + \\left(1 + i\\right) \\left(2 + i\\right) & 6 + i \\left(1 - i\\right) + 3 i\\\\- 3 i + \\left(1 - i\\right) \\left(2 - i\\right) & \\left(1 - i\\right) \\left(1 + i\\right) + 5 & 4 - 4 i - i \\left(2 + i\\right)\\\\6 - 3 i - i \\left(1 + i\\right) & 4 + i \\left(2 - i\\right) + 4 i & \\left(1 - i\\right) \\left(1 + i\\right) + 4 + \\left(2 - i\\right) \\left(2 + i\\right)\\end{matrix}\\right]$"
      ],
      "text/plain": [
       "⎡ 2 + (2 - ⅈ)⋅(2 + ⅈ)    3⋅ⅈ + (1 + ⅈ)⋅(2 + ⅈ)           6 + ⅈ⋅(1 - ⅈ) + 3⋅ⅈ  \n",
       "⎢                                                                             \n",
       "⎢-3⋅ⅈ + (1 - ⅈ)⋅(2 - ⅈ)   (1 - ⅈ)⋅(1 + ⅈ) + 5            4 - 4⋅ⅈ - ⅈ⋅(2 + ⅈ)  \n",
       "⎢                                                                             \n",
       "⎣ 6 - 3⋅ⅈ - ⅈ⋅(1 + ⅈ)     4 + ⅈ⋅(2 - ⅈ) + 4⋅ⅈ   (1 - ⅈ)⋅(1 + ⅈ) + 4 + (2 - ⅈ)⋅\n",
       "\n",
       "       ⎤\n",
       "       ⎥\n",
       "       ⎥\n",
       "       ⎥\n",
       "(2 + ⅈ)⎦"
      ]
     },
     "metadata": {},
     "output_type": "display_data"
    },
    {
     "data": {
      "image/png": "[encoded data removed]",
      "text/latex": [
       "$\\displaystyle \\left[\\begin{matrix}2 + \\left(2 - i\\right) \\left(2 + i\\right) & 3 i + \\left(1 + i\\right) \\left(2 + i\\right) & 6 + i \\left(1 - i\\right) + 3 i\\\\- 3 i + \\left(1 - i\\right) \\left(2 - i\\right) & \\left(1 - i\\right) \\left(1 + i\\right) + 5 & 4 - 4 i - i \\left(2 + i\\right)\\\\6 - 3 i - i \\left(1 + i\\right) & 4 + i \\left(2 - i\\right) + 4 i & \\left(1 - i\\right) \\left(1 + i\\right) + 4 + \\left(2 - i\\right) \\left(2 + i\\right)\\end{matrix}\\right]$"
      ],
      "text/plain": [
       "⎡ 2 + (2 - ⅈ)⋅(2 + ⅈ)    3⋅ⅈ + (1 + ⅈ)⋅(2 + ⅈ)           6 + ⅈ⋅(1 - ⅈ) + 3⋅ⅈ  \n",
       "⎢                                                                             \n",
       "⎢-3⋅ⅈ + (1 - ⅈ)⋅(2 - ⅈ)   (1 - ⅈ)⋅(1 + ⅈ) + 5            4 - 4⋅ⅈ - ⅈ⋅(2 + ⅈ)  \n",
       "⎢                                                                             \n",
       "⎣ 6 - 3⋅ⅈ - ⅈ⋅(1 + ⅈ)     4 + ⅈ⋅(2 - ⅈ) + 4⋅ⅈ   (1 - ⅈ)⋅(1 + ⅈ) + 4 + (2 - ⅈ)⋅\n",
       "\n",
       "       ⎤\n",
       "       ⎥\n",
       "       ⎥\n",
       "       ⎥\n",
       "(2 + ⅈ)⎦"
      ]
     },
     "metadata": {},
     "output_type": "display_data"
    }
   ],
   "source": [
    "display(A5*((conjugate(A5)).T))\n",
    "display(((conjugate(A5)).T)*A5)"
   ]
  },
  {
   "cell_type": "code",
   "execution_count": 41,
   "metadata": {},
   "outputs": [
    {
     "data": {
      "text/plain": [
       "True"
      ]
     },
     "execution_count": 41,
     "metadata": {},
     "output_type": "execute_result"
    }
   ],
   "source": [
    "bool(A5*((conjugate(A5)).T) == ((conjugate(A5)).T)*A5)"
   ]
  },
  {
   "cell_type": "markdown",
   "metadata": {},
   "source": [
    "#### Como  $A\\bar{A}^T$=$\\bar{A}^T A$ se cumple podemos podemos afirmar que A es normal"
   ]
  },
  {
   "cell_type": "markdown",
   "metadata": {},
   "source": [
    "### Autovalores y Autovectores."
   ]
  },
  {
   "cell_type": "code",
   "execution_count": 167,
   "metadata": {},
   "outputs": [],
   "source": [
    "A5=np.array([[1.+0.j,0.+1.j,2.+ 1.j],[0.-1.j,2.+0.j,1.-1.j],[2.-1.j,1.+1.J,2.+0.j]])"
   ]
  },
  {
   "cell_type": "code",
   "execution_count": 168,
   "metadata": {},
   "outputs": [
    {
     "data": {
      "text/plain": [
       "(array([ 4.82842712-5.55036775e-17j, -0.82842712-5.54955025e-17j,\n",
       "         1.        +1.10999180e-16j]),\n",
       " array([[ 0.45627781+0.26241018j,  0.76163923+0.j        ,\n",
       "         -0.16903085-0.3380617j ],\n",
       "        [ 0.33095274-0.3994953j ,  0.12693987-0.02177944j,\n",
       "          0.84515425+0.j        ],\n",
       "        [ 0.67366553+0.j        , -0.59114048+0.2321003j ,\n",
       "         -0.16903085-0.3380617j ]]))"
      ]
     },
     "execution_count": 168,
     "metadata": {},
     "output_type": "execute_result"
    }
   ],
   "source": [
    "import numpy.linalg as linalg\n",
    "eigenValues, eigenVectors5 = linalg.eig(A5)\n",
    "eigenValues, eigenVectors5"
   ]
  },
  {
   "cell_type": "code",
   "execution_count": 169,
   "metadata": {},
   "outputs": [
    {
     "data": {
      "text/plain": [
       "(array([ 4.8-0.j, -0.8-0.j,  1. +0.j]),\n",
       " array([[ 0.5+0.3j,  0.8+0.j , -0.2-0.3j],\n",
       "        [ 0.3-0.4j,  0.1-0.j ,  0.8+0.j ],\n",
       "        [ 0.7+0.j , -0.6+0.2j, -0.2-0.3j]]))"
      ]
     },
     "execution_count": 169,
     "metadata": {},
     "output_type": "execute_result"
    }
   ],
   "source": [
    "np.round(eigenValues,1), np.round(eigenVectors5,1)"
   ]
  },
  {
   "cell_type": "markdown",
   "metadata": {},
   "source": [
    "### Es diagonalizable si existe una matriz invertible $P$"
   ]
  },
  {
   "cell_type": "markdown",
   "metadata": {},
   "source": [
    "Formamos la matriz $P$ con los eigenvectores como columnas y esta matriz es no-singular."
   ]
  },
  {
   "cell_type": "code",
   "execution_count": 170,
   "metadata": {},
   "outputs": [
    {
     "data": {
      "text/plain": [
       "(0.9983027984219979+0.0582367810134453j)"
      ]
     },
     "metadata": {},
     "output_type": "display_data"
    }
   ],
   "source": [
    "P5 = eigenVectors5.transpose()\n",
    "display(np.linalg.det(P5))"
   ]
  },
  {
   "cell_type": "markdown",
   "metadata": {},
   "source": [
    "A5 es diagonalizable"
   ]
  },
  {
   "cell_type": "code",
   "execution_count": 171,
   "metadata": {},
   "outputs": [
    {
     "data": {
      "text/plain": [
       "array([[ 2. +0.j ,  0.1-1.1j,  0.5+1.5j],\n",
       "       [ 0.1+1.1j, -0.3-0.j , -1.2+0.j ],\n",
       "       [ 0.5-1.5j, -1.2-0.j ,  3.3+0.j ]])"
      ]
     },
     "metadata": {},
     "output_type": "display_data"
    }
   ],
   "source": [
    "P5_inv = np.linalg.inv(P5)\n",
    "\n",
    "D5 = np.round(np.matmul(np.matmul(P5,A5),P5_inv),1)\n",
    "display(D5)"
   ]
  },
  {
   "cell_type": "markdown",
   "metadata": {},
   "source": [
    "La matriz resultante no es diagonal por insuficiencia de operaciones con numeros complejos."
   ]
  },
  {
   "cell_type": "code",
   "execution_count": null,
   "metadata": {},
   "outputs": [],
   "source": []
  },
  {
   "cell_type": "markdown",
   "metadata": {},
   "source": [
    "### (6) A = $\n",
    "\\left(\n",
    "\\begin{matrix}\n",
    "1 &  i  \\\\\n",
    "-i  & 2 \\\\\n",
    "\\end{matrix}\n",
    "\\right)$"
   ]
  },
  {
   "cell_type": "code",
   "execution_count": 46,
   "metadata": {},
   "outputs": [
    {
     "data": {
      "image/png": "[encoded data removed]",
      "text/latex": [
       "$\\displaystyle \\left[\\begin{matrix}1 & i\\\\- i & 2\\end{matrix}\\right]$"
      ],
      "text/plain": [
       "⎡1   ⅈ⎤\n",
       "⎢     ⎥\n",
       "⎣-ⅈ  2⎦"
      ]
     },
     "execution_count": 46,
     "metadata": {},
     "output_type": "execute_result"
    }
   ],
   "source": [
    "A6=Matrix([(1, I),(-I, 2)])\n",
    "A6"
   ]
  },
  {
   "cell_type": "markdown",
   "metadata": {},
   "source": [
    "### Es unitaria si $\\bar{A}^T$= $A^{-1}$"
   ]
  },
  {
   "cell_type": "code",
   "execution_count": 47,
   "metadata": {},
   "outputs": [
    {
     "data": {
      "image/png": "[encoded data removed]",
      "text/latex": [
       "$\\displaystyle \\left[\\begin{matrix}1 & i\\\\- i & 2\\end{matrix}\\right]$"
      ],
      "text/plain": [
       "⎡1   ⅈ⎤\n",
       "⎢     ⎥\n",
       "⎣-ⅈ  2⎦"
      ]
     },
     "metadata": {},
     "output_type": "display_data"
    },
    {
     "data": {
      "image/png": "[encoded data removed]",
      "text/latex": [
       "$\\displaystyle \\left[\\begin{matrix}2 & - i\\\\i & 1\\end{matrix}\\right]$"
      ],
      "text/plain": [
       "⎡2  -ⅈ⎤\n",
       "⎢     ⎥\n",
       "⎣ⅈ  1 ⎦"
      ]
     },
     "metadata": {},
     "output_type": "display_data"
    }
   ],
   "source": [
    "display((conjugate(A6)).T) # Matriz Traspuesta conjugada\n",
    "display(A6.inv()) # Matriz inversa"
   ]
  },
  {
   "cell_type": "markdown",
   "metadata": {},
   "source": [
    "#### Como $\\bar{A}^T\\neq A^{-1}$  podemos afirmar que A no es unitaria."
   ]
  },
  {
   "cell_type": "code",
   "execution_count": null,
   "metadata": {},
   "outputs": [],
   "source": []
  },
  {
   "cell_type": "markdown",
   "metadata": {},
   "source": [
    "### Es hermitiana si $\\bar{A}^T$= A "
   ]
  },
  {
   "cell_type": "code",
   "execution_count": 48,
   "metadata": {},
   "outputs": [
    {
     "data": {
      "image/png": "[encoded data removed]",
      "text/latex": [
       "$\\displaystyle \\left[\\begin{matrix}1 & i\\\\- i & 2\\end{matrix}\\right]$"
      ],
      "text/plain": [
       "⎡1   ⅈ⎤\n",
       "⎢     ⎥\n",
       "⎣-ⅈ  2⎦"
      ]
     },
     "metadata": {},
     "output_type": "display_data"
    },
    {
     "data": {
      "image/png": "[encoded data removed]",
      "text/latex": [
       "$\\displaystyle \\left[\\begin{matrix}1 & i\\\\- i & 2\\end{matrix}\\right]$"
      ],
      "text/plain": [
       "⎡1   ⅈ⎤\n",
       "⎢     ⎥\n",
       "⎣-ⅈ  2⎦"
      ]
     },
     "metadata": {},
     "output_type": "display_data"
    }
   ],
   "source": [
    "display(A6)\n",
    "display((conjugate(A6)).T) # Matriz Traspuesta conjugada"
   ]
  },
  {
   "cell_type": "markdown",
   "metadata": {},
   "source": [
    "#### Como $\\bar{A}^T$=$A$  podemos afirmar que A  es hermitiana."
   ]
  },
  {
   "cell_type": "code",
   "execution_count": null,
   "metadata": {},
   "outputs": [],
   "source": []
  },
  {
   "cell_type": "markdown",
   "metadata": {},
   "source": [
    "### Es normal si $A\\bar{A}^T$=$\\bar{A}^T A$"
   ]
  },
  {
   "cell_type": "code",
   "execution_count": 49,
   "metadata": {},
   "outputs": [
    {
     "data": {
      "image/png": "[encoded data removed]",
      "text/latex": [
       "$\\displaystyle \\left[\\begin{matrix}2 & 3 i\\\\- 3 i & 5\\end{matrix}\\right]$"
      ],
      "text/plain": [
       "⎡ 2    3⋅ⅈ⎤\n",
       "⎢         ⎥\n",
       "⎣-3⋅ⅈ   5 ⎦"
      ]
     },
     "metadata": {},
     "output_type": "display_data"
    },
    {
     "data": {
      "image/png": "[encoded data removed]",
      "text/latex": [
       "$\\displaystyle \\left[\\begin{matrix}2 & 3 i\\\\- 3 i & 5\\end{matrix}\\right]$"
      ],
      "text/plain": [
       "⎡ 2    3⋅ⅈ⎤\n",
       "⎢         ⎥\n",
       "⎣-3⋅ⅈ   5 ⎦"
      ]
     },
     "metadata": {},
     "output_type": "display_data"
    }
   ],
   "source": [
    "display(A6*((conjugate(A6)).T))\n",
    "display(((conjugate(A6)).T)*A6)"
   ]
  },
  {
   "cell_type": "markdown",
   "metadata": {},
   "source": [
    "#### Como  $A\\bar{A}^T$=$\\bar{A}^T A$ se cumple podemos podemos afirmar que A es normal"
   ]
  },
  {
   "cell_type": "markdown",
   "metadata": {},
   "source": [
    "### Autovalores y Autovectores."
   ]
  },
  {
   "cell_type": "code",
   "execution_count": 172,
   "metadata": {},
   "outputs": [],
   "source": [
    "A6=np.array([[1.+0.j,0.+1.j],[0.-1.j,2.+0.j]])"
   ]
  },
  {
   "cell_type": "code",
   "execution_count": 173,
   "metadata": {},
   "outputs": [
    {
     "data": {
      "text/plain": [
       "(array([0.38196601+0.j, 2.61803399+0.j]),\n",
       " array([[ 0.85065081+0.j        ,  0.        +0.52573111j],\n",
       "        [-0.        +0.52573111j,  0.85065081+0.j        ]]))"
      ]
     },
     "execution_count": 173,
     "metadata": {},
     "output_type": "execute_result"
    }
   ],
   "source": [
    "import numpy.linalg as linalg\n",
    "eigenValues, eigenVectors6 = linalg.eig(A6)\n",
    "eigenValues, eigenVectors6"
   ]
  },
  {
   "cell_type": "code",
   "execution_count": 174,
   "metadata": {},
   "outputs": [
    {
     "data": {
      "text/plain": [
       "(array([0.4+0.j, 2.6+0.j]),\n",
       " array([[ 0.9+0.j ,  0. +0.5j],\n",
       "        [-0. +0.5j,  0.9+0.j ]]))"
      ]
     },
     "execution_count": 174,
     "metadata": {},
     "output_type": "execute_result"
    }
   ],
   "source": [
    "np.round(eigenValues,1), np.round(eigenVectors6,1)"
   ]
  },
  {
   "cell_type": "markdown",
   "metadata": {},
   "source": [
    "### Es diagonalizable si existe una matriz invertible $P$"
   ]
  },
  {
   "cell_type": "markdown",
   "metadata": {},
   "source": [
    "Formamos la matriz $P$ con los eigenvectores como columnas y esta matriz es no-singular."
   ]
  },
  {
   "cell_type": "code",
   "execution_count": 175,
   "metadata": {},
   "outputs": [
    {
     "data": {
      "text/plain": [
       "array([[ 0.85065081+0.j        , -0.        +0.52573111j],\n",
       "       [ 0.        +0.52573111j,  0.85065081+0.j        ]])"
      ]
     },
     "metadata": {},
     "output_type": "display_data"
    },
    {
     "data": {
      "text/plain": [
       "(1.0000000000000002+0j)"
      ]
     },
     "metadata": {},
     "output_type": "display_data"
    }
   ],
   "source": [
    "P6 = eigenVectors6.transpose()\n",
    "display(P6)\n",
    "display(np.linalg.det(P6))"
   ]
  },
  {
   "cell_type": "markdown",
   "metadata": {},
   "source": [
    "A6 es diagonalizable"
   ]
  },
  {
   "cell_type": "code",
   "execution_count": 176,
   "metadata": {},
   "outputs": [
    {
     "data": {
      "text/plain": [
       "array([[2.2+0.j , 0. +0.9j],\n",
       "       [0. -0.9j, 0.8+0.j ]])"
      ]
     },
     "metadata": {},
     "output_type": "display_data"
    }
   ],
   "source": [
    "P6_inv = np.linalg.inv(P6)\n",
    "D6 = np.round(np.matmul(np.matmul(P6,A6),P6_inv),1)\n",
    "display(D6)"
   ]
  },
  {
   "cell_type": "markdown",
   "metadata": {},
   "source": [
    "La matriz resultante no es diagonal en $\\mathbb{C}$ por insuficiencia de operaciones con numeros complejos."
   ]
  },
  {
   "cell_type": "code",
   "execution_count": null,
   "metadata": {},
   "outputs": [],
   "source": []
  },
  {
   "cell_type": "markdown",
   "metadata": {},
   "source": [
    "### (7) A = $\n",
    "\\left(\n",
    "\\begin{matrix}\n",
    "1 &  2+3i  \\\\\n",
    "2-3i  & -1 \\\\\n",
    "\\end{matrix}\n",
    "\\right)$"
   ]
  },
  {
   "cell_type": "code",
   "execution_count": 54,
   "metadata": {},
   "outputs": [
    {
     "data": {
      "image/png": "[encoded data removed]",
      "text/latex": [
       "$\\displaystyle \\left[\\begin{matrix}1 & 2 + 3 i\\\\2 - 3 i & -1\\end{matrix}\\right]$"
      ],
      "text/plain": [
       "⎡   1     2 + 3⋅ⅈ⎤\n",
       "⎢                ⎥\n",
       "⎣2 - 3⋅ⅈ    -1   ⎦"
      ]
     },
     "execution_count": 54,
     "metadata": {},
     "output_type": "execute_result"
    }
   ],
   "source": [
    "A7=Matrix([(1, 2+3*I),(2-3*I, -1)])\n",
    "A7"
   ]
  },
  {
   "cell_type": "markdown",
   "metadata": {},
   "source": [
    "### Es unitaria si $\\bar{A}^T$= $A^{-1}$"
   ]
  },
  {
   "cell_type": "code",
   "execution_count": 55,
   "metadata": {},
   "outputs": [
    {
     "data": {
      "image/png": "[encoded data removed]",
      "text/latex": [
       "$\\displaystyle \\left[\\begin{matrix}1 & 2 + 3 i\\\\2 - 3 i & -1\\end{matrix}\\right]$"
      ],
      "text/plain": [
       "⎡   1     2 + 3⋅ⅈ⎤\n",
       "⎢                ⎥\n",
       "⎣2 - 3⋅ⅈ    -1   ⎦"
      ]
     },
     "metadata": {},
     "output_type": "display_data"
    },
    {
     "data": {
      "image/png": "[encoded data removed]",
      "text/latex": [
       "$\\displaystyle \\left[\\begin{matrix}\\frac{1}{14} & \\frac{1}{7} + \\frac{3 i}{14}\\\\\\frac{1}{7} - \\frac{3 i}{14} & - \\frac{1}{14}\\end{matrix}\\right]$"
      ],
      "text/plain": [
       "⎡         1   3⋅ⅈ⎤\n",
       "⎢ 1/14    ─ + ───⎥\n",
       "⎢         7    14⎥\n",
       "⎢                ⎥\n",
       "⎢1   3⋅ⅈ         ⎥\n",
       "⎢─ - ───   -1/14 ⎥\n",
       "⎣7    14         ⎦"
      ]
     },
     "metadata": {},
     "output_type": "display_data"
    }
   ],
   "source": [
    "display((conjugate(A7)).T) # Matriz Traspuesta conjugada\n",
    "display(A7.inv()) # Matriz inversa"
   ]
  },
  {
   "cell_type": "markdown",
   "metadata": {},
   "source": [
    "#### Como $\\bar{A}^T\\neq A^{-1}$  podemos afirmar que A no es unitaria."
   ]
  },
  {
   "cell_type": "code",
   "execution_count": null,
   "metadata": {},
   "outputs": [],
   "source": []
  },
  {
   "cell_type": "markdown",
   "metadata": {},
   "source": [
    "### Es hermitiana si $\\bar{A}^T$= A "
   ]
  },
  {
   "cell_type": "code",
   "execution_count": 56,
   "metadata": {},
   "outputs": [
    {
     "data": {
      "image/png": "[encoded data removed]",
      "text/latex": [
       "$\\displaystyle \\left[\\begin{matrix}1 & 2 + 3 i\\\\2 - 3 i & -1\\end{matrix}\\right]$"
      ],
      "text/plain": [
       "⎡   1     2 + 3⋅ⅈ⎤\n",
       "⎢                ⎥\n",
       "⎣2 - 3⋅ⅈ    -1   ⎦"
      ]
     },
     "metadata": {},
     "output_type": "display_data"
    },
    {
     "data": {
      "image/png": "[encoded data removed]",
      "text/latex": [
       "$\\displaystyle \\left[\\begin{matrix}1 & 2 + 3 i\\\\2 - 3 i & -1\\end{matrix}\\right]$"
      ],
      "text/plain": [
       "⎡   1     2 + 3⋅ⅈ⎤\n",
       "⎢                ⎥\n",
       "⎣2 - 3⋅ⅈ    -1   ⎦"
      ]
     },
     "metadata": {},
     "output_type": "display_data"
    }
   ],
   "source": [
    "display(A7)\n",
    "display((conjugate(A7)).T) # Matriz Traspuesta conjugada"
   ]
  },
  {
   "cell_type": "markdown",
   "metadata": {},
   "source": [
    "#### Como $\\bar{A}^T$=$A$  podemos afirmar que A  es hermitiana."
   ]
  },
  {
   "cell_type": "code",
   "execution_count": null,
   "metadata": {},
   "outputs": [],
   "source": []
  },
  {
   "cell_type": "markdown",
   "metadata": {},
   "source": [
    "### Es normal si $A\\bar{A}^T$=$\\bar{A}^T A$"
   ]
  },
  {
   "cell_type": "code",
   "execution_count": 57,
   "metadata": {},
   "outputs": [
    {
     "data": {
      "image/png": "[encoded data removed]",
      "text/latex": [
       "$\\displaystyle \\left[\\begin{matrix}1 + \\left(2 - 3 i\\right) \\left(2 + 3 i\\right) & 0\\\\0 & 1 + \\left(2 - 3 i\\right) \\left(2 + 3 i\\right)\\end{matrix}\\right]$"
      ],
      "text/plain": [
       "⎡1 + (2 - 3⋅ⅈ)⋅(2 + 3⋅ⅈ)             0           ⎤\n",
       "⎢                                                ⎥\n",
       "⎣           0             1 + (2 - 3⋅ⅈ)⋅(2 + 3⋅ⅈ)⎦"
      ]
     },
     "metadata": {},
     "output_type": "display_data"
    },
    {
     "data": {
      "image/png": "[encoded data removed]",
      "text/latex": [
       "$\\displaystyle \\left[\\begin{matrix}1 + \\left(2 - 3 i\\right) \\left(2 + 3 i\\right) & 0\\\\0 & 1 + \\left(2 - 3 i\\right) \\left(2 + 3 i\\right)\\end{matrix}\\right]$"
      ],
      "text/plain": [
       "⎡1 + (2 - 3⋅ⅈ)⋅(2 + 3⋅ⅈ)             0           ⎤\n",
       "⎢                                                ⎥\n",
       "⎣           0             1 + (2 - 3⋅ⅈ)⋅(2 + 3⋅ⅈ)⎦"
      ]
     },
     "metadata": {},
     "output_type": "display_data"
    }
   ],
   "source": [
    "display(A7*((conjugate(A7)).T))\n",
    "display(((conjugate(A7)).T)*A7)"
   ]
  },
  {
   "cell_type": "markdown",
   "metadata": {},
   "source": [
    "#### Como  $A\\bar{A}^T$=$\\bar{A}^T A$ se cumple podemos podemos afirmar que A es normal"
   ]
  },
  {
   "cell_type": "markdown",
   "metadata": {},
   "source": [
    "### Autovalores y Autovectores."
   ]
  },
  {
   "cell_type": "code",
   "execution_count": 177,
   "metadata": {},
   "outputs": [],
   "source": [
    "A7 = np.array([[1.+0.j,2.+3.j],[2.-3.j,-1.+0.j]])"
   ]
  },
  {
   "cell_type": "code",
   "execution_count": 178,
   "metadata": {},
   "outputs": [
    {
     "data": {
      "text/plain": [
       "(array([ 3.74165739+0.j, -3.74165739+0.j]),\n",
       " array([[ 0.79600918+0.j        , -0.33575146-0.50362718j],\n",
       "        [ 0.33575146-0.50362718j,  0.79600918+0.j        ]]))"
      ]
     },
     "execution_count": 178,
     "metadata": {},
     "output_type": "execute_result"
    }
   ],
   "source": [
    "import numpy.linalg as linalg\n",
    "eigenValues, eigenVectors7 = linalg.eig(A7)\n",
    "eigenValues, eigenVectors7"
   ]
  },
  {
   "cell_type": "code",
   "execution_count": 179,
   "metadata": {},
   "outputs": [
    {
     "data": {
      "text/plain": [
       "(array([ 3.7+0.j, -3.7+0.j]),\n",
       " array([[ 0.8+0.j , -0.3-0.5j],\n",
       "        [ 0.3-0.5j,  0.8+0.j ]]))"
      ]
     },
     "execution_count": 179,
     "metadata": {},
     "output_type": "execute_result"
    }
   ],
   "source": [
    "np.round(eigenValues,1), np.round(eigenVectors7,1)"
   ]
  },
  {
   "cell_type": "markdown",
   "metadata": {},
   "source": [
    "### Es diagonalizable si existe una matriz invertible $P$"
   ]
  },
  {
   "cell_type": "markdown",
   "metadata": {},
   "source": [
    "Formamos la matriz $P$ con los eigenvectores como columnas y esta matriz es no-singular."
   ]
  },
  {
   "cell_type": "code",
   "execution_count": 180,
   "metadata": {},
   "outputs": [
    {
     "data": {
      "text/plain": [
       "array([[ 0.79600918+0.j        ,  0.33575146-0.50362718j],\n",
       "       [-0.33575146-0.50362718j,  0.79600918+0.j        ]])"
      ]
     },
     "metadata": {},
     "output_type": "display_data"
    },
    {
     "data": {
      "text/plain": [
       "(1+5.551115123125783e-17j)"
      ]
     },
     "metadata": {},
     "output_type": "display_data"
    }
   ],
   "source": [
    "P7 = eigenVectors7.transpose()\n",
    "display(P7)\n",
    "display(np.linalg.det(P7))"
   ]
  },
  {
   "cell_type": "markdown",
   "metadata": {},
   "source": [
    "A7 es diagonalizable"
   ]
  },
  {
   "cell_type": "code",
   "execution_count": 181,
   "metadata": {},
   "outputs": [
    {
     "data": {
      "text/plain": [
       "array([[-1.1-0.j,  2. +3.j],\n",
       "       [ 2. -3.j,  1.1+0.j]])"
      ]
     },
     "metadata": {},
     "output_type": "display_data"
    }
   ],
   "source": [
    "P7_inv = np.linalg.inv(P7)\n",
    "D7 = np.round(np.matmul(np.matmul(P7,A7),P7_inv),1)\n",
    "display(D7)"
   ]
  },
  {
   "cell_type": "markdown",
   "metadata": {},
   "source": [
    "La matriz resultante no es diagonal por insuficiencia de operaciones con numeros complejos."
   ]
  },
  {
   "cell_type": "markdown",
   "metadata": {},
   "source": [
    "## Nota"
   ]
  },
  {
   "cell_type": "markdown",
   "metadata": {},
   "source": [
    "En algunos de los procesos de diagonalización, se me han presentado problemas al trabajar con numeros complejos, desconozco si se trata de insificiencia de operaciones en $\\mathbb{C}$ por parte del software, o al desconocimiento por mi parte de un proceso diferente de diagonalización para matrices con valores complejos, no obstante, procederé a realizar dichos ejercicios a lapiz y papel cuanto antes.\n",
    "\n",
    "Daniel Vijil."
   ]
  },
  {
   "cell_type": "code",
   "execution_count": null,
   "metadata": {},
   "outputs": [],
   "source": []
  }
 ],
 "metadata": {
  "kernelspec": {
   "display_name": "Python 3",
   "language": "python",
   "name": "python3"
  },
  "language_info": {
   "codemirror_mode": {
    "name": "ipython",
    "version": 3
   },
   "file_extension": ".py",
   "mimetype": "text/x-python",
   "name": "python",
   "nbconvert_exporter": "python",
   "pygments_lexer": "ipython3",
   "version": "3.8.5"
  }
 },
 "nbformat": 4,
 "nbformat_minor": 4
}

{
 "cells": [
  {
   "cell_type": "markdown",
   "id": "interstate-hawaii",
   "metadata": {},
   "source": [
    "# Problemas y ejercicios2 "
   ]
  },
  {
   "cell_type": "markdown",
   "id": "preliminary-logistics",
   "metadata": {},
   "source": [
    "1.- Determinar el valor de $x$ para que el vector $(1, x, 5) ∈ \\mathbb{R}^{3} $ pertenezca al subespacio $ <(1, 2, 3), (1, 1, 1) > $."
   ]
  },
  {
   "cell_type": "markdown",
   "id": "critical-sleep",
   "metadata": {},
   "source": [
    "### Solución:"
   ]
  },
  {
   "cell_type": "markdown",
   "id": "baking-element",
   "metadata": {},
   "source": [
    "Para que el vector $(1,x,5)$ pertenezca a dicho subespacio vectorial, este deberá ser representado como una combinación lineal de los vectores que componen la base del subespacio vectorial, así:"
   ]
  },
  {
   "cell_type": "markdown",
   "id": "illegal-senator",
   "metadata": {},
   "source": [
    "$(1,x,5) = \\alpha (1,2,3) + \\beta (1,1,1) $"
   ]
  },
  {
   "cell_type": "markdown",
   "id": "rural-partner",
   "metadata": {},
   "source": [
    "Si y solo si existen $\\alpha, \\beta \\in \\mathbb{C} $ tales que dicha condición se cumple."
   ]
  },
  {
   "cell_type": "markdown",
   "id": "compound-roman",
   "metadata": {},
   "source": [
    "Por lo tanto:\n",
    "$$ 1 = \\alpha + \\beta $$\n",
    "$$ x = 2\\alpha + \\beta $$\n",
    "$$ 5 = 3\\alpha + \\beta $$"
   ]
  },
  {
   "cell_type": "markdown",
   "id": "prime-implement",
   "metadata": {},
   "source": [
    "Utilizamos la herramienta python para solucionar el sistema de 3 ecuaciones y 3 incognitas:"
   ]
  },
  {
   "cell_type": "code",
   "execution_count": 5,
   "id": "parliamentary-partition",
   "metadata": {},
   "outputs": [],
   "source": [
    "import numpy as np"
   ]
  },
  {
   "cell_type": "code",
   "execution_count": 14,
   "id": "brown-plasma",
   "metadata": {},
   "outputs": [
    {
     "name": "stdout",
     "output_type": "stream",
     "text": [
      "[ 2. -1.  3.]\n",
      " \n",
      "El valor de x que satisface dicha ecuación es: 3\n"
     ]
    }
   ],
   "source": [
    "A = np.array([[1,1,0],[2,1,-1],[3,1,0]])\n",
    "b = np.array([1,0,5])\n",
    "x = np.linalg.solve(A, b)\n",
    "\n",
    "print(x)\n",
    "print(' ')\n",
    "print('El valor de x que satisface dicha ecuación es:', int(x[2]) )"
   ]
  },
  {
   "cell_type": "markdown",
   "id": "narrow-priority",
   "metadata": {},
   "source": [
    "Como resultado, obtuvimos que $\\alpha = 2,$ $ \\beta = -1$ y finalmente $x = 3$.\n",
    "Por lo tanto, el vector $(1,3,5)$ es un elemento del subespacio vectorial $ <(1, 2, 3), (1, 1, 1) > $"
   ]
  },
  {
   "cell_type": "code",
   "execution_count": null,
   "id": "advanced-mission",
   "metadata": {},
   "outputs": [],
   "source": []
  }
 ],
 "metadata": {
  "kernelspec": {
   "display_name": "Python 3",
   "language": "python",
   "name": "python3"
  },
  "language_info": {
   "codemirror_mode": {
    "name": "ipython",
    "version": 3
   },
   "file_extension": ".py",
   "mimetype": "text/x-python",
   "name": "python",
   "nbconvert_exporter": "python",
   "pygments_lexer": "ipython3",
   "version": "3.9.1"
  }
 },
 "nbformat": 4,
 "nbformat_minor": 5
}

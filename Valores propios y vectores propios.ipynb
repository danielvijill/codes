{
 "cells": [
  {
   "cell_type": "markdown",
   "metadata": {},
   "source": [
    "Ejercicio Sobre Valores propios y vectores propios"
   ]
  },
  {
   "cell_type": "code",
   "execution_count": 1,
   "metadata": {},
   "outputs": [],
   "source": [
    "from sympy import init_printing\n",
    "init_printing(use_latex=True)\n",
    "from sympy.physics.quantum import Dagger\n",
    "from sympy import *\n",
    "import numpy as np"
   ]
  },
  {
   "cell_type": "markdown",
   "metadata": {},
   "source": [
    "DEFINICION DE LA MATRIZ"
   ]
  },
  {
   "cell_type": "code",
   "execution_count": 2,
   "metadata": {},
   "outputs": [],
   "source": [
    "A=np.array([[4,-3,5],[-3,2,1],[5,1,-6]])"
   ]
  },
  {
   "cell_type": "markdown",
   "metadata": {},
   "source": [
    "# Calculo de valores y vectores propios con la libreria Numpy#"
   ]
  },
  {
   "cell_type": "code",
   "execution_count": 3,
   "metadata": {},
   "outputs": [
    {
     "data": {
      "text/plain": [
       "(array([-8.49593222,  7.22527225,  1.27065997]),\n",
       " array([[ 0.40509898,  0.85294674,  0.32920613],\n",
       "        [ 0.2007686 , -0.43427565,  0.87812108],\n",
       "        [-0.89195672,  0.2896317 ,  0.34716955]]))"
      ]
     },
     "execution_count": 3,
     "metadata": {},
     "output_type": "execute_result"
    }
   ],
   "source": [
    "import numpy.linalg as linalg\n",
    "eigenValues, eigenVectors = linalg.eig(A)\n",
    "eigenValues, eigenVectors"
   ]
  },
  {
   "cell_type": "markdown",
   "metadata": {},
   "source": [
    "Ahora se presentan los datos redondeados"
   ]
  },
  {
   "cell_type": "code",
   "execution_count": 4,
   "metadata": {},
   "outputs": [
    {
     "data": {
      "text/plain": [
       "(array([-8.5,  7.2,  1.3]),\n",
       " array([[ 0.4,  0.9,  0.3],\n",
       "        [ 0.2, -0.4,  0.9],\n",
       "        [-0.9,  0.3,  0.3]]))"
      ]
     },
     "execution_count": 4,
     "metadata": {},
     "output_type": "execute_result"
    }
   ],
   "source": [
    "np.round(eigenValues,1), np.round(eigenVectors,1)"
   ]
  },
  {
   "cell_type": "code",
   "execution_count": 16,
   "metadata": {},
   "outputs": [
    {
     "data": {
      "text/plain": [
       "array([[ 0.40509898,  0.2007686 , -0.89195672],\n",
       "       [ 0.85294674, -0.43427565,  0.2896317 ],\n",
       "       [ 0.32920613,  0.87812108,  0.34716955]])"
      ]
     },
     "metadata": {},
     "output_type": "display_data"
    },
    {
     "data": {
      "text/plain": [
       "array([[ 0.40509898,  0.85294674,  0.32920613],\n",
       "       [ 0.2007686 , -0.43427565,  0.87812108],\n",
       "       [-0.89195672,  0.2896317 ,  0.34716955]])"
      ]
     },
     "metadata": {},
     "output_type": "display_data"
    },
    {
     "data": {
      "text/plain": [
       "array([[-8.5, -0. , -0. ],\n",
       "       [ 0. ,  7.2,  0. ],\n",
       "       [-0. , -0. ,  1.3]])"
      ]
     },
     "metadata": {},
     "output_type": "display_data"
    }
   ],
   "source": [
    "P = eigenVectors.transpose()\n",
    "P_inv = np.linalg.inv(P)\n",
    "display(P)\n",
    "display(P_inv)\n",
    "D = np.round(np.matmul(np.matmul(P,A),P_inv),1)\n",
    "display(D)"
   ]
  },
  {
   "cell_type": "code",
   "execution_count": null,
   "metadata": {},
   "outputs": [],
   "source": [
    "\n"
   ]
  },
  {
   "cell_type": "code",
   "execution_count": null,
   "metadata": {},
   "outputs": [],
   "source": []
  }
 ],
 "metadata": {
  "kernelspec": {
   "display_name": "Python 3",
   "language": "python",
   "name": "python3"
  },
  "language_info": {
   "codemirror_mode": {
    "name": "ipython",
    "version": 3
   },
   "file_extension": ".py",
   "mimetype": "text/x-python",
   "name": "python",
   "nbconvert_exporter": "python",
   "pygments_lexer": "ipython3",
   "version": "3.9.2"
  }
 },
 "nbformat": 4,
 "nbformat_minor": 4
}

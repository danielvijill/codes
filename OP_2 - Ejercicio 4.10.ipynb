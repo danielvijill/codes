{
 "cells": [
  {
   "cell_type": "markdown",
   "metadata": {},
   "source": [
    "## Ejercicio 4.10\n",
    "\n",
    "Show that $(U+T)(U-T)=U^2 - T^2$ if and only if $[U,T]=0$\n",
    "\n",
    "##### Solución\n",
    "Se define el conmutador de $A$ y $B$ como $$[A,B]=AB-BA$$\n",
    "\n",
    "Desarrollando el producto, tenemos que $(U+T)(U-T)=U^2-UT+TU-T^2$\n",
    "\n",
    "Si $[U,T]=0$ entonces $$[U,T]=UT-TU=0$$ y $$UT=TU$$ y decimos que $U$ y $T$ **conmutan**.\n",
    "\n",
    "Por lo que $$(U+T)(U-T)=U^2-UT+TU-T^2$$  $$(U+T)(U-T)=U^2-UT+UT-T^2$$ $$(U+T)(U-T)=U^2-T^2$$\n",
    "Si y solo si $U$ y $T$ conmutan, es decir, si $[U,T]=0$."
   ]
  },
  {
   "cell_type": "code",
   "execution_count": null,
   "metadata": {},
   "outputs": [],
   "source": []
  }
 ],
 "metadata": {
  "kernelspec": {
   "display_name": "Python 3",
   "language": "python",
   "name": "python3"
  },
  "language_info": {
   "codemirror_mode": {
    "name": "ipython",
    "version": 3
   },
   "file_extension": ".py",
   "mimetype": "text/x-python",
   "name": "python",
   "nbconvert_exporter": "python",
   "pygments_lexer": "ipython3",
   "version": "3.9.2"
  }
 },
 "nbformat": 4,
 "nbformat_minor": 4
}

{
 "cells": [
  {
   "cell_type": "markdown",
   "metadata": {},
   "source": [
    "# GRUPO  C\n",
    "\n",
    "## Ejercicio 5.43\n",
    "\n",
    "Encuentre la traza de cada uno de los siguientes operadores lineales\n",
    "\n",
    " $T$: $R^3$ $\\Rightarrow$ $R^3$ \n",
    " \n",
    " $ T(x,y,z)=(x+y-z,  2x+3y-2z,  x-y) $\n",
    " "
   ]
  },
  {
   "cell_type": "code",
   "execution_count": 1,
   "metadata": {},
   "outputs": [],
   "source": [
    "import sympy as sp\n",
    "import numpy as np\n",
    "from sympy import init_printing\n",
    "init_printing(use_latex=True)\n",
    "from sympy import *"
   ]
  },
  {
   "cell_type": "code",
   "execution_count": 2,
   "metadata": {},
   "outputs": [
    {
     "data": {
      "image/png": "[encoded data removed]",
      "text/latex": [
       "$\\displaystyle \\left[\\begin{matrix}1 & 1 & -1\\\\2 & 3 & -2\\\\1 & -1 & 0\\end{matrix}\\right]$"
      ],
      "text/plain": [
       "⎡1  1   -1⎤\n",
       "⎢         ⎥\n",
       "⎢2  3   -2⎥\n",
       "⎢         ⎥\n",
       "⎣1  -1  0 ⎦"
      ]
     },
     "execution_count": 2,
     "metadata": {},
     "output_type": "execute_result"
    }
   ],
   "source": [
    "A=Matrix([(1, 1, -1),(2,3,-2),(1,-1,0)])\n",
    "A"
   ]
  },
  {
   "cell_type": "code",
   "execution_count": 3,
   "metadata": {},
   "outputs": [
    {
     "data": {
      "image/png": "[encoded data removed]",
      "text/latex": [
       "$\\displaystyle 4$"
      ],
      "text/plain": [
       "4"
      ]
     },
     "execution_count": 3,
     "metadata": {},
     "output_type": "execute_result"
    }
   ],
   "source": [
    "np.trace(A)"
   ]
  },
  {
   "cell_type": "code",
   "execution_count": null,
   "metadata": {},
   "outputs": [],
   "source": []
  },
  {
   "cell_type": "markdown",
   "metadata": {},
   "source": [
    "$T$: $R^3$ $\\Rightarrow$ $R^3$ \n",
    " \n",
    " $ T(x,y,z)=(y-z,  x+2y+z,  z-y) $"
   ]
  },
  {
   "cell_type": "code",
   "execution_count": 4,
   "metadata": {},
   "outputs": [
    {
     "data": {
      "image/png": "[encoded data removed]",
      "text/latex": [
       "$\\displaystyle \\left[\\begin{matrix}0 & 1 & -1\\\\0 & 2 & 1\\\\0 & -1 & 1\\end{matrix}\\right]$"
      ],
      "text/plain": [
       "⎡0  1   -1⎤\n",
       "⎢         ⎥\n",
       "⎢0  2   1 ⎥\n",
       "⎢         ⎥\n",
       "⎣0  -1  1 ⎦"
      ]
     },
     "execution_count": 4,
     "metadata": {},
     "output_type": "execute_result"
    }
   ],
   "source": [
    "B=Matrix([(0,1,-1),(0,2,1),(0,-1,1)])\n",
    "B"
   ]
  },
  {
   "cell_type": "code",
   "execution_count": 51,
   "metadata": {},
   "outputs": [
    {
     "data": {
      "image/png": "[encoded data removed]",
      "text/latex": [
       "$\\displaystyle 3$"
      ],
      "text/plain": [
       "3"
      ]
     },
     "execution_count": 51,
     "metadata": {},
     "output_type": "execute_result"
    }
   ],
   "source": [
    "np.trace(B)"
   ]
  },
  {
   "cell_type": "code",
   "execution_count": null,
   "metadata": {},
   "outputs": [],
   "source": []
  },
  {
   "cell_type": "markdown",
   "metadata": {},
   "source": [
    "$T$: $C^4$ $\\Rightarrow$ $C^3$ \n",
    " \n",
    " $ T(x,y,z,w)=(x+iy-z+iw,  2ix+3y-2iz-w,  x-iy, z+iw) $"
   ]
  },
  {
   "cell_type": "code",
   "execution_count": 5,
   "metadata": {},
   "outputs": [
    {
     "data": {
      "image/png": "[encoded data removed]",
      "text/latex": [
       "$\\displaystyle \\left[\\begin{matrix}1 & i & -1 & i\\\\2 i & 3 & -2 & -1\\\\1 & - i & 0 & 0\\\\0 & 0 & 1 & i\\end{matrix}\\right]$"
      ],
      "text/plain": [
       "⎡ 1   ⅈ   -1  ⅈ ⎤\n",
       "⎢               ⎥\n",
       "⎢2⋅ⅈ  3   -2  -1⎥\n",
       "⎢               ⎥\n",
       "⎢ 1   -ⅈ  0   0 ⎥\n",
       "⎢               ⎥\n",
       "⎣ 0   0   1   ⅈ ⎦"
      ]
     },
     "execution_count": 5,
     "metadata": {},
     "output_type": "execute_result"
    }
   ],
   "source": [
    "C = Matrix([[1,1*I,-1,1*I],[2*I,3,-2,-1],[1,-1*I,0,0],[0,0,1,1*I]])\n",
    "C"
   ]
  },
  {
   "cell_type": "code",
   "execution_count": 6,
   "metadata": {},
   "outputs": [
    {
     "data": {
      "image/png": "[encoded data removed]",
      "text/latex": [
       "$\\displaystyle 4 + i$"
      ],
      "text/plain": [
       "4 + ⅈ"
      ]
     },
     "execution_count": 6,
     "metadata": {},
     "output_type": "execute_result"
    }
   ],
   "source": [
    "np.trace(C)"
   ]
  },
  {
   "cell_type": "code",
   "execution_count": null,
   "metadata": {},
   "outputs": [],
   "source": []
  },
  {
   "cell_type": "markdown",
   "metadata": {},
   "source": [
    "## Ejercicio 5.13\n",
    "\n",
    "Encuentre la matriz de transformación $R$ que relaciona la base estándar (ortonormal) de $C^3$ con la base ortonormal obtenida de los siguientes vectores mediante el proceso de Gram-Schmidt:\n",
    "\n",
    "$$|u_1\\rangle =\n",
    "\\left(\n",
    "\\begin{matrix}\n",
    "1 \\\\\n",
    "i \\\\\n",
    "0\n",
    "\\end{matrix}\n",
    "\\right),\n",
    "\\ \\ \\ \\ \\ \\ \\ \\ \n",
    " |u_2\\rangle =\n",
    "\\left(\n",
    "\\begin{matrix}\n",
    "0 \\\\\n",
    "1 \\\\\n",
    "-i\n",
    "\\end{matrix}\n",
    "\\right),\n",
    "\\ \\ \\ \\ \\ \\ \\ \\\n",
    "|u_3\\rangle =\n",
    "\\left(\n",
    "\\begin{matrix}\n",
    "i \\\\\n",
    "0 \\\\\n",
    "-1\n",
    "\\end{matrix}\n",
    "\\right)\n",
    "$$\n"
   ]
  },
  {
   "cell_type": "code",
   "execution_count": 47,
   "metadata": {},
   "outputs": [],
   "source": [
    "import numpy as np"
   ]
  },
  {
   "cell_type": "code",
   "execution_count": 48,
   "metadata": {},
   "outputs": [
    {
     "data": {
      "image/png": "[encoded data removed]",
      "text/latex": [
       "$\\displaystyle \\left[\\begin{matrix}1 & 0 & i\\\\i & 1 & 0\\\\0 & - i & -1\\end{matrix}\\right]$"
      ],
      "text/plain": [
       "⎡1  0   ⅈ ⎤\n",
       "⎢         ⎥\n",
       "⎢ⅈ  1   0 ⎥\n",
       "⎢         ⎥\n",
       "⎣0  -ⅈ  -1⎦"
      ]
     },
     "execution_count": 48,
     "metadata": {},
     "output_type": "execute_result"
    }
   ],
   "source": [
    "a = Matrix([[1,0,1*I],[1*I,1,0],[0,-1*I,-1]])\n",
    "a"
   ]
  },
  {
   "cell_type": "code",
   "execution_count": 51,
   "metadata": {},
   "outputs": [
    {
     "data": {
      "image/png": "[encoded data removed]",
      "text/latex": [
       "$\\displaystyle \\left[\\begin{matrix}0.5 + 0.5 i & -0.5 - 0.5 i & -0.5 + 0.5 i\\\\0.5 - 0.5 i & 0.5 + 0.5 i & 0.5 + 0.5 i\\\\-0.5 - 0.5 i & 0.5 - 0.5 i & -0.5 - 0.5 i\\end{matrix}\\right]$"
      ],
      "text/plain": [
       "⎡0.5 + 0.5⋅ⅈ   -0.5 - 0.5⋅ⅈ  -0.5 + 0.5⋅ⅈ⎤\n",
       "⎢                                        ⎥\n",
       "⎢0.5 - 0.5⋅ⅈ   0.5 + 0.5⋅ⅈ   0.5 + 0.5⋅ⅈ ⎥\n",
       "⎢                                        ⎥\n",
       "⎣-0.5 - 0.5⋅ⅈ  0.5 - 0.5⋅ⅈ   -0.5 - 0.5⋅ⅈ⎦"
      ]
     },
     "execution_count": 51,
     "metadata": {},
     "output_type": "execute_result"
    }
   ],
   "source": [
    "#matriz inverza\n",
    "In = Matrix([[0.5+0.5*I,-0.5-0.5*I,-0.5+0.5*I],[0.5-0.5*I,0.5+0.5*I,0.5+0.5*I],[-0.5-0.5*I,0.5-0.5*I,-0.5-0.5*I]])\n",
    "In"
   ]
  },
  {
   "cell_type": "code",
   "execution_count": 49,
   "metadata": {},
   "outputs": [
    {
     "data": {
      "image/png": "[encoded data removed]",
      "text/latex": [
       "$\\displaystyle \\left[\\begin{matrix}1 & 0 & 0\\\\0 & 1 & 0\\\\0 & 0 & -1\\end{matrix}\\right]$"
      ],
      "text/plain": [
       "⎡1  0  0 ⎤\n",
       "⎢        ⎥\n",
       "⎢0  1  0 ⎥\n",
       "⎢        ⎥\n",
       "⎣0  0  -1⎦"
      ]
     },
     "execution_count": 49,
     "metadata": {},
     "output_type": "execute_result"
    }
   ],
   "source": [
    "#Matriz encontrada\n",
    "b = Matrix([[1,0,0],[0,1,0],[0,0,-1]]) \n",
    "b"
   ]
  },
  {
   "cell_type": "markdown",
   "metadata": {},
   "source": [
    "$$  A =\n",
    "\\left(\n",
    "\\begin{matrix}\n",
    "1 & 0 & 1*I \\\\\n",
    "1*I & 1 & 0 \\\\\n",
    "0 & -1*I & -1\n",
    "\\end{matrix}\n",
    "\\right)\n",
    " \\ \\ \\ \n",
    "\\left(\n",
    "\\begin{matrix}\n",
    "1 & 0 & 0 \\\\\n",
    "0 & 1 & 0 \\\\\n",
    "0 & 0 & -1\n",
    "\\end{matrix}\n",
    "\\right)\n",
    "\\ \\ \\ \n",
    "\\left(\n",
    "\\begin{matrix}\n",
    "0.5+0.5*I & -0.5-0.5*I & -0.5+0.5*I \\\\\n",
    "0.5-0.5*I & 0.5+0.5*I & 0.5+0.5*I \\\\\n",
    "-0.5-0.5*I & 0.5-0.5*I & -0.5-0.5*I\n",
    "\\end{matrix}\n",
    "\\right)\n",
    "$$\n"
   ]
  },
  {
   "cell_type": "markdown",
   "metadata": {},
   "source": [
    "$$  A =\n",
    "\\left(\n",
    "\\begin{matrix}\n",
    "1 & 0 & -1*I \\\\\n",
    "1*I & 1 & 0 \\\\\n",
    "0 & -1*I & 1\n",
    "\\end{matrix}\n",
    "\\right)\n",
    " \\ \\ \\ \n",
    "\\left(\n",
    "\\begin{matrix}\n",
    "0.5+0.5*I & -0.5-0.5*I & -0.5+0.5*I \\\\\n",
    "0.5-0.5*I & 0.5+0.5*I & 0.5+0.5*I \\\\\n",
    "-0.5-0.5*I & 0.5-0.5*I & -0.5-0.5*I\n",
    "\\end{matrix}\n",
    "\\right) =\n",
    "\\ \\ \\ \n",
    "\\left(\n",
    "\\begin{matrix}\n",
    "1*I & -1-1*I & -1+1*I \\\\\n",
    "0 & 1 & 0 \\\\\n",
    "-1-1*I & 1-1*I & -1*I\n",
    "\\end{matrix}\n",
    "\\right)\n",
    "$$"
   ]
  },
  {
   "cell_type": "markdown",
   "metadata": {},
   "source": [
    "## Comprobación"
   ]
  },
  {
   "cell_type": "code",
   "execution_count": 53,
   "metadata": {},
   "outputs": [],
   "source": [
    "import numpy as np"
   ]
  },
  {
   "cell_type": "code",
   "execution_count": 63,
   "metadata": {},
   "outputs": [
    {
     "data": {
      "image/png": "[encoded data removed]",
      "text/latex": [
       "$\\displaystyle \\left[\\begin{matrix}1 & 0 & i\\\\i & 1 & 0\\\\0 & - i & -1\\end{matrix}\\right]$"
      ],
      "text/plain": [
       "⎡1  0   ⅈ ⎤\n",
       "⎢         ⎥\n",
       "⎢ⅈ  1   0 ⎥\n",
       "⎢         ⎥\n",
       "⎣0  -ⅈ  -1⎦"
      ]
     },
     "execution_count": 63,
     "metadata": {},
     "output_type": "execute_result"
    }
   ],
   "source": [
    "#Traza de la matriz original\n",
    "A = Matrix([[1,0,1*I],[1*I,1,0],[0,-1*I,-1]])\n",
    "A"
   ]
  },
  {
   "cell_type": "code",
   "execution_count": 33,
   "metadata": {},
   "outputs": [
    {
     "data": {
      "image/png": "[encoded data removed]",
      "text/latex": [
       "$\\displaystyle 1$"
      ],
      "text/plain": [
       "1"
      ]
     },
     "execution_count": 33,
     "metadata": {},
     "output_type": "execute_result"
    }
   ],
   "source": [
    "np.trace(A)"
   ]
  },
  {
   "cell_type": "code",
   "execution_count": 55,
   "metadata": {},
   "outputs": [
    {
     "data": {
      "image/png": "[encoded data removed]",
      "text/latex": [
       "$\\displaystyle \\left[\\begin{matrix}i & -1 - i & -1 + i\\\\0 & 1 & 0\\\\-1 - i & 1 - i & - i\\end{matrix}\\right]$"
      ],
      "text/plain": [
       "⎡  ⅈ     -1 - ⅈ  -1 + ⅈ⎤\n",
       "⎢                      ⎥\n",
       "⎢  0       1       0   ⎥\n",
       "⎢                      ⎥\n",
       "⎣-1 - ⅈ  1 - ⅈ     -ⅈ  ⎦"
      ]
     },
     "execution_count": 55,
     "metadata": {},
     "output_type": "execute_result"
    }
   ],
   "source": [
    "#Traza de la matriz encontrada\n",
    "E = Matrix([[1*I,-1-1*I,-1+1*I ],[0,1,0],[-1-1*I,1-1*I,-1*I]])\n",
    "E"
   ]
  },
  {
   "cell_type": "code",
   "execution_count": 56,
   "metadata": {},
   "outputs": [
    {
     "data": {
      "image/png": "[encoded data removed]",
      "text/latex": [
       "$\\displaystyle 1$"
      ],
      "text/plain": [
       "1"
      ]
     },
     "execution_count": 56,
     "metadata": {},
     "output_type": "execute_result"
    }
   ],
   "source": [
    "np.trace(E)"
   ]
  },
  {
   "cell_type": "markdown",
   "metadata": {},
   "source": [
    "#### La traza de ambas matrices son iguales "
   ]
  },
  {
   "cell_type": "markdown",
   "metadata": {},
   "source": [
    "#### La matriz original multiplicada por su inversa seria igual a la matriz identidad \n",
    "$$ A =\n",
    "\\left(\n",
    "\\begin{matrix}\n",
    "1 & 0 & 1*I \\\\\n",
    "1*I & 1 & 0 \\\\\n",
    "0 & -1*I & -1\n",
    "\\end{matrix}\n",
    "\\right)\n",
    " \\ \\ \\ \n",
    "\\left(\n",
    "\\begin{matrix}\n",
    "0.5+0.5*I & -0.5-0.5*I & -0.5+0.5*I \\\\\n",
    "0.5-0.5*I & 0.5+0.5*I & 0.5+0.5*I \\\\\n",
    "-0.5-0.5*I & 0.5-0.5*I & -0.5-0.5*I\n",
    "\\end{matrix}\n",
    "\\right)=\n",
    "\\ \\ \\\n",
    "\\left(\n",
    "\\begin{matrix}\n",
    "1 & 0 & 0 \\\\\n",
    "0 & 1 & 0 \\\\\n",
    "0 & 0 & 1\n",
    "\\end{matrix}\n",
    "\\right)\n",
    "$$\n"
   ]
  },
  {
   "cell_type": "markdown",
   "metadata": {},
   "source": [
    "#### La matriz encontrada multiplicada por su inversa seria igual a la matriz identidad \n",
    "$$ A =\n",
    "\\left(\n",
    "\\begin{matrix}\n",
    "1*I & -1-1*I & -1+1*I \\\\\n",
    "0 & 1 & 0 \\\\\n",
    "-1-1*I & 1-1*I & -1*I\n",
    "\\end{matrix}\n",
    "\\right)\n",
    " \\ \\ \\ \n",
    " \\left(\n",
    "\\begin{matrix}\n",
    "1*I & -1-1*I & -1+1*I \\\\\n",
    "0 & 1 & 0 \\\\\n",
    "-1-1*I & 1-1*I & -1*I\n",
    "\\end{matrix}\n",
    "\\right)=\n",
    "\\ \\ \\\n",
    "\\left(\n",
    "\\begin{matrix}\n",
    "1 & 0 & 0 \\\\\n",
    "0 & 1 & 0 \\\\\n",
    "0 & 0 & 1\n",
    "\\end{matrix}\n",
    "\\right)\n",
    "$$\n"
   ]
  },
  {
   "cell_type": "code",
   "execution_count": null,
   "metadata": {},
   "outputs": [],
   "source": []
  },
  {
   "cell_type": "code",
   "execution_count": null,
   "metadata": {},
   "outputs": [],
   "source": []
  }
 ],
 "metadata": {
  "kernelspec": {
   "display_name": "Python 3",
   "language": "python",
   "name": "python3"
  },
  "language_info": {
   "codemirror_mode": {
    "name": "ipython",
    "version": 3
   },
   "file_extension": ".py",
   "mimetype": "text/x-python",
   "name": "python",
   "nbconvert_exporter": "python",
   "pygments_lexer": "ipython3",
   "version": "3.9.1"
  }
 },
 "nbformat": 4,
 "nbformat_minor": 4
}

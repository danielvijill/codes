{
 "cells": [
  {
   "cell_type": "code",
   "execution_count": 2,
   "id": "happy-healthcare",
   "metadata": {},
   "outputs": [],
   "source": [
    "from sympy import init_printing\n",
    "init_printing(use_latex=True)\n",
    "from sympy.physics.quantum import Dagger\n",
    "import sympy as sp\n",
    "from sympy import *\n",
    "from sympy.matrices import Matrix\n",
    "import numpy as np"
   ]
  },
  {
   "cell_type": "code",
   "execution_count": 3,
   "id": "approved-brook",
   "metadata": {},
   "outputs": [],
   "source": [
    "A = Matrix([[3,I,I],[-I,3,0],[-I,0,3]])"
   ]
  },
  {
   "cell_type": "code",
   "execution_count": 4,
   "id": "working-calculation",
   "metadata": {},
   "outputs": [
    {
     "data": {
      "text/plain": [
       "True"
      ]
     },
     "execution_count": 4,
     "metadata": {},
     "output_type": "execute_result"
    }
   ],
   "source": [
    "AA = A.adjoint()\n",
    "bool (A==AA)"
   ]
  },
  {
   "cell_type": "code",
   "execution_count": 5,
   "id": "bacterial-novelty",
   "metadata": {},
   "outputs": [
    {
     "data": {
      "image/png": "[encoded data removed]",
      "text/latex": [
       "$\\displaystyle \\left\\{ 3 : 1, \\  3 - \\sqrt{2} : 1, \\  \\sqrt{2} + 3 : 1\\right\\}$"
      ],
      "text/plain": [
       "{3: 1, 3 - √2: 1, √2 + 3: 1}"
      ]
     },
     "execution_count": 5,
     "metadata": {},
     "output_type": "execute_result"
    }
   ],
   "source": [
    "values = A.eigenvals(simplify= True)\n",
    "values"
   ]
  },
  {
   "cell_type": "code",
   "execution_count": 6,
   "id": "verified-values",
   "metadata": {},
   "outputs": [
    {
     "data": {
      "image/png": "[encoded data removed]",
      "text/latex": [
       "$\\displaystyle \\left[ \\left( 3, \\  1, \\  \\left[ \\left[\\begin{matrix}0\\\\-1\\\\1\\end{matrix}\\right]\\right]\\right), \\  \\left( 3 - \\sqrt{2}, \\  1, \\  \\left[ \\left[\\begin{matrix}- \\sqrt{2} i\\\\1\\\\1\\end{matrix}\\right]\\right]\\right), \\  \\left( \\sqrt{2} + 3, \\  1, \\  \\left[ \\left[\\begin{matrix}\\sqrt{2} i\\\\1\\\\1\\end{matrix}\\right]\\right]\\right)\\right]$"
      ],
      "text/plain": [
       "⎡⎛      ⎡⎡0 ⎤⎤⎞  ⎛           ⎡⎡-√2⋅ⅈ⎤⎤⎞  ⎛           ⎡⎡√2⋅ⅈ⎤⎤⎞⎤\n",
       "⎢⎜      ⎢⎢  ⎥⎥⎟  ⎜           ⎢⎢     ⎥⎥⎟  ⎜           ⎢⎢    ⎥⎥⎟⎥\n",
       "⎢⎜3, 1, ⎢⎢-1⎥⎥⎟, ⎜3 - √2, 1, ⎢⎢  1  ⎥⎥⎟, ⎜√2 + 3, 1, ⎢⎢ 1  ⎥⎥⎟⎥\n",
       "⎢⎜      ⎢⎢  ⎥⎥⎟  ⎜           ⎢⎢     ⎥⎥⎟  ⎜           ⎢⎢    ⎥⎥⎟⎥\n",
       "⎣⎝      ⎣⎣1 ⎦⎦⎠  ⎝           ⎣⎣  1  ⎦⎦⎠  ⎝           ⎣⎣ 1  ⎦⎦⎠⎦"
      ]
     },
     "execution_count": 6,
     "metadata": {},
     "output_type": "execute_result"
    }
   ],
   "source": [
    "vectors = A.eigenvects()\n",
    "vectors"
   ]
  },
  {
   "cell_type": "code",
   "execution_count": 7,
   "id": "nuclear-choice",
   "metadata": {},
   "outputs": [],
   "source": [
    "val1,_,vect1 = vectors[0]\n",
    "v1 = vect1[0]\n",
    "\n",
    "val2,_,vect2 = vectors[1]\n",
    "v2 = vect2[0]\n",
    "\n",
    "val3,_,vect3 = vectors[2]\n",
    "v3 = vect3[0]"
   ]
  },
  {
   "cell_type": "code",
   "execution_count": 8,
   "id": "legendary-assignment",
   "metadata": {},
   "outputs": [
    {
     "data": {
      "text/plain": [
       "sympy.matrices.dense.MutableDenseMatrix"
      ]
     },
     "execution_count": 8,
     "metadata": {},
     "output_type": "execute_result"
    }
   ],
   "source": [
    "type(v3)"
   ]
  },
  {
   "cell_type": "markdown",
   "id": "sixth-rally",
   "metadata": {},
   "source": [
    "Linnear independence?"
   ]
  },
  {
   "cell_type": "code",
   "execution_count": 11,
   "id": "african-compatibility",
   "metadata": {},
   "outputs": [
    {
     "data": {
      "image/png": "[encoded data removed]",
      "text/latex": [
       "$\\displaystyle 0$"
      ],
      "text/plain": [
       "0"
      ]
     },
     "execution_count": 11,
     "metadata": {},
     "output_type": "execute_result"
    }
   ],
   "source": [
    "v1.dot(v2)"
   ]
  },
  {
   "cell_type": "code",
   "execution_count": 12,
   "id": "expanded-victor",
   "metadata": {},
   "outputs": [
    {
     "data": {
      "image/png": "[encoded data removed]",
      "text/latex": [
       "$\\displaystyle 0$"
      ],
      "text/plain": [
       "0"
      ]
     },
     "execution_count": 12,
     "metadata": {},
     "output_type": "execute_result"
    }
   ],
   "source": [
    "v1.dot(v3)"
   ]
  },
  {
   "cell_type": "code",
   "execution_count": 13,
   "id": "collaborative-livestock",
   "metadata": {},
   "outputs": [
    {
     "data": {
      "image/png": "[encoded data removed]",
      "text/latex": [
       "$\\displaystyle 4$"
      ],
      "text/plain": [
       "4"
      ]
     },
     "execution_count": 13,
     "metadata": {},
     "output_type": "execute_result"
    }
   ],
   "source": [
    "v2.dot(v3)"
   ]
  },
  {
   "cell_type": "markdown",
   "id": "desperate-value",
   "metadata": {},
   "source": [
    "Normalized?"
   ]
  },
  {
   "cell_type": "code",
   "execution_count": 14,
   "id": "opponent-trance",
   "metadata": {},
   "outputs": [
    {
     "data": {
      "image/png": "[encoded data removed]",
      "text/latex": [
       "$\\displaystyle \\sqrt{2}$"
      ],
      "text/plain": [
       "√2"
      ]
     },
     "metadata": {},
     "output_type": "display_data"
    },
    {
     "data": {
      "image/png": "[encoded data removed]",
      "text/latex": [
       "$\\displaystyle 2$"
      ],
      "text/plain": [
       "2"
      ]
     },
     "metadata": {},
     "output_type": "display_data"
    },
    {
     "data": {
      "image/png": "[encoded data removed]",
      "text/latex": [
       "$\\displaystyle 2$"
      ],
      "text/plain": [
       "2"
      ]
     },
     "metadata": {},
     "output_type": "display_data"
    }
   ],
   "source": [
    "display(v1.norm(),v2.norm(),v3.norm())"
   ]
  },
  {
   "cell_type": "markdown",
   "id": "enhanced-idaho",
   "metadata": {},
   "source": [
    "Apply Gram Schmidt"
   ]
  },
  {
   "cell_type": "code",
   "execution_count": 25,
   "id": "formed-sixth",
   "metadata": {},
   "outputs": [
    {
     "data": {
      "image/png": "[encoded data removed]",
      "text/latex": [
       "$\\displaystyle \\left[ \\left[\\begin{matrix}0\\\\-1\\\\1\\end{matrix}\\right], \\  \\left[\\begin{matrix}- \\sqrt{2} i\\\\1\\\\1\\end{matrix}\\right], \\  \\left[\\begin{matrix}\\sqrt{2} i\\\\1\\\\1\\end{matrix}\\right]\\right]$"
      ],
      "text/plain": [
       "⎡⎡0 ⎤  ⎡-√2⋅ⅈ⎤  ⎡√2⋅ⅈ⎤⎤\n",
       "⎢⎢  ⎥  ⎢     ⎥  ⎢    ⎥⎥\n",
       "⎢⎢-1⎥, ⎢  1  ⎥, ⎢ 1  ⎥⎥\n",
       "⎢⎢  ⎥  ⎢     ⎥  ⎢    ⎥⎥\n",
       "⎣⎣1 ⎦  ⎣  1  ⎦  ⎣ 1  ⎦⎦"
      ]
     },
     "metadata": {},
     "output_type": "display_data"
    }
   ],
   "source": [
    "S = [v1,v2,v3]\n",
    "display(S)"
   ]
  },
  {
   "cell_type": "code",
   "execution_count": 29,
   "id": "corporate-geography",
   "metadata": {},
   "outputs": [
    {
     "data": {
      "image/png": "[encoded data removed]",
      "text/latex": [
       "$\\displaystyle \\left[ \\left[\\begin{matrix}0\\\\- \\frac{\\sqrt{2}}{2}\\\\\\frac{\\sqrt{2}}{2}\\end{matrix}\\right], \\  \\left[\\begin{matrix}- \\frac{\\sqrt{2} i}{2}\\\\\\frac{1}{2}\\\\\\frac{1}{2}\\end{matrix}\\right], \\  \\left[\\begin{matrix}\\frac{\\sqrt{2} i}{2}\\\\\\frac{1}{2}\\\\\\frac{1}{2}\\end{matrix}\\right]\\right]$"
      ],
      "text/plain": [
       "⎡⎡ 0  ⎤                  ⎤\n",
       "⎢⎢    ⎥  ⎡-√2⋅ⅈ ⎤  ⎡√2⋅ⅈ⎤⎥\n",
       "⎢⎢-√2 ⎥  ⎢──────⎥  ⎢────⎥⎥\n",
       "⎢⎢────⎥  ⎢  2   ⎥  ⎢ 2  ⎥⎥\n",
       "⎢⎢ 2  ⎥, ⎢      ⎥, ⎢    ⎥⎥\n",
       "⎢⎢    ⎥  ⎢ 1/2  ⎥  ⎢1/2 ⎥⎥\n",
       "⎢⎢ √2 ⎥  ⎢      ⎥  ⎢    ⎥⎥\n",
       "⎢⎢ ── ⎥  ⎣ 1/2  ⎦  ⎣1/2 ⎦⎥\n",
       "⎣⎣ 2  ⎦                  ⎦"
      ]
     },
     "metadata": {},
     "output_type": "display_data"
    }
   ],
   "source": [
    "Ortogonalized = GramSchmidt(S,True)\n",
    "display(Ortogonalized)"
   ]
  },
  {
   "cell_type": "code",
   "execution_count": 43,
   "id": "suspected-gospel",
   "metadata": {},
   "outputs": [],
   "source": [
    "O = Matrix.orthogonalize(*S,normalize= True)"
   ]
  },
  {
   "cell_type": "code",
   "execution_count": 44,
   "id": "editorial-antigua",
   "metadata": {},
   "outputs": [
    {
     "data": {
      "image/png": "[encoded data removed]",
      "text/latex": [
       "$\\displaystyle \\left[\\begin{matrix}0 & 0 & 0\\\\0 & \\frac{1}{2} & - \\frac{1}{2}\\\\0 & - \\frac{1}{2} & \\frac{1}{2}\\end{matrix}\\right]$"
      ],
      "text/plain": [
       "⎡0   0     0  ⎤\n",
       "⎢             ⎥\n",
       "⎢0  1/2   -1/2⎥\n",
       "⎢             ⎥\n",
       "⎣0  -1/2  1/2 ⎦"
      ]
     },
     "metadata": {},
     "output_type": "display_data"
    }
   ],
   "source": [
    "P1 = O[0]*O[0].adjoint()\n",
    "display(P1)"
   ]
  },
  {
   "cell_type": "code",
   "execution_count": 33,
   "id": "driven-collaboration",
   "metadata": {
    "scrolled": true
   },
   "outputs": [
    {
     "data": {
      "image/png": "[encoded data removed]",
      "text/latex": [
       "$\\displaystyle \\left[\\begin{matrix}\\frac{1}{2} & - \\frac{\\sqrt{2} i}{4} & - \\frac{\\sqrt{2} i}{4}\\\\\\frac{\\sqrt{2} i}{4} & \\frac{1}{4} & \\frac{1}{4}\\\\\\frac{\\sqrt{2} i}{4} & \\frac{1}{4} & \\frac{1}{4}\\end{matrix}\\right]$"
      ],
      "text/plain": [
       "⎡      -√2⋅ⅈ   -√2⋅ⅈ ⎤\n",
       "⎢1/2   ──────  ──────⎥\n",
       "⎢        4       4   ⎥\n",
       "⎢                    ⎥\n",
       "⎢√2⋅ⅈ                ⎥\n",
       "⎢────   1/4     1/4  ⎥\n",
       "⎢ 4                  ⎥\n",
       "⎢                    ⎥\n",
       "⎢√2⋅ⅈ                ⎥\n",
       "⎢────   1/4     1/4  ⎥\n",
       "⎣ 4                  ⎦"
      ]
     },
     "metadata": {},
     "output_type": "display_data"
    }
   ],
   "source": [
    "P2 = O[1]*O[1].adjoint()\n",
    "display(P2)"
   ]
  },
  {
   "cell_type": "code",
   "execution_count": 45,
   "id": "sharp-extent",
   "metadata": {},
   "outputs": [
    {
     "data": {
      "image/png": "[encoded data removed]",
      "text/latex": [
       "$\\displaystyle \\left[\\begin{matrix}\\frac{1}{2} & \\frac{\\sqrt{2} i}{4} & \\frac{\\sqrt{2} i}{4}\\\\- \\frac{\\sqrt{2} i}{4} & \\frac{1}{4} & \\frac{1}{4}\\\\- \\frac{\\sqrt{2} i}{4} & \\frac{1}{4} & \\frac{1}{4}\\end{matrix}\\right]$"
      ],
      "text/plain": [
       "⎡        √2⋅ⅈ  √2⋅ⅈ⎤\n",
       "⎢ 1/2    ────  ────⎥\n",
       "⎢         4     4  ⎥\n",
       "⎢                  ⎥\n",
       "⎢-√2⋅ⅈ             ⎥\n",
       "⎢──────  1/4   1/4 ⎥\n",
       "⎢  4               ⎥\n",
       "⎢                  ⎥\n",
       "⎢-√2⋅ⅈ             ⎥\n",
       "⎢──────  1/4   1/4 ⎥\n",
       "⎣  4               ⎦"
      ]
     },
     "metadata": {},
     "output_type": "display_data"
    }
   ],
   "source": [
    "P3 = O[2]*O[2].adjoint()\n",
    "display(P3)"
   ]
  },
  {
   "cell_type": "code",
   "execution_count": 46,
   "id": "controversial-server",
   "metadata": {},
   "outputs": [
    {
     "data": {
      "image/png": "[encoded data removed]",
      "text/latex": [
       "$\\displaystyle \\left[\\begin{matrix}1 & 0 & 0\\\\0 & 1 & 0\\\\0 & 0 & 1\\end{matrix}\\right]$"
      ],
      "text/plain": [
       "⎡1  0  0⎤\n",
       "⎢       ⎥\n",
       "⎢0  1  0⎥\n",
       "⎢       ⎥\n",
       "⎣0  0  1⎦"
      ]
     },
     "metadata": {},
     "output_type": "display_data"
    }
   ],
   "source": [
    "PT = P1+P2+P3\n",
    "display(PT)"
   ]
  },
  {
   "cell_type": "code",
   "execution_count": 52,
   "id": "impressive-laptop",
   "metadata": {
    "scrolled": true
   },
   "outputs": [
    {
     "data": {
      "image/png": "[encoded data removed]",
      "text/latex": [
       "$\\displaystyle 0$"
      ],
      "text/plain": [
       "0"
      ]
     },
     "metadata": {},
     "output_type": "display_data"
    },
    {
     "data": {
      "image/png": "[encoded data removed]",
      "text/latex": [
       "$\\displaystyle 0$"
      ],
      "text/plain": [
       "0"
      ]
     },
     "metadata": {},
     "output_type": "display_data"
    },
    {
     "data": {
      "image/png": "[encoded data removed]",
      "text/latex": [
       "$\\displaystyle 1$"
      ],
      "text/plain": [
       "1"
      ]
     },
     "metadata": {},
     "output_type": "display_data"
    }
   ],
   "source": [
    "display(O[0].dot(O[1]),O[0].dot(O[2]),O[1].dot(O[2]))"
   ]
  },
  {
   "cell_type": "markdown",
   "id": "defensive-bosnia",
   "metadata": {},
   "source": [
    "WTF... ¿1?"
   ]
  },
  {
   "cell_type": "code",
   "execution_count": 50,
   "id": "medieval-rocket",
   "metadata": {},
   "outputs": [
    {
     "data": {
      "image/png": "[encoded data removed]",
      "text/latex": [
       "$\\displaystyle 1$"
      ],
      "text/plain": [
       "1"
      ]
     },
     "metadata": {},
     "output_type": "display_data"
    },
    {
     "data": {
      "image/png": "[encoded data removed]",
      "text/latex": [
       "$\\displaystyle 1$"
      ],
      "text/plain": [
       "1"
      ]
     },
     "metadata": {},
     "output_type": "display_data"
    },
    {
     "data": {
      "image/png": "[encoded data removed]",
      "text/latex": [
       "$\\displaystyle 1$"
      ],
      "text/plain": [
       "1"
      ]
     },
     "metadata": {},
     "output_type": "display_data"
    }
   ],
   "source": [
    "display(O[0].norm(),O[1].norm(),O[2].norm())"
   ]
  },
  {
   "cell_type": "code",
   "execution_count": 55,
   "id": "floppy-coffee",
   "metadata": {},
   "outputs": [
    {
     "data": {
      "image/png": "[encoded data removed]",
      "text/latex": [
       "$\\displaystyle \\left[\\begin{matrix}3 & - \\frac{\\sqrt{2} i \\left(3 - \\sqrt{2}\\right)}{4} + \\frac{\\sqrt{2} i \\left(\\sqrt{2} + 3\\right)}{4} & - \\frac{\\sqrt{2} i \\left(3 - \\sqrt{2}\\right)}{4} + \\frac{\\sqrt{2} i \\left(\\sqrt{2} + 3\\right)}{4}\\\\- \\frac{\\sqrt{2} i \\left(\\sqrt{2} + 3\\right)}{4} + \\frac{\\sqrt{2} i \\left(3 - \\sqrt{2}\\right)}{4} & 3 & 0\\\\- \\frac{\\sqrt{2} i \\left(\\sqrt{2} + 3\\right)}{4} + \\frac{\\sqrt{2} i \\left(3 - \\sqrt{2}\\right)}{4} & 0 & 3\\end{matrix}\\right]$"
      ],
      "text/plain": [
       "⎡                                   √2⋅ⅈ⋅(3 - √2)   √2⋅ⅈ⋅(√2 + 3)    √2⋅ⅈ⋅(3 -\n",
       "⎢               3                 - ───────────── + ─────────────  - ─────────\n",
       "⎢                                         4               4                4  \n",
       "⎢                                                                             \n",
       "⎢  √2⋅ⅈ⋅(√2 + 3)   √2⋅ⅈ⋅(3 - √2)                                              \n",
       "⎢- ───────────── + ─────────────                 3                            \n",
       "⎢        4               4                                                    \n",
       "⎢                                                                             \n",
       "⎢  √2⋅ⅈ⋅(√2 + 3)   √2⋅ⅈ⋅(3 - √2)                                              \n",
       "⎢- ───────────── + ─────────────                 0                            \n",
       "⎣        4               4                                                    \n",
       "\n",
       " √2)   √2⋅ⅈ⋅(√2 + 3)⎤\n",
       "──── + ─────────────⎥\n",
       "             4      ⎥\n",
       "                    ⎥\n",
       "                    ⎥\n",
       "    0               ⎥\n",
       "                    ⎥\n",
       "                    ⎥\n",
       "                    ⎥\n",
       "    3               ⎥\n",
       "                    ⎦"
      ]
     },
     "metadata": {},
     "output_type": "display_data"
    }
   ],
   "source": [
    "Decomposition = val1*P1+val2*P2+val3*P3\n",
    "display(Decomposition)"
   ]
  },
  {
   "cell_type": "code",
   "execution_count": null,
   "id": "departmental-victoria",
   "metadata": {},
   "outputs": [],
   "source": []
  }
 ],
 "metadata": {
  "kernelspec": {
   "display_name": "Python 3",
   "language": "python",
   "name": "python3"
  },
  "language_info": {
   "codemirror_mode": {
    "name": "ipython",
    "version": 3
   },
   "file_extension": ".py",
   "mimetype": "text/x-python",
   "name": "python",
   "nbconvert_exporter": "python",
   "pygments_lexer": "ipython3",
   "version": "3.9.2"
  }
 },
 "nbformat": 4,
 "nbformat_minor": 5
}

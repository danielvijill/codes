{
 "cells": [
  {
   "cell_type": "markdown",
   "metadata": {},
   "source": [
    "# Ortonormalizaciòn y construcción de operadores de proyección utilizando Sympy"
   ]
  },
  {
   "cell_type": "code",
   "execution_count": 4,
   "metadata": {},
   "outputs": [],
   "source": [
    "from sympy import init_printing\n",
    "init_printing(use_latex=True)\n",
    "from sympy.physics.quantum import Dagger\n",
    "from sympy import *\n",
    "import numpy as np"
   ]
  },
  {
   "cell_type": "raw",
   "metadata": {},
   "source": [
    "Introducción del Conjunto de Vectores"
   ]
  },
  {
   "cell_type": "code",
   "execution_count": 5,
   "metadata": {},
   "outputs": [],
   "source": [
    "from sympy.matrices import Matrix\n",
    "T = [Matrix([4,-3,5]), Matrix([-3,2,1]), Matrix([5,1,-6])]"
   ]
  },
  {
   "cell_type": "code",
   "execution_count": 52,
   "metadata": {},
   "outputs": [
    {
     "data": {
      "text/plain": [
       "list"
      ]
     },
     "execution_count": 52,
     "metadata": {},
     "output_type": "execute_result"
    }
   ],
   "source": [
    "type(T)"
   ]
  },
  {
   "cell_type": "code",
   "execution_count": 6,
   "metadata": {},
   "outputs": [
    {
     "data": {
      "image/png": "[encoded data removed]",
      "text/latex": [
       "$\\displaystyle \\left[ \\left[\\begin{matrix}4\\\\-3\\\\5\\end{matrix}\\right], \\  \\left[\\begin{matrix}- \\frac{49}{25}\\\\\\frac{61}{50}\\\\\\frac{23}{10}\\end{matrix}\\right], \\  \\left[\\begin{matrix}\\frac{338}{177}\\\\\\frac{494}{177}\\\\\\frac{26}{177}\\end{matrix}\\right]\\right]$"
      ],
      "text/plain": [
       "⎡      ⎡-49 ⎤  ⎡338⎤⎤\n",
       "⎢      ⎢────⎥  ⎢───⎥⎥\n",
       "⎢      ⎢ 25 ⎥  ⎢177⎥⎥\n",
       "⎢⎡4 ⎤  ⎢    ⎥  ⎢   ⎥⎥\n",
       "⎢⎢  ⎥  ⎢ 61 ⎥  ⎢494⎥⎥\n",
       "⎢⎢-3⎥, ⎢ ── ⎥, ⎢───⎥⎥\n",
       "⎢⎢  ⎥  ⎢ 50 ⎥  ⎢177⎥⎥\n",
       "⎢⎣5 ⎦  ⎢    ⎥  ⎢   ⎥⎥\n",
       "⎢      ⎢ 23 ⎥  ⎢ 26⎥⎥\n",
       "⎢      ⎢ ── ⎥  ⎢───⎥⎥\n",
       "⎣      ⎣ 10 ⎦  ⎣177⎦⎦"
      ]
     },
     "execution_count": 6,
     "metadata": {},
     "output_type": "execute_result"
    }
   ],
   "source": [
    "out1 = GramSchmidt(T) #aqui se otogonalizan los vectores\n",
    "out1"
   ]
  },
  {
   "cell_type": "code",
   "execution_count": 30,
   "metadata": {},
   "outputs": [
    {
     "data": {
      "image/png": "[encoded data removed]",
      "text/latex": [
       "$\\displaystyle \\left[ \\left[\\begin{matrix}\\frac{2 \\sqrt{2}}{5}\\\\- \\frac{3 \\sqrt{2}}{10}\\\\\\frac{\\sqrt{2}}{2}\\end{matrix}\\right], \\  \\left[\\begin{matrix}- \\frac{49 \\sqrt{118}}{885}\\\\\\frac{61 \\sqrt{118}}{1770}\\\\\\frac{23 \\sqrt{118}}{354}\\end{matrix}\\right], \\  \\left[\\begin{matrix}\\frac{13 \\sqrt{59}}{177}\\\\\\frac{19 \\sqrt{59}}{177}\\\\\\frac{\\sqrt{59}}{177}\\end{matrix}\\right]\\right]$"
      ],
      "text/plain": [
       "⎡⎡ 2⋅√2 ⎤  ⎡-49⋅√118 ⎤  ⎡13⋅√59⎤⎤\n",
       "⎢⎢ ──── ⎥  ⎢─────────⎥  ⎢──────⎥⎥\n",
       "⎢⎢  5   ⎥  ⎢   885   ⎥  ⎢ 177  ⎥⎥\n",
       "⎢⎢      ⎥  ⎢         ⎥  ⎢      ⎥⎥\n",
       "⎢⎢-3⋅√2 ⎥  ⎢ 61⋅√118 ⎥  ⎢19⋅√59⎥⎥\n",
       "⎢⎢──────⎥, ⎢ ─────── ⎥, ⎢──────⎥⎥\n",
       "⎢⎢  10  ⎥  ⎢   1770  ⎥  ⎢ 177  ⎥⎥\n",
       "⎢⎢      ⎥  ⎢         ⎥  ⎢      ⎥⎥\n",
       "⎢⎢  √2  ⎥  ⎢ 23⋅√118 ⎥  ⎢ √59  ⎥⎥\n",
       "⎢⎢  ──  ⎥  ⎢ ─────── ⎥  ⎢ ───  ⎥⎥\n",
       "⎣⎣  2   ⎦  ⎣   354   ⎦  ⎣ 177  ⎦⎦"
      ]
     },
     "execution_count": 30,
     "metadata": {},
     "output_type": "execute_result"
    }
   ],
   "source": [
    "out2 = GramSchmidt(T, True)# aquí los vectores se normalizan\n",
    "out2"
   ]
  },
  {
   "cell_type": "code",
   "execution_count": 10,
   "metadata": {},
   "outputs": [
    {
     "data": {
      "image/png": "[encoded data removed]",
      "text/latex": [
       "$\\displaystyle 0$"
      ],
      "text/plain": [
       "0"
      ]
     },
     "execution_count": 10,
     "metadata": {},
     "output_type": "execute_result"
    }
   ],
   "source": [
    "out1[0].dot(out1[1]) # se verifica que el primer y segundo vector son normales, observe que el contador empieza de cero"
   ]
  },
  {
   "cell_type": "code",
   "execution_count": 38,
   "metadata": {},
   "outputs": [
    {
     "data": {
      "image/png": "[encoded data removed]",
      "text/latex": [
       "$\\displaystyle 1$"
      ],
      "text/plain": [
       "1"
      ]
     },
     "execution_count": 38,
     "metadata": {},
     "output_type": "execute_result"
    }
   ],
   "source": [
    "out2[0].norm()"
   ]
  },
  {
   "cell_type": "code",
   "execution_count": 41,
   "metadata": {},
   "outputs": [],
   "source": [
    "from sympy import Matrix"
   ]
  },
  {
   "cell_type": "code",
   "execution_count": 43,
   "metadata": {},
   "outputs": [
    {
     "data": {
      "image/png": "[encoded data removed]",
      "text/latex": [
       "$\\displaystyle \\left[\\begin{matrix}\\frac{2 \\sqrt{2}}{5} & - \\frac{3 \\sqrt{2}}{10} & \\frac{\\sqrt{2}}{2}\\end{matrix}\\right]$"
      ],
      "text/plain": [
       "⎡2⋅√2  -3⋅√2   √2⎤\n",
       "⎢────  ──────  ──⎥\n",
       "⎣ 5      10    2 ⎦"
      ]
     },
     "execution_count": 43,
     "metadata": {},
     "output_type": "execute_result"
    }
   ],
   "source": [
    "v1ad=out2[0].transpose()\n",
    "v1ad"
   ]
  },
  {
   "cell_type": "code",
   "execution_count": 44,
   "metadata": {},
   "outputs": [
    {
     "data": {
      "image/png": "[encoded data removed]",
      "text/latex": [
       "$\\displaystyle \\left[\\begin{matrix}\\frac{8}{25} & - \\frac{6}{25} & \\frac{2}{5}\\\\- \\frac{6}{25} & \\frac{9}{50} & - \\frac{3}{10}\\\\\\frac{2}{5} & - \\frac{3}{10} & \\frac{1}{2}\\end{matrix}\\right]$"
      ],
      "text/plain": [
       "⎡8/25   -6/25   2/5 ⎤\n",
       "⎢                   ⎥\n",
       "⎢-6/25  9/50   -3/10⎥\n",
       "⎢                   ⎥\n",
       "⎣ 2/5   -3/10   1/2 ⎦"
      ]
     },
     "execution_count": 44,
     "metadata": {},
     "output_type": "execute_result"
    }
   ],
   "source": [
    "proyector1= out2[0]*out2[0].transpose()\n",
    "proyector1"
   ]
  },
  {
   "cell_type": "code",
   "execution_count": 51,
   "metadata": {},
   "outputs": [
    {
     "data": {
      "image/png": "[encoded data removed]",
      "text/latex": [
       "$\\displaystyle \\left[\\begin{matrix}0.3 & -0.2 & 0.4\\\\-0.2 & 0.2 & -0.3\\\\0.4 & -0.3 & 0.5\\end{matrix}\\right]$"
      ],
      "text/plain": [
       "⎡0.3   -0.2  0.4 ⎤\n",
       "⎢                ⎥\n",
       "⎢-0.2  0.2   -0.3⎥\n",
       "⎢                ⎥\n",
       "⎣0.4   -0.3  0.5 ⎦"
      ]
     },
     "execution_count": 51,
     "metadata": {},
     "output_type": "execute_result"
    }
   ],
   "source": [
    "N(proyector1,1)"
   ]
  },
  {
   "cell_type": "code",
   "execution_count": 50,
   "metadata": {},
   "outputs": [
    {
     "data": {
      "image/png": "[encoded data removed]",
      "text/latex": [
       "$\\displaystyle \\left[\\begin{matrix}\\frac{4802}{13275} & - \\frac{2989}{13275} & - \\frac{1127}{2655}\\\\- \\frac{2989}{13275} & \\frac{3721}{26550} & \\frac{1403}{5310}\\\\- \\frac{1127}{2655} & \\frac{1403}{5310} & \\frac{529}{1062}\\end{matrix}\\right]$"
      ],
      "text/plain": [
       "⎡ 4802   -2989   -1127 ⎤\n",
       "⎢─────   ──────  ──────⎥\n",
       "⎢13275   13275    2655 ⎥\n",
       "⎢                      ⎥\n",
       "⎢-2989    3721    1403 ⎥\n",
       "⎢──────  ─────    ──── ⎥\n",
       "⎢13275   26550    5310 ⎥\n",
       "⎢                      ⎥\n",
       "⎢-1127    1403    529  ⎥\n",
       "⎢──────   ────    ──── ⎥\n",
       "⎣ 2655    5310    1062 ⎦"
      ]
     },
     "execution_count": 50,
     "metadata": {},
     "output_type": "execute_result"
    }
   ],
   "source": [
    "proyector2= out2[1]*out2[1].transpose()\n",
    "proyector2"
   ]
  },
  {
   "cell_type": "code",
   "execution_count": 48,
   "metadata": {},
   "outputs": [
    {
     "data": {
      "image/png": "[encoded data removed]",
      "text/latex": [
       "$\\displaystyle \\left[\\begin{matrix}0.4 & -0.2 & -0.4\\\\-0.2 & 0.1 & 0.3\\\\-0.4 & 0.3 & 0.5\\end{matrix}\\right]$"
      ],
      "text/plain": [
       "⎡0.4   -0.2  -0.4⎤\n",
       "⎢                ⎥\n",
       "⎢-0.2  0.1   0.3 ⎥\n",
       "⎢                ⎥\n",
       "⎣-0.4  0.3   0.5 ⎦"
      ]
     },
     "execution_count": 48,
     "metadata": {},
     "output_type": "execute_result"
    }
   ],
   "source": [
    "N(proyector2,1)# en caso de que desee ver sus resultados más simples"
   ]
  },
  {
   "cell_type": "code",
   "execution_count": 46,
   "metadata": {},
   "outputs": [
    {
     "data": {
      "image/png": "[encoded data removed]",
      "text/latex": [
       "$\\displaystyle \\left[\\begin{matrix}\\frac{169}{531} & \\frac{247}{531} & \\frac{13}{531}\\\\\\frac{247}{531} & \\frac{361}{531} & \\frac{19}{531}\\\\\\frac{13}{531} & \\frac{19}{531} & \\frac{1}{531}\\end{matrix}\\right]$"
      ],
      "text/plain": [
       "⎡169  247    13 ⎤\n",
       "⎢───  ───   ─── ⎥\n",
       "⎢531  531   531 ⎥\n",
       "⎢               ⎥\n",
       "⎢247  361    19 ⎥\n",
       "⎢───  ───   ─── ⎥\n",
       "⎢531  531   531 ⎥\n",
       "⎢               ⎥\n",
       "⎢ 13   19       ⎥\n",
       "⎢───  ───  1/531⎥\n",
       "⎣531  531       ⎦"
      ]
     },
     "execution_count": 46,
     "metadata": {},
     "output_type": "execute_result"
    }
   ],
   "source": [
    "proyector3= out2[2]*out2[2].transpose()\n",
    "proyector3"
   ]
  },
  {
   "cell_type": "code",
   "execution_count": 49,
   "metadata": {},
   "outputs": [
    {
     "data": {
      "image/png": "[encoded data removed]",
      "text/latex": [
       "$\\displaystyle \\left[\\begin{matrix}0.3 & 0.4 & 0.02\\\\0.4 & 0.7 & 0.04\\\\0.02 & 0.04 & 0.002\\end{matrix}\\right]$"
      ],
      "text/plain": [
       "⎡0.3   0.4   0.02 ⎤\n",
       "⎢                 ⎥\n",
       "⎢0.4   0.7   0.04 ⎥\n",
       "⎢                 ⎥\n",
       "⎣0.02  0.04  0.002⎦"
      ]
     },
     "execution_count": 49,
     "metadata": {},
     "output_type": "execute_result"
    }
   ],
   "source": [
    "N(proyector3,1)"
   ]
  },
  {
   "cell_type": "code",
   "execution_count": 47,
   "metadata": {},
   "outputs": [
    {
     "data": {
      "image/png": "[encoded data removed]",
      "text/latex": [
       "$\\displaystyle \\left[\\begin{matrix}1 & 0 & 0\\\\0 & 1 & 0\\\\0 & 0 & 1\\end{matrix}\\right]$"
      ],
      "text/plain": [
       "⎡1  0  0⎤\n",
       "⎢       ⎥\n",
       "⎢0  1  0⎥\n",
       "⎢       ⎥\n",
       "⎣0  0  1⎦"
      ]
     },
     "execution_count": 47,
     "metadata": {},
     "output_type": "execute_result"
    }
   ],
   "source": [
    "Suma_completa=proyector1+proyector2+proyector3\n",
    "Suma_completa"
   ]
  },
  {
   "cell_type": "code",
   "execution_count": null,
   "metadata": {},
   "outputs": [],
   "source": []
  },
  {
   "cell_type": "markdown",
   "metadata": {},
   "source": [
    "### AQUI UN EJEMPLO DE LO QUE NO SE DEBE HACER, TENER CUIDADO AL MOMENTO DE MEZCLAR LIBRERIAS\n"
   ]
  },
  {
   "cell_type": "code",
   "execution_count": 40,
   "metadata": {},
   "outputs": [
    {
     "data": {
      "text/plain": [
       "list"
      ]
     },
     "execution_count": 40,
     "metadata": {},
     "output_type": "execute_result"
    }
   ],
   "source": [
    "type(out2)"
   ]
  },
  {
   "cell_type": "code",
   "execution_count": 39,
   "metadata": {},
   "outputs": [
    {
     "data": {
      "text/plain": [
       "array([[[2*sqrt(2)/5],\n",
       "        [-3*sqrt(2)/10],\n",
       "        [sqrt(2)/2]],\n",
       "\n",
       "       [[-49*sqrt(118)/885],\n",
       "        [61*sqrt(118)/1770],\n",
       "        [23*sqrt(118)/354]],\n",
       "\n",
       "       [[13*sqrt(59)/177],\n",
       "        [19*sqrt(59)/177],\n",
       "        [sqrt(59)/177]]], dtype=object)"
      ]
     },
     "execution_count": 39,
     "metadata": {},
     "output_type": "execute_result"
    }
   ],
   "source": [
    "arreglo=np.array(out2)  #Se convierte la lista de vectores en un arreglo\n",
    "arreglo"
   ]
  },
  {
   "cell_type": "code",
   "execution_count": 13,
   "metadata": {},
   "outputs": [
    {
     "name": "stdout",
     "output_type": "stream",
     "text": [
      "[[[2*sqrt(2)/5]\n",
      "  [-3*sqrt(2)/10]\n",
      "  [sqrt(2)/2]]]\n"
     ]
    }
   ],
   "source": [
    "v1, v2, v3 = np.vsplit(arreglo, 3) #aqui se divide el arreglo en 3 vectores columna\n",
    "print(v1) # se imprime el primer vector para chekear que toda va bien"
   ]
  },
  {
   "cell_type": "code",
   "execution_count": 14,
   "metadata": {},
   "outputs": [
    {
     "data": {
      "text/plain": [
       "numpy.ndarray"
      ]
     },
     "execution_count": 14,
     "metadata": {},
     "output_type": "execute_result"
    }
   ],
   "source": [
    "type(v1)"
   ]
  },
  {
   "cell_type": "code",
   "execution_count": 34,
   "metadata": {},
   "outputs": [
    {
     "data": {
      "text/plain": [
       "matrix([[2*sqrt(2)/5, -3*sqrt(2)/10, sqrt(2)/2]], dtype=object)"
      ]
     },
     "execution_count": 34,
     "metadata": {},
     "output_type": "execute_result"
    }
   ],
   "source": [
    "v1fila = np.asmatrix(v1) #se convierte el arreglo en matriz, que es una fila\n",
    "v1fila\n"
   ]
  },
  {
   "cell_type": "code",
   "execution_count": 16,
   "metadata": {},
   "outputs": [
    {
     "data": {
      "text/plain": [
       "numpy.matrix"
      ]
     },
     "execution_count": 16,
     "metadata": {},
     "output_type": "execute_result"
    }
   ],
   "source": [
    "type(v1fila)"
   ]
  },
  {
   "cell_type": "code",
   "execution_count": 35,
   "metadata": {},
   "outputs": [
    {
     "ename": "TypeError",
     "evalue": "loop of ufunc does not support argument 0 of type One which has no callable sqrt method",
     "output_type": "error",
     "traceback": [
      "\u001b[1;31m---------------------------------------------------------------------------\u001b[0m",
      "\u001b[1;31mAttributeError\u001b[0m                            Traceback (most recent call last)",
      "\u001b[1;31mAttributeError\u001b[0m: 'One' object has no attribute 'sqrt'",
      "\nThe above exception was the direct cause of the following exception:\n",
      "\u001b[1;31mTypeError\u001b[0m                                 Traceback (most recent call last)",
      "\u001b[1;32m<ipython-input-35-82e204b600b0>\u001b[0m in \u001b[0;36m<module>\u001b[1;34m\u001b[0m\n\u001b[1;32m----> 1\u001b[1;33m \u001b[0mnormav1\u001b[0m\u001b[1;33m=\u001b[0m\u001b[0mnp\u001b[0m\u001b[1;33m.\u001b[0m\u001b[0mlinalg\u001b[0m\u001b[1;33m.\u001b[0m\u001b[0mnorm\u001b[0m\u001b[1;33m(\u001b[0m\u001b[0mv1fila\u001b[0m\u001b[1;33m)\u001b[0m\u001b[1;33m\u001b[0m\u001b[1;33m\u001b[0m\u001b[0m\n\u001b[0m\u001b[0;32m      2\u001b[0m \u001b[0mnormav1\u001b[0m\u001b[1;33m\u001b[0m\u001b[1;33m\u001b[0m\u001b[0m\n",
      "\u001b[1;32m<__array_function__ internals>\u001b[0m in \u001b[0;36mnorm\u001b[1;34m(*args, **kwargs)\u001b[0m\n",
      "\u001b[1;32mC:\\ProgramData\\Anaconda3\\lib\\site-packages\\numpy\\linalg\\linalg.py\u001b[0m in \u001b[0;36mnorm\u001b[1;34m(x, ord, axis, keepdims)\u001b[0m\n\u001b[0;32m   2529\u001b[0m             \u001b[1;32melse\u001b[0m\u001b[1;33m:\u001b[0m\u001b[1;33m\u001b[0m\u001b[1;33m\u001b[0m\u001b[0m\n\u001b[0;32m   2530\u001b[0m                 \u001b[0msqnorm\u001b[0m \u001b[1;33m=\u001b[0m \u001b[0mdot\u001b[0m\u001b[1;33m(\u001b[0m\u001b[0mx\u001b[0m\u001b[1;33m,\u001b[0m \u001b[0mx\u001b[0m\u001b[1;33m)\u001b[0m\u001b[1;33m\u001b[0m\u001b[1;33m\u001b[0m\u001b[0m\n\u001b[1;32m-> 2531\u001b[1;33m             \u001b[0mret\u001b[0m \u001b[1;33m=\u001b[0m \u001b[0msqrt\u001b[0m\u001b[1;33m(\u001b[0m\u001b[0msqnorm\u001b[0m\u001b[1;33m)\u001b[0m\u001b[1;33m\u001b[0m\u001b[1;33m\u001b[0m\u001b[0m\n\u001b[0m\u001b[0;32m   2532\u001b[0m             \u001b[1;32mif\u001b[0m \u001b[0mkeepdims\u001b[0m\u001b[1;33m:\u001b[0m\u001b[1;33m\u001b[0m\u001b[1;33m\u001b[0m\u001b[0m\n\u001b[0;32m   2533\u001b[0m                 \u001b[0mret\u001b[0m \u001b[1;33m=\u001b[0m \u001b[0mret\u001b[0m\u001b[1;33m.\u001b[0m\u001b[0mreshape\u001b[0m\u001b[1;33m(\u001b[0m\u001b[0mndim\u001b[0m\u001b[1;33m*\u001b[0m\u001b[1;33m[\u001b[0m\u001b[1;36m1\u001b[0m\u001b[1;33m]\u001b[0m\u001b[1;33m)\u001b[0m\u001b[1;33m\u001b[0m\u001b[1;33m\u001b[0m\u001b[0m\n",
      "\u001b[1;31mTypeError\u001b[0m: loop of ufunc does not support argument 0 of type One which has no callable sqrt method"
     ]
    }
   ],
   "source": [
    "normav1=np.linalg.norm(v1fila)\n",
    "normav1"
   ]
  },
  {
   "cell_type": "code",
   "execution_count": 18,
   "metadata": {},
   "outputs": [
    {
     "data": {
      "text/plain": [
       "matrix([[2*sqrt(2)/5],\n",
       "        [-3*sqrt(2)/10],\n",
       "        [sqrt(2)/2]], dtype=object)"
      ]
     },
     "execution_count": 18,
     "metadata": {},
     "output_type": "execute_result"
    }
   ],
   "source": [
    "v1columna=np.transpose(v1fila) #se transpone la fila para conseguir la columna\n",
    "v1columna"
   ]
  },
  {
   "cell_type": "code",
   "execution_count": 19,
   "metadata": {},
   "outputs": [
    {
     "data": {
      "text/plain": [
       "matrix([[8/25, -6/25, 2/5],\n",
       "        [-6/25, 9/50, -3/10],\n",
       "        [2/5, -3/10, 1/2]], dtype=object)"
      ]
     },
     "execution_count": 19,
     "metadata": {},
     "output_type": "execute_result"
    }
   ],
   "source": [
    "Proyeccion1=v1columna*v1fila\n",
    "Proyeccion1"
   ]
  },
  {
   "cell_type": "code",
   "execution_count": 20,
   "metadata": {},
   "outputs": [
    {
     "data": {
      "text/plain": [
       "matrix([[-49*sqrt(118)/885, 61*sqrt(118)/1770, 23*sqrt(118)/354]],\n",
       "       dtype=object)"
      ]
     },
     "execution_count": 20,
     "metadata": {},
     "output_type": "execute_result"
    }
   ],
   "source": [
    "v2fila = np.asmatrix(v2) #se convierte el arreglo en matriz, que es una fila\n",
    "v2fila"
   ]
  },
  {
   "cell_type": "code",
   "execution_count": 21,
   "metadata": {},
   "outputs": [
    {
     "data": {
      "text/plain": [
       "matrix([[-49*sqrt(118)/885],\n",
       "        [61*sqrt(118)/1770],\n",
       "        [23*sqrt(118)/354]], dtype=object)"
      ]
     },
     "execution_count": 21,
     "metadata": {},
     "output_type": "execute_result"
    }
   ],
   "source": [
    "v2columna=np.transpose(v2fila) #se transpone la fila para conseguir la columna\n",
    "v2columna"
   ]
  },
  {
   "cell_type": "code",
   "execution_count": 22,
   "metadata": {},
   "outputs": [
    {
     "data": {
      "text/plain": [
       "matrix([[4802/13275, -2989/13275, -1127/2655],\n",
       "        [-2989/13275, 3721/26550, 1403/5310],\n",
       "        [-1127/2655, 1403/5310, 529/1062]], dtype=object)"
      ]
     },
     "execution_count": 22,
     "metadata": {},
     "output_type": "execute_result"
    }
   ],
   "source": [
    "Proyeccion2=v2columna*v2fila\n",
    "Proyeccion2"
   ]
  },
  {
   "cell_type": "code",
   "execution_count": 25,
   "metadata": {},
   "outputs": [
    {
     "data": {
      "text/plain": [
       "matrix([[13*sqrt(59)/177, 19*sqrt(59)/177, sqrt(59)/177]], dtype=object)"
      ]
     },
     "execution_count": 25,
     "metadata": {},
     "output_type": "execute_result"
    }
   ],
   "source": [
    "v3fila = np.asmatrix(v3) #se convierte el arreglo en matriz, que es una fila\n",
    "v3fila"
   ]
  },
  {
   "cell_type": "code",
   "execution_count": 26,
   "metadata": {},
   "outputs": [
    {
     "data": {
      "text/plain": [
       "matrix([[13*sqrt(59)/177],\n",
       "        [19*sqrt(59)/177],\n",
       "        [sqrt(59)/177]], dtype=object)"
      ]
     },
     "execution_count": 26,
     "metadata": {},
     "output_type": "execute_result"
    }
   ],
   "source": [
    "v3columna=np.transpose(v3fila) #se transpone la fila para conseguir la columna\n",
    "v3columna"
   ]
  },
  {
   "cell_type": "code",
   "execution_count": 27,
   "metadata": {},
   "outputs": [
    {
     "data": {
      "text/plain": [
       "matrix([[-637*sqrt(2)/2655, 793*sqrt(2)/5310, 299*sqrt(2)/1062],\n",
       "        [-931*sqrt(2)/2655, 1159*sqrt(2)/5310, 437*sqrt(2)/1062],\n",
       "        [-49*sqrt(2)/2655, 61*sqrt(2)/5310, 23*sqrt(2)/1062]],\n",
       "       dtype=object)"
      ]
     },
     "execution_count": 27,
     "metadata": {},
     "output_type": "execute_result"
    }
   ],
   "source": [
    "Proyeccion3=v3columna*v2fila\n",
    "Proyeccion3"
   ]
  },
  {
   "cell_type": "code",
   "execution_count": 28,
   "metadata": {},
   "outputs": [
    {
     "data": {
      "text/plain": [
       "matrix([[362/531 - 637*sqrt(2)/2655, -247/531 + 793*sqrt(2)/5310,\n",
       "         -13/531 + 299*sqrt(2)/1062],\n",
       "        [-931*sqrt(2)/2655 - 247/531, 1159*sqrt(2)/5310 + 170/531,\n",
       "         -19/531 + 437*sqrt(2)/1062],\n",
       "        [-49*sqrt(2)/2655 - 13/531, -19/531 + 61*sqrt(2)/5310,\n",
       "         23*sqrt(2)/1062 + 530/531]], dtype=object)"
      ]
     },
     "execution_count": 28,
     "metadata": {},
     "output_type": "execute_result"
    }
   ],
   "source": [
    "Pt=Proyeccion1+Proyeccion2+Proyeccion3\n",
    "Pt"
   ]
  }
 ],
 "metadata": {
  "kernelspec": {
   "display_name": "Python 3",
   "language": "python",
   "name": "python3"
  },
  "language_info": {
   "codemirror_mode": {
    "name": "ipython",
    "version": 3
   },
   "file_extension": ".py",
   "mimetype": "text/x-python",
   "name": "python",
   "nbconvert_exporter": "python",
   "pygments_lexer": "ipython3",
   "version": "3.8.5"
  }
 },
 "nbformat": 4,
 "nbformat_minor": 4
}

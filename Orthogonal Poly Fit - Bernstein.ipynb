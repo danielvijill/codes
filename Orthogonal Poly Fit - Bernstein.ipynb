{
 "cells": [
  {
   "cell_type": "markdown",
   "metadata": {},
   "source": [
    "# PRACTICA II.3\n",
    "## Aproximación de una función mediante polinomios\n",
    "\n",
    "El objetivo es construir una sucesión de polinomios que, como veremos, convergen uniformemente a una función continua. Haremos esto de modo iterativo, en el cual podemos ingresar el intervalo de la función para observar sus características en la convergencia.\n",
    "\n",
    "### 1). Generación de los polinomios de Bernstein "
   ]
  },
  {
   "cell_type": "code",
   "execution_count": 1,
   "metadata": {},
   "outputs": [],
   "source": [
    "from sympy import *\n",
    "import sympy as sp\n",
    "import matplotlib.pyplot as plt\n",
    "from matplotlib import rcParams\n",
    "import numpy as np"
   ]
  },
  {
   "cell_type": "markdown",
   "metadata": {},
   "source": [
    "### 1) $f(x)=1$"
   ]
  },
  {
   "cell_type": "code",
   "execution_count": 2,
   "metadata": {},
   "outputs": [],
   "source": [
    "x = sp.symbols('x')\n",
    "n = sp.symbols('n', integer=True)\n",
    "i = sp.symbols('i', integer=True)\n",
    "a = sp.symbols('a', integer=True)\n",
    "b = sp.symbols('b', integer=True)\n",
    "\n",
    "init_printing(use_unicode=True)"
   ]
  },
  {
   "cell_type": "code",
   "execution_count": 4,
   "metadata": {},
   "outputs": [
    {
     "name": "stdout",
     "output_type": "stream",
     "text": [
      "Introduzca la primera función: f(x)=x**0 \n",
      "x**0\n",
      "La función es: \n",
      "1\n",
      "Introduzca 6, el grado de aproximación: \n",
      "6\n",
      "Introduzca el extremo izquierdo. del intervalo: \n",
      "-1\n",
      "Introduzca el extremo derecho. del intervalo: \n",
      "1\n"
     ]
    }
   ],
   "source": [
    "pprint(\"Introduzca la primera función: f(x)=x**0 \")\n",
    "fun = eval(input())\n",
    "pprint('La función es: ')\n",
    "pprint(fun)\n",
    "pprint(\"Introduzca 6, el grado de aproximación: \")\n",
    "n = int(input())\n",
    "pprint(\"Introduzca el extremo izquierdo. del intervalo: \")\n",
    "a = float(input())\n",
    "pprint(\"Introduzca el extremo derecho. del intervalo: \")\n",
    "b = float(input())\n",
    "f = lambdify(x, fun, 'numpy')"
   ]
  },
  {
   "cell_type": "code",
   "execution_count": 5,
   "metadata": {},
   "outputs": [
    {
     "name": "stdout",
     "output_type": "stream",
     "text": [
      "El polinomio de Bernstein de grado 6 en el intervalo [-1.0, 1.0] es: \n",
      "1.00000000000000\n"
     ]
    }
   ],
   "source": [
    "ci = fun.subs(x, i*((b - a) / n) + a)\n",
    "binom = binomial(n, i)\n",
    "Bin = binom * ((x - a) ** i * (b - x)**(n-i)) / (b - a) ** n\n",
    "pprint(\"El polinomio de Bernstein de grado {0} en el intervalo [{1}, {2}] es: \".format(n, a, b))\n",
    "bernstein = expand(summation(ci * Bin, (i,0,n)))\n",
    "pprint(bernstein)\n",
    "g = lambdify(x, bernstein, 'numpy')"
   ]
  },
  {
   "cell_type": "markdown",
   "metadata": {},
   "source": [
    "Para $f(x)=1$ el polinomio de Bernstein es la función misma: $1$."
   ]
  },
  {
   "cell_type": "code",
   "execution_count": 6,
   "metadata": {},
   "outputs": [
    {
     "data": {
      "image/png": "[encoded data removed]",
      "text/plain": [
       "<Figure size 432x288 with 1 Axes>"
      ]
     },
     "metadata": {
      "needs_background": "light"
     },
     "output_type": "display_data"
    }
   ],
   "source": [
    "from matplotlib import pyplot\n",
    "\n",
    "pyplot.axhline(1, color=\"blue\")\n",
    "\n",
    "plt.title(\"Polinomio de Bernstein f(x)=1 ([-1.0,1.0];n=6)\")\n",
    "\n",
    "pyplot.xlim(-1, 3)\n",
    "pyplot.ylim(-1, 5)\n",
    "plt.grid()\n",
    "pyplot.show()"
   ]
  },
  {
   "cell_type": "markdown",
   "metadata": {},
   "source": [
    "### $ 2).  f(x)=x$"
   ]
  },
  {
   "cell_type": "code",
   "execution_count": 11,
   "metadata": {},
   "outputs": [
    {
     "name": "stdout",
     "output_type": "stream",
     "text": [
      "Introduzca la segunda función: f(x)=x \n",
      "x\n",
      "La función es: \n",
      "x\n",
      "Introduzca 6, el grado de aproximación: \n",
      "6\n",
      "Introduzca el extremo izquierdo del intervalo: \n",
      "0\n",
      "Introduzca el extremo derecho del intervalo: \n",
      "1\n"
     ]
    }
   ],
   "source": [
    "pprint(\"Introduzca la segunda función: f(x)=x \")\n",
    "fun = eval(input())\n",
    "pprint('La función es: ')\n",
    "pprint(fun)\n",
    "pprint(\"Introduzca 6, el grado de aproximación: \")\n",
    "n = int(input())\n",
    "pprint(\"Introduzca el extremo izquierdo del intervalo: \")\n",
    "a = float(input())\n",
    "pprint(\"Introduzca el extremo derecho del intervalo: \")\n",
    "b = float(input())\n",
    "f = lambdify(x, fun, 'numpy')"
   ]
  },
  {
   "cell_type": "code",
   "execution_count": 12,
   "metadata": {},
   "outputs": [
    {
     "name": "stdout",
     "output_type": "stream",
     "text": [
      "El polinomio de Bernstein de grado 6 en el intervalo [0.0, 1.0] es: \n",
      "1.0⋅x\n"
     ]
    }
   ],
   "source": [
    "ci = fun.subs(x, i*((b - a) / n) + a)\n",
    "binom = binomial(n, i)\n",
    "Bin = binom * ((x - a) ** i * (b - x)**(n-i)) / (b - a) ** n\n",
    "pprint(\"El polinomio de Bernstein de grado {0} en el intervalo [{1}, {2}] es: \".format(n, a, b))\n",
    "bernstein = expand(summation(ci * Bin, (i,0,n)))\n",
    "pprint(bernstein)\n",
    "g = lambdify(x, bernstein, 'numpy')"
   ]
  },
  {
   "cell_type": "code",
   "execution_count": 13,
   "metadata": {},
   "outputs": [
    {
     "data": {
      "image/png": "[encoded data removed]",
      "text/plain": [
       "<Figure size 432x288 with 1 Axes>"
      ]
     },
     "metadata": {
      "needs_background": "light"
     },
     "output_type": "display_data"
    }
   ],
   "source": [
    "fig, ax = plt.subplots()\n",
    "title = r'$Polinomio ; De ; Bernstein ; ([{0}, {1}] ; n={2})$'.format(a, b, n)\n",
    "ax.set_title(title)\n",
    "t = np.linspace(a, b, 1000)\n",
    "ax.axis([a, b, a, b + 5])\n",
    "\n",
    "ax.set_xlabel('x')\n",
    "ax.set_ylabel('y')\n",
    "\n",
    "ax.grid('on')\n",
    "\n",
    "ax.plot(t, f(t), 'b-', lw=1.5)\n",
    "ax.plot(t, g(t), 'r-', lw=1.5)\n",
    "\n",
    "text1 = r'$f(x)={}$'.format(latex(fun))\n",
    "text2 = r'$Pol.; Bernstein$'\n",
    "\n",
    "plt.legend([text1, text2])\n",
    "\n",
    "plt.show()"
   ]
  },
  {
   "cell_type": "markdown",
   "metadata": {},
   "source": [
    "### 3). $f(x)=x^2$"
   ]
  },
  {
   "cell_type": "code",
   "execution_count": 20,
   "metadata": {},
   "outputs": [
    {
     "name": "stdout",
     "output_type": "stream",
     "text": [
      "Introduzca la tercera función: f(x)=x**2 \n",
      "x**2\n",
      "La función es: \n",
      " 2\n",
      "x \n",
      "Introduzca 6, el grado de aproximación: \n",
      "6\n",
      "Introduzca el extremo izquierdo del intervalo: \n",
      "-1\n",
      "Introduzca el extremo derecho del intervalo: \n",
      "1\n"
     ]
    }
   ],
   "source": [
    "pprint(\"Introduzca la tercera función: f(x)=x**2 \")\n",
    "fun = eval(input())\n",
    "pprint('La función es: ')\n",
    "pprint(fun)\n",
    "pprint(\"Introduzca 6, el grado de aproximación: \")\n",
    "n = int(input())\n",
    "pprint(\"Introduzca el extremo izquierdo del intervalo: \")\n",
    "a = float(input())\n",
    "pprint(\"Introduzca el extremo derecho del intervalo: \")\n",
    "b = float(input())\n",
    "f = lambdify(x, fun, 'numpy')"
   ]
  },
  {
   "cell_type": "code",
   "execution_count": 21,
   "metadata": {},
   "outputs": [
    {
     "name": "stdout",
     "output_type": "stream",
     "text": [
      "El polinomio de Bernstein de grado 6 en el intervalo [-1.0, 1.0] es: \n",
      "                      6                         5                         4   \n",
      "3.46944695195361e-18⋅x  + 4.85722573273506e-17⋅x  + 3.12250225675825e-17⋅x  + \n",
      "\n",
      "                      3                      2                                \n",
      "6.93889390390723e-17⋅x  + 0.833333333333333⋅x  - 1.17961196366423e-16⋅x + 0.16\n",
      "\n",
      "             \n",
      "6666666666667\n"
     ]
    }
   ],
   "source": [
    "ci = fun.subs(x, i*((b - a) / n) + a)\n",
    "binom = binomial(n, i)\n",
    "Bin = binom * ((x - a) ** i * (b - x)**(n-i)) / (b - a) ** n\n",
    "pprint(\"El polinomio de Bernstein de grado {0} en el intervalo [{1}, {2}] es: \".format(n, a, b))\n",
    "bernstein = expand(summation(ci * Bin, (i,0,n)))\n",
    "pprint(bernstein)\n",
    "g = lambdify(x, bernstein, 'numpy')"
   ]
  },
  {
   "cell_type": "code",
   "execution_count": 22,
   "metadata": {},
   "outputs": [
    {
     "data": {
      "image/png": "[encoded data removed]",
      "text/plain": [
       "<Figure size 432x288 with 1 Axes>"
      ]
     },
     "metadata": {
      "needs_background": "light"
     },
     "output_type": "display_data"
    }
   ],
   "source": [
    "fig, ax = plt.subplots()\n",
    "title = r'$Polinomio ; De ; Bernstein ; ([{0}, {1}] ; n={2})$'.format(a, b, n)\n",
    "ax.set_title(title)\n",
    "t = np.linspace(a, b, 1000)\n",
    "ax.axis([a, b, a, b + 5])\n",
    "\n",
    "ax.set_xlabel('x')\n",
    "ax.set_ylabel('y')\n",
    "\n",
    "ax.grid('on')\n",
    "\n",
    "ax.plot(t, f(t), 'b-', lw=1.5)\n",
    "ax.plot(t, g(t), 'r-', lw=1.5)\n",
    "\n",
    "text1 = r'$f(x)={}$'.format(latex(fun))\n",
    "text2 = r'$Pol.; Bernstein$'\n",
    "\n",
    "plt.legend([text1, text2])\n",
    "\n",
    "plt.show()"
   ]
  },
  {
   "cell_type": "markdown",
   "metadata": {},
   "source": [
    "### 3). $f(x)=Cos(\\frac{\\pi x}{2})$"
   ]
  },
  {
   "cell_type": "code",
   "execution_count": 23,
   "metadata": {},
   "outputs": [
    {
     "name": "stdout",
     "output_type": "stream",
     "text": [
      "Introduzca la función: f(x)=sp.cos(sp.pi*x/2) \n",
      "sp.cos(sp.pi*x/2)\n",
      "La función es: \n",
      "   ⎛π⋅x⎞\n",
      "cos⎜───⎟\n",
      "   ⎝ 2 ⎠\n",
      "Introduzca 6, el grado de aproximación: \n",
      "6\n",
      "Introduzca el extremo izquierdo del intervalo: \n",
      "-1\n",
      "Introduzca el extremo derecho del intervalo: \n",
      "1\n"
     ]
    }
   ],
   "source": [
    "pprint(\"Introduzca la función: f(x)=sp.cos(sp.pi*x/2) \")\n",
    "fun = eval(input())\n",
    "pprint('La función es: ')\n",
    "pprint(fun)\n",
    "pprint(\"Introduzca 6, el grado de aproximación: \")\n",
    "n = int(input())\n",
    "pprint(\"Introduzca el extremo izquierdo del intervalo: \")\n",
    "a = float(input())\n",
    "pprint(\"Introduzca el extremo derecho del intervalo: \")\n",
    "b = float(input())\n",
    "f = lambdify(x, fun, 'numpy')"
   ]
  },
  {
   "cell_type": "code",
   "execution_count": 24,
   "metadata": {},
   "outputs": [
    {
     "name": "stdout",
     "output_type": "stream",
     "text": [
      "El polinomio de Bernstein de grado 6 en el intervalo [-1.0, 1.0] es: \n",
      "          6            6                                     6                \n",
      "- 0.3125⋅x  - 0.09375⋅x ⋅cos(0.333333333333333⋅π) - 0.09375⋅x ⋅cos(0.333333333\n",
      "\n",
      "                      6                                      6                \n",
      "333333⋅π) + 0.234375⋅x ⋅cos(0.166666666666667⋅π) + 0.234375⋅x ⋅cos(0.166666666\n",
      "\n",
      "                     5                                   5                    \n",
      "666667⋅π) - 0.46875⋅x ⋅cos(0.166666666666667⋅π) - 0.375⋅x ⋅cos(0.3333333333333\n",
      "\n",
      "               5                                     5                        \n",
      "33⋅π) + 0.375⋅x ⋅cos(0.333333333333333⋅π) + 0.46875⋅x ⋅cos(0.166666666666667⋅π\n",
      "\n",
      "             4                                     4                          \n",
      ") - 0.46875⋅x ⋅cos(0.333333333333333⋅π) - 0.46875⋅x ⋅cos(0.333333333333333⋅π) \n",
      "\n",
      "            4                                      4                          \n",
      "- 0.234375⋅x ⋅cos(0.166666666666667⋅π) - 0.234375⋅x ⋅cos(0.166666666666667⋅π) \n",
      "\n",
      "          4           3                                    3                  \n",
      "+ 0.9375⋅x  - 0.9375⋅x ⋅cos(0.166666666666667⋅π) + 0.9375⋅x ⋅cos(0.16666666666\n",
      "\n",
      "                  2             2                                      2      \n",
      "6667⋅π) - 0.9375⋅x  - 0.234375⋅x ⋅cos(0.166666666666667⋅π) - 0.234375⋅x ⋅cos(0\n",
      "\n",
      "                               2                                     2        \n",
      ".166666666666667⋅π) + 0.46875⋅x ⋅cos(0.333333333333333⋅π) + 0.46875⋅x ⋅cos(0.3\n",
      "\n",
      "                                                                              \n",
      "33333333333333⋅π) - 0.46875⋅x⋅cos(0.166666666666667⋅π) - 0.375⋅x⋅cos(0.3333333\n",
      "\n",
      "                                                                              \n",
      "33333333⋅π) + 0.375⋅x⋅cos(0.333333333333333⋅π) + 0.46875⋅x⋅cos(0.1666666666666\n",
      "\n",
      "                                                                              \n",
      "67⋅π) + 0.09375⋅cos(0.333333333333333⋅π) + 0.09375⋅cos(0.333333333333333⋅π) + \n",
      "\n",
      "                                                                              \n",
      "0.234375⋅cos(0.166666666666667⋅π) + 0.234375⋅cos(0.166666666666667⋅π) + 0.3125\n"
     ]
    }
   ],
   "source": [
    "ci = fun.subs(x, i*((b - a) / n) + a)\n",
    "binom = binomial(n, i)\n",
    "Bin = binom * ((x - a) ** i * (b - x)**(n-i)) / (b - a) ** n\n",
    "pprint(\"El polinomio de Bernstein de grado {0} en el intervalo [{1}, {2}] es: \".format(n, a, b))\n",
    "bernstein = expand(summation(ci * Bin, (i,0,n)))\n",
    "pprint(bernstein)\n",
    "g = lambdify(x, bernstein, 'numpy')"
   ]
  },
  {
   "cell_type": "code",
   "execution_count": 25,
   "metadata": {},
   "outputs": [
    {
     "data": {
      "image/png": "[encoded data removed]",
      "text/plain": [
       "<Figure size 432x288 with 1 Axes>"
      ]
     },
     "metadata": {
      "needs_background": "light"
     },
     "output_type": "display_data"
    }
   ],
   "source": [
    "fig, ax = plt.subplots()\n",
    "title = r'$Polinomio ; De ; Bernstein ; ([{0}, {1}] ; n={2})$'.format(a, b, n)\n",
    "ax.set_title(title)\n",
    "t = np.linspace(a, b, 1000)\n",
    "ax.axis([a, b, a, b + 5])\n",
    "\n",
    "ax.set_xlabel('x')\n",
    "ax.set_ylabel('y')\n",
    "\n",
    "ax.grid('on')\n",
    "\n",
    "ax.plot(t, f(t), 'b-', lw=1.5)\n",
    "ax.plot(t, g(t), 'r-', lw=1.5)\n",
    "\n",
    "text1 = r'$f(x)={}$'.format(latex(fun))\n",
    "text2 = r'$Pol.; Bernstein$'\n",
    "\n",
    "plt.legend([text1, text2])\n",
    "\n",
    "plt.show()"
   ]
  },
  {
   "cell_type": "markdown",
   "metadata": {},
   "source": [
    "### 5). $f(x)=e^x$"
   ]
  },
  {
   "cell_type": "code",
   "execution_count": 26,
   "metadata": {},
   "outputs": [
    {
     "name": "stdout",
     "output_type": "stream",
     "text": [
      "Introduzca la función: f(x)=exp(x) \n",
      "exp(x)\n",
      "La función es: \n",
      " x\n",
      "ℯ \n",
      "Introduzca 6, el grado de aproximación: \n",
      "6\n",
      "Introduzca el extremo izquierdo del intervalo: \n",
      "0\n",
      "Introduzca el extremo derecho del intervalo: \n",
      "1\n"
     ]
    }
   ],
   "source": [
    "pprint(\"Introduzca la función: f(x)=exp(x) \")\n",
    "fun = eval(input())\n",
    "pprint('La función es: ')\n",
    "pprint(fun)\n",
    "pprint(\"Introduzca 6, el grado de aproximación: \")\n",
    "n = int(input())\n",
    "pprint(\"Introduzca el extremo izquierdo del intervalo: \")\n",
    "a = float(input())\n",
    "pprint(\"Introduzca el extremo derecho del intervalo: \")\n",
    "b = float(input())\n",
    "f = lambdify(x, fun, 'numpy')"
   ]
  },
  {
   "cell_type": "code",
   "execution_count": 27,
   "metadata": {},
   "outputs": [
    {
     "name": "stdout",
     "output_type": "stream",
     "text": [
      "El polinomio de Bernstein de grado 6 en el intervalo [0.0, 1.0] es: \n",
      "                     6                        5                       4       \n",
      "3.55840171302191e-5⋅x  + 0.00117723652837753⋅x  + 0.0162278596217469⋅x  + 0.11\n",
      "\n",
      "              3                     2                           \n",
      "930468077594⋅x  + 0.49337399032197⋅x  + 1.08816247719388⋅x + 1.0\n"
     ]
    }
   ],
   "source": [
    "ci = fun.subs(x, i*((b - a) / n) + a)\n",
    "binom = binomial(n, i)\n",
    "Bin = binom * ((x - a) ** i * (b - x)**(n-i)) / (b - a) ** n\n",
    "pprint(\"El polinomio de Bernstein de grado {0} en el intervalo [{1}, {2}] es: \".format(n, a, b))\n",
    "bernstein = expand(summation(ci * Bin, (i,0,n)))\n",
    "pprint(bernstein)\n",
    "g = lambdify(x, bernstein, 'numpy')"
   ]
  },
  {
   "cell_type": "code",
   "execution_count": 28,
   "metadata": {},
   "outputs": [
    {
     "data": {
      "image/png": "[encoded data removed]",
      "text/plain": [
       "<Figure size 432x288 with 1 Axes>"
      ]
     },
     "metadata": {
      "needs_background": "light"
     },
     "output_type": "display_data"
    }
   ],
   "source": [
    "fig, ax = plt.subplots()\n",
    "title = r'$Polinomio ; De ; Bernstein ; ([{0}, {1}] ; n={2})$'.format(a, b, n)\n",
    "ax.set_title(title)\n",
    "t = np.linspace(a, b, 1000)\n",
    "ax.axis([a, b, a, b + 5])\n",
    "\n",
    "ax.set_xlabel('x')\n",
    "ax.set_ylabel('y')\n",
    "\n",
    "ax.grid('on')\n",
    "\n",
    "ax.plot(t, f(t), 'b-', lw=1.5)\n",
    "ax.plot(t, g(t), 'r-', lw=1.5)\n",
    "\n",
    "text1 = r'$f(x)={}$'.format(latex(fun))\n",
    "text2 = r'$Pol.; Bernstein$'\n",
    "\n",
    "plt.legend([text1, text2])\n",
    "\n",
    "plt.show()"
   ]
  },
  {
   "cell_type": "markdown",
   "metadata": {},
   "source": [
    "Respecto a las características de convergencia, para una función continua cualquiera, la sucesión de sus polinomios de Bernstein converge uniformemente a la función en el intervalo $[0,1]$.\n",
    "\n",
    "La función $f(x)=1$, converge a $1$ en cualquier intervalo.\n",
    "\n",
    "Para una función continua cualquiera, la sucesión de sus polinomios de Bernstein convergen uniformemente a la función $f$ en el intervalo $[a,b]$.\n",
    "\n",
    "El Polinomio de Bernstein aproxima funciones usando una sucesión, entre mayor sea el $n$ de la sucesión, mas excata será la función.\n",
    "\n",
    "La esencia de esto es la construcción de una sucesión de polinomios que convergen\n",
    "uniformemente a una función continua."
   ]
  },
  {
   "cell_type": "code",
   "execution_count": null,
   "metadata": {},
   "outputs": [],
   "source": []
  }
 ],
 "metadata": {
  "kernelspec": {
   "display_name": "Python 3",
   "language": "python",
   "name": "python3"
  },
  "language_info": {
   "codemirror_mode": {
    "name": "ipython",
    "version": 3
   },
   "file_extension": ".py",
   "mimetype": "text/x-python",
   "name": "python",
   "nbconvert_exporter": "python",
   "pygments_lexer": "ipython3",
   "version": "3.8.5"
  }
 },
 "nbformat": 4,
 "nbformat_minor": 4
}

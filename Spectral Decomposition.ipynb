{
 "cells": [
  {
   "cell_type": "markdown",
   "metadata": {},
   "source": [
    "# Descomposiciòn Espectral"
   ]
  },
  {
   "cell_type": "code",
   "execution_count": 2,
   "metadata": {},
   "outputs": [],
   "source": [
    "from sympy import init_printing\n",
    "init_printing(use_latex=True)\n",
    "from sympy.physics.quantum import Dagger\n",
    "import sympy as sp\n",
    "from sympy import *\n",
    "from sympy.matrices import Matrix\n",
    "import numpy as np"
   ]
  },
  {
   "cell_type": "raw",
   "metadata": {},
   "source": [
    "Introducción del operador que se desea descomponer"
   ]
  },
  {
   "cell_type": "code",
   "execution_count": 3,
   "metadata": {},
   "outputs": [
    {
     "data": {
      "image/png": "[encoded data removed]",
      "text/latex": [
       "$\\displaystyle \\left[\\begin{matrix}4 & i & 1\\\\- i & 4 & - i\\\\1 & i & 4\\end{matrix}\\right]$"
      ],
      "text/plain": [
       "⎡4   ⅈ  1 ⎤\n",
       "⎢         ⎥\n",
       "⎢-ⅈ  4  -ⅈ⎥\n",
       "⎢         ⎥\n",
       "⎣1   ⅈ  4 ⎦"
      ]
     },
     "execution_count": 3,
     "metadata": {},
     "output_type": "execute_result"
    }
   ],
   "source": [
    "M = Matrix(( [4, I, 1], [-I, 4, -I], [1, I, 4] ))\n",
    "M"
   ]
  },
  {
   "cell_type": "markdown",
   "metadata": {},
   "source": [
    "Verificar si se trata de un operador normal, para ello encontrar adjunto y ver si conmuta con su adjunto\n"
   ]
  },
  {
   "cell_type": "code",
   "execution_count": 4,
   "metadata": {},
   "outputs": [
    {
     "data": {
      "image/png": "[encoded data removed]",
      "text/latex": [
       "$\\displaystyle \\left[\\begin{matrix}4 & i & 1\\\\- i & 4 & - i\\\\1 & i & 4\\end{matrix}\\right]$"
      ],
      "text/plain": [
       "⎡4   ⅈ  1 ⎤\n",
       "⎢         ⎥\n",
       "⎢-ⅈ  4  -ⅈ⎥\n",
       "⎢         ⎥\n",
       "⎣1   ⅈ  4 ⎦"
      ]
     },
     "execution_count": 4,
     "metadata": {},
     "output_type": "execute_result"
    }
   ],
   "source": [
    "MA= M.adjoint()\n",
    "MA"
   ]
  },
  {
   "cell_type": "code",
   "execution_count": 5,
   "metadata": {},
   "outputs": [
    {
     "data": {
      "image/png": "[encoded data removed]",
      "text/latex": [
       "$\\displaystyle \\left( \\left[\\begin{matrix}18 & 9 i & 9\\\\- 9 i & 18 & - 9 i\\\\9 & 9 i & 18\\end{matrix}\\right], \\  \\left[\\begin{matrix}18 & 9 i & 9\\\\- 9 i & 18 & - 9 i\\\\9 & 9 i & 18\\end{matrix}\\right]\\right)$"
      ],
      "text/plain": [
       "⎛⎡ 18   9⋅ⅈ   9  ⎤  ⎡ 18   9⋅ⅈ   9  ⎤⎞\n",
       "⎜⎢               ⎥  ⎢               ⎥⎟\n",
       "⎜⎢-9⋅ⅈ  18   -9⋅ⅈ⎥, ⎢-9⋅ⅈ  18   -9⋅ⅈ⎥⎟\n",
       "⎜⎢               ⎥  ⎢               ⎥⎟\n",
       "⎝⎣ 9    9⋅ⅈ   18 ⎦  ⎣ 9    9⋅ⅈ   18 ⎦⎠"
      ]
     },
     "execution_count": 5,
     "metadata": {},
     "output_type": "execute_result"
    }
   ],
   "source": [
    "Lado_izq=M*MA\n",
    "Lado_der=MA*M\n",
    "Lado_izq, Lado_der"
   ]
  },
  {
   "cell_type": "markdown",
   "metadata": {},
   "source": [
    "El resultado muestra que conmuta con su adjunto, se verifica que M es normal...Ahora procedemos a realizar la descomposición espectral, lo primero será encontrar los valores y vectores propios:"
   ]
  },
  {
   "cell_type": "code",
   "execution_count": 6,
   "metadata": {},
   "outputs": [
    {
     "data": {
      "image/png": "[encoded data removed]",
      "text/latex": [
       "$\\displaystyle \\left\\{ 3 : 2, \\  6 : 1\\right\\}$"
      ],
      "text/plain": [
       "{3: 2, 6: 1}"
      ]
     },
     "execution_count": 6,
     "metadata": {},
     "output_type": "execute_result"
    }
   ],
   "source": [
    "valores=M.eigenvals(simplify= True)\n",
    "valores"
   ]
  },
  {
   "cell_type": "code",
   "execution_count": 7,
   "metadata": {
    "scrolled": true
   },
   "outputs": [
    {
     "data": {
      "image/png": "[encoded data removed]",
      "text/latex": [
       "$\\displaystyle \\left[ \\left( 3, \\  2, \\  \\left[ \\left[\\begin{matrix}- i\\\\1\\\\0\\end{matrix}\\right], \\  \\left[\\begin{matrix}-1\\\\0\\\\1\\end{matrix}\\right]\\right]\\right), \\  \\left( 6, \\  1, \\  \\left[ \\left[\\begin{matrix}1\\\\- i\\\\1\\end{matrix}\\right]\\right]\\right)\\right]$"
      ],
      "text/plain": [
       "⎡⎛      ⎡⎡-ⅈ⎤  ⎡-1⎤⎤⎞  ⎛      ⎡⎡1 ⎤⎤⎞⎤\n",
       "⎢⎜      ⎢⎢  ⎥  ⎢  ⎥⎥⎟  ⎜      ⎢⎢  ⎥⎥⎟⎥\n",
       "⎢⎜3, 2, ⎢⎢1 ⎥, ⎢0 ⎥⎥⎟, ⎜6, 1, ⎢⎢-ⅈ⎥⎥⎟⎥\n",
       "⎢⎜      ⎢⎢  ⎥  ⎢  ⎥⎥⎟  ⎜      ⎢⎢  ⎥⎥⎟⎥\n",
       "⎣⎝      ⎣⎣0 ⎦  ⎣1 ⎦⎦⎠  ⎝      ⎣⎣1 ⎦⎦⎠⎦"
      ]
     },
     "execution_count": 7,
     "metadata": {},
     "output_type": "execute_result"
    }
   ],
   "source": [
    "vectores=M.eigenvects()\n",
    "vectores"
   ]
  },
  {
   "cell_type": "code",
   "execution_count": 8,
   "metadata": {},
   "outputs": [
    {
     "data": {
      "text/plain": [
       "list"
      ]
     },
     "execution_count": 8,
     "metadata": {},
     "output_type": "execute_result"
    }
   ],
   "source": [
    "type(vectores)"
   ]
  },
  {
   "cell_type": "markdown",
   "metadata": {},
   "source": [
    "Observar que el resultado nos da una lista, en la cual aparace primero el valor propio, después la multiplicidad geométrica y luego el o los vectores asociados a dicho valor. En este caso para el primer valor propio se observa que la multiplicidad geométrica es 2, por lo cual se intuye que el espacio propio es un plano, habra que buscar ese espacio propio, observar que los vectores asociados al valor propio 3 son ortogonales al correspondiente al valor propio 6, como esperamos tratándose de un operador normal. Sin embargo los vectores de la base asociados valor propio 3 no son ortogonales, por lo cual habrà que asociar a ellos una base ortogonal."
   ]
  },
  {
   "cell_type": "code",
   "execution_count": 9,
   "metadata": {},
   "outputs": [
    {
     "data": {
      "image/png": "[encoded data removed]",
      "text/latex": [
       "$\\displaystyle \\left( 3, \\  2, \\  \\left[ \\left[\\begin{matrix}- i\\\\1\\\\0\\end{matrix}\\right], \\  \\left[\\begin{matrix}-1\\\\0\\\\1\\end{matrix}\\right]\\right]\\right)$"
      ],
      "text/plain": [
       "⎛      ⎡⎡-ⅈ⎤  ⎡-1⎤⎤⎞\n",
       "⎜      ⎢⎢  ⎥  ⎢  ⎥⎥⎟\n",
       "⎜3, 2, ⎢⎢1 ⎥, ⎢0 ⎥⎥⎟\n",
       "⎜      ⎢⎢  ⎥  ⎢  ⎥⎥⎟\n",
       "⎝      ⎣⎣0 ⎦  ⎣1 ⎦⎦⎠"
      ]
     },
     "execution_count": 9,
     "metadata": {},
     "output_type": "execute_result"
    }
   ],
   "source": [
    "vectores[0]"
   ]
  },
  {
   "cell_type": "code",
   "execution_count": 41,
   "metadata": {},
   "outputs": [
    {
     "data": {
      "text/plain": [
       "tuple"
      ]
     },
     "execution_count": 41,
     "metadata": {},
     "output_type": "execute_result"
    }
   ],
   "source": [
    "type(vectores[0])"
   ]
  },
  {
   "cell_type": "code",
   "execution_count": 10,
   "metadata": {},
   "outputs": [
    {
     "data": {
      "image/png": "[encoded data removed]",
      "text/latex": [
       "$\\displaystyle \\left( 6, \\  1, \\  \\left[ \\left[\\begin{matrix}1\\\\- i\\\\1\\end{matrix}\\right]\\right]\\right)$"
      ],
      "text/plain": [
       "⎛      ⎡⎡1 ⎤⎤⎞\n",
       "⎜      ⎢⎢  ⎥⎥⎟\n",
       "⎜6, 1, ⎢⎢-ⅈ⎥⎥⎟\n",
       "⎜      ⎢⎢  ⎥⎥⎟\n",
       "⎝      ⎣⎣1 ⎦⎦⎠"
      ]
     },
     "execution_count": 10,
     "metadata": {},
     "output_type": "execute_result"
    }
   ],
   "source": [
    "vectores[1]"
   ]
  },
  {
   "cell_type": "code",
   "execution_count": 43,
   "metadata": {},
   "outputs": [
    {
     "data": {
      "text/plain": [
       "tuple"
      ]
     },
     "execution_count": 43,
     "metadata": {},
     "output_type": "execute_result"
    }
   ],
   "source": [
    "type(vectores[1])"
   ]
  },
  {
   "cell_type": "markdown",
   "metadata": {},
   "source": [
    "Observar que en este caso que los elementos de la lista vectores son tuplas, aquí se deberá tener cuidado para extraer los elementos de la tupla, utilizar la sintaxis apropiada para realizar el desempaquetamiento de la tupla y la selección de los vectores:"
   ]
  },
  {
   "cell_type": "code",
   "execution_count": 20,
   "metadata": {},
   "outputs": [
    {
     "name": "stdout",
     "output_type": "stream",
     "text": [
      "3\n"
     ]
    }
   ],
   "source": [
    "print(len(vectores[0]))"
   ]
  },
  {
   "cell_type": "markdown",
   "metadata": {},
   "source": [
    "El resultado anterior nos muestra que la tupla tiene 3 elemenos, a nosotros solo nos interesan el primer y tercer elemento  de cada tupla, valor propio y vectore(s), como el segundo no nos interesa no le asignaremos variable y eso lo hacemos con un guion bajo:"
   ]
  },
  {
   "cell_type": "code",
   "execution_count": 11,
   "metadata": {},
   "outputs": [
    {
     "data": {
      "image/png": "[encoded data removed]",
      "text/latex": [
       "$\\displaystyle \\left( 3, \\  \\left[ \\left[\\begin{matrix}- i\\\\1\\\\0\\end{matrix}\\right], \\  \\left[\\begin{matrix}-1\\\\0\\\\1\\end{matrix}\\right]\\right]\\right)$"
      ],
      "text/plain": [
       "⎛   ⎡⎡-ⅈ⎤  ⎡-1⎤⎤⎞\n",
       "⎜   ⎢⎢  ⎥  ⎢  ⎥⎥⎟\n",
       "⎜3, ⎢⎢1 ⎥, ⎢0 ⎥⎥⎟\n",
       "⎜   ⎢⎢  ⎥  ⎢  ⎥⎥⎟\n",
       "⎝   ⎣⎣0 ⎦  ⎣1 ⎦⎦⎠"
      ]
     },
     "execution_count": 11,
     "metadata": {},
     "output_type": "execute_result"
    }
   ],
   "source": [
    "val1,_,vect1=vectores[0]\n",
    "val1,vect1"
   ]
  },
  {
   "cell_type": "code",
   "execution_count": 23,
   "metadata": {},
   "outputs": [
    {
     "data": {
      "text/plain": [
       "list"
      ]
     },
     "execution_count": 23,
     "metadata": {},
     "output_type": "execute_result"
    }
   ],
   "source": [
    "type(vect1)"
   ]
  },
  {
   "cell_type": "markdown",
   "metadata": {},
   "source": [
    "Observe que ahora los vectores propios quedaron contenidos en una lista, de allí ya los podemos extraer:"
   ]
  },
  {
   "cell_type": "code",
   "execution_count": 12,
   "metadata": {},
   "outputs": [
    {
     "data": {
      "image/png": "[encoded data removed]",
      "text/latex": [
       "$\\displaystyle \\left[\\begin{matrix}- i\\\\1\\\\0\\end{matrix}\\right]$"
      ],
      "text/plain": [
       "⎡-ⅈ⎤\n",
       "⎢  ⎥\n",
       "⎢1 ⎥\n",
       "⎢  ⎥\n",
       "⎣0 ⎦"
      ]
     },
     "execution_count": 12,
     "metadata": {},
     "output_type": "execute_result"
    }
   ],
   "source": [
    "v1= vect1[0]\n",
    "v1"
   ]
  },
  {
   "cell_type": "code",
   "execution_count": 25,
   "metadata": {},
   "outputs": [
    {
     "data": {
      "text/plain": [
       "sympy.matrices.dense.MutableDenseMatrix"
      ]
     },
     "execution_count": 25,
     "metadata": {},
     "output_type": "execute_result"
    }
   ],
   "source": [
    "type(v1)"
   ]
  },
  {
   "cell_type": "code",
   "execution_count": 13,
   "metadata": {},
   "outputs": [
    {
     "data": {
      "image/png": "[encoded data removed]",
      "text/latex": [
       "$\\displaystyle \\left[\\begin{matrix}-1\\\\0\\\\1\\end{matrix}\\right]$"
      ],
      "text/plain": [
       "⎡-1⎤\n",
       "⎢  ⎥\n",
       "⎢0 ⎥\n",
       "⎢  ⎥\n",
       "⎣1 ⎦"
      ]
     },
     "execution_count": 13,
     "metadata": {},
     "output_type": "execute_result"
    }
   ],
   "source": [
    "v2= vect1[1]\n",
    "v2"
   ]
  },
  {
   "cell_type": "code",
   "execution_count": 14,
   "metadata": {},
   "outputs": [
    {
     "data": {
      "image/png": "[encoded data removed]",
      "text/latex": [
       "$\\displaystyle \\left( 6, \\  \\left[ \\left[\\begin{matrix}1\\\\- i\\\\1\\end{matrix}\\right]\\right]\\right)$"
      ],
      "text/plain": [
       "⎛   ⎡⎡1 ⎤⎤⎞\n",
       "⎜   ⎢⎢  ⎥⎥⎟\n",
       "⎜6, ⎢⎢-ⅈ⎥⎥⎟\n",
       "⎜   ⎢⎢  ⎥⎥⎟\n",
       "⎝   ⎣⎣1 ⎦⎦⎠"
      ]
     },
     "execution_count": 14,
     "metadata": {},
     "output_type": "execute_result"
    }
   ],
   "source": [
    "val2,_,vect2=vectores[1]\n",
    "val2,vect2"
   ]
  },
  {
   "cell_type": "code",
   "execution_count": 15,
   "metadata": {},
   "outputs": [
    {
     "data": {
      "image/png": "[encoded data removed]",
      "text/latex": [
       "$\\displaystyle \\left[\\begin{matrix}1\\\\- i\\\\1\\end{matrix}\\right]$"
      ],
      "text/plain": [
       "⎡1 ⎤\n",
       "⎢  ⎥\n",
       "⎢-ⅈ⎥\n",
       "⎢  ⎥\n",
       "⎣1 ⎦"
      ]
     },
     "execution_count": 15,
     "metadata": {},
     "output_type": "execute_result"
    }
   ],
   "source": [
    "v3= Matrix([[1],[-I],[1]])\n",
    "v3"
   ]
  },
  {
   "cell_type": "code",
   "execution_count": 73,
   "metadata": {},
   "outputs": [
    {
     "data": {
      "text/plain": [
       "sympy.matrices.dense.MutableDenseMatrix"
      ]
     },
     "execution_count": 73,
     "metadata": {},
     "output_type": "execute_result"
    }
   ],
   "source": [
    "type(v3)"
   ]
  },
  {
   "cell_type": "markdown",
   "metadata": {},
   "source": [
    "Revisar si los vectores forman o no una base ortonormal>"
   ]
  },
  {
   "cell_type": "code",
   "execution_count": 74,
   "metadata": {},
   "outputs": [
    {
     "data": {
      "image/png": "[encoded data removed]",
      "text/latex": [
       "$\\displaystyle - 2 i$"
      ],
      "text/plain": [
       "-2⋅ⅈ"
      ]
     },
     "execution_count": 74,
     "metadata": {},
     "output_type": "execute_result"
    }
   ],
   "source": [
    "v1.dot(v3)"
   ]
  },
  {
   "cell_type": "code",
   "execution_count": 75,
   "metadata": {},
   "outputs": [
    {
     "data": {
      "image/png": "[encoded data removed]",
      "text/latex": [
       "$\\displaystyle 0$"
      ],
      "text/plain": [
       "0"
      ]
     },
     "execution_count": 75,
     "metadata": {},
     "output_type": "execute_result"
    }
   ],
   "source": [
    "v2.dot(v3)"
   ]
  },
  {
   "cell_type": "markdown",
   "metadata": {},
   "source": [
    "Observar que los vectores v2 y v3 son ortogonales, por lo cual de los dos vectores asociados al valor propio 3, tomamos v2. Ahora debemos verificar que están normalizados:"
   ]
  },
  {
   "cell_type": "code",
   "execution_count": 76,
   "metadata": {},
   "outputs": [
    {
     "data": {
      "image/png": "[encoded data removed]",
      "text/latex": [
       "$\\displaystyle \\sqrt{2}$"
      ],
      "text/plain": [
       "√2"
      ]
     },
     "execution_count": 76,
     "metadata": {},
     "output_type": "execute_result"
    }
   ],
   "source": [
    "v2.norm()"
   ]
  },
  {
   "cell_type": "code",
   "execution_count": 77,
   "metadata": {},
   "outputs": [
    {
     "data": {
      "image/png": "[encoded data removed]",
      "text/latex": [
       "$\\displaystyle \\sqrt{3}$"
      ],
      "text/plain": [
       "√3"
      ]
     },
     "execution_count": 77,
     "metadata": {},
     "output_type": "execute_result"
    }
   ],
   "source": [
    "v3.norm()"
   ]
  },
  {
   "cell_type": "markdown",
   "metadata": {},
   "source": [
    "Como la base no es ortogonal, se procede a ortonormalizarlos:"
   ]
  },
  {
   "cell_type": "code",
   "execution_count": 6,
   "metadata": {},
   "outputs": [
    {
     "data": {
      "image/png": "[encoded data removed]",
      "text/latex": [
       "$\\displaystyle \\left[ \\left[\\begin{matrix}- i\\\\1\\\\0\\end{matrix}\\right], \\  \\left[\\begin{matrix}-1\\\\0\\\\1\\end{matrix}\\right], \\  \\left[\\begin{matrix}1\\\\- i\\\\1\\end{matrix}\\right]\\right]$"
      ],
      "text/plain": [
       "⎡⎡-ⅈ⎤  ⎡-1⎤  ⎡1 ⎤⎤\n",
       "⎢⎢  ⎥  ⎢  ⎥  ⎢  ⎥⎥\n",
       "⎢⎢1 ⎥, ⎢0 ⎥, ⎢-ⅈ⎥⎥\n",
       "⎢⎢  ⎥  ⎢  ⎥  ⎢  ⎥⎥\n",
       "⎣⎣0 ⎦  ⎣1 ⎦  ⎣1 ⎦⎦"
      ]
     },
     "execution_count": 6,
     "metadata": {},
     "output_type": "execute_result"
    }
   ],
   "source": [
    "from sympy import Matrix\n",
    "S = [Matrix([-I,1,0]), Matrix([-1,0,1]), Matrix([1,-I,1])]\n",
    "#S = [Matrix([-I,1,0]), Matrix([-1,0,1])]\n",
    "S"
   ]
  },
  {
   "cell_type": "code",
   "execution_count": 84,
   "metadata": {},
   "outputs": [
    {
     "data": {
      "image/png": "[encoded data removed]",
      "text/latex": [
       "$\\displaystyle \\left[ \\left[\\begin{matrix}- \\frac{\\sqrt{2} i}{2}\\\\\\frac{\\sqrt{2}}{2}\\\\0\\end{matrix}\\right], \\  \\left[\\begin{matrix}- \\frac{3 \\sqrt{14}}{14}\\\\- \\frac{\\sqrt{14} i}{14}\\\\\\frac{\\sqrt{14}}{7}\\end{matrix}\\right], \\  \\left[\\begin{matrix}\\frac{\\sqrt{3}}{3}\\\\- \\frac{\\sqrt{3} i}{3}\\\\\\frac{\\sqrt{3}}{3}\\end{matrix}\\right]\\right]$"
      ],
      "text/plain": [
       "⎡          ⎡-3⋅√14 ⎤  ⎡  √3  ⎤⎤\n",
       "⎢⎡-√2⋅ⅈ ⎤  ⎢───────⎥  ⎢  ──  ⎥⎥\n",
       "⎢⎢──────⎥  ⎢   14  ⎥  ⎢  3   ⎥⎥\n",
       "⎢⎢  2   ⎥  ⎢       ⎥  ⎢      ⎥⎥\n",
       "⎢⎢      ⎥  ⎢-√14⋅ⅈ ⎥  ⎢-√3⋅ⅈ ⎥⎥\n",
       "⎢⎢  √2  ⎥, ⎢───────⎥, ⎢──────⎥⎥\n",
       "⎢⎢  ──  ⎥  ⎢   14  ⎥  ⎢  3   ⎥⎥\n",
       "⎢⎢  2   ⎥  ⎢       ⎥  ⎢      ⎥⎥\n",
       "⎢⎢      ⎥  ⎢  √14  ⎥  ⎢  √3  ⎥⎥\n",
       "⎢⎣  0   ⎦  ⎢  ───  ⎥  ⎢  ──  ⎥⎥\n",
       "⎣          ⎣   7   ⎦  ⎣  3   ⎦⎦"
      ]
     },
     "execution_count": 84,
     "metadata": {},
     "output_type": "execute_result"
    }
   ],
   "source": [
    "Orto=GramSchmidt(S,True) # hay un problema con este proceso\n",
    "Orto"
   ]
  },
  {
   "cell_type": "code",
   "execution_count": 15,
   "metadata": {},
   "outputs": [
    {
     "data": {
      "image/png": "[encoded data removed]",
      "text/latex": [
       "$\\displaystyle \\left[ \\left[\\begin{matrix}- \\frac{\\sqrt{2} i}{2}\\\\\\frac{\\sqrt{2}}{2}\\\\0\\end{matrix}\\right], \\  \\left[\\begin{matrix}- \\frac{3 \\sqrt{14}}{14}\\\\- \\frac{\\sqrt{14} i}{14}\\\\\\frac{\\sqrt{14}}{7}\\end{matrix}\\right], \\  \\left[\\begin{matrix}\\frac{\\sqrt{3}}{3}\\\\- \\frac{\\sqrt{3} i}{3}\\\\\\frac{\\sqrt{3}}{3}\\end{matrix}\\right]\\right]$"
      ],
      "text/plain": [
       "⎡          ⎡-3⋅√14 ⎤  ⎡  √3  ⎤⎤\n",
       "⎢⎡-√2⋅ⅈ ⎤  ⎢───────⎥  ⎢  ──  ⎥⎥\n",
       "⎢⎢──────⎥  ⎢   14  ⎥  ⎢  3   ⎥⎥\n",
       "⎢⎢  2   ⎥  ⎢       ⎥  ⎢      ⎥⎥\n",
       "⎢⎢      ⎥  ⎢-√14⋅ⅈ ⎥  ⎢-√3⋅ⅈ ⎥⎥\n",
       "⎢⎢  √2  ⎥, ⎢───────⎥, ⎢──────⎥⎥\n",
       "⎢⎢  ──  ⎥  ⎢   14  ⎥  ⎢  3   ⎥⎥\n",
       "⎢⎢  2   ⎥  ⎢       ⎥  ⎢      ⎥⎥\n",
       "⎢⎢      ⎥  ⎢  √14  ⎥  ⎢  √3  ⎥⎥\n",
       "⎢⎣  0   ⎦  ⎢  ───  ⎥  ⎢  ──  ⎥⎥\n",
       "⎣          ⎣   7   ⎦  ⎣  3   ⎦⎦"
      ]
     },
     "execution_count": 15,
     "metadata": {},
     "output_type": "execute_result"
    }
   ],
   "source": [
    "S2=Matrix.orthogonalize(*S,normalize= True)\n",
    "S2"
   ]
  },
  {
   "cell_type": "code",
   "execution_count": 8,
   "metadata": {},
   "outputs": [
    {
     "data": {
      "image/png": "[encoded data removed]",
      "text/latex": [
       "$\\displaystyle \\left[\\begin{matrix}\\frac{\\sqrt{2} i}{2} & \\frac{\\sqrt{2}}{2} & 0\\end{matrix}\\right]$"
      ],
      "text/plain": [
       "⎡√2⋅ⅈ  √2   ⎤\n",
       "⎢────  ──  0⎥\n",
       "⎣ 2    2    ⎦"
      ]
     },
     "execution_count": 8,
     "metadata": {},
     "output_type": "execute_result"
    }
   ],
   "source": [
    "v2a=S2[0].adjoint()\n",
    "v2a"
   ]
  },
  {
   "cell_type": "markdown",
   "metadata": {},
   "source": [
    "Observe que el vector se ha traspuesto y conjugado, ahora se procede a construir el operador de proyección:"
   ]
  },
  {
   "cell_type": "code",
   "execution_count": 11,
   "metadata": {},
   "outputs": [
    {
     "data": {
      "image/png": "[encoded data removed]",
      "text/latex": [
       "$\\displaystyle \\left[\\begin{matrix}\\frac{1}{2} & - \\frac{i}{2} & 0\\\\\\frac{i}{2} & \\frac{1}{2} & 0\\\\0 & 0 & 0\\end{matrix}\\right]$"
      ],
      "text/plain": [
       "⎡     -ⅈ    ⎤\n",
       "⎢1/2  ───  0⎥\n",
       "⎢      2    ⎥\n",
       "⎢           ⎥\n",
       "⎢ ⅈ         ⎥\n",
       "⎢ ─   1/2  0⎥\n",
       "⎢ 2         ⎥\n",
       "⎢           ⎥\n",
       "⎣ 0    0   0⎦"
      ]
     },
     "metadata": {},
     "output_type": "display_data"
    }
   ],
   "source": [
    "P1=S2[0]*S2[0].adjoint()\n",
    "display(P1)"
   ]
  },
  {
   "cell_type": "code",
   "execution_count": null,
   "metadata": {},
   "outputs": [],
   "source": [
    "Se procede de igual manera con los otros dos vectores"
   ]
  },
  {
   "cell_type": "code",
   "execution_count": 88,
   "metadata": {},
   "outputs": [
    {
     "data": {
      "image/png": "[encoded data removed]",
      "text/latex": [
       "$\\displaystyle \\left[\\begin{matrix}- \\frac{3 \\sqrt{14}}{14} & \\frac{\\sqrt{14} i}{14} & \\frac{\\sqrt{14}}{7}\\end{matrix}\\right]$"
      ],
      "text/plain": [
       "⎡-3⋅√14   √14⋅ⅈ  √14⎤\n",
       "⎢───────  ─────  ───⎥\n",
       "⎣   14      14    7 ⎦"
      ]
     },
     "execution_count": 88,
     "metadata": {},
     "output_type": "execute_result"
    }
   ],
   "source": [
    "v2a=S2[1].adjoint()\n",
    "v2a"
   ]
  },
  {
   "cell_type": "code",
   "execution_count": 12,
   "metadata": {},
   "outputs": [
    {
     "data": {
      "image/png": "[encoded data removed]",
      "text/latex": [
       "$\\displaystyle \\left[\\begin{matrix}\\frac{9}{14} & - \\frac{3 i}{14} & - \\frac{3}{7}\\\\\\frac{3 i}{14} & \\frac{1}{14} & - \\frac{i}{7}\\\\- \\frac{3}{7} & \\frac{i}{7} & \\frac{2}{7}\\end{matrix}\\right]$"
      ],
      "text/plain": [
       "⎡      -3⋅ⅈ       ⎤\n",
       "⎢9/14  ─────  -3/7⎥\n",
       "⎢        14       ⎥\n",
       "⎢                 ⎥\n",
       "⎢3⋅ⅈ          -ⅈ  ⎥\n",
       "⎢───   1/14   ─── ⎥\n",
       "⎢ 14           7  ⎥\n",
       "⎢                 ⎥\n",
       "⎢        ⅈ        ⎥\n",
       "⎢-3/7    ─    2/7 ⎥\n",
       "⎣        7        ⎦"
      ]
     },
     "execution_count": 12,
     "metadata": {},
     "output_type": "execute_result"
    }
   ],
   "source": [
    "P2=S2[1]*S2[1].adjoint()\n",
    "P2"
   ]
  },
  {
   "cell_type": "markdown",
   "metadata": {},
   "source": [
    "Se construye un operador para el subespacio propio asociado al valor propio 3"
   ]
  },
  {
   "cell_type": "code",
   "execution_count": 90,
   "metadata": {},
   "outputs": [
    {
     "data": {
      "image/png": "[encoded data removed]",
      "text/latex": [
       "$\\displaystyle \\left[\\begin{matrix}\\frac{8}{7} & - \\frac{5 i}{7} & - \\frac{3}{7}\\\\\\frac{5 i}{7} & \\frac{4}{7} & - \\frac{i}{7}\\\\- \\frac{3}{7} & \\frac{i}{7} & \\frac{2}{7}\\end{matrix}\\right]$"
      ],
      "text/plain": [
       "⎡      -5⋅ⅈ       ⎤\n",
       "⎢8/7   ─────  -3/7⎥\n",
       "⎢        7        ⎥\n",
       "⎢                 ⎥\n",
       "⎢5⋅ⅈ          -ⅈ  ⎥\n",
       "⎢───    4/7   ─── ⎥\n",
       "⎢ 7            7  ⎥\n",
       "⎢                 ⎥\n",
       "⎢        ⅈ        ⎥\n",
       "⎢-3/7    ─    2/7 ⎥\n",
       "⎣        7        ⎦"
      ]
     },
     "execution_count": 90,
     "metadata": {},
     "output_type": "execute_result"
    }
   ],
   "source": [
    "P12=P1+P2\n",
    "P12"
   ]
  },
  {
   "cell_type": "code",
   "execution_count": 91,
   "metadata": {},
   "outputs": [
    {
     "data": {
      "image/png": "[encoded data removed]",
      "text/latex": [
       "$\\displaystyle \\left[\\begin{matrix}\\frac{\\sqrt{3}}{3} & \\frac{\\sqrt{3} i}{3} & \\frac{\\sqrt{3}}{3}\\end{matrix}\\right]$"
      ],
      "text/plain": [
       "⎡√3  √3⋅ⅈ  √3⎤\n",
       "⎢──  ────  ──⎥\n",
       "⎣3    3    3 ⎦"
      ]
     },
     "execution_count": 91,
     "metadata": {},
     "output_type": "execute_result"
    }
   ],
   "source": [
    "v3a=S2[2].adjoint()\n",
    "v3a"
   ]
  },
  {
   "cell_type": "code",
   "execution_count": 13,
   "metadata": {},
   "outputs": [
    {
     "data": {
      "image/png": "[encoded data removed]",
      "text/latex": [
       "$\\displaystyle \\left[\\begin{matrix}\\frac{1}{3} & \\frac{i}{3} & \\frac{1}{3}\\\\- \\frac{i}{3} & \\frac{1}{3} & - \\frac{i}{3}\\\\\\frac{1}{3} & \\frac{i}{3} & \\frac{1}{3}\\end{matrix}\\right]$"
      ],
      "text/plain": [
       "⎡      ⅈ      ⎤\n",
       "⎢1/3   ─   1/3⎥\n",
       "⎢      3      ⎥\n",
       "⎢             ⎥\n",
       "⎢-ⅈ        -ⅈ ⎥\n",
       "⎢───  1/3  ───⎥\n",
       "⎢ 3         3 ⎥\n",
       "⎢             ⎥\n",
       "⎢      ⅈ      ⎥\n",
       "⎢1/3   ─   1/3⎥\n",
       "⎣      3      ⎦"
      ]
     },
     "execution_count": 13,
     "metadata": {},
     "output_type": "execute_result"
    }
   ],
   "source": [
    "P3=S2[2]*S2[2].adjoint()\n",
    "P3"
   ]
  },
  {
   "cell_type": "code",
   "execution_count": 14,
   "metadata": {},
   "outputs": [
    {
     "data": {
      "image/png": "[encoded data removed]",
      "text/latex": [
       "$\\displaystyle \\left[\\begin{matrix}\\frac{31}{21} & - \\frac{8 i}{21} & - \\frac{2}{21}\\\\\\frac{8 i}{21} & \\frac{19}{21} & - \\frac{10 i}{21}\\\\- \\frac{2}{21} & \\frac{10 i}{21} & \\frac{13}{21}\\end{matrix}\\right]$"
      ],
      "text/plain": [
       "⎡ 31    -8⋅ⅈ         ⎤\n",
       "⎢ ──    ─────  -2/21 ⎥\n",
       "⎢ 21      21         ⎥\n",
       "⎢                    ⎥\n",
       "⎢ 8⋅ⅈ    19    -10⋅ⅈ ⎥\n",
       "⎢ ───    ──    ──────⎥\n",
       "⎢  21    21      21  ⎥\n",
       "⎢                    ⎥\n",
       "⎢       10⋅ⅈ     13  ⎥\n",
       "⎢-2/21  ────     ──  ⎥\n",
       "⎣        21      21  ⎦"
      ]
     },
     "execution_count": 14,
     "metadata": {},
     "output_type": "execute_result"
    }
   ],
   "source": [
    "Pt= P1+P2+P3\n",
    "Pt"
   ]
  },
  {
   "cell_type": "code",
   "execution_count": 70,
   "metadata": {},
   "outputs": [
    {
     "data": {
      "image/png": "[encoded data removed]",
      "text/latex": [
       "$\\displaystyle \\left[\\begin{matrix}\\frac{38}{7} & - \\frac{i}{7} & \\frac{5}{7}\\\\\\frac{i}{7} & \\frac{26}{7} & - \\frac{17 i}{7}\\\\\\frac{5}{7} & \\frac{17 i}{7} & \\frac{20}{7}\\end{matrix}\\right]$"
      ],
      "text/plain": [
       "⎡      -ⅈ          ⎤\n",
       "⎢38/7  ───    5/7  ⎥\n",
       "⎢       7          ⎥\n",
       "⎢                  ⎥\n",
       "⎢ ⅈ          -17⋅ⅈ ⎥\n",
       "⎢ ─    26/7  ──────⎥\n",
       "⎢ 7            7   ⎥\n",
       "⎢                  ⎥\n",
       "⎢      17⋅ⅈ        ⎥\n",
       "⎢5/7   ────   20/7 ⎥\n",
       "⎣       7          ⎦"
      ]
     },
     "execution_count": 70,
     "metadata": {},
     "output_type": "execute_result"
    }
   ],
   "source": [
    "MD= 3*P1+3*P2+6*P3\n",
    "MD"
   ]
  },
  {
   "cell_type": "code",
   "execution_count": 96,
   "metadata": {},
   "outputs": [
    {
     "data": {
      "image/png": "[encoded data removed]",
      "text/latex": [
       "$\\displaystyle \\frac{\\sqrt{7} i}{7}$"
      ],
      "text/plain": [
       "√7⋅ⅈ\n",
       "────\n",
       " 7  "
      ]
     },
     "execution_count": 96,
     "metadata": {},
     "output_type": "execute_result"
    }
   ],
   "source": [
    "Orto[0].dot(Orto[1])"
   ]
  },
  {
   "cell_type": "code",
   "execution_count": 97,
   "metadata": {},
   "outputs": [
    {
     "data": {
      "image/png": "[encoded data removed]",
      "text/latex": [
       "$\\displaystyle 1$"
      ],
      "text/plain": [
       "1"
      ]
     },
     "execution_count": 97,
     "metadata": {},
     "output_type": "execute_result"
    }
   ],
   "source": [
    "Orto[0].norm()"
   ]
  },
  {
   "cell_type": "code",
   "execution_count": 98,
   "metadata": {},
   "outputs": [
    {
     "data": {
      "image/png": "[encoded data removed]",
      "text/latex": [
       "$\\displaystyle 1$"
      ],
      "text/plain": [
       "1"
      ]
     },
     "execution_count": 98,
     "metadata": {},
     "output_type": "execute_result"
    }
   ],
   "source": [
    "Orto[1].norm()"
   ]
  },
  {
   "cell_type": "code",
   "execution_count": 99,
   "metadata": {},
   "outputs": [
    {
     "data": {
      "image/png": "[encoded data removed]",
      "text/latex": [
       "$\\displaystyle 1$"
      ],
      "text/plain": [
       "1"
      ]
     },
     "execution_count": 99,
     "metadata": {},
     "output_type": "execute_result"
    }
   ],
   "source": [
    "Orto[2].norm()"
   ]
  },
  {
   "cell_type": "code",
   "execution_count": 101,
   "metadata": {},
   "outputs": [
    {
     "data": {
      "image/png": "[encoded data removed]",
      "text/latex": [
       "$\\displaystyle \\left[\\begin{matrix}\\frac{38}{7} & - \\frac{i}{7} & \\frac{5}{7}\\\\\\frac{i}{7} & \\frac{26}{7} & - \\frac{17 i}{7}\\\\\\frac{5}{7} & \\frac{17 i}{7} & \\frac{20}{7}\\end{matrix}\\right]$"
      ],
      "text/plain": [
       "⎡      -ⅈ          ⎤\n",
       "⎢38/7  ───    5/7  ⎥\n",
       "⎢       7          ⎥\n",
       "⎢                  ⎥\n",
       "⎢ ⅈ          -17⋅ⅈ ⎥\n",
       "⎢ ─    26/7  ──────⎥\n",
       "⎢ 7            7   ⎥\n",
       "⎢                  ⎥\n",
       "⎢      17⋅ⅈ        ⎥\n",
       "⎢5/7   ────   20/7 ⎥\n",
       "⎣       7          ⎦"
      ]
     },
     "execution_count": 101,
     "metadata": {},
     "output_type": "execute_result"
    }
   ],
   "source": [
    "Descomposicion= 3*P12+6*P3\n",
    "Descomposicion"
   ]
  },
  {
   "cell_type": "markdown",
   "metadata": {},
   "source": [
    "# Trabajando con Numpy"
   ]
  },
  {
   "cell_type": "code",
   "execution_count": 80,
   "metadata": {},
   "outputs": [
    {
     "data": {
      "text/plain": [
       "array([[ 4.+0.j,  0.+1.j,  1.+0.j],\n",
       "       [-0.-1.j,  4.+0.j, -0.-1.j],\n",
       "       [ 1.+0.j,  0.+1.j,  4.+0.j]])"
      ]
     },
     "execution_count": 80,
     "metadata": {},
     "output_type": "execute_result"
    }
   ],
   "source": [
    "M2 = np.array([[4,1j,1], [-1j,4,-1j], [1,1j,4]])\n",
    "M2"
   ]
  },
  {
   "cell_type": "code",
   "execution_count": 82,
   "metadata": {
    "scrolled": true
   },
   "outputs": [
    {
     "data": {
      "text/plain": [
       "(array([3.+8.62666325e-19j, 6.-8.62666325e-19j, 3.+2.22044605e-16j]),\n",
       " array([[ 8.16496581e-01+0.00000000e+00j,  5.77350269e-01+0.00000000e+00j,\n",
       "         -5.63537246e-02+7.72508685e-02j],\n",
       "        [-1.76091026e-19+4.08248290e-01j,  4.98060635e-19-5.77350269e-01j,\n",
       "         -7.72508685e-02+6.73001073e-01j],\n",
       "        [-4.08248290e-01-1.76091026e-19j,  5.77350269e-01+4.98060635e-19j,\n",
       "          7.29354797e-01+0.00000000e+00j]]))"
      ]
     },
     "execution_count": 82,
     "metadata": {},
     "output_type": "execute_result"
    }
   ],
   "source": [
    "np.linalg.eig(M2)"
   ]
  },
  {
   "cell_type": "code",
   "execution_count": null,
   "metadata": {},
   "outputs": [],
   "source": []
  }
 ],
 "metadata": {
  "kernelspec": {
   "display_name": "Python 3",
   "language": "python",
   "name": "python3"
  },
  "language_info": {
   "codemirror_mode": {
    "name": "ipython",
    "version": 3
   },
   "file_extension": ".py",
   "mimetype": "text/x-python",
   "name": "python",
   "nbconvert_exporter": "python",
   "pygments_lexer": "ipython3",
   "version": "3.9.2"
  }
 },
 "nbformat": 4,
 "nbformat_minor": 4
}

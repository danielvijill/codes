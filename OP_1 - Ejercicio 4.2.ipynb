{
 "cells": [
  {
   "cell_type": "markdown",
   "metadata": {},
   "source": [
    "### 4.2 Utilice la inducción matemática para demostrar que $[A, A^m] = 0$"
   ]
  },
  {
   "cell_type": "markdown",
   "metadata": {},
   "source": [
    "$[A,A^m]=0$ Todo conmutador conmuta con sigo mismo.\n",
    "\n",
    "$[A,A]= AA-AA = 0$"
   ]
  },
  {
   "cell_type": "markdown",
   "metadata": {},
   "source": [
    "$m=k$"
   ]
  },
  {
   "cell_type": "markdown",
   "metadata": {},
   "source": [
    "$k=1$\n",
    "\n",
    "$[A,A^1]= AA^1-A^1A = 0 $\n"
   ]
  },
  {
   "cell_type": "markdown",
   "metadata": {},
   "source": [
    "$k=2$\n",
    "\n",
    "$[A,A^2]= AA^2-A^2A = A[AA^1-A^1A]=0$\n"
   ]
  },
  {
   "cell_type": "markdown",
   "metadata": {},
   "source": [
    "$k=3$\n",
    "\n",
    "$[A,A^3]= AA^3-A^3A = A^2[AA^1-A^1A]=0$"
   ]
  },
  {
   "cell_type": "markdown",
   "metadata": {},
   "source": [
    "$k=4$\n",
    "\n",
    "$[A,A^4]= AA^4-A^4A = A^3[AA^1-A^1A]=0$\n"
   ]
  },
  {
   "cell_type": "markdown",
   "metadata": {},
   "source": [
    "$m=k+1$"
   ]
  },
  {
   "cell_type": "markdown",
   "metadata": {},
   "source": [
    "$[A,A^{k+1}]$"
   ]
  },
  {
   "cell_type": "markdown",
   "metadata": {},
   "source": [
    "$[A,A^{k+1}]= AAA......-AA.....A = AA^{k+1}-A^{k+1}A = A^k[AA-AA] = 0$"
   ]
  },
  {
   "cell_type": "code",
   "execution_count": null,
   "metadata": {},
   "outputs": [],
   "source": []
  }
 ],
 "metadata": {
  "kernelspec": {
   "display_name": "Python 3",
   "language": "python",
   "name": "python3"
  },
  "language_info": {
   "codemirror_mode": {
    "name": "ipython",
    "version": 3
   },
   "file_extension": ".py",
   "mimetype": "text/x-python",
   "name": "python",
   "nbconvert_exporter": "python",
   "pygments_lexer": "ipython3",
   "version": "3.9.2"
  }
 },
 "nbformat": 4,
 "nbformat_minor": 4
}

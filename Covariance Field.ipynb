{
 "cells": [
  {
   "cell_type": "markdown",
   "id": "computational-democracy",
   "metadata": {},
   "source": [
    "## Tarea2_1P"
   ]
  },
  {
   "cell_type": "markdown",
   "id": "associate-cooperative",
   "metadata": {},
   "source": [
    "## 3. Estudia la dependencia o independencia lineal de los siguientes conjuntos de vectores en $\\mathbb{R}^3$:"
   ]
  },
  {
   "cell_type": "code",
   "execution_count": 3,
   "id": "planned-philadelphia",
   "metadata": {},
   "outputs": [],
   "source": [
    "import sympy as sp\n",
    "from sympy import *\n",
    "init_printing(use_unicode=True)"
   ]
  },
  {
   "cell_type": "markdown",
   "id": "traditional-broadcast",
   "metadata": {},
   "source": [
    "$(a)$  $ \\{ (0,1,0),(1,1,-1),(-1,0,1) \\} $"
   ]
  },
  {
   "cell_type": "code",
   "execution_count": 4,
   "id": "spoken-demonstration",
   "metadata": {},
   "outputs": [
    {
     "data": {
      "image/png": "[encoded data removed]",
      "text/latex": [
       "$\\displaystyle \\left[\\begin{matrix}0 & 1 & 0\\\\1 & 1 & -1\\\\-1 & 0 & 1\\end{matrix}\\right]$"
      ],
      "text/plain": [
       "⎡0   1  0 ⎤\n",
       "⎢         ⎥\n",
       "⎢1   1  -1⎥\n",
       "⎢         ⎥\n",
       "⎣-1  0  1 ⎦"
      ]
     },
     "metadata": {},
     "output_type": "display_data"
    }
   ],
   "source": [
    "A = Matrix([[0,1,0],[1,1,-1],[-1,0,1]])\n",
    "display(A)"
   ]
  },
  {
   "cell_type": "code",
   "execution_count": 11,
   "id": "finnish-strand",
   "metadata": {},
   "outputs": [
    {
     "data": {
      "image/png": "[encoded data removed]",
      "text/latex": [
       "$\\displaystyle 0$"
      ],
      "text/plain": [
       "0"
      ]
     },
     "metadata": {},
     "output_type": "display_data"
    }
   ],
   "source": [
    "display(A.det())"
   ]
  },
  {
   "cell_type": "markdown",
   "id": "utility-appraisal",
   "metadata": {},
   "source": [
    "Al obtener que el sistema formado por lo vectores tiene determinante $|A|=0$ podemos interpretar que uno de los vectores del conjunto es una combinación lineal de los otros vectores, y por lo tanto **el conjunto de vectores es linealmente dependiente**"
   ]
  },
  {
   "cell_type": "markdown",
   "id": "floral-finnish",
   "metadata": {},
   "source": [
    "$(d)$ $\\{ (1,0,a), (a,1,0), (a,0,1) \\}$"
   ]
  },
  {
   "cell_type": "code",
   "execution_count": 8,
   "id": "floppy-remedy",
   "metadata": {},
   "outputs": [
    {
     "data": {
      "image/png": "[encoded data removed]",
      "text/latex": [
       "$\\displaystyle \\left[\\begin{matrix}1 & 0 & a\\\\a & 1 & 0\\\\a & 0 & 1\\end{matrix}\\right]$"
      ],
      "text/plain": [
       "⎡1  0  a⎤\n",
       "⎢       ⎥\n",
       "⎢a  1  0⎥\n",
       "⎢       ⎥\n",
       "⎣a  0  1⎦"
      ]
     },
     "metadata": {},
     "output_type": "display_data"
    }
   ],
   "source": [
    "a = symbols('a')\n",
    "D = Matrix([[1,0,a],[a,1,0],[a,0,1]])\n",
    "display(D)"
   ]
  },
  {
   "cell_type": "code",
   "execution_count": 12,
   "id": "opposed-coordinator",
   "metadata": {},
   "outputs": [
    {
     "data": {
      "image/png": "[encoded data removed]",
      "text/latex": [
       "$\\displaystyle 1 - a^{2}$"
      ],
      "text/plain": [
       "     2\n",
       "1 - a "
      ]
     },
     "metadata": {},
     "output_type": "display_data"
    }
   ],
   "source": [
    "display(D.det())"
   ]
  },
  {
   "cell_type": "markdown",
   "id": "danish-visitor",
   "metadata": {},
   "source": [
    "El determinamte de la matriz formada por los vectores es distinto de 0 ($|D| \\neq 0 $), lo que nos indica evidentemente que **el conjunto de vectores es linealmente independiente**"
   ]
  },
  {
   "cell_type": "code",
   "execution_count": null,
   "id": "frozen-cyprus",
   "metadata": {},
   "outputs": [],
   "source": []
  }
 ],
 "metadata": {
  "kernelspec": {
   "display_name": "Python 3",
   "language": "python",
   "name": "python3"
  },
  "language_info": {
   "codemirror_mode": {
    "name": "ipython",
    "version": 3
   },
   "file_extension": ".py",
   "mimetype": "text/x-python",
   "name": "python",
   "nbconvert_exporter": "python",
   "pygments_lexer": "ipython3",
   "version": "3.9.1"
  }
 },
 "nbformat": 4,
 "nbformat_minor": 5
}

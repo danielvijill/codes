{
 "cells": [
  {
   "cell_type": "code",
   "execution_count": 1,
   "metadata": {},
   "outputs": [],
   "source": [
    "import sympy as sp\n",
    "import numpy as np\n",
    "from sympy import init_printing\n",
    "init_printing(use_latex=True)\n",
    "from sympy import *\n"
   ]
  },
  {
   "cell_type": "markdown",
   "metadata": {},
   "source": [
    "### 6.21) Considere la matriz"
   ]
  },
  {
   "cell_type": "markdown",
   "metadata": {},
   "source": [
    "$$A =\n",
    "\\left(\n",
    "\\begin{matrix}\n",
    "4 & i & 1 \\\\\n",
    "-i & 4 & -i \\\\\n",
    "1 & i & 4\n",
    "\\end{matrix}\n",
    "\\right)\n",
    "$$"
   ]
  },
  {
   "cell_type": "markdown",
   "metadata": {},
   "source": [
    "### (a) Encuentre los valores propios de A. Sugerencia: Pruebe $\\lambda $= 3 en el polinomio característico de A."
   ]
  },
  {
   "cell_type": "markdown",
   "metadata": {},
   "source": [
    "#### Los valores característicos se obtienen del siguiente determinante \n",
    "$$|A-\\lambda I|=0$$\n",
    "\n",
    "#### El resultado de este determinante será un polinomio conocido como la ecuación característica, cuyas raices serán los valores propios. El grado del polinomio característico es igual al orden de la matriz."
   ]
  },
  {
   "cell_type": "code",
   "execution_count": 2,
   "metadata": {},
   "outputs": [
    {
     "data": {
      "image/png": "[encoded data removed]",
      "text/latex": [
       "$\\displaystyle \\left[\\begin{matrix}4 & i & 1\\\\- i & 4 & - i\\\\1 & i & 4\\end{matrix}\\right]$"
      ],
      "text/plain": [
       "⎡4   ⅈ  1 ⎤\n",
       "⎢         ⎥\n",
       "⎢-ⅈ  4  -ⅈ⎥\n",
       "⎢         ⎥\n",
       "⎣1   ⅈ  4 ⎦"
      ]
     },
     "execution_count": 2,
     "metadata": {},
     "output_type": "execute_result"
    }
   ],
   "source": [
    "\n",
    "A=Matrix([(4, I, 1),(-I, 4, -I),(1, I, 4)])\n",
    "A"
   ]
  },
  {
   "cell_type": "code",
   "execution_count": 3,
   "metadata": {},
   "outputs": [
    {
     "data": {
      "image/png": "[encoded data removed]",
      "text/latex": [
       "$\\displaystyle \\left[\\begin{matrix}4 - \\lambda & i & 1\\\\- i & 4 - \\lambda & - i\\\\1 & i & 4 - \\lambda\\end{matrix}\\right]$"
      ],
      "text/plain": [
       "⎡4 - \\lambda       ⅈ            1     ⎤\n",
       "⎢                                     ⎥\n",
       "⎢    -ⅈ       4 - \\lambda      -ⅈ     ⎥\n",
       "⎢                                     ⎥\n",
       "⎣     1            ⅈ       4 - \\lambda⎦"
      ]
     },
     "execution_count": 3,
     "metadata": {},
     "output_type": "execute_result"
    }
   ],
   "source": [
    "x= sp.symbols('\\lambda')\n",
    "C=A-x*eye(3)\n",
    "C"
   ]
  },
  {
   "cell_type": "code",
   "execution_count": 4,
   "metadata": {},
   "outputs": [
    {
     "data": {
      "image/png": "[encoded data removed]",
      "text/latex": [
       "$\\displaystyle - \\lambda^{3} + 12 \\lambda^{2} - 45 \\lambda + 54$"
      ],
      "text/plain": [
       "         3             2                  \n",
       "- \\lambda  + 12⋅\\lambda  - 45⋅\\lambda + 54"
      ]
     },
     "execution_count": 4,
     "metadata": {},
     "output_type": "execute_result"
    }
   ],
   "source": [
    "det(C)"
   ]
  },
  {
   "cell_type": "markdown",
   "metadata": {},
   "source": [
    "#### Luego de obtener la ecuacion caracteristica procedemos a resolverla. $$-\\lambda^3 +12\\lambda^2 -45\\lambda +54 = 0 $$"
   ]
  },
  {
   "cell_type": "code",
   "execution_count": 5,
   "metadata": {},
   "outputs": [
    {
     "data": {
      "image/png": "[encoded data removed]",
      "text/latex": [
       "$\\displaystyle \\left[ 3, \\  6\\right]$"
      ],
      "text/plain": [
       "[3, 6]"
      ]
     },
     "execution_count": 5,
     "metadata": {},
     "output_type": "execute_result"
    }
   ],
   "source": [
    "solve(det(C), x)"
   ]
  },
  {
   "cell_type": "markdown",
   "metadata": {},
   "source": [
    "\n",
    "\n",
    "\n",
    "\n",
    "#### Ya con las soluciones de la ecuación característica podemos decir que los valores propios son: $\\lambda =3$ y $\\lambda =6$ "
   ]
  },
  {
   "cell_type": "markdown",
   "metadata": {},
   "source": [
    "### (b) Para cada $ \\lambda$, encuentre una base para $M \\lambda$ el espacio propio asociado con el valor propio $ \\lambda$."
   ]
  },
  {
   "cell_type": "markdown",
   "metadata": {},
   "source": [
    "##### Definicion 1.3. Sea f endomorfismo de $ \\mathbb{R}^n$con matriz estandar asociada A y sea $ \\lambda_i$ un autovalor de f. Al subespacio vectorial de $ \\mathbb{R}^n $  {${\\vec{x} \\in \\mathbb{R}^n /(A−\\lambda_i I)\\vec{x} =\\vec{0}}$} se le denomina subespacio propio correspondiente al valor propio $ \\lambda_i$. Se denota como $ V_\\lambda$.\n",
    "$$V_\\lambda = Nul(A − \\lambda_i I)$$"
   ]
  },
  {
   "cell_type": "markdown",
   "metadata": {},
   "source": [
    "\n",
    "##### Para cada autovalor debemos resolver el sistema de ecuaciones"
   ]
  },
  {
   "cell_type": "markdown",
   "metadata": {},
   "source": [
    "$E_\\lambda =Nul(A-\\lambda I)$"
   ]
  },
  {
   "cell_type": "markdown",
   "metadata": {},
   "source": [
    "#### Para $\\lambda=3$\n",
    "$E_3 =Nul(A-3 I)$"
   ]
  },
  {
   "cell_type": "code",
   "execution_count": 6,
   "metadata": {},
   "outputs": [
    {
     "data": {
      "image/png": "[encoded data removed]",
      "text/latex": [
       "$\\displaystyle \\left[\\begin{matrix}1 & i & 1\\\\- i & 1 & - i\\\\1 & i & 1\\end{matrix}\\right]$"
      ],
      "text/plain": [
       "⎡1   ⅈ  1 ⎤\n",
       "⎢         ⎥\n",
       "⎢-ⅈ  1  -ⅈ⎥\n",
       "⎢         ⎥\n",
       "⎣1   ⅈ  1 ⎦"
      ]
     },
     "execution_count": 6,
     "metadata": {},
     "output_type": "execute_result"
    }
   ],
   "source": [
    "D=A-3*eye(3)\n",
    "D"
   ]
  },
  {
   "cell_type": "code",
   "execution_count": 7,
   "metadata": {},
   "outputs": [
    {
     "data": {
      "image/png": "[encoded data removed]",
      "text/latex": [
       "$\\displaystyle \\left[\\begin{matrix}1 & i & 1 & 0\\\\- i & 1 & - i & 0\\\\1 & i & 1 & 0\\end{matrix}\\right]$"
      ],
      "text/plain": [
       "⎡1   ⅈ  1   0⎤\n",
       "⎢            ⎥\n",
       "⎢-ⅈ  1  -ⅈ  0⎥\n",
       "⎢            ⎥\n",
       "⎣1   ⅈ  1   0⎦"
      ]
     },
     "execution_count": 7,
     "metadata": {},
     "output_type": "execute_result"
    }
   ],
   "source": [
    "x, y, z =  sp.symbols('x, y, z')\n",
    "\n",
    "R = Matrix([(1, I, 1, 0), (-I, 1, -I, 0), (1, I, 1, 0)])\n",
    "R\n"
   ]
  },
  {
   "cell_type": "code",
   "execution_count": 8,
   "metadata": {},
   "outputs": [
    {
     "data": {
      "image/png": "[encoded data removed]",
      "text/latex": [
       "$\\displaystyle \\left\\{ x : - i y - z\\right\\}$"
      ],
      "text/plain": [
       "{x: -ⅈ⋅y - z}"
      ]
     },
     "execution_count": 8,
     "metadata": {},
     "output_type": "execute_result"
    }
   ],
   "source": [
    "solve_linear_system(R, x, y, z)"
   ]
  },
  {
   "cell_type": "markdown",
   "metadata": {},
   "source": [
    "Para $\\lambda= 3$;\n",
    "\n",
    "\n",
    "\n",
    "si $y=a$ y $z=b $\n",
    "\n",
    "\n",
    "$E_3 $$=\n",
    "\\begin{Bmatrix}\n",
    "\\left(\n",
    "\\begin{matrix}\n",
    "x \\\\\n",
    "y  \\\\\n",
    "z \n",
    "\\end{matrix}\n",
    "\\right)= a\n",
    "\\left(\n",
    "\\begin{matrix}\n",
    "-i \\\\\n",
    "1  \\\\\n",
    "0 \n",
    "\\end{matrix}\n",
    "\\right)+b\n",
    "\\left(\n",
    "\\begin{matrix}\n",
    "-1  \\\\\n",
    "0 \\\\\n",
    "1 \n",
    "\\end{matrix}\n",
    "\\right)|a,b \\in \\mathbb{R}\n",
    "\\end{Bmatrix}\n",
    "$"
   ]
  },
  {
   "cell_type": "markdown",
   "metadata": {},
   "source": [
    "\n",
    "#### Nuestra base para para $\\lambda =3$ =\n",
    "$\n",
    "\\begin{Bmatrix}\n",
    "\\left(\n",
    "\\begin{matrix}\n",
    "-i \\\\\n",
    "1  \\\\\n",
    "0 \n",
    "\\end{matrix}\n",
    "\\right),\n",
    "\\left(\n",
    "\\begin{matrix}\n",
    "-1 \\\\\n",
    "0  \\\\\n",
    "1 \n",
    "\\end{matrix}\n",
    "\\right)\n",
    "\\end{Bmatrix}\n",
    "$\n"
   ]
  },
  {
   "cell_type": "code",
   "execution_count": 9,
   "metadata": {},
   "outputs": [
    {
     "data": {
      "image/png": "[encoded data removed]",
      "text/latex": [
       "$\\displaystyle \\left[\\begin{matrix}-2 - 2 i\\\\2\\\\2\\end{matrix}\\right]$"
      ],
      "text/plain": [
       "⎡-2 - 2⋅ⅈ⎤\n",
       "⎢        ⎥\n",
       "⎢   2    ⎥\n",
       "⎢        ⎥\n",
       "⎣   2    ⎦"
      ]
     },
     "execution_count": 9,
     "metadata": {},
     "output_type": "execute_result"
    }
   ],
   "source": [
    "V=Matrix([(-2*I-2) , (2), (2)])\n",
    "V"
   ]
  },
  {
   "cell_type": "code",
   "execution_count": 10,
   "metadata": {},
   "outputs": [
    {
     "data": {
      "image/png": "[encoded data removed]",
      "text/latex": [
       "$\\displaystyle \\left[\\begin{matrix}-6 - 6 i\\\\8 - 2 i - i \\left(-2 - 2 i\\right)\\\\6\\end{matrix}\\right]$"
      ],
      "text/plain": [
       "⎡       -6 - 6⋅ⅈ       ⎤\n",
       "⎢                      ⎥\n",
       "⎢8 - 2⋅ⅈ - ⅈ⋅(-2 - 2⋅ⅈ)⎥\n",
       "⎢                      ⎥\n",
       "⎣          6           ⎦"
      ]
     },
     "execution_count": 10,
     "metadata": {},
     "output_type": "execute_result"
    }
   ],
   "source": [
    "N=A*V\n",
    "N"
   ]
  },
  {
   "cell_type": "code",
   "execution_count": 11,
   "metadata": {},
   "outputs": [
    {
     "data": {
      "image/png": "[encoded data removed]",
      "text/latex": [
       "$\\displaystyle \\left[\\begin{matrix}0\\\\2 - 2 i - i \\left(-2 - 2 i\\right)\\\\0\\end{matrix}\\right]$"
      ],
      "text/plain": [
       "⎡          0           ⎤\n",
       "⎢                      ⎥\n",
       "⎢2 - 2⋅ⅈ - ⅈ⋅(-2 - 2⋅ⅈ)⎥\n",
       "⎢                      ⎥\n",
       "⎣          0           ⎦"
      ]
     },
     "execution_count": 11,
     "metadata": {},
     "output_type": "execute_result"
    }
   ],
   "source": [
    "N-3*eye(3)*V"
   ]
  },
  {
   "cell_type": "markdown",
   "metadata": {},
   "source": [
    " Para $\\lambda = 6$"
   ]
  },
  {
   "cell_type": "markdown",
   "metadata": {},
   "source": [
    "$E_6 =Nul(A-6 I)$"
   ]
  },
  {
   "cell_type": "code",
   "execution_count": 12,
   "metadata": {},
   "outputs": [
    {
     "data": {
      "image/png": "[encoded data removed]",
      "text/latex": [
       "$\\displaystyle \\left[\\begin{matrix}-2 & i & 1\\\\- i & -2 & - i\\\\1 & i & -2\\end{matrix}\\right]$"
      ],
      "text/plain": [
       "⎡-2  ⅈ   1 ⎤\n",
       "⎢          ⎥\n",
       "⎢-ⅈ  -2  -ⅈ⎥\n",
       "⎢          ⎥\n",
       "⎣1   ⅈ   -2⎦"
      ]
     },
     "execution_count": 12,
     "metadata": {},
     "output_type": "execute_result"
    }
   ],
   "source": [
    "D2=A-6*eye(3)\n",
    "D2"
   ]
  },
  {
   "cell_type": "code",
   "execution_count": 13,
   "metadata": {},
   "outputs": [
    {
     "data": {
      "image/png": "[encoded data removed]",
      "text/latex": [
       "$\\displaystyle \\left[\\begin{matrix}-2 & i & 1 & 0\\\\- i & -2 & - i & 0\\\\1 & i & -2 & 0\\end{matrix}\\right]$"
      ],
      "text/plain": [
       "⎡-2  ⅈ   1   0⎤\n",
       "⎢             ⎥\n",
       "⎢-ⅈ  -2  -ⅈ  0⎥\n",
       "⎢             ⎥\n",
       "⎣1   ⅈ   -2  0⎦"
      ]
     },
     "execution_count": 13,
     "metadata": {},
     "output_type": "execute_result"
    }
   ],
   "source": [
    "x, y, z =  sp.symbols('x, y, z')\n",
    "\n",
    "R2 = Matrix([(-2, I, 1, 0), (-I, -2, -I, 0), (1, I, -2, 0)])\n",
    "R2"
   ]
  },
  {
   "cell_type": "code",
   "execution_count": 14,
   "metadata": {},
   "outputs": [
    {
     "data": {
      "image/png": "[encoded data removed]",
      "text/latex": [
       "$\\displaystyle \\left\\{ x : z, \\  y : - i z\\right\\}$"
      ],
      "text/plain": [
       "{x: z, y: -ⅈ⋅z}"
      ]
     },
     "execution_count": 14,
     "metadata": {},
     "output_type": "execute_result"
    }
   ],
   "source": [
    "solve_linear_system(R2, x, y, z)"
   ]
  },
  {
   "cell_type": "markdown",
   "metadata": {},
   "source": [
    "Para $\\lambda=6$\n",
    "\n",
    "\n",
    "si $z=t$ \n",
    "\n",
    "$E_6 $$=\n",
    "\\begin{Bmatrix}\n",
    "\\left(\n",
    "\\begin{matrix}\n",
    "x \\\\\n",
    "y  \\\\\n",
    "z \n",
    "\\end{matrix}\n",
    "\\right)= t\n",
    "\\left(\n",
    "\\begin{matrix}\n",
    "1 \\\\\n",
    "-i  \\\\\n",
    "1\n",
    "\\end{matrix}\n",
    "\\right)|t \\in \\mathbb{R}\n",
    "\\end{Bmatrix}\n",
    "$"
   ]
  },
  {
   "cell_type": "markdown",
   "metadata": {},
   "source": [
    "Nuestra base para para $\\lambda =6$ =\n",
    "$\n",
    "\\begin{Bmatrix}\n",
    "\\left(\n",
    "\\begin{matrix}\n",
    "1 \\\\\n",
    "-i  \\\\\n",
    "1\n",
    "\\end{matrix}\n",
    "\\right)\n",
    "\\end{Bmatrix}\n",
    "$\n"
   ]
  },
  {
   "cell_type": "markdown",
   "metadata": {},
   "source": [
    "### (c) Usando el proceso Gram-Schmidt ortonormalice los vectores de la base"
   ]
  },
  {
   "cell_type": "code",
   "execution_count": 15,
   "metadata": {},
   "outputs": [],
   "source": [
    "L = [Matrix([(-I),(1),(0)]),Matrix([(-1),(0),(1)]),Matrix([(1),(-I),(1)])]\n",
    "\n",
    "o1=GramSchmidt(L)"
   ]
  },
  {
   "cell_type": "code",
   "execution_count": 16,
   "metadata": {},
   "outputs": [],
   "source": [
    "T=[Matrix([(-I),(1),(0)]), Matrix([(-1),(0),(1)]), Matrix([(1),(-I),(1)])]"
   ]
  },
  {
   "cell_type": "code",
   "execution_count": 17,
   "metadata": {},
   "outputs": [
    {
     "data": {
      "image/png": "[encoded data removed]",
      "text/latex": [
       "$\\displaystyle \\left[ \\left[\\begin{matrix}- \\frac{\\sqrt{2} i}{2}\\\\\\frac{\\sqrt{2}}{2}\\\\0\\end{matrix}\\right], \\  \\left[\\begin{matrix}- \\frac{3 \\sqrt{14}}{14}\\\\- \\frac{\\sqrt{14} i}{14}\\\\\\frac{\\sqrt{14}}{7}\\end{matrix}\\right], \\  \\left[\\begin{matrix}\\frac{\\sqrt{3}}{3}\\\\- \\frac{\\sqrt{3} i}{3}\\\\\\frac{\\sqrt{3}}{3}\\end{matrix}\\right]\\right]$"
      ],
      "text/plain": [
       "⎡          ⎡-3⋅√14 ⎤  ⎡  √3  ⎤⎤\n",
       "⎢⎡-√2⋅ⅈ ⎤  ⎢───────⎥  ⎢  ──  ⎥⎥\n",
       "⎢⎢──────⎥  ⎢   14  ⎥  ⎢  3   ⎥⎥\n",
       "⎢⎢  2   ⎥  ⎢       ⎥  ⎢      ⎥⎥\n",
       "⎢⎢      ⎥  ⎢-√14⋅ⅈ ⎥  ⎢-√3⋅ⅈ ⎥⎥\n",
       "⎢⎢  √2  ⎥, ⎢───────⎥, ⎢──────⎥⎥\n",
       "⎢⎢  ──  ⎥  ⎢   14  ⎥  ⎢  3   ⎥⎥\n",
       "⎢⎢  2   ⎥  ⎢       ⎥  ⎢      ⎥⎥\n",
       "⎢⎢      ⎥  ⎢  √14  ⎥  ⎢  √3  ⎥⎥\n",
       "⎢⎣  0   ⎦  ⎢  ───  ⎥  ⎢  ──  ⎥⎥\n",
       "⎣          ⎣   7   ⎦  ⎣  3   ⎦⎦"
      ]
     },
     "execution_count": 17,
     "metadata": {},
     "output_type": "execute_result"
    }
   ],
   "source": [
    "out1=GramSchmidt(T,True)\n",
    "out1"
   ]
  },
  {
   "cell_type": "code",
   "execution_count": 18,
   "metadata": {},
   "outputs": [
    {
     "data": {
      "image/png": "[encoded data removed]",
      "text/latex": [
       "$\\displaystyle 1$"
      ],
      "text/plain": [
       "1"
      ]
     },
     "execution_count": 18,
     "metadata": {},
     "output_type": "execute_result"
    }
   ],
   "source": [
    "out1[0].norm()"
   ]
  },
  {
   "cell_type": "code",
   "execution_count": 19,
   "metadata": {},
   "outputs": [
    {
     "data": {
      "image/png": "[encoded data removed]",
      "text/latex": [
       "$\\displaystyle 1$"
      ],
      "text/plain": [
       "1"
      ]
     },
     "execution_count": 19,
     "metadata": {},
     "output_type": "execute_result"
    }
   ],
   "source": [
    "out1[1].norm()"
   ]
  },
  {
   "cell_type": "code",
   "execution_count": 20,
   "metadata": {},
   "outputs": [
    {
     "data": {
      "image/png": "[encoded data removed]",
      "text/latex": [
       "$\\displaystyle 1$"
      ],
      "text/plain": [
       "1"
      ]
     },
     "execution_count": 20,
     "metadata": {},
     "output_type": "execute_result"
    }
   ],
   "source": [
    "out1[2].norm()"
   ]
  },
  {
   "cell_type": "markdown",
   "metadata": {},
   "source": [
    "### (d) Calcule los operadores de proyección (matrices) $P_i$ para cada subespacio."
   ]
  },
  {
   "cell_type": "code",
   "execution_count": 69,
   "metadata": {},
   "outputs": [],
   "source": [
    "R = [Matrix([(4),(I),(1)]),Matrix([(-I),(4),(-I)]),Matrix([(1),(I),(4)])]\n",
    "\n",
    "o2=GramSchmidt(L)"
   ]
  },
  {
   "cell_type": "code",
   "execution_count": 70,
   "metadata": {},
   "outputs": [
    {
     "data": {
      "image/png": "[encoded data removed]",
      "text/latex": [
       "$\\displaystyle \\left[ \\left[\\begin{matrix}\\frac{2 \\sqrt{2}}{3}\\\\\\frac{\\sqrt{2} i}{6}\\\\\\frac{\\sqrt{2}}{6}\\end{matrix}\\right], \\  \\left[\\begin{matrix}- \\frac{\\sqrt{14} i}{7}\\\\\\frac{3 \\sqrt{14}}{14}\\\\- \\frac{\\sqrt{14} i}{14}\\end{matrix}\\right], \\  \\left[\\begin{matrix}\\frac{\\sqrt{14}}{63}\\\\\\frac{17 \\sqrt{14} i}{126}\\\\\\frac{29 \\sqrt{14}}{126}\\end{matrix}\\right]\\right]$"
      ],
      "text/plain": [
       "⎡⎡2⋅√2⎤  ⎡-√14⋅ⅈ ⎤  ⎡  √14   ⎤⎤\n",
       "⎢⎢────⎥  ⎢───────⎥  ⎢  ───   ⎥⎥\n",
       "⎢⎢ 3  ⎥  ⎢   7   ⎥  ⎢   63   ⎥⎥\n",
       "⎢⎢    ⎥  ⎢       ⎥  ⎢        ⎥⎥\n",
       "⎢⎢√2⋅ⅈ⎥  ⎢ 3⋅√14 ⎥  ⎢17⋅√14⋅ⅈ⎥⎥\n",
       "⎢⎢────⎥, ⎢ ───── ⎥, ⎢────────⎥⎥\n",
       "⎢⎢ 6  ⎥  ⎢   14  ⎥  ⎢  126   ⎥⎥\n",
       "⎢⎢    ⎥  ⎢       ⎥  ⎢        ⎥⎥\n",
       "⎢⎢ √2 ⎥  ⎢-√14⋅ⅈ ⎥  ⎢ 29⋅√14 ⎥⎥\n",
       "⎢⎢ ── ⎥  ⎢───────⎥  ⎢ ────── ⎥⎥\n",
       "⎣⎣ 6  ⎦  ⎣   14  ⎦  ⎣  126   ⎦⎦"
      ]
     },
     "execution_count": 70,
     "metadata": {},
     "output_type": "execute_result"
    }
   ],
   "source": [
    "out2=GramSchmidt(R,True)\n",
    "out2"
   ]
  },
  {
   "cell_type": "code",
   "execution_count": 71,
   "metadata": {},
   "outputs": [
    {
     "data": {
      "image/png": "[encoded data removed]",
      "text/latex": [
       "$\\displaystyle \\left[\\begin{matrix}\\frac{2 \\sqrt{2}}{3} & \\frac{\\sqrt{2} i}{6} & \\frac{\\sqrt{2}}{6}\\end{matrix}\\right]$"
      ],
      "text/plain": [
       "⎡2⋅√2  √2⋅ⅈ  √2⎤\n",
       "⎢────  ────  ──⎥\n",
       "⎣ 3     6    6 ⎦"
      ]
     },
     "execution_count": 71,
     "metadata": {},
     "output_type": "execute_result"
    }
   ],
   "source": [
    "v1ad=out2[0].transpose()\n",
    "v1ad"
   ]
  },
  {
   "cell_type": "code",
   "execution_count": 72,
   "metadata": {},
   "outputs": [
    {
     "data": {
      "image/png": "[encoded data removed]",
      "text/latex": [
       "$\\displaystyle \\left[\\begin{matrix}\\frac{8}{9} & \\frac{2 i}{9} & \\frac{2}{9}\\\\\\frac{2 i}{9} & - \\frac{1}{18} & \\frac{i}{18}\\\\\\frac{2}{9} & \\frac{i}{18} & \\frac{1}{18}\\end{matrix}\\right]$"
      ],
      "text/plain": [
       "⎡      2⋅ⅈ       ⎤\n",
       "⎢8/9   ───   2/9 ⎥\n",
       "⎢       9        ⎥\n",
       "⎢                ⎥\n",
       "⎢2⋅ⅈ          ⅈ  ⎥\n",
       "⎢───  -1/18   ── ⎥\n",
       "⎢ 9           18 ⎥\n",
       "⎢                ⎥\n",
       "⎢      ⅈ         ⎥\n",
       "⎢2/9   ──    1/18⎥\n",
       "⎣      18        ⎦"
      ]
     },
     "execution_count": 72,
     "metadata": {},
     "output_type": "execute_result"
    }
   ],
   "source": [
    "proyector1= out2[0]*out2[0].transpose()\n",
    "proyector1"
   ]
  },
  {
   "cell_type": "code",
   "execution_count": 64,
   "metadata": {},
   "outputs": [
    {
     "data": {
      "image/png": "[encoded data removed]",
      "text/latex": [
       "$\\displaystyle \\left[\\begin{matrix}- \\frac{\\sqrt{14} i}{7} & \\frac{3 \\sqrt{14}}{14} & - \\frac{\\sqrt{14} i}{14}\\end{matrix}\\right]$"
      ],
      "text/plain": [
       "⎡-√14⋅ⅈ   3⋅√14  -√14⋅ⅈ ⎤\n",
       "⎢───────  ─────  ───────⎥\n",
       "⎣   7       14      14  ⎦"
      ]
     },
     "execution_count": 64,
     "metadata": {},
     "output_type": "execute_result"
    }
   ],
   "source": [
    "v2ad=out2[1].transpose()\n",
    "v2ad"
   ]
  },
  {
   "cell_type": "code",
   "execution_count": 65,
   "metadata": {},
   "outputs": [
    {
     "data": {
      "image/png": "[encoded data removed]",
      "text/latex": [
       "$\\displaystyle \\left[\\begin{matrix}- \\frac{2}{7} & - \\frac{3 i}{7} & - \\frac{1}{7}\\\\- \\frac{3 i}{7} & \\frac{9}{14} & - \\frac{3 i}{14}\\\\- \\frac{1}{7} & - \\frac{3 i}{14} & - \\frac{1}{14}\\end{matrix}\\right]$"
      ],
      "text/plain": [
       "⎡       -3⋅ⅈ        ⎤\n",
       "⎢-2/7   ─────  -1/7 ⎥\n",
       "⎢         7         ⎥\n",
       "⎢                   ⎥\n",
       "⎢-3⋅ⅈ          -3⋅ⅈ ⎥\n",
       "⎢─────  9/14   ─────⎥\n",
       "⎢  7             14 ⎥\n",
       "⎢                   ⎥\n",
       "⎢       -3⋅ⅈ        ⎥\n",
       "⎢-1/7   ─────  -1/14⎥\n",
       "⎣         14        ⎦"
      ]
     },
     "execution_count": 65,
     "metadata": {},
     "output_type": "execute_result"
    }
   ],
   "source": [
    "proyector2= out2[1]*out2[1].transpose()\n",
    "proyector2"
   ]
  },
  {
   "cell_type": "code",
   "execution_count": 66,
   "metadata": {},
   "outputs": [
    {
     "data": {
      "image/png": "[encoded data removed]",
      "text/latex": [
       "$\\displaystyle \\left[\\begin{matrix}\\frac{\\sqrt{14}}{63} & \\frac{17 \\sqrt{14} i}{126} & \\frac{29 \\sqrt{14}}{126}\\end{matrix}\\right]$"
      ],
      "text/plain": [
       "⎡√14  17⋅√14⋅ⅈ  29⋅√14⎤\n",
       "⎢───  ────────  ──────⎥\n",
       "⎣ 63    126      126  ⎦"
      ]
     },
     "execution_count": 66,
     "metadata": {},
     "output_type": "execute_result"
    }
   ],
   "source": [
    "v3ad=out2[2].transpose()\n",
    "v3ad"
   ]
  },
  {
   "cell_type": "code",
   "execution_count": 67,
   "metadata": {},
   "outputs": [
    {
     "data": {
      "image/png": "[encoded data removed]",
      "text/latex": [
       "$\\displaystyle \\left[\\begin{matrix}\\frac{2}{567} & \\frac{17 i}{567} & \\frac{29}{567}\\\\\\frac{17 i}{567} & - \\frac{289}{1134} & \\frac{493 i}{1134}\\\\\\frac{29}{567} & \\frac{493 i}{1134} & \\frac{841}{1134}\\end{matrix}\\right]$"
      ],
      "text/plain": [
       "⎡       17⋅ⅈ     29 ⎤\n",
       "⎢2/567  ────    ─── ⎥\n",
       "⎢       567     567 ⎥\n",
       "⎢                   ⎥\n",
       "⎢17⋅ⅈ   -289   493⋅ⅈ⎥\n",
       "⎢────   ─────  ─────⎥\n",
       "⎢567     1134   1134⎥\n",
       "⎢                   ⎥\n",
       "⎢  29   493⋅ⅈ  841  ⎥\n",
       "⎢ ───   ─────  ──── ⎥\n",
       "⎣ 567    1134  1134 ⎦"
      ]
     },
     "execution_count": 67,
     "metadata": {},
     "output_type": "execute_result"
    }
   ],
   "source": [
    "proyector3= out2[2]*out2[2].transpose()\n",
    "proyector3"
   ]
  },
  {
   "cell_type": "code",
   "execution_count": null,
   "metadata": {},
   "outputs": [],
   "source": []
  },
  {
   "cell_type": "markdown",
   "metadata": {},
   "source": [
    "### (e) Encuentre las matrices $\\sqrt A$, $sin(\\pi A/2)$ y $cos(\\pi A/2)$"
   ]
  },
  {
   "cell_type": "code",
   "execution_count": 50,
   "metadata": {},
   "outputs": [],
   "source": [
    "import numpy as np\n",
    "from numpy import *"
   ]
  },
  {
   "cell_type": "code",
   "execution_count": 51,
   "metadata": {},
   "outputs": [],
   "source": [
    "A = np.array([(4, 1.j, 1),(-1.j, 4, -1.j),(1, 1.j, 4)])"
   ]
  },
  {
   "cell_type": "code",
   "execution_count": 54,
   "metadata": {},
   "outputs": [
    {
     "data": {
      "text/plain": [
       "array([[2. +0.j , 0.7+0.7j, 1. +0.j ],\n",
       "       [0.7-0.7j, 2. +0.j , 0.7-0.7j],\n",
       "       [1. +0.j , 0.7+0.7j, 2. +0.j ]])"
      ]
     },
     "metadata": {},
     "output_type": "display_data"
    }
   ],
   "source": [
    "display(np.round(np.sqrt(A),1))"
   ]
  },
  {
   "cell_type": "code",
   "execution_count": 56,
   "metadata": {},
   "outputs": [
    {
     "data": {
      "text/plain": [
       "array([[-0.+0.j ,  0.+2.3j,  1.+0.j ],\n",
       "       [ 0.-2.3j, -0.+0.j ,  0.-2.3j],\n",
       "       [ 1.+0.j ,  0.+2.3j, -0.+0.j ]])"
      ]
     },
     "metadata": {},
     "output_type": "display_data"
    }
   ],
   "source": [
    "display(np.round(np.sin(np.pi*A/2),1))"
   ]
  },
  {
   "cell_type": "code",
   "execution_count": 57,
   "metadata": {},
   "outputs": [
    {
     "data": {
      "text/plain": [
       "array([[1. +0.j, 2.5-0.j, 0. -0.j],\n",
       "       [2.5+0.j, 1. +0.j, 2.5+0.j],\n",
       "       [0. -0.j, 2.5-0.j, 1. +0.j]])"
      ]
     },
     "metadata": {},
     "output_type": "display_data"
    }
   ],
   "source": [
    "display(np.round(np.cos(np.pi*A/2),1))"
   ]
  },
  {
   "cell_type": "code",
   "execution_count": null,
   "metadata": {},
   "outputs": [],
   "source": []
  },
  {
   "cell_type": "code",
   "execution_count": null,
   "metadata": {},
   "outputs": [],
   "source": []
  },
  {
   "cell_type": "markdown",
   "metadata": {},
   "source": [
    "### (f) Es A invertible? Si lo es, encuentre los eigenvalores y eigenvectores de $A^{-1}$"
   ]
  },
  {
   "cell_type": "code",
   "execution_count": 45,
   "metadata": {},
   "outputs": [
    {
     "data": {
      "text/plain": [
       "(54.00000000000001+0j)"
      ]
     },
     "execution_count": 45,
     "metadata": {},
     "output_type": "execute_result"
    }
   ],
   "source": [
    "np.linalg.det(A)"
   ]
  },
  {
   "cell_type": "markdown",
   "metadata": {},
   "source": [
    "$A$ es invertible"
   ]
  },
  {
   "cell_type": "code",
   "execution_count": 47,
   "metadata": {},
   "outputs": [
    {
     "data": {
      "text/plain": [
       "array([[ 0.27777778+0.j        ,  0.        -0.05555556j,\n",
       "        -0.05555556+0.j        ],\n",
       "       [ 0.        +0.05555556j,  0.27777778+0.j        ,\n",
       "         0.        +0.05555556j],\n",
       "       [-0.05555556+0.j        ,  0.        -0.05555556j,\n",
       "         0.27777778+0.j        ]])"
      ]
     },
     "execution_count": 47,
     "metadata": {},
     "output_type": "execute_result"
    }
   ],
   "source": [
    "A_inv = np.linalg.inv(A)\n",
    "A_inv"
   ]
  },
  {
   "cell_type": "code",
   "execution_count": 48,
   "metadata": {},
   "outputs": [
    {
     "data": {
      "text/plain": [
       "(array([0.33333333+5.98083258e-18j, 0.16666667+2.17747430e-17j,\n",
       "        0.33333333+0.00000000e+00j]),\n",
       " array([[ 8.16496581e-01+0.00000000e+00j,  5.77350269e-01+0.00000000e+00j,\n",
       "         -8.14438554e-02-9.43455661e-03j],\n",
       "        [-8.00055146e-17+4.08248290e-01j, -6.21546354e-17-5.77350269e-01j,\n",
       "          7.07070566e-01+0.00000000e+00j],\n",
       "        [-4.08248290e-01-8.00055146e-17j,  5.77350269e-01-6.21546354e-17j,\n",
       "          8.14438554e-02-6.97636009e-01j]]))"
      ]
     },
     "execution_count": 48,
     "metadata": {},
     "output_type": "execute_result"
    }
   ],
   "source": [
    "e_val , e_vect = np.linalg.eig(A_inv)\n",
    "e_val , e_vect"
   ]
  },
  {
   "cell_type": "code",
   "execution_count": 49,
   "metadata": {},
   "outputs": [
    {
     "data": {
      "text/plain": [
       "array([[ 0.8+0.j ,  0.6+0.j , -0.1-0.j ],\n",
       "       [-0. +0.4j, -0. -0.6j,  0.7+0.j ],\n",
       "       [-0.4-0.j ,  0.6-0.j ,  0.1-0.7j]])"
      ]
     },
     "metadata": {},
     "output_type": "display_data"
    }
   ],
   "source": [
    "display(np.round(e_vect,1))"
   ]
  },
  {
   "cell_type": "code",
   "execution_count": null,
   "metadata": {},
   "outputs": [],
   "source": []
  }
 ],
 "metadata": {
  "kernelspec": {
   "display_name": "Python 3",
   "language": "python",
   "name": "python3"
  },
  "language_info": {
   "codemirror_mode": {
    "name": "ipython",
    "version": 3
   },
   "file_extension": ".py",
   "mimetype": "text/x-python",
   "name": "python",
   "nbconvert_exporter": "python",
   "pygments_lexer": "ipython3",
   "version": "3.9.2"
  }
 },
 "nbformat": 4,
 "nbformat_minor": 4
}

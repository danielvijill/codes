{
 "cells": [
  {
   "cell_type": "markdown",
   "metadata": {},
   "source": [
    "# Diagonalización de Matrices"
   ]
  },
  {
   "cell_type": "markdown",
   "metadata": {},
   "source": [
    "**Ejercicio**: El operador A está representado en forma matricial de la siguiente forma: $A = \\begin{bmatrix} 0 & 0 & 3 \\\\ 1 & 0 & -1 \\\\ 0 & 1 & 3 \\end{bmatrix}$, para este operador haga lo siguiente:"
   ]
  },
  {
   "cell_type": "markdown",
   "metadata": {},
   "source": [
    "### a) Encuentre la ecuación caracteristica:"
   ]
  },
  {
   "cell_type": "code",
   "execution_count": 47,
   "metadata": {},
   "outputs": [],
   "source": [
    "import sympy as sp\n",
    "from sympy import *\n",
    "init_printing(use_unicode=True)"
   ]
  },
  {
   "cell_type": "code",
   "execution_count": 48,
   "metadata": {
    "scrolled": true
   },
   "outputs": [
    {
     "data": {
      "image/png": "[encoded data removed]",
      "text/latex": [
       "$\\displaystyle \\left[\\begin{matrix}- \\lambda & 0 & 3\\\\1 & - \\lambda & -1\\\\0 & 1 & 3 - \\lambda\\end{matrix}\\right]$"
      ],
      "text/plain": [
       "⎡-λ  0     3  ⎤\n",
       "⎢             ⎥\n",
       "⎢1   -λ   -1  ⎥\n",
       "⎢             ⎥\n",
       "⎣0   1   3 - λ⎦"
      ]
     },
     "metadata": {},
     "output_type": "display_data"
    },
    {
     "data": {
      "image/png": "[encoded data removed]",
      "text/latex": [
       "$\\displaystyle - \\lambda^{3} + 3 \\lambda^{2} - \\lambda + 3$"
      ],
      "text/plain": [
       "   3      2        \n",
       "- λ  + 3⋅λ  - λ + 3"
      ]
     },
     "metadata": {},
     "output_type": "display_data"
    }
   ],
   "source": [
    "lamda = sp.symbols('lamda')\n",
    "A = Matrix([[0,0,3],[1,0,-1],[0,1,3]])\n",
    "L = Matrix([[lamda,0,0],[0,lamda,0],[0,0,lamda]])\n",
    "\n",
    "C=A-L\n",
    "display(C)\n",
    "display(C.det())"
   ]
  },
  {
   "cell_type": "markdown",
   "metadata": {},
   "source": [
    "La ecuación caracteristica es $-\\lambda^3 +3\\lambda^2-\\lambda+3 = 0$"
   ]
  },
  {
   "cell_type": "markdown",
   "metadata": {},
   "source": [
    "### b) Determine los valores propios y vectores propios, considerando:"
   ]
  },
  {
   "cell_type": "markdown",
   "metadata": {},
   "source": [
    "**b1) que el campo es real**"
   ]
  },
  {
   "cell_type": "markdown",
   "metadata": {},
   "source": [
    "\n",
    "\n",
    "Hacemos uso de una función para mostrar los eigenvalores y eigenvectores"
   ]
  },
  {
   "cell_type": "code",
   "execution_count": 49,
   "metadata": {},
   "outputs": [
    {
     "data": {
      "image/png": "[encoded data removed]",
      "text/latex": [
       "$\\displaystyle \\left\\{ 3 : 1, \\  - i : 1, \\  i : 1\\right\\}$"
      ],
      "text/plain": [
       "{3: 1, -ⅈ: 1, ⅈ: 1}"
      ]
     },
     "metadata": {},
     "output_type": "display_data"
    },
    {
     "data": {
      "image/png": "[encoded data removed]",
      "text/latex": [
       "$\\displaystyle \\left[ \\left( 3, \\  1, \\  \\left[ \\left[\\begin{matrix}1\\\\0\\\\1\\end{matrix}\\right]\\right]\\right), \\  \\left( - i, \\  1, \\  \\left[ \\left[\\begin{matrix}3 i\\\\-3 - i\\\\1\\end{matrix}\\right]\\right]\\right), \\  \\left( i, \\  1, \\  \\left[ \\left[\\begin{matrix}- 3 i\\\\-3 + i\\\\1\\end{matrix}\\right]\\right]\\right)\\right]$"
      ],
      "text/plain": [
       "⎡⎛      ⎡⎡1⎤⎤⎞  ⎛       ⎡⎡ 3⋅ⅈ  ⎤⎤⎞  ⎛      ⎡⎡ -3⋅ⅈ ⎤⎤⎞⎤\n",
       "⎢⎜      ⎢⎢ ⎥⎥⎟  ⎜       ⎢⎢      ⎥⎥⎟  ⎜      ⎢⎢      ⎥⎥⎟⎥\n",
       "⎢⎜3, 1, ⎢⎢0⎥⎥⎟, ⎜-ⅈ, 1, ⎢⎢-3 - ⅈ⎥⎥⎟, ⎜ⅈ, 1, ⎢⎢-3 + ⅈ⎥⎥⎟⎥\n",
       "⎢⎜      ⎢⎢ ⎥⎥⎟  ⎜       ⎢⎢      ⎥⎥⎟  ⎜      ⎢⎢      ⎥⎥⎟⎥\n",
       "⎣⎝      ⎣⎣1⎦⎦⎠  ⎝       ⎣⎣  1   ⎦⎦⎠  ⎝      ⎣⎣  1   ⎦⎦⎠⎦"
      ]
     },
     "metadata": {},
     "output_type": "display_data"
    }
   ],
   "source": [
    "S = Matrix([[0,0,3],[1,0,-1],[0,1,3]])\n",
    "\n",
    "display(S.eigenvals())\n",
    "display(S.eigenvects())"
   ]
  },
  {
   "cell_type": "markdown",
   "metadata": {},
   "source": [
    "La función nos genera un arreglo con elementos de la forma $\\left( eigenvalor,multiplicidad,\\begin{bmatrix} v1 \\\\ v2 \\\\ v3 \\end{bmatrix} \\right)$."
   ]
  },
  {
   "cell_type": "markdown",
   "metadata": {},
   "source": [
    "Para el campo real, consideramos el o los eigenvalores reales y sus eigenvectores relacionados, en este caso:\n"
   ]
  },
  {
   "cell_type": "code",
   "execution_count": 50,
   "metadata": {},
   "outputs": [
    {
     "data": {
      "image/png": "[encoded data removed]",
      "text/latex": [
       "$\\displaystyle \\left( 3, \\  1, \\  \\left[ \\left[\\begin{matrix}1\\\\0\\\\1\\end{matrix}\\right]\\right]\\right)$"
      ],
      "text/plain": [
       "⎛      ⎡⎡1⎤⎤⎞\n",
       "⎜      ⎢⎢ ⎥⎥⎟\n",
       "⎜3, 1, ⎢⎢0⎥⎥⎟\n",
       "⎜      ⎢⎢ ⎥⎥⎟\n",
       "⎝      ⎣⎣1⎦⎦⎠"
      ]
     },
     "metadata": {},
     "output_type": "display_data"
    }
   ],
   "source": [
    "display(S.eigenvects()[0])"
   ]
  },
  {
   "cell_type": "markdown",
   "metadata": {},
   "source": [
    "**b2) que el\n",
    "campo es complejo**"
   ]
  },
  {
   "cell_type": "markdown",
   "metadata": {},
   "source": [
    "Para el campo de los numeros imaginarios, consideramos el o los eigenvalores complejos y sus eigenvectores relacionados, en este caso:"
   ]
  },
  {
   "cell_type": "code",
   "execution_count": 51,
   "metadata": {},
   "outputs": [
    {
     "data": {
      "image/png": "[encoded data removed]",
      "text/latex": [
       "$\\displaystyle \\left( - i, \\  1, \\  \\left[ \\left[\\begin{matrix}3 i\\\\-3 - i\\\\1\\end{matrix}\\right]\\right]\\right)$"
      ],
      "text/plain": [
       "⎛       ⎡⎡ 3⋅ⅈ  ⎤⎤⎞\n",
       "⎜       ⎢⎢      ⎥⎥⎟\n",
       "⎜-ⅈ, 1, ⎢⎢-3 - ⅈ⎥⎥⎟\n",
       "⎜       ⎢⎢      ⎥⎥⎟\n",
       "⎝       ⎣⎣  1   ⎦⎦⎠"
      ]
     },
     "metadata": {},
     "output_type": "display_data"
    },
    {
     "data": {
      "image/png": "[encoded data removed]",
      "text/latex": [
       "$\\displaystyle \\left( i, \\  1, \\  \\left[ \\left[\\begin{matrix}- 3 i\\\\-3 + i\\\\1\\end{matrix}\\right]\\right]\\right)$"
      ],
      "text/plain": [
       "⎛      ⎡⎡ -3⋅ⅈ ⎤⎤⎞\n",
       "⎜      ⎢⎢      ⎥⎥⎟\n",
       "⎜ⅈ, 1, ⎢⎢-3 + ⅈ⎥⎥⎟\n",
       "⎜      ⎢⎢      ⎥⎥⎟\n",
       "⎝      ⎣⎣  1   ⎦⎦⎠"
      ]
     },
     "metadata": {},
     "output_type": "display_data"
    }
   ],
   "source": [
    "display(S.eigenvects()[1],S.eigenvects()[2])"
   ]
  },
  {
   "cell_type": "markdown",
   "metadata": {},
   "source": [
    "### 1. Diagonalización\n",
    "#### 1.1. El método Paso a Paso"
   ]
  },
  {
   "cell_type": "markdown",
   "metadata": {},
   "source": [
    "Para el operador $B =\\begin{bmatrix} 1 & 1 \\\\ -2 & 4 \\end{bmatrix}$\n"
   ]
  },
  {
   "cell_type": "markdown",
   "metadata": {},
   "source": [
    "a) Encuentre los valores propios y vectores propios"
   ]
  },
  {
   "cell_type": "code",
   "execution_count": 52,
   "metadata": {},
   "outputs": [
    {
     "data": {
      "image/png": "[encoded data removed]",
      "text/latex": [
       "$\\displaystyle \\left\\{ 2 : 1, \\  3 : 1\\right\\}$"
      ],
      "text/plain": [
       "{2: 1, 3: 1}"
      ]
     },
     "metadata": {},
     "output_type": "display_data"
    },
    {
     "data": {
      "image/png": "[encoded data removed]",
      "text/latex": [
       "$\\displaystyle \\left[ \\left( 2, \\  1, \\  \\left[ \\left[\\begin{matrix}1\\\\1\\end{matrix}\\right]\\right]\\right), \\  \\left( 3, \\  1, \\  \\left[ \\left[\\begin{matrix}\\frac{1}{2}\\\\1\\end{matrix}\\right]\\right]\\right)\\right]$"
      ],
      "text/plain": [
       "⎡⎛      ⎡⎡1⎤⎤⎞  ⎛      ⎡⎡1/2⎤⎤⎞⎤\n",
       "⎢⎜2, 1, ⎢⎢ ⎥⎥⎟, ⎜3, 1, ⎢⎢   ⎥⎥⎟⎥\n",
       "⎣⎝      ⎣⎣1⎦⎦⎠  ⎝      ⎣⎣ 1 ⎦⎦⎠⎦"
      ]
     },
     "metadata": {},
     "output_type": "display_data"
    }
   ],
   "source": [
    "B = Matrix([[1,1],[-2,4]])\n",
    "display(B.eigenvals())\n",
    "display(B.eigenvects())"
   ]
  },
  {
   "cell_type": "markdown",
   "metadata": {},
   "source": [
    "b) Verifique que los vectores propios encontrados son linealmente independientes"
   ]
  },
  {
   "cell_type": "code",
   "execution_count": 53,
   "metadata": {},
   "outputs": [
    {
     "data": {
      "image/png": "[encoded data removed]",
      "text/latex": [
       "$\\displaystyle 0.5$"
      ],
      "text/plain": [
       "0.500000000000000"
      ]
     },
     "metadata": {},
     "output_type": "display_data"
    }
   ],
   "source": [
    "EV1 = Matrix([[1,1],[1/2,1]])\n",
    "display(EV1.det())"
   ]
  },
  {
   "cell_type": "markdown",
   "metadata": {},
   "source": [
    "Al ubicar los vectores en una matriz y calcular su determinante, confirmamos que se trata de dos vectores linealmente independientes (ya que su determinante es distinto de 0)"
   ]
  },
  {
   "cell_type": "markdown",
   "metadata": {},
   "source": [
    "c) Utilizando como columnas los vectores propios forme la matriz $P = \\begin{bmatrix} a_{11} & a_{12} \\\\ a_{21} & a_{22} \\end{bmatrix}$"
   ]
  },
  {
   "cell_type": "code",
   "execution_count": 54,
   "metadata": {},
   "outputs": [
    {
     "data": {
      "image/png": "[encoded data removed]",
      "text/latex": [
       "$\\displaystyle \\left[\\begin{matrix}1 & 0.5\\\\1 & 1\\end{matrix}\\right]$"
      ],
      "text/plain": [
       "⎡1  0.5⎤\n",
       "⎢      ⎥\n",
       "⎣1   1 ⎦"
      ]
     },
     "metadata": {},
     "output_type": "display_data"
    }
   ],
   "source": [
    "P = Matrix([[1,1/2],[1,1]])\n",
    "display(P)"
   ]
  },
  {
   "cell_type": "markdown",
   "metadata": {},
   "source": [
    "d) Encuentre $P^{-1}$"
   ]
  },
  {
   "cell_type": "code",
   "execution_count": 9,
   "metadata": {},
   "outputs": [
    {
     "data": {
      "image/png": "[encoded data removed]",
      "text/latex": [
       "$\\displaystyle \\left[\\begin{matrix}2.0 & -1.0\\\\-2.0 & 2.0\\end{matrix}\\right]$"
      ],
      "text/plain": [
       "⎡2.0   -1.0⎤\n",
       "⎢          ⎥\n",
       "⎣-2.0  2.0 ⎦"
      ]
     },
     "metadata": {},
     "output_type": "display_data"
    }
   ],
   "source": [
    "P_inv = P.inv()\n",
    "display(P_inv)"
   ]
  },
  {
   "cell_type": "markdown",
   "metadata": {},
   "source": [
    "d) Encuentre la matriz $D = P^{-1} BP$"
   ]
  },
  {
   "cell_type": "code",
   "execution_count": 10,
   "metadata": {},
   "outputs": [
    {
     "data": {
      "image/png": "[encoded data removed]",
      "text/latex": [
       "$\\displaystyle \\left[\\begin{matrix}2.0 & 0\\\\0 & 3.0\\end{matrix}\\right]$"
      ],
      "text/plain": [
       "⎡2.0   0 ⎤\n",
       "⎢        ⎥\n",
       "⎣ 0   3.0⎦"
      ]
     },
     "metadata": {},
     "output_type": "display_data"
    }
   ],
   "source": [
    "D = P_inv*B*P\n",
    "display(D)\n",
    "L = Matrix([[lamda,0],[0,lamda]])"
   ]
  },
  {
   "cell_type": "markdown",
   "metadata": {},
   "source": [
    "d) Comente sobre D, obtenga la traza determinante, ecuación característica, valores propios\n",
    "y vectores propios de D y comparelos con los valores correspondientes a B. Comente sus\n",
    "resultados."
   ]
  },
  {
   "cell_type": "code",
   "execution_count": 11,
   "metadata": {},
   "outputs": [
    {
     "data": {
      "image/png": "[encoded data removed]",
      "text/latex": [
       "$\\displaystyle 5.0$"
      ],
      "text/plain": [
       "5.00000000000000"
      ]
     },
     "metadata": {},
     "output_type": "display_data"
    },
    {
     "data": {
      "image/png": "[encoded data removed]",
      "text/latex": [
       "$\\displaystyle 6.0$"
      ],
      "text/plain": [
       "6.00000000000000"
      ]
     },
     "metadata": {},
     "output_type": "display_data"
    },
    {
     "data": {
      "image/png": "[encoded data removed]",
      "text/latex": [
       "$\\displaystyle \\left[\\begin{matrix}2.0 - \\lambda & 0\\\\0 & 3.0 - \\lambda\\end{matrix}\\right]$"
      ],
      "text/plain": [
       "⎡2.0 - λ     0   ⎤\n",
       "⎢                ⎥\n",
       "⎣   0     3.0 - λ⎦"
      ]
     },
     "metadata": {},
     "output_type": "display_data"
    },
    {
     "data": {
      "image/png": "[encoded data removed]",
      "text/latex": [
       "$\\displaystyle \\left\\{ 2.0 : 1, \\  3.0 : 1\\right\\}$"
      ],
      "text/plain": [
       "{2.0: 1, 3.0: 1}"
      ]
     },
     "metadata": {},
     "output_type": "display_data"
    },
    {
     "data": {
      "image/png": "[encoded data removed]",
      "text/latex": [
       "$\\displaystyle \\left[ \\left( 2.0, \\  1, \\  \\left[ \\left[\\begin{matrix}1.0\\\\0\\end{matrix}\\right]\\right]\\right), \\  \\left( 3.0, \\  1, \\  \\left[ \\left[\\begin{matrix}0\\\\1.0\\end{matrix}\\right]\\right]\\right)\\right]$"
      ],
      "text/plain": [
       "⎡⎛        ⎡⎡1.0⎤⎤⎞  ⎛        ⎡⎡ 0 ⎤⎤⎞⎤\n",
       "⎢⎜2.0, 1, ⎢⎢   ⎥⎥⎟, ⎜3.0, 1, ⎢⎢   ⎥⎥⎟⎥\n",
       "⎣⎝        ⎣⎣ 0 ⎦⎦⎠  ⎝        ⎣⎣1.0⎦⎦⎠⎦"
      ]
     },
     "metadata": {},
     "output_type": "display_data"
    }
   ],
   "source": [
    "display(trace(D))\n",
    "display(D.det())\n",
    "display(D-L)\n",
    "display(D.eigenvals())\n",
    "display(D.eigenvects())"
   ]
  },
  {
   "cell_type": "markdown",
   "metadata": {},
   "source": [
    "El proceso de diagonalización terminó produciendo una matriz diagonal, al obtener la traza, determinante, ecuación característica, valores propios y vectores propios de D, pudimos realizar algunas observaciones interesantes, como por ejemplo, que los eigenvalores de esa matriz podrían ser utilizados como columnas para una matriz identidad, o que los eigenvalores son iguales a los elementos de la diagonal de la matriz D."
   ]
  },
  {
   "cell_type": "markdown",
   "metadata": {},
   "source": [
    "Todo est se basa en el mero hecho de que el proceso de diagonalización es logrado a travez de la obención de eigenvalores y eigenvectores, los cuales nos llevaron a dicha matriz D que posee propiedades que pueden llegar a ser utiles en diversos estudios con transformaciones y operadores."
   ]
  },
  {
   "cell_type": "markdown",
   "metadata": {},
   "source": [
    "**Resumen del proceso de diagonalización**\n",
    "En este proceso se comenzó con una matriz $M_{2X2}$ la cual respresenta un operador al cual calculamos sus valores y vectores propios, luego de verificar que dichos vectores son linealmente independientes, procedemos a construír una matriz $P$ utilizando los eigenvalores como columnas de dicha matriz, esta matriz fué utilizada para encontrar finalmente una matríz diagonal que se relaciona con ella y con la matríz diagonal de la siguiente manera: $D=P^{-1}BP$. La diagonalización podría interpretarse como la rotación de los ejes para alinearlos con los eigenvectores."
   ]
  },
  {
   "cell_type": "markdown",
   "metadata": {},
   "source": []
  },
  {
   "cell_type": "markdown",
   "metadata": {},
   "source": [
    "   Ejemplo con $C=\\begin{bmatrix} 0 & -1 & 1 \\\\ 1 & 2 & 1 \\\\ 1 & 1 & 2 \\end{bmatrix}$ "
   ]
  },
  {
   "cell_type": "markdown",
   "metadata": {},
   "source": [
    "a) Eigenvalores y eigenvectores"
   ]
  },
  {
   "cell_type": "code",
   "execution_count": 24,
   "metadata": {},
   "outputs": [],
   "source": [
    "import numpy as np\n",
    "from numpy.linalg import linalg as linalg"
   ]
  },
  {
   "cell_type": "code",
   "execution_count": 25,
   "metadata": {},
   "outputs": [],
   "source": [
    "A = np.array([[0,-10,1],[1,2,1],[1,1,2]])"
   ]
  },
  {
   "cell_type": "code",
   "execution_count": 26,
   "metadata": {},
   "outputs": [
    {
     "data": {
      "text/plain": [
       "array([1.5+2.59807621j, 1.5-2.59807621j, 1. +0.j        ])"
      ]
     },
     "metadata": {},
     "output_type": "display_data"
    },
    {
     "data": {
      "text/plain": [
       "array([[ 0.90453403+0.j        ,  0.90453403-0.j        ,\n",
       "        -0.76640632+0.j        ],\n",
       "       [-0.15075567-0.26111648j, -0.15075567+0.26111648j,\n",
       "         0.1393466 +0.j        ],\n",
       "       [-0.15075567-0.26111648j, -0.15075567+0.26111648j,\n",
       "         0.62705971+0.j        ]])"
      ]
     },
     "metadata": {},
     "output_type": "display_data"
    }
   ],
   "source": [
    "eigenValuesA, eigenVectorsA = np.linalg.eig(A)\n",
    "display(eigenValuesA,eigenVectorsA)"
   ]
  },
  {
   "cell_type": "code",
   "execution_count": 27,
   "metadata": {},
   "outputs": [
    {
     "data": {
      "text/plain": [
       "array([[ 0.90453403+0.j        , -0.15075567-0.26111648j,\n",
       "        -0.15075567-0.26111648j],\n",
       "       [ 0.90453403-0.j        , -0.15075567+0.26111648j,\n",
       "        -0.15075567+0.26111648j],\n",
       "       [-0.76640632+0.j        ,  0.1393466 +0.j        ,\n",
       "         0.62705971+0.j        ]])"
      ]
     },
     "metadata": {},
     "output_type": "display_data"
    }
   ],
   "source": [
    "P = eigenVectorsA.transpose()\n",
    "display(P)"
   ]
  },
  {
   "cell_type": "markdown",
   "metadata": {},
   "source": [
    "b) Test para independencia lineal"
   ]
  },
  {
   "cell_type": "code",
   "execution_count": 28,
   "metadata": {},
   "outputs": [
    {
     "data": {
      "text/plain": [
       "(1.3111109225342485e-17+0.23038469619397797j)"
      ]
     },
     "execution_count": 28,
     "metadata": {},
     "output_type": "execute_result"
    }
   ],
   "source": [
    "linalg.det(P)"
   ]
  },
  {
   "cell_type": "markdown",
   "metadata": {},
   "source": [
    "c) Matriz $P$"
   ]
  },
  {
   "cell_type": "code",
   "execution_count": 29,
   "metadata": {},
   "outputs": [],
   "source": [
    "EV = P"
   ]
  },
  {
   "cell_type": "markdown",
   "metadata": {},
   "source": [
    "d) Matriz $P^{-1}$"
   ]
  },
  {
   "cell_type": "code",
   "execution_count": 30,
   "metadata": {},
   "outputs": [
    {
     "data": {
      "text/plain": [
       "array([[ 0.5527708 +3.19142369e-01j,  0.5527708 -3.19142369e-01j,\n",
       "         0.        +0.00000000e+00j],\n",
       "       [-0.86863983+1.96044598e+00j, -0.86863983-1.96044598e+00j,\n",
       "        -2.05038573-1.16686706e-16j],\n",
       "       [ 0.86863983-4.55917670e-02j,  0.86863983+4.55917670e-02j,\n",
       "         2.05038573+1.16686706e-16j]])"
      ]
     },
     "metadata": {},
     "output_type": "display_data"
    }
   ],
   "source": [
    "P_inv = np.linalg.inv(P)\n",
    "display(P_inv)"
   ]
  },
  {
   "cell_type": "markdown",
   "metadata": {},
   "source": [
    "e) Matriz $D$"
   ]
  },
  {
   "cell_type": "code",
   "execution_count": 31,
   "metadata": {
    "scrolled": true
   },
   "outputs": [
    {
     "data": {
      "text/plain": [
       "array([[ 10.1-19.j ,   6.8+18.4j,  20.4 +0.j ],\n",
       "       [  6.8-18.4j,  10.1+19.j ,  20.4 +0.j ],\n",
       "       [ -6.5+17.j ,  -6.5-17.j , -16.3 -0.j ]])"
      ]
     },
     "metadata": {},
     "output_type": "display_data"
    }
   ],
   "source": [
    "D = np.matmul(np.matmul(EV,A),P_inv)\n",
    "display(np.round(D,1))"
   ]
  },
  {
   "cell_type": "markdown",
   "metadata": {},
   "source": [
    "#### 1.2. Contraejemplo"
   ]
  },
  {
   "cell_type": "markdown",
   "metadata": {},
   "source": [
    "El método anterior NO puede aplicarse a todos los operadores, observe el siguiente ejemplo:"
   ]
  },
  {
   "cell_type": "markdown",
   "metadata": {},
   "source": [
    "$E = \\begin{bmatrix} 1&2&1\\\\1&-1&1\\\\2&0&1 \\end{bmatrix}$"
   ]
  },
  {
   "cell_type": "code",
   "execution_count": 33,
   "metadata": {},
   "outputs": [
    {
     "data": {
      "text/plain": [
       "array([[ 1.,  2.,  1.],\n",
       "       [ 1., -1.,  1.],\n",
       "       [ 2.,  0.,  1.]])"
      ]
     },
     "metadata": {},
     "output_type": "display_data"
    }
   ],
   "source": [
    "E = np.array([[1.0,2.0,1.0],[1.0,-1.0,1.0],[2.0,0.0,1.0]])\n",
    "display(E)"
   ]
  },
  {
   "cell_type": "code",
   "execution_count": 34,
   "metadata": {
    "scrolled": true
   },
   "outputs": [
    {
     "data": {
      "text/plain": [
       "array([ 3., -1., -1.])"
      ]
     },
     "metadata": {},
     "output_type": "display_data"
    },
    {
     "data": {
      "text/plain": [
       "array([[ 0.66666667,  0.66666667, -0.66666667],\n",
       "       [ 0.33333333, -0.33333333,  0.33333333],\n",
       "       [ 0.66666667, -0.66666667,  0.66666667]])"
      ]
     },
     "metadata": {},
     "output_type": "display_data"
    }
   ],
   "source": [
    "eigenValuesE, eigenVectorsE = linalg.eig(E)\n",
    "display(eigenValuesE)\n",
    "display(eigenVectorsE)"
   ]
  },
  {
   "cell_type": "code",
   "execution_count": 36,
   "metadata": {},
   "outputs": [
    {
     "data": {
      "image/png": "[encoded data removed]",
      "text/latex": [
       "$\\displaystyle 0.0$"
      ],
      "text/plain": [
       "-0.0"
      ]
     },
     "execution_count": 36,
     "metadata": {},
     "output_type": "execute_result"
    }
   ],
   "source": [
    "np.round(np.linalg.det(eigenVectorsE),1)"
   ]
  },
  {
   "cell_type": "markdown",
   "metadata": {
    "scrolled": true
   },
   "source": [
    "Los eigenvectores son linealmente independientes, lo que hace que la construcción de la matriz $D$ sea imposible, ya que la matriz $P$ debe de ser una matriz invertible"
   ]
  },
  {
   "cell_type": "markdown",
   "metadata": {},
   "source": [
    "#### 1.3. Ejemplo para trabajar en casa:"
   ]
  },
  {
   "cell_type": "markdown",
   "metadata": {},
   "source": [
    "Para el operador representado por $F = \\begin{bmatrix} 1&2&0 \\\\ 0&1&-2 \\\\ 2&2&1 \\end{bmatrix}$, determine si es diagonalizable y en caso afirmativo encuentre la matriz disgonal semejante a $F$ (suponga que el campo es el de los números complejos)."
   ]
  },
  {
   "cell_type": "code",
   "execution_count": 24,
   "metadata": {},
   "outputs": [],
   "source": []
  },
  {
   "cell_type": "code",
   "execution_count": 43,
   "metadata": {},
   "outputs": [
    {
     "data": {
      "text/plain": [
       "(array([-0.36465561+0.j       ,  1.6823278 +2.3230828j,\n",
       "         1.6823278 -2.3230828j]),\n",
       " array([[ 0.7709828 +0.j        ,  0.39162171+0.25177173j,\n",
       "          0.39162171-0.25177173j],\n",
       "        [-0.526063  +0.j        , -0.1588361 +0.54078026j,\n",
       "         -0.1588361 -0.54078026j],\n",
       "        [-0.35894741+0.j        ,  0.6823278 +0.j        ,\n",
       "          0.6823278 -0.j        ]]))"
      ]
     },
     "execution_count": 43,
     "metadata": {},
     "output_type": "execute_result"
    }
   ],
   "source": [
    "F = np.array([[1,2,0],[0,1,-2],[2,2,1]])\n",
    "e_val,e_vec= np.linalg.eig(F)\n",
    "e_val,e_vec"
   ]
  },
  {
   "cell_type": "markdown",
   "metadata": {},
   "source": [
    "Matriz $P$"
   ]
  },
  {
   "cell_type": "code",
   "execution_count": 44,
   "metadata": {},
   "outputs": [],
   "source": [
    "P = np.transpose(e_vec)"
   ]
  },
  {
   "cell_type": "markdown",
   "metadata": {},
   "source": [
    "Matriz $P^{-1}$"
   ]
  },
  {
   "cell_type": "code",
   "execution_count": 45,
   "metadata": {},
   "outputs": [],
   "source": [
    "P_inv = np.linalg.inv(P)"
   ]
  },
  {
   "cell_type": "markdown",
   "metadata": {},
   "source": [
    "Matriz $D$"
   ]
  },
  {
   "cell_type": "code",
   "execution_count": 46,
   "metadata": {},
   "outputs": [
    {
     "data": {
      "text/plain": [
       "array([[-0.4+0.j ,  0.4-0.2j,  0.4+0.2j],\n",
       "       [ 0.1+0.4j,  1.7-2.8j, -0.2+1.4j],\n",
       "       [ 0.1-0.4j, -0.2-1.4j,  1.7+2.8j]])"
      ]
     },
     "metadata": {},
     "output_type": "display_data"
    }
   ],
   "source": [
    "Nin = np.matmul(P,F)\n",
    "D = np.matmul(Nin,P_inv)\n",
    "display(np.round(D,1))"
   ]
  },
  {
   "cell_type": "code",
   "execution_count": null,
   "metadata": {},
   "outputs": [],
   "source": []
  }
 ],
 "metadata": {
  "kernelspec": {
   "display_name": "Python 3",
   "language": "python",
   "name": "python3"
  },
  "language_info": {
   "codemirror_mode": {
    "name": "ipython",
    "version": 3
   },
   "file_extension": ".py",
   "mimetype": "text/x-python",
   "name": "python",
   "nbconvert_exporter": "python",
   "pygments_lexer": "ipython3",
   "version": "3.8.5"
  }
 },
 "nbformat": 4,
 "nbformat_minor": 5
}

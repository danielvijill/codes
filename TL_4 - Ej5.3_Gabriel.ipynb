{
 "cells": [
  {
   "cell_type": "markdown",
   "metadata": {},
   "source": [
    "### 5.3 EL OPERADOR LINEAL A: $\\mathbb{R}^{3}$ $\\longrightarrow \\mathbb{R}^{2} $ ESTA DADO POR:"
   ]
  },
  {
   "cell_type": "markdown",
   "metadata": {},
   "source": [
    "$$A\n",
    "\\left(\n",
    "\\begin{matrix}\n",
    "x \\\\\n",
    "y \\\\\n",
    "z \n",
    "\\end{matrix}\n",
    "\\right) = \n",
    "\\left(\n",
    "\\begin{matrix}\n",
    "2x + y - 3z  \\\\\n",
    "x + y - z\\\\ \n",
    "\\end{matrix}\n",
    "\\right)\n",
    "$$"
   ]
  },
  {
   "cell_type": "markdown",
   "metadata": {},
   "source": [
    "### Construya la matriz que representa A en las bases estándar de $\\mathbb{R}^{3}$ y $\\mathbb{R}^{2}$ ."
   ]
  },
  {
   "cell_type": "markdown",
   "metadata": {},
   "source": [
    "### Usaremos como base en  $\\mathbb{R}^{2}$"
   ]
  },
  {
   "cell_type": "markdown",
   "metadata": {},
   "source": [
    "$$B=\n",
    "\\begin{Bmatrix}\n",
    "|a_1\\rangle =\n",
    "\\left(\n",
    "\\begin{matrix}\n",
    "1 \\\\\n",
    "1  \\\\\n",
    "0 \n",
    "\\end{matrix}\n",
    "\\right),\n",
    "|a_2\\rangle =\n",
    "\\left(\n",
    "\\begin{matrix}\n",
    "0  \\\\\n",
    "1 \\\\\n",
    "0 \n",
    "\\end{matrix}\n",
    "\\right)\n",
    "\\end{Bmatrix}\n",
    "$$"
   ]
  },
  {
   "cell_type": "markdown",
   "metadata": {},
   "source": [
    "#### Hay una tendencia a asociar la matriz\n",
    "$$\n",
    "\\left(\n",
    "\\begin{matrix}\n",
    "2 &  1 & -3 \\\\\n",
    "1  & 1 &  -1\\\\\n",
    "\\end{matrix}\n",
    "\\right)$$"
   ]
  },
  {
   "cell_type": "markdown",
   "metadata": {},
   "source": [
    "### Para obtener la primera columna de la matriz que representa A, observamos que\n",
    "\n",
    "$$A|a_1\\rangle =\n",
    "A\n",
    "\\left(\n",
    "\\begin{matrix}\n",
    "1 \\\\\n",
    "1 \\\\\n",
    "0\n",
    "\\end{matrix}\n",
    "\\right)\n",
    "=\n",
    "\\left(\n",
    "\\begin{matrix}\n",
    "3 \\\\\n",
    "2 \n",
    "\\end{matrix}\n",
    "\\right) = \n",
    "\\alpha\n",
    "\\left(\n",
    "\\begin{matrix}\n",
    "1 \\\\\n",
    "1 \\\\\n",
    "0\n",
    "\\end{matrix}\n",
    "\\right) +\n",
    "\\beta\n",
    "\\left(\n",
    "\\begin{matrix}\n",
    "0 \\\\\n",
    "1 \\\\\n",
    "0\n",
    "\\end{matrix}\n",
    "\\right)\n",
    "$$"
   ]
  },
  {
   "cell_type": "markdown",
   "metadata": {},
   "source": [
    "### Armamos un sistema de ecuaciones para encontrar $\\alpha$ y $\\beta$"
   ]
  },
  {
   "cell_type": "markdown",
   "metadata": {},
   "source": [
    "\\begin{equation}\n",
    "\\left\\lbrace\n",
    "\\begin{array}{ll}\n",
    "\\alpha =3\\\\\n",
    "\\alpha+\\beta =2\\\\\n",
    "\\end{array}\n",
    "\\right.\n",
    "\\end{equation}\n"
   ]
  },
  {
   "cell_type": "markdown",
   "metadata": {},
   "source": [
    "### Por lo tanto tendremos "
   ]
  },
  {
   "cell_type": "markdown",
   "metadata": {},
   "source": [
    "### $\\alpha$ = 3 y $\\beta$ = -1\n",
    "\n",
    "***esto es igual a: $3|a_1\\rangle$ - $1|a_1\\rangle$***"
   ]
  },
  {
   "cell_type": "markdown",
   "metadata": {},
   "source": [
    "### La matriz columna es:\n",
    "$$\n",
    "\\left(\n",
    "\\begin{matrix}\n",
    "3  \\\\\n",
    "-1 \\\\\n",
    "\\end{matrix}\n",
    "\\right)$$\n"
   ]
  },
  {
   "cell_type": "markdown",
   "metadata": {},
   "source": [
    "$$A|a_2\\rangle =\n",
    "A\n",
    "\\left(\n",
    "\\begin{matrix}\n",
    "0 \\\\\n",
    "1 \\\\\n",
    "0\n",
    "\\end{matrix}\n",
    "\\right)\n",
    "=\n",
    "\\left(\n",
    "\\begin{matrix}\n",
    "1 \\\\\n",
    "1 \n",
    "\\end{matrix}\n",
    "\\right) = \n",
    "\\alpha\n",
    "\\left(\n",
    "\\begin{matrix}\n",
    "1 \\\\\n",
    "1 \\\\\n",
    "0\n",
    "\\end{matrix}\n",
    "\\right) +\n",
    "\\beta\n",
    "\\left(\n",
    "\\begin{matrix}\n",
    "0 \\\\\n",
    "1 \\\\\n",
    "0\n",
    "\\end{matrix}\n",
    "\\right)\n",
    "$$\n",
    "\n",
    "\n",
    "***Obtenemos*** \n",
    "$\\alpha$ = 1 y $\\beta$ = 0\n",
    "\n",
    "***esto es igual a: $1|a_1\\rangle$ - $0|a_1\\rangle$***\n",
    "\n",
    "\n",
    "### La matriz columna es:\n",
    "$$\n",
    "\\left(\n",
    "\\begin{matrix}\n",
    "1  \\\\\n",
    "0 \\\\\n",
    "\\end{matrix}\n",
    "\\right)$$\n"
   ]
  },
  {
   "cell_type": "markdown",
   "metadata": {},
   "source": [
    "### Por lo tanto llegamos a la matriz \n",
    "\n",
    "$$\n",
    "\\left(\n",
    "\\begin{matrix}\n",
    "3 & 1\\\\\n",
    "-1 & 0\\\\\n",
    "\\end{matrix}\n",
    "\\right)$$"
   ]
  },
  {
   "cell_type": "markdown",
   "metadata": {},
   "source": [
    "### Por lo tanto la MATRIZ que esta en   $\\mathbb{R}^{2}$ nos quedaria \n",
    "$$A\n",
    "\\left(\n",
    "\\begin{matrix}\n",
    "3x + y\\\\\n",
    "-x\\\\\n",
    "\\end{matrix}\n",
    "\\right)$$"
   ]
  }
 ],
 "metadata": {
  "kernelspec": {
   "display_name": "Python 3",
   "language": "python",
   "name": "python3"
  },
  "language_info": {
   "codemirror_mode": {
    "name": "ipython",
    "version": 3
   },
   "file_extension": ".py",
   "mimetype": "text/x-python",
   "name": "python",
   "nbconvert_exporter": "python",
   "pygments_lexer": "ipython3",
   "version": "3.9.1"
  }
 },
 "nbformat": 4,
 "nbformat_minor": 4
}

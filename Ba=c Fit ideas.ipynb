{
 "cells": [
  {
   "cell_type": "markdown",
   "metadata": {},
   "source": [
    "# Ajuste de una función utilizando secuencia de polinomios"
   ]
  },
  {
   "cell_type": "code",
   "execution_count": 3,
   "metadata": {},
   "outputs": [],
   "source": [
    "from sympy import init_printing\n",
    "init_printing(use_latex=True)\n",
    "from sympy.physics.quantum import Dagger\n",
    "from sympy import *\n",
    "import matplotlib.pyplot as plt\n",
    "%matplotlib inline\n",
    "from matplotlib import pyplot\n",
    "import numpy as np\n",
    "import ipywidgets as wg\n",
    "from IPython.display import display"
   ]
  },
  {
   "cell_type": "markdown",
   "metadata": {},
   "source": [
    "# a) Polinomios Ordinarios"
   ]
  },
  {
   "cell_type": "markdown",
   "metadata": {},
   "source": [
    "Se debe definir la Matriz B, el Vector c y encontrar la solución Ba=c"
   ]
  },
  {
   "cell_type": "code",
   "execution_count": 38,
   "metadata": {},
   "outputs": [
    {
     "name": "stdout",
     "output_type": "stream",
     "text": [
      "[[2.         0.         0.66666667]\n",
      " [0.         0.66666667 0.        ]\n",
      " [0.66666667 0.         0.4       ]]\n"
     ]
    }
   ],
   "source": [
    "#calcula el coeficiente B_kj de la matriz y genera la matriz usando Numpy\n",
    "b=1 \n",
    "a=-1\n",
    "k=3\n",
    "j=3\n",
    "B=np.zeros([k,j])\n",
    "for m in range(0,k):\n",
    "    for n in range(0,j):\n",
    "        B[m,n] = (b**(n+m+1)-a**(n+m+1))/(n+m+1)\n",
    "print(B)"
   ]
  },
  {
   "cell_type": "raw",
   "metadata": {},
   "source": [
    "Forma alterna de generar la matriz, en Sympy, la función calcula cada celda de la matriz, se define la matriz dando el número de filas y columnas y se llama a la función para asignar el valor a cada celda de la matriz:"
   ]
  },
  {
   "cell_type": "code",
   "execution_count": 4,
   "metadata": {},
   "outputs": [
    {
     "data": {
      "image/png": "[encoded data removed]",
      "text/latex": [
       "$\\displaystyle \\left[\\begin{matrix}2 & 0 & \\frac{2}{3}\\\\0 & \\frac{2}{3} & 0\\\\\\frac{2}{3} & 0 & \\frac{2}{5}\\end{matrix}\\right]$"
      ],
      "text/plain": [
       "⎡ 2    0   2/3⎤\n",
       "⎢             ⎥\n",
       "⎢ 0   2/3   0 ⎥\n",
       "⎢             ⎥\n",
       "⎣2/3   0   2/5⎦"
      ]
     },
     "execution_count": 4,
     "metadata": {},
     "output_type": "execute_result"
    }
   ],
   "source": [
    "def M(k,j):\n",
    "    c=(1**(k+j+1)-(-1)**(k+j+1))/(k+j+1)\n",
    "    return c\n",
    "\n",
    "Matrix(3, 3, M)"
   ]
  },
  {
   "cell_type": "markdown",
   "metadata": {},
   "source": [
    "Aqui les dejo una forma más iteractiva, con la cual el usuario puede ingresar los parámetros, para la generación de la matriz B"
   ]
  },
  {
   "cell_type": "code",
   "execution_count": 5,
   "metadata": {},
   "outputs": [
    {
     "name": "stdout",
     "output_type": "stream",
     "text": [
      "ingrese el número de columnas: 3\n",
      "ingrese el número de filas: 3\n",
      "ingrese el límite inferior del intervalo: -1\n",
      "ingrese el límite superior del intervalo: 1\n"
     ]
    },
    {
     "data": {
      "image/png": "[encoded data removed]",
      "text/latex": [
       "$\\displaystyle \\left[\\begin{matrix}2 & 0 & \\frac{2}{3}\\\\0 & \\frac{2}{3} & 0\\\\\\frac{2}{3} & 0 & \\frac{2}{5}\\end{matrix}\\right]$"
      ],
      "text/plain": [
       "⎡ 2    0   2/3⎤\n",
       "⎢             ⎥\n",
       "⎢ 0   2/3   0 ⎥\n",
       "⎢             ⎥\n",
       "⎣2/3   0   2/5⎦"
      ]
     },
     "execution_count": 5,
     "metadata": {},
     "output_type": "execute_result"
    }
   ],
   "source": [
    "k = int(input(\"ingrese el número de columnas: \"))\n",
    "j = int(input(\"ingrese el número de filas: \"))\n",
    "a = int(input(\"ingrese el límite inferior del intervalo: \"))\n",
    "b = int(input(\"ingrese el límite superior del intervalo: \"))\n",
    "def M(k,j):\n",
    "    celda=(b**(k+j+1)-(a)**(k+j+1))/(k+j+1)\n",
    "    return celda\n",
    "B=Matrix(k, j, M)\n",
    "B"
   ]
  },
  {
   "cell_type": "markdown",
   "metadata": {},
   "source": [
    "Generación del vector c"
   ]
  },
  {
   "cell_type": "code",
   "execution_count": null,
   "metadata": {},
   "outputs": [],
   "source": []
  },
  {
   "cell_type": "code",
   "execution_count": 23,
   "metadata": {},
   "outputs": [
    {
     "name": "stdout",
     "output_type": "stream",
     "text": [
      "ingrese el número de componentes del vector c: 3\n",
      "ingrese el límite inferior del intervalo: -1\n",
      "ingrese el límite superior del intervalo: 1\n"
     ]
    },
    {
     "data": {
      "image/png": "[encoded data removed]",
      "text/latex": [
       "$\\displaystyle \\left[\\begin{matrix}\\frac{4}{\\pi}\\\\0\\\\- \\frac{32}{\\pi^{3}} + \\frac{4}{\\pi}\\end{matrix}\\right]$"
      ],
      "text/plain": [
       "⎡   4    ⎤\n",
       "⎢   ─    ⎥\n",
       "⎢   π    ⎥\n",
       "⎢        ⎥\n",
       "⎢   0    ⎥\n",
       "⎢        ⎥\n",
       "⎢  32   4⎥\n",
       "⎢- ── + ─⎥\n",
       "⎢   3   π⎥\n",
       "⎣  π     ⎦"
      ]
     },
     "execution_count": 23,
     "metadata": {},
     "output_type": "execute_result"
    }
   ],
   "source": [
    "x= Symbol(\"x\")\n",
    "f = cos(pi*x/2)\n",
    "k=1\n",
    "#k = int(input(\"ingrese el número de filas: \"))\n",
    "j = int(input(\"ingrese el número de componentes del vector c: \"))\n",
    "a = int(input(\"ingrese el límite inferior del intervalo: \"))\n",
    "b = int(input(\"ingrese el límite superior del intervalo: \"))\n",
    "def c(k,j):\n",
    "    #compo= 7\n",
    "    compo=Integral(f*x**j, (x, a, b)).doit()\n",
    "    return compo\n",
    "M2=Matrix(k, j, c)\n",
    "C=transpose(M2)\n",
    "C"
   ]
  },
  {
   "cell_type": "code",
   "execution_count": null,
   "metadata": {},
   "outputs": [],
   "source": []
  }
 ],
 "metadata": {
  "kernelspec": {
   "display_name": "Python 3",
   "language": "python",
   "name": "python3"
  },
  "language_info": {
   "codemirror_mode": {
    "name": "ipython",
    "version": 3
   },
   "file_extension": ".py",
   "mimetype": "text/x-python",
   "name": "python",
   "nbconvert_exporter": "python",
   "pygments_lexer": "ipython3",
   "version": "3.8.3"
  }
 },
 "nbformat": 4,
 "nbformat_minor": 4
}

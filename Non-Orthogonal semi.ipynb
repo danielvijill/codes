{
 "cells": [
  {
   "cell_type": "code",
   "execution_count": 1,
   "metadata": {},
   "outputs": [],
   "source": [
    "from sympy import init_printing\n",
    "init_printing(use_latex=True)\n",
    "from sympy import *\n",
    "from sympy.plotting import plot\n",
    "\n",
    "import matplotlib.pyplot as plt\n",
    "%matplotlib inline\n",
    "from matplotlib import pyplot\n",
    "import ipywidgets as wg\n",
    "from IPython.display import display\n",
    "import numpy as np\n",
    "from sympy.abc import x"
   ]
  },
  {
   "cell_type": "code",
   "execution_count": 2,
   "metadata": {},
   "outputs": [],
   "source": [
    "a=-1\n",
    "b=1"
   ]
  },
  {
   "cell_type": "code",
   "execution_count": 3,
   "metadata": {},
   "outputs": [],
   "source": [
    "j,k = symbols('k,j')"
   ]
  },
  {
   "cell_type": "code",
   "execution_count": 4,
   "metadata": {},
   "outputs": [],
   "source": [
    "def f(x):\n",
    "    return cos(pi*x/2)"
   ]
  },
  {
   "cell_type": "code",
   "execution_count": 5,
   "metadata": {},
   "outputs": [
    {
     "data": {
      "image/png": "[encoded data removed]",
      "text/latex": [
       "$\\displaystyle -1$"
      ],
      "text/plain": [
       "-1"
      ]
     },
     "execution_count": 5,
     "metadata": {},
     "output_type": "execute_result"
    }
   ],
   "source": [
    "f(2)"
   ]
  },
  {
   "cell_type": "code",
   "execution_count": 6,
   "metadata": {},
   "outputs": [
    {
     "data": {
      "image/png": "[encoded data removed]",
      "text/latex": [
       "$\\displaystyle 0$"
      ],
      "text/plain": [
       "0"
      ]
     },
     "execution_count": 6,
     "metadata": {},
     "output_type": "execute_result"
    }
   ],
   "source": [
    "f(3)"
   ]
  },
  {
   "cell_type": "code",
   "execution_count": 7,
   "metadata": {},
   "outputs": [],
   "source": [
    "def c(j):\n",
    "    return integrate(f(x)*x**j, (x,a,b))"
   ]
  },
  {
   "cell_type": "code",
   "execution_count": 11,
   "metadata": {},
   "outputs": [
    {
     "name": "stdout",
     "output_type": "stream",
     "text": [
      "ingrese el número de columnas: 4\n",
      "ingrese el número de filas: 4\n",
      "ingrese el límite inferior del intervalo: -1\n",
      "ingrese el límite superior del intervalo: 1\n"
     ]
    },
    {
     "data": {
      "text/latex": [
       "$\\displaystyle \\left[\\begin{matrix}2 & 0 & \\frac{2}{3} & 0\\\\0 & \\frac{2}{3} & 0 & \\frac{2}{5}\\\\\\frac{2}{3} & 0 & \\frac{2}{5} & 0\\\\0 & \\frac{2}{5} & 0 & \\frac{2}{7}\\end{matrix}\\right]$"
      ],
      "text/plain": [
       "⎡ 2    0   2/3   0 ⎤\n",
       "⎢                  ⎥\n",
       "⎢ 0   2/3   0   2/5⎥\n",
       "⎢                  ⎥\n",
       "⎢2/3   0   2/5   0 ⎥\n",
       "⎢                  ⎥\n",
       "⎣ 0   2/5   0   2/7⎦"
      ]
     },
     "execution_count": 11,
     "metadata": {},
     "output_type": "execute_result"
    }
   ],
   "source": [
    "k = int(input(\"ingrese el número de columnas: \"))\n",
    "j = int(input(\"ingrese el número de filas: \"))\n",
    "a = int(input(\"ingrese el límite inferior del intervalo: \"))\n",
    "b = int(input(\"ingrese el límite superior del intervalo: \"))\n",
    "def M(k,j):\n",
    "    celda=(b**(k+j+1)-(a)**(k+j+1))/(k+j+1)\n",
    "    return celda\n",
    "B=Matrix(k, j, M)\n",
    "B"
   ]
  },
  {
   "cell_type": "code",
   "execution_count": 12,
   "metadata": {},
   "outputs": [
    {
     "name": "stdout",
     "output_type": "stream",
     "text": [
      "ingrese el límite inferior del intervalo: -1\n",
      "ingrese el límite superior del intervalo: 1\n"
     ]
    },
    {
     "data": {
      "text/latex": [
       "$\\displaystyle \\left[\\begin{matrix}\\frac{4}{\\pi}\\\\0\\\\- \\frac{32}{\\pi^{3}} + \\frac{4}{\\pi}\\\\0\\end{matrix}\\right]$"
      ],
      "text/plain": [
       "⎡   4    ⎤\n",
       "⎢   ─    ⎥\n",
       "⎢   π    ⎥\n",
       "⎢        ⎥\n",
       "⎢   0    ⎥\n",
       "⎢        ⎥\n",
       "⎢  32   4⎥\n",
       "⎢- ── + ─⎥\n",
       "⎢   3   π⎥\n",
       "⎢  π     ⎥\n",
       "⎢        ⎥\n",
       "⎣   0    ⎦"
      ]
     },
     "execution_count": 12,
     "metadata": {},
     "output_type": "execute_result"
    }
   ],
   "source": [
    "k1 = j#int(input(\"ingrese el número de filas: \"))\n",
    "j1 =1# int(input(\"ingrese el número de columnas: \"))\n",
    "a1 = int(input(\"ingrese el límite inferior del intervalo: \"))\n",
    "b1 = int(input(\"ingrese el límite superior del intervalo: \"))\n",
    "def C1(k1,j1):\n",
    "    celda=(integrate(f(x)*x**k1, (x,a1,b1)))\n",
    "    return celda\n",
    "W=Matrix(k1, j1, C1)\n",
    "W"
   ]
  },
  {
   "cell_type": "code",
   "execution_count": 13,
   "metadata": {},
   "outputs": [],
   "source": [
    "H=np.array(B)\n",
    "H1=np . array ( H ,  dtype = float )\n",
    "H2=np.array(W)\n",
    "H3=np . array ( H2 ,  dtype = float )"
   ]
  },
  {
   "cell_type": "code",
   "execution_count": 14,
   "metadata": {},
   "outputs": [
    {
     "data": {
      "text/plain": [
       "array([[2.        , 0.        , 0.66666667, 0.        ],\n",
       "       [0.        , 0.66666667, 0.        , 0.4       ],\n",
       "       [0.66666667, 0.        , 0.4       , 0.        ],\n",
       "       [0.        , 0.4       , 0.        , 0.28571429]])"
      ]
     },
     "execution_count": 14,
     "metadata": {},
     "output_type": "execute_result"
    }
   ],
   "source": [
    "H1"
   ]
  },
  {
   "cell_type": "code",
   "execution_count": 15,
   "metadata": {},
   "outputs": [
    {
     "data": {
      "text/plain": [
       "array([[1.27323954],\n",
       "       [0.        ],\n",
       "       [0.24119044],\n",
       "       [0.        ]])"
      ]
     },
     "execution_count": 15,
     "metadata": {},
     "output_type": "execute_result"
    }
   ],
   "source": [
    "H3"
   ]
  },
  {
   "cell_type": "code",
   "execution_count": 16,
   "metadata": {},
   "outputs": [],
   "source": [
    "G=np.linalg.inv(H1).dot(H3)"
   ]
  },
  {
   "cell_type": "code",
   "execution_count": 17,
   "metadata": {},
   "outputs": [
    {
     "data": {
      "text/plain": [
       "array([[ 0.98016241],\n",
       "       [ 0.        ],\n",
       "       [-1.03062791],\n",
       "       [ 0.        ]])"
      ]
     },
     "execution_count": 17,
     "metadata": {},
     "output_type": "execute_result"
    }
   ],
   "source": [
    "G"
   ]
  },
  {
   "cell_type": "code",
   "execution_count": 18,
   "metadata": {},
   "outputs": [],
   "source": [
    "Q=0\n",
    "j=0\n",
    "for elemento in np.nditer(G,order='F'):\n",
    "    Q+=elemento*x**j\n",
    "    j+=1"
   ]
  },
  {
   "cell_type": "code",
   "execution_count": 19,
   "metadata": {},
   "outputs": [
    {
     "data": {
      "image/png": "[encoded data removed]",
      "text/latex": [
       "$\\displaystyle 0.980162407440597 - 1.03062790521905 x^{2}$"
      ],
      "text/plain": [
       "                                      2\n",
       "0.980162407440597 - 1.03062790521905⋅x "
      ]
     },
     "execution_count": 19,
     "metadata": {},
     "output_type": "execute_result"
    }
   ],
   "source": [
    "Q"
   ]
  },
  {
   "cell_type": "code",
   "execution_count": 20,
   "metadata": {},
   "outputs": [
    {
     "data": {
      "image/png": "[encoded data removed]",
      "text/plain": [
       "<Figure size 432x288 with 1 Axes>"
      ]
     },
     "metadata": {
      "needs_background": "light"
     },
     "output_type": "display_data"
    }
   ],
   "source": [
    "type(Q)\n",
    "p1 = plot(Q,(x,-1,1),line_color='r', show=False)\n",
    "p2 = plot(cos(pi*x/2),(x,-1,1), show=False)\n",
    "p1.append(p2[0])\n",
    "p1\n",
    "p1.show()"
   ]
  },
  {
   "cell_type": "code",
   "execution_count": null,
   "metadata": {},
   "outputs": [],
   "source": []
  }
 ],
 "metadata": {
  "kernelspec": {
   "display_name": "Python 3",
   "language": "python",
   "name": "python3"
  },
  "language_info": {
   "codemirror_mode": {
    "name": "ipython",
    "version": 3
   },
   "file_extension": ".py",
   "mimetype": "text/x-python",
   "name": "python",
   "nbconvert_exporter": "python",
   "pygments_lexer": "ipython3",
   "version": "3.8.5"
  }
 },
 "nbformat": 4,
 "nbformat_minor": 4
}

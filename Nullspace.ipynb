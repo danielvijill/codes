{
 "cells": [
  {
   "cell_type": "markdown",
   "metadata": {},
   "source": [
    "***2. Demuestre que los sigueinte subconjutos, de $R^3$ o $P_{3}(x)$ son subespacios vectoriales***"
   ]
  },
  {
   "cell_type": "markdown",
   "metadata": {},
   "source": [
    "(c) $$ S = {(x,y,z) : x+z=1 } $$"
   ]
  },
  {
   "cell_type": "markdown",
   "metadata": {},
   "source": [
    "***Solución***"
   ]
  },
  {
   "cell_type": "markdown",
   "metadata": {},
   "source": [
    "El subconjunto al que llamaremos ***S*** define un plano que contiene al vector(0,0,0), satisface la primera condicion de subespacio vectorial"
   ]
  },
  {
   "cell_type": "markdown",
   "metadata": {},
   "source": [
    "$$                                        x + z = 1$$\n",
    "$$                                         0 + 0 + 0 = 1$$\n",
    "$$                                            0 = 1$$\n",
    "$$                                            0 ≠ 1$$"
   ]
  },
  {
   "cell_type": "markdown",
   "metadata": {},
   "source": [
    "Vemos que no satisface el teorema del vector (0,0,0)\n",
    "\n",
    "Por lo tanto concluimos que no es subespacio de ***S***"
   ]
  },
  {
   "cell_type": "markdown",
   "metadata": {},
   "source": [
    "(g) $$ S = {p(x) = x^3 + ax +b : a, b ∈ R}$$"
   ]
  },
  {
   "cell_type": "markdown",
   "metadata": {},
   "source": [
    "***Solucion***"
   ]
  },
  {
   "cell_type": "markdown",
   "metadata": {},
   "source": [
    "El subconjunto del polinomio $P_{3}(x)$ define un polinomio nulo.\n"
   ]
  },
  {
   "cell_type": "markdown",
   "metadata": {},
   "source": [
    "Polinomio nulo es:\n",
    "\n",
    "$P(x) = 0x^3 + 0x^2 + 0x + 0 $\n"
   ]
  },
  {
   "cell_type": "markdown",
   "metadata": {},
   "source": [
    "Pero notamos que el coeficiente que acompaña a la variable $x^3$ es igual a 1.\n",
    "\n",
    "Por lo tanto vemos que:\n",
    "\n",
    "$                           x^3 ≠ 0x^3 $"
   ]
  },
  {
   "cell_type": "markdown",
   "metadata": {},
   "source": [
    "Igualando coeficientes notamos que:\n",
    "\n",
    "$ 1 ≠ 0 $"
   ]
  },
  {
   "cell_type": "markdown",
   "metadata": {},
   "source": [
    "Por lo tanto concluimos que $ p(x) $ no es un subespacio de ***S***."
   ]
  }
 ],
 "metadata": {
  "kernelspec": {
   "display_name": "Python 3",
   "language": "python",
   "name": "python3"
  },
  "language_info": {
   "codemirror_mode": {
    "name": "ipython",
    "version": 3
   },
   "file_extension": ".py",
   "mimetype": "text/x-python",
   "name": "python",
   "nbconvert_exporter": "python",
   "pygments_lexer": "ipython3",
   "version": "3.9.1"
  }
 },
 "nbformat": 4,
 "nbformat_minor": 4
}

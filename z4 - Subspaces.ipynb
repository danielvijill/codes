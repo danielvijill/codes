{
 "cells": [
  {
   "cell_type": "code",
   "execution_count": 4,
   "metadata": {},
   "outputs": [],
   "source": [
    "import sympy as sym \n",
    "import numpy as np \n",
    "import matplotlib.pyplot as plt\n"
   ]
  },
  {
   "cell_type": "markdown",
   "metadata": {},
   "source": [
    "## 5. Sea $ H = \\{(a − 3b, b − a, a, b) \\in \\mathbb{R}^{4}; a,b \\in \\mathbb{R} \\}$. comprobar si $H$ es un subespacio vectorial de $\\mathbb{R}^{4}$. En caso afirmativo calcular la base de $H$. Repetir el mismo ejercicio con los siguientes conjuntos.\n",
    "\n"
   ]
  },
  {
   "cell_type": "markdown",
   "metadata": {},
   "source": [
    "Para comprobar si espacios vectoriales comprobaremos 3 propiedades de los subespacios.\n",
    "\n",
    "1- Para cualesquiera $u, v$ $\\in$ $U$, se verifica que $u + v ∈ U$\n",
    "\n",
    "2- Para cualesquiera $\\lambda$ $\\in$ K, $u \\in U$ se verifica que $\\lambda$ $\\cdot$ $u$ $\\in U$\n",
    "\n",
    "Observar que la segunda condición anterior implica que el vector cero de *V* está tambien\n",
    "en U, ya que si u ∈ U, entonces 0 $\\cdot$ u = $\\vec{0}$ $\\in$ U."
   ]
  },
  {
   "cell_type": "markdown",
   "metadata": {},
   "source": [
    "### **i)** El vector $(0,0,0,0)$ que corresponde a $\\mathbb{R}^{4}$  $\\in H $."
   ]
  },
  {
   "cell_type": "markdown",
   "metadata": {},
   "source": [
    "### **ii)** Si $v,u$ $\\in$ $H$\n",
    "\n",
    "$$v = (a_{1} − 3b_{1}, b_{1} − a_{1}, a_{1}, b_{1})$$\n",
    "\n",
    "$$u = (a_{2} − 3b_{2}, b_{2} − a_{2}, a_{2}, b_{2})$$\n"
   ]
  },
  {
   "cell_type": "markdown",
   "metadata": {},
   "source": [
    "$$v + u = (a_{1} − 3b_{1}, b_{1} − a_{1}, a_{1}, b_{1}) + (a_{2} − 3b_{2}, b_{2} − a_{2}, a_{2}, b_{2})$$"
   ]
  },
  {
   "cell_type": "markdown",
   "metadata": {},
   "source": [
    "$$= (a_{1} − 3b_{1} + a_{1} − 3b_{2}, b_{1} − a_{1} + b_{2} − a_{2},  a_{1} + a_{2}, b_{1} + b_{2})  $$"
   ]
  },
  {
   "cell_type": "markdown",
   "metadata": {},
   "source": [
    "$$= (a_{1} + a_{1}-3(b_{1} + b_{2}), b_{1} + b_{2} -(a_{1} + a_{2}), a_{1} + a_{2}, b_{1} + b_{2})$$"
   ]
  },
  {
   "cell_type": "markdown",
   "metadata": {},
   "source": [
    "Por tanto $v + u \\in  H$"
   ]
  },
  {
   "cell_type": "markdown",
   "metadata": {},
   "source": [
    "### **iii)** $v \\in H; \\alpha \\in \\mathbb{R}$"
   ]
  },
  {
   "cell_type": "markdown",
   "metadata": {},
   "source": [
    "$$v =(a − 3b, b − a, a, b) $$\n",
    "\n",
    "$$\\alpha v = \\alpha(a − 3b, b − a, a, b)$$"
   ]
  },
  {
   "cell_type": "markdown",
   "metadata": {},
   "source": [
    "$$= (\\alpha(a − 3b), \\alpha(b − a), \\alpha a, \\alpha b)$$"
   ]
  },
  {
   "cell_type": "markdown",
   "metadata": {},
   "source": [
    "$$= (\\alpha a − 3\\alpha b, \\alpha b − \\alpha a, \\alpha a, \\alpha b)$$"
   ]
  },
  {
   "cell_type": "markdown",
   "metadata": {},
   "source": [
    "Por tanto $\\alpha v \\in H$"
   ]
  },
  {
   "cell_type": "markdown",
   "metadata": {},
   "source": [
    " **i), ii) y iii)** se cumplen $\\Longrightarrow  H$ es un subespacio de $\\mathbb{R}^{4}$ "
   ]
  },
  {
   "cell_type": "markdown",
   "metadata": {},
   "source": [
    "Para calcular la base expresamos el subespacio como una combinacion lineal.\n",
    "\n",
    "$$(a − 3b, b − a, a, b) = (a, -a, a, 0) + (-3b, b, 0, b) =  a(1, -1, 1, 0) + b(-3, 1, 0, 1)$$\n",
    "\n",
    "              "
   ]
  },
  {
   "cell_type": "markdown",
   "metadata": {},
   "source": [
    "y observamos que los vectores generan el subespacio y ademas son linealmente independientes por tanto seria nuestra base."
   ]
  },
  {
   "cell_type": "markdown",
   "metadata": {},
   "source": [
    "Base =$\\langle (1, -1, 1, 0) (-3, 1, 0, 1)\\rangle$"
   ]
  },
  {
   "cell_type": "markdown",
   "metadata": {},
   "source": [
    "## $a)  H = \\{(3a + b, 4, a − 5b, 0) \\in \\mathbb{R}^{4}\n",
    "; a, b \\in \\mathbb{R}\\}.$"
   ]
  },
  {
   "cell_type": "markdown",
   "metadata": {},
   "source": [
    "### **i)** El vector $(0,0,0,0)$ que corresponde a $\\mathbb{R}^{4}$  $\t\\notin H $\n",
    "\n",
    "$\\therefore$ $H$ no es subespacio de $\\mathbb{R}^{4} $"
   ]
  },
  {
   "cell_type": "markdown",
   "metadata": {},
   "source": [
    "## $b)  H = \\{(a − b, b − c, c − a, b) \\in \\mathbb{R}^{4}\n",
    "; a, b \\in \\mathbb{R}\\}.$"
   ]
  },
  {
   "cell_type": "markdown",
   "metadata": {},
   "source": [
    "### **i)** El vector $(0,0,0,0)$ que corresponde a $\\mathbb{R}^{4}$  $\\in H $."
   ]
  },
  {
   "cell_type": "markdown",
   "metadata": {},
   "source": [
    "### **ii)** Si $v,u$ $\\in$ $H$\n",
    "\n",
    "$$v = (a_{1} − b_{1}, b_{1} − c_{1}, c_{1} − a_{1}, b_{1}) $$\n",
    "\n",
    "$$u = (a_{2} − b_{2}, b_{2} − c_{2}, c_{2} − a_{2}, b_{2})$$"
   ]
  },
  {
   "cell_type": "markdown",
   "metadata": {},
   "source": [
    "$$v + u = (a_{1} − b_{1}, b_{1} − c_{1}, c_{1} − a_{1}, b_{1}) + (a_{2} − b_{2}, b_{2} − c_{2}, c_{2} − a_{2}, b_{2})$$"
   ]
  },
  {
   "cell_type": "markdown",
   "metadata": {},
   "source": [
    "$$= (a_{1} − b_{1} + a_{2} − b_{2}, b_{1} − c_{1} + b_{2} − c_{2}, c_{1} − a_{1} + c_{2} − a_{2}, b_{1} + b_{2}) $$"
   ]
  },
  {
   "cell_type": "markdown",
   "metadata": {},
   "source": [
    "$$=(a_{1} + a_{2} −(b_{1} + b_{2}), b_{1} + b_{2} −( c_{1} + c_{2}), c_{1} + c_{2} −(a_{1} + a_{2}), b_{1} + b_{2})  $$"
   ]
  },
  {
   "cell_type": "markdown",
   "metadata": {},
   "source": [
    "Por tanto $u + v \\in H$"
   ]
  },
  {
   "cell_type": "markdown",
   "metadata": {},
   "source": [
    "### **iii)** $v \\in H; \\alpha \\in \\mathbb{R}$"
   ]
  },
  {
   "cell_type": "markdown",
   "metadata": {},
   "source": [
    "$$v = (a − b, b − c, c − a, b)$$"
   ]
  },
  {
   "cell_type": "markdown",
   "metadata": {},
   "source": [
    "$$\\alpha v = \\alpha(a − b, b − c, c − a, b)$$"
   ]
  },
  {
   "cell_type": "markdown",
   "metadata": {},
   "source": [
    "$$= (\\alpha(a − b), \\alpha(b − c), \\alpha(c − a), \\alpha b)$$"
   ]
  },
  {
   "cell_type": "markdown",
   "metadata": {},
   "source": [
    "$$= (\\alpha a − \\alpha b, \\alpha b − \\alpha c, \\alpha c − \\alpha a, \\alpha b)$$"
   ]
  },
  {
   "cell_type": "markdown",
   "metadata": {},
   "source": [
    "Por tanto $\\alpha v \\in H$"
   ]
  },
  {
   "cell_type": "markdown",
   "metadata": {},
   "source": [
    " **i), ii) y iii)** se cumplen $\\Longrightarrow  H$ es un subespacio de $\\mathbb{R}^{4}$ "
   ]
  },
  {
   "cell_type": "markdown",
   "metadata": {},
   "source": [
    "Para encontrar la base del subespacio lo expresamos como una combinacion lineal:"
   ]
  },
  {
   "cell_type": "markdown",
   "metadata": {},
   "source": [
    "$$(a − b, b − c, c − a, b) = (a, 0, -a, 0)+(-b, b, 0, b)+(0, -c, c, 0)$$\n",
    "\n",
    "$$= a(1, 0, -1, 0) + b(-1, 1, 0, 1) + c(0, -1, 1, 0)$$"
   ]
  },
  {
   "cell_type": "markdown",
   "metadata": {},
   "source": [
    "Observamos que los vectores generan el subespacio y ademas son linealmente independientes por tanto seria nuestra base."
   ]
  },
  {
   "cell_type": "markdown",
   "metadata": {},
   "source": [
    "Base = $\\langle (1, 0, -1, 0) (-1, 1, 0, 1) (0, -1, 1, 0)\\rangle$ "
   ]
  },
  {
   "cell_type": "markdown",
   "metadata": {},
   "source": [
    "## $c)  H = \\{(a^{2}, a - 6b, 0, 2b + a^{2}) \\in \\mathbb{R}^{4}\n",
    "; a, b \\in \\mathbb{R}\\}.$"
   ]
  },
  {
   "cell_type": "markdown",
   "metadata": {},
   "source": [
    "### **i)** Si $v,u \\in H$"
   ]
  },
  {
   "cell_type": "markdown",
   "metadata": {},
   "source": [
    "$$v = (a^{2}_{1}, a_{1} - 6b_{1}, 0, 2b_{1} + a^{2}_{1})$$"
   ]
  },
  {
   "cell_type": "markdown",
   "metadata": {},
   "source": [
    "$$u = (a^{2}_{2}, a_{2} - 6b_{2}, 0, 2b_{2}  + a^{2}_{2})$$"
   ]
  },
  {
   "cell_type": "markdown",
   "metadata": {},
   "source": [
    "$$v + u = (a^{2}_{1}, a_{1} - 6b_{1}, 0, 2b_{1} + a^{2}_{1}) + (a^{2}_{2}, a_{2} - 6b_{2}, 0, 2b_{2} + a^{2}_{2})$$"
   ]
  },
  {
   "cell_type": "markdown",
   "metadata": {},
   "source": [
    "$$= (a^{2}_{1} + a^{2}_{2}, a_{1} + a_{2} -6(b_{1} + b_{2}), 0, 2(b_{1} + b_{2}) + a^{2}_{1} + a^{2}_{2})$$"
   ]
  },
  {
   "cell_type": "markdown",
   "metadata": {},
   "source": [
    "$a^{2}_{1} + a^{2}_{2} \\ne (a_{1} + a_{2})^{2}$ por tanto no cumple la condición."
   ]
  },
  {
   "cell_type": "markdown",
   "metadata": {},
   "source": [
    "$\\therefore$ $H$ no es subespacio de $\\mathbb{R}^{4} $"
   ]
  },
  {
   "cell_type": "markdown",
   "metadata": {},
   "source": [
    "## $d)  H = \\{(4a + 3b, 0, a + b + c, c − 2a) \\in \\mathbb{R}^{4}\n",
    "; a, b \\in \\mathbb{R}\\}.$"
   ]
  },
  {
   "cell_type": "markdown",
   "metadata": {},
   "source": [
    "### **i)** El vector $(0,0,0,0)$ que corresponde a $\\mathbb{R}^{4}$  $\\in H $."
   ]
  },
  {
   "cell_type": "markdown",
   "metadata": {},
   "source": [
    "### **ii)** Si $v,u$ $\\in$ $H$"
   ]
  },
  {
   "cell_type": "markdown",
   "metadata": {},
   "source": [
    "$$v = (4a_{1} + 3b_{1}, 0, a_{1} + b_{1} + c_{1}, c_{1} − 2a_{1})$$\n",
    "\n",
    "$$u= (4a_{2} + 3b_{2}, 0, a_{2} + b_{2} + c_{2}, c_{2} − 2a_{2})$$\n"
   ]
  },
  {
   "cell_type": "markdown",
   "metadata": {},
   "source": [
    "$$v + u = (4a_{1} + 3b_{1}, 0, a_{1} + b_{1} + c_{1}, c_{1} − 2a_{1}) + (4a_{2} + 3b_{2}, 0, a_{2} + b_{2} + c_{2}, c_{2} − 2a_{2})$$"
   ]
  },
  {
   "cell_type": "markdown",
   "metadata": {},
   "source": [
    "$$ = (4a_{1} + 3b_{1} + 4a_{2} + 3b_{2}, 0, a_{1} + b_{1} + c_{1} + a_{2} + b_{2} + c_{2}, c_{1} − 2a_{1} + c_{2} − 2a_{2})$$"
   ]
  },
  {
   "cell_type": "markdown",
   "metadata": {},
   "source": [
    "$$= (4(a_{1} + a_{2}) + 3(b_{1} + b_{2}), 0, (a_{1} + a_{2}) + (b_{1} + b_{2}) + (c_{1} + c_{2}), (c_{1} + c_{2}) − 2(a_{1} + a_{2}))$$"
   ]
  },
  {
   "cell_type": "markdown",
   "metadata": {},
   "source": [
    "Por tanto $u + v \\in H$"
   ]
  },
  {
   "cell_type": "markdown",
   "metadata": {},
   "source": [
    "### **iii)** $v \\in H; \\alpha \\in \\mathbb{R}$"
   ]
  },
  {
   "cell_type": "markdown",
   "metadata": {},
   "source": [
    "$$v = (4a + 3b, 0, a + b + c, c − 2a)$$\n",
    "\n",
    "$$\\alpha v = \\alpha(4a + 3b, 0, a + b + c, c − 2a)$$\n",
    "\n",
    "$$\\alpha v = (4\\alpha a + 3\\alpha b, 0, \\alpha a + \\alpha b + \\alpha c, \\alpha c − 2\\alpha a)$$"
   ]
  },
  {
   "cell_type": "markdown",
   "metadata": {},
   "source": [
    "Por tanto $\\alpha v \\in H$\n",
    "\n",
    "**i), ii) y iii)** se cumplen $\\Longrightarrow  H$ es un subespacio de $\\mathbb{R}^{4}$ "
   ]
  },
  {
   "cell_type": "code",
   "execution_count": null,
   "metadata": {},
   "outputs": [],
   "source": []
  },
  {
   "cell_type": "code",
   "execution_count": null,
   "metadata": {},
   "outputs": [],
   "source": []
  }
 ],
 "metadata": {
  "kernelspec": {
   "display_name": "Python 3",
   "language": "python",
   "name": "python3"
  },
  "language_info": {
   "codemirror_mode": {
    "name": "ipython",
    "version": 3
   },
   "file_extension": ".py",
   "mimetype": "text/x-python",
   "name": "python",
   "nbconvert_exporter": "python",
   "pygments_lexer": "ipython3",
   "version": "3.9.1"
  }
 },
 "nbformat": 4,
 "nbformat_minor": 4
}
